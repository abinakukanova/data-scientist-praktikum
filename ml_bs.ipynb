{
 "cells": [
  {
   "cell_type": "markdown",
   "metadata": {},
   "source": [
    "# Проект по спринту \"Машинное обучение в бизнесе\" \n",
    "\n",
    "**Описание исследования**\n",
    "Представим, что мы работаем в добывающей компании \"ГлавРосГосНефть\", и нам нужно решить, где бурить скважину. У нас имеются данные о пробах нефти в трех регионах: в каждом 10 000 месторождений, где измерили качество нефти и объём её запасов. Необходимо построить модель МО, которая поможет определить регион, где добыча принесет наибольшую прибыль, и проанализировать возможную прибыль и риски с техникой Bootstrap.\n",
    "\n",
    "**Шаги для выбора локации:**\n",
    "\n",
    "- В избранном регионе ищут месторождения, для каждого определяют значения признаков;\n",
    "- Строят модель и оценивают объём запасов;\n",
    "- Выбирают месторождения с самым высокими оценками значений. Количество месторождений зависит от бюджета компании и стоимости разработки одной скважины;\n",
    "- Прибыль равна суммарной прибыли отобранных месторождений.\n",
    "\n",
    "**Описание данных**\n",
    "\n",
    "Данные геологоразведки трёх регионов находятся в файлах: \n",
    "- `/datasets/geo_data_0.csv` \n",
    "- `/datasets/geo_data_1.csv`\n",
    "- `/datasets/geo_data_2.csv`\n",
    "- `id` — уникальный идентификатор скважины;\n",
    "- `f0, f1, f2` — три признака точек (неважно, что они означают, но сами признаки значимы);\n",
    "- `product` — объём запасов в скважине (тыс. баррелей)."
   ]
  },
  {
   "cell_type": "markdown",
   "metadata": {},
   "source": [
    "<a class=\"anchor\" id=\"chapter1\"></a>\n",
    "## Импортируем библиотеки"
   ]
  },
  {
   "cell_type": "code",
   "execution_count": 2,
   "metadata": {},
   "outputs": [],
   "source": [
    "import pandas as pd\n",
    "import numpy as np\n",
    "from sklearn.model_selection import train_test_split\n",
    "from sklearn.model_selection import GridSearchCV\n",
    "from sklearn.linear_model import LinearRegression\n",
    "from sklearn.metrics import mean_squared_error\n",
    "\n",
    "RANDOM_STATE = 42\n",
    "TEST_SIZE = 0.25"
   ]
  },
  {
   "cell_type": "markdown",
   "metadata": {},
   "source": [
    "<a class=\"anchor\" id=\"chapter2\"></a>\n",
    "## Загрузка и подготовка данных"
   ]
  },
  {
   "cell_type": "code",
   "execution_count": 3,
   "metadata": {},
   "outputs": [],
   "source": [
    "try: \n",
    "    geo0_data = pd.read_csv('/datasets/geo_data_0.csv')\n",
    "    geo1_data = pd.read_csv('/datasets/geo_data_1.csv')\n",
    "    geo2_data = pd.read_csv('/datasets/geo_data_2.csv')\n",
    "except:\n",
    "    geo0_data = pd.read_csv('geo_data_0.csv')\n",
    "    geo1_data = pd.read_csv('geo_data_1.csv')\n",
    "    geo2_data = pd.read_csv('geo_data_2.csv')"
   ]
  },
  {
   "cell_type": "code",
   "execution_count": 4,
   "metadata": {},
   "outputs": [
    {
     "data": {
      "text/html": [
       "<div>\n",
       "<style scoped>\n",
       "    .dataframe tbody tr th:only-of-type {\n",
       "        vertical-align: middle;\n",
       "    }\n",
       "\n",
       "    .dataframe tbody tr th {\n",
       "        vertical-align: top;\n",
       "    }\n",
       "\n",
       "    .dataframe thead th {\n",
       "        text-align: right;\n",
       "    }\n",
       "</style>\n",
       "<table border=\"1\" class=\"dataframe\">\n",
       "  <thead>\n",
       "    <tr style=\"text-align: right;\">\n",
       "      <th></th>\n",
       "      <th>id</th>\n",
       "      <th>f0</th>\n",
       "      <th>f1</th>\n",
       "      <th>f2</th>\n",
       "      <th>product</th>\n",
       "    </tr>\n",
       "  </thead>\n",
       "  <tbody>\n",
       "    <tr>\n",
       "      <th>0</th>\n",
       "      <td>txEyH</td>\n",
       "      <td>0.705745</td>\n",
       "      <td>-0.497823</td>\n",
       "      <td>1.221170</td>\n",
       "      <td>105.280062</td>\n",
       "    </tr>\n",
       "    <tr>\n",
       "      <th>1</th>\n",
       "      <td>2acmU</td>\n",
       "      <td>1.334711</td>\n",
       "      <td>-0.340164</td>\n",
       "      <td>4.365080</td>\n",
       "      <td>73.037750</td>\n",
       "    </tr>\n",
       "    <tr>\n",
       "      <th>2</th>\n",
       "      <td>409Wp</td>\n",
       "      <td>1.022732</td>\n",
       "      <td>0.151990</td>\n",
       "      <td>1.419926</td>\n",
       "      <td>85.265647</td>\n",
       "    </tr>\n",
       "  </tbody>\n",
       "</table>\n",
       "</div>"
      ],
      "text/plain": [
       "      id        f0        f1        f2     product\n",
       "0  txEyH  0.705745 -0.497823  1.221170  105.280062\n",
       "1  2acmU  1.334711 -0.340164  4.365080   73.037750\n",
       "2  409Wp  1.022732  0.151990  1.419926   85.265647"
      ]
     },
     "metadata": {},
     "output_type": "display_data"
    },
    {
     "name": "stdout",
     "output_type": "stream",
     "text": [
      "<class 'pandas.core.frame.DataFrame'>\n",
      "RangeIndex: 100000 entries, 0 to 99999\n",
      "Data columns (total 5 columns):\n",
      " #   Column   Non-Null Count   Dtype  \n",
      "---  ------   --------------   -----  \n",
      " 0   id       100000 non-null  object \n",
      " 1   f0       100000 non-null  float64\n",
      " 2   f1       100000 non-null  float64\n",
      " 3   f2       100000 non-null  float64\n",
      " 4   product  100000 non-null  float64\n",
      "dtypes: float64(4), object(1)\n",
      "memory usage: 3.8+ MB\n"
     ]
    },
    {
     "data": {
      "text/plain": [
       "None"
      ]
     },
     "metadata": {},
     "output_type": "display_data"
    },
    {
     "data": {
      "text/html": [
       "<div>\n",
       "<style scoped>\n",
       "    .dataframe tbody tr th:only-of-type {\n",
       "        vertical-align: middle;\n",
       "    }\n",
       "\n",
       "    .dataframe tbody tr th {\n",
       "        vertical-align: top;\n",
       "    }\n",
       "\n",
       "    .dataframe thead th {\n",
       "        text-align: right;\n",
       "    }\n",
       "</style>\n",
       "<table border=\"1\" class=\"dataframe\">\n",
       "  <thead>\n",
       "    <tr style=\"text-align: right;\">\n",
       "      <th></th>\n",
       "      <th>id</th>\n",
       "      <th>f0</th>\n",
       "      <th>f1</th>\n",
       "      <th>f2</th>\n",
       "      <th>product</th>\n",
       "    </tr>\n",
       "  </thead>\n",
       "  <tbody>\n",
       "    <tr>\n",
       "      <th>0</th>\n",
       "      <td>kBEdx</td>\n",
       "      <td>-15.001348</td>\n",
       "      <td>-8.276000</td>\n",
       "      <td>-0.005876</td>\n",
       "      <td>3.179103</td>\n",
       "    </tr>\n",
       "    <tr>\n",
       "      <th>1</th>\n",
       "      <td>62mP7</td>\n",
       "      <td>14.272088</td>\n",
       "      <td>-3.475083</td>\n",
       "      <td>0.999183</td>\n",
       "      <td>26.953261</td>\n",
       "    </tr>\n",
       "    <tr>\n",
       "      <th>2</th>\n",
       "      <td>vyE1P</td>\n",
       "      <td>6.263187</td>\n",
       "      <td>-5.948386</td>\n",
       "      <td>5.001160</td>\n",
       "      <td>134.766305</td>\n",
       "    </tr>\n",
       "  </tbody>\n",
       "</table>\n",
       "</div>"
      ],
      "text/plain": [
       "      id         f0        f1        f2     product\n",
       "0  kBEdx -15.001348 -8.276000 -0.005876    3.179103\n",
       "1  62mP7  14.272088 -3.475083  0.999183   26.953261\n",
       "2  vyE1P   6.263187 -5.948386  5.001160  134.766305"
      ]
     },
     "metadata": {},
     "output_type": "display_data"
    },
    {
     "name": "stdout",
     "output_type": "stream",
     "text": [
      "<class 'pandas.core.frame.DataFrame'>\n",
      "RangeIndex: 100000 entries, 0 to 99999\n",
      "Data columns (total 5 columns):\n",
      " #   Column   Non-Null Count   Dtype  \n",
      "---  ------   --------------   -----  \n",
      " 0   id       100000 non-null  object \n",
      " 1   f0       100000 non-null  float64\n",
      " 2   f1       100000 non-null  float64\n",
      " 3   f2       100000 non-null  float64\n",
      " 4   product  100000 non-null  float64\n",
      "dtypes: float64(4), object(1)\n",
      "memory usage: 3.8+ MB\n"
     ]
    },
    {
     "data": {
      "text/plain": [
       "None"
      ]
     },
     "metadata": {},
     "output_type": "display_data"
    },
    {
     "data": {
      "text/html": [
       "<div>\n",
       "<style scoped>\n",
       "    .dataframe tbody tr th:only-of-type {\n",
       "        vertical-align: middle;\n",
       "    }\n",
       "\n",
       "    .dataframe tbody tr th {\n",
       "        vertical-align: top;\n",
       "    }\n",
       "\n",
       "    .dataframe thead th {\n",
       "        text-align: right;\n",
       "    }\n",
       "</style>\n",
       "<table border=\"1\" class=\"dataframe\">\n",
       "  <thead>\n",
       "    <tr style=\"text-align: right;\">\n",
       "      <th></th>\n",
       "      <th>id</th>\n",
       "      <th>f0</th>\n",
       "      <th>f1</th>\n",
       "      <th>f2</th>\n",
       "      <th>product</th>\n",
       "    </tr>\n",
       "  </thead>\n",
       "  <tbody>\n",
       "    <tr>\n",
       "      <th>0</th>\n",
       "      <td>fwXo0</td>\n",
       "      <td>-1.146987</td>\n",
       "      <td>0.963328</td>\n",
       "      <td>-0.828965</td>\n",
       "      <td>27.758673</td>\n",
       "    </tr>\n",
       "    <tr>\n",
       "      <th>1</th>\n",
       "      <td>WJtFt</td>\n",
       "      <td>0.262778</td>\n",
       "      <td>0.269839</td>\n",
       "      <td>-2.530187</td>\n",
       "      <td>56.069697</td>\n",
       "    </tr>\n",
       "    <tr>\n",
       "      <th>2</th>\n",
       "      <td>ovLUW</td>\n",
       "      <td>0.194587</td>\n",
       "      <td>0.289035</td>\n",
       "      <td>-5.586433</td>\n",
       "      <td>62.871910</td>\n",
       "    </tr>\n",
       "  </tbody>\n",
       "</table>\n",
       "</div>"
      ],
      "text/plain": [
       "      id        f0        f1        f2    product\n",
       "0  fwXo0 -1.146987  0.963328 -0.828965  27.758673\n",
       "1  WJtFt  0.262778  0.269839 -2.530187  56.069697\n",
       "2  ovLUW  0.194587  0.289035 -5.586433  62.871910"
      ]
     },
     "metadata": {},
     "output_type": "display_data"
    },
    {
     "name": "stdout",
     "output_type": "stream",
     "text": [
      "<class 'pandas.core.frame.DataFrame'>\n",
      "RangeIndex: 100000 entries, 0 to 99999\n",
      "Data columns (total 5 columns):\n",
      " #   Column   Non-Null Count   Dtype  \n",
      "---  ------   --------------   -----  \n",
      " 0   id       100000 non-null  object \n",
      " 1   f0       100000 non-null  float64\n",
      " 2   f1       100000 non-null  float64\n",
      " 3   f2       100000 non-null  float64\n",
      " 4   product  100000 non-null  float64\n",
      "dtypes: float64(4), object(1)\n",
      "memory usage: 3.8+ MB\n"
     ]
    },
    {
     "data": {
      "text/plain": [
       "None"
      ]
     },
     "metadata": {},
     "output_type": "display_data"
    }
   ],
   "source": [
    "lst = [geo0_data, geo1_data, geo2_data]\n",
    "for i in lst:\n",
    "    display(i.head(3))\n",
    "    display(i.info())"
   ]
  },
  {
   "cell_type": "code",
   "execution_count": 5,
   "metadata": {},
   "outputs": [
    {
     "name": "stdout",
     "output_type": "stream",
     "text": [
      "0\n",
      "0\n",
      "0\n"
     ]
    }
   ],
   "source": [
    "print(geo0_data.duplicated().sum())\n",
    "print(geo1_data.duplicated().sum())\n",
    "print(geo2_data.duplicated().sum())"
   ]
  },
  {
   "cell_type": "markdown",
   "metadata": {},
   "source": [
    "Загрузили три csv-файла в переменные, вывели несколько строчек из каждой таблицы и посмотрели на общую информации о них. Видим, что пропущенных значений нет, как и дубликатов. "
   ]
  },
  {
   "cell_type": "markdown",
   "metadata": {},
   "source": [
    "<a class=\"anchor\" id=\"chapter3\"></a>\n",
    "## Обучение и проверка модели"
   ]
  },
  {
   "cell_type": "markdown",
   "metadata": {},
   "source": [
    "Разделим каждый csv-файл на входные и целевые признаки, затем на обучающую и валидационную выборки. Обучим модель Линейной регрессии и посчитаем метрику RMSE."
   ]
  },
  {
   "cell_type": "code",
   "execution_count": 5,
   "metadata": {},
   "outputs": [
    {
     "name": "stdout",
     "output_type": "stream",
     "text": [
      "RMSE geo0_data: 37.75660035026169\n",
      "RMSE geo1_data: 0.890280100102884\n",
      "RMSE geo2_data: 40.145872311342174\n",
      "\n",
      "Mean predictions geo0_data: 92.39879990657768\n",
      "Mean predictions geo1_data: 68.71287803913762\n",
      "Mean predictions geo2_data: 94.77102387765939\n"
     ]
    }
   ],
   "source": [
    "def train_model(data):\n",
    "    X = data.drop(columns=['product', 'id'])\n",
    "    y = data['product']\n",
    "    X_train, X_val, y_train, y_val = train_test_split(\n",
    "        X,\n",
    "        y,\n",
    "        test_size = TEST_SIZE, \n",
    "        random_state = RANDOM_STATE)\n",
    "\n",
    "    model = LinearRegression()\n",
    "    model.fit(X_train, y_train)\n",
    "    predictions = model.predict(X_val)\n",
    "    rmse_score = mean_squared_error(y_val, predictions, squared=False)\n",
    "    return predictions, y_val, rmse_score\n",
    "\n",
    "predictions_0, y_val0, rmse_score0 = train_model(geo0_data)\n",
    "predictions_1, y_val1, rmse_score1 = train_model(geo1_data)\n",
    "predictions_2, y_val2, rmse_score2 = train_model(geo2_data)\n",
    "\n",
    "print('RMSE geo0_data:', rmse_score0)\n",
    "print('RMSE geo1_data:', rmse_score1)\n",
    "print('RMSE geo2_data:', rmse_score2)\n",
    "print()\n",
    "print('Mean predictions geo0_data:', predictions_0.mean())\n",
    "print('Mean predictions geo1_data:', predictions_1.mean())\n",
    "print('Mean predictions geo2_data:', predictions_2.mean())"
   ]
  },
  {
   "cell_type": "code",
   "execution_count": 10,
   "metadata": {},
   "outputs": [],
   "source": [
    "results_0 = pd.DataFrame({'product': y_val0, 'preds': predictions_0})\n",
    "\n",
    "results_1 = pd.DataFrame({'product': y_val1, 'preds': predictions_1})\n",
    "\n",
    "results_2 = pd.DataFrame({'product': y_val2, 'preds': predictions_2})"
   ]
  },
  {
   "cell_type": "markdown",
   "metadata": {},
   "source": [
    "Результаты показывают, что модель линейной регрессии, обученная на данных `geo1_data`, имеет наилучшее качество предсказания, имея более низкое значение RMSE (0.89) по сравнению с `geo0_data` (37.76) и `geo2_data` (40.15). Это означает, что предсказания для `geo1_data` гораздо ближе к истинным значениям, чем для двух других регионов."
   ]
  },
  {
   "cell_type": "markdown",
   "metadata": {},
   "source": [
    "## Подготовка к расчёту прибыли"
   ]
  },
  {
   "cell_type": "markdown",
   "metadata": {},
   "source": [
    "- При разведке региона исследуют 500 точек, из которых с помощью машинного обучения выбирают 200 лучших для разработки.\n",
    "Бюджет на разработку скважин в регионе — 10 млрд рублей.\n",
    "\n",
    "- При нынешних ценах один баррель сырья приносит 450 рублей дохода. Доход с каждой единицы продукта составляет 450 тыс. рублей, поскольку объём указан в тысячах баррелей.\n",
    "\n",
    "- После оценки рисков нужно оставить лишь те регионы, в которых вероятность убытков меньше 2.5%. Среди них выбирают регион с наибольшей средней прибылью."
   ]
  },
  {
   "cell_type": "markdown",
   "metadata": {},
   "source": [
    "Расчет безубыточного объема сырья:\n",
    "\n",
    "* Стоимость разработки одной скважины: 10 млрд рублей / 200 скважин = 50 млн рублей/скважина\n",
    "* Доход с одного барреля (в тысячах): 450 тыс. рублей\n",
    "* Безубыточный объем сырья (в тысячах баррелей): 50 млн рублей / 450 тыс. рублей/тыс. баррелей ≈ 111.11 тыс. баррелей"
   ]
  },
  {
   "cell_type": "code",
   "execution_count": 11,
   "metadata": {},
   "outputs": [
    {
     "name": "stdout",
     "output_type": "stream",
     "text": [
      "111.11\n"
     ]
    }
   ],
   "source": [
    "region_points = 500\n",
    "num_wells = 200\n",
    "budget = 10000000000\n",
    "one_barrel = 450\n",
    "income_per_barrel = 450000\n",
    "\n",
    "cost_per_well = budget / num_wells\n",
    "product = round(cost_per_well / income_per_barrel, 2)\n",
    "print(product)"
   ]
  },
  {
   "cell_type": "code",
   "execution_count": 12,
   "metadata": {},
   "outputs": [
    {
     "name": "stdout",
     "output_type": "stream",
     "text": [
      "Region 0 - Недостаточно\n",
      "Region 1 - Недостаточно\n",
      "Region 2 - Недостаточно\n"
     ]
    }
   ],
   "source": [
    "preds = [predictions_0.mean(), predictions_1.mean(), predictions_2.mean()]\n",
    "for i in enumerate(preds):\n",
    "    if i[1] > product:\n",
    "        print(f'Region {i[0]} - Достаточно')\n",
    "    else:\n",
    "        print(f'Region {i[0]} - Недостаточно')"
   ]
  },
  {
   "cell_type": "markdown",
   "metadata": {},
   "source": [
    "Все ключевые значения для расчётов сохранили в отдельных переменных и рассчитали безубыточный объем сырья. Предсказанного среднего запаса сырья в трех регионах оказалось недостаточным для безубыточной разработки"
   ]
  },
  {
   "cell_type": "markdown",
   "metadata": {},
   "source": [
    "## Расчёт прибыли и рисков "
   ]
  },
  {
   "cell_type": "markdown",
   "metadata": {},
   "source": [
    "**Напишите функцию для расчёта прибыли по выбранным скважинам и предсказаниям модели:**\n",
    "\n",
    " 4.1. Выберите скважины с максимальными значениями предсказаний. \n",
    " \n",
    " 4.2. Просуммируйте целевое значение объёма сырья, соответствующее этим предсказаниям.\n",
    " \n",
    " 4.3. Рассчитайте прибыль для полученного объёма сырья.\n",
    " \n",
    "**Посчитайте риски и прибыль для каждого региона:**\n",
    " \n",
    " 5.1. Примените технику Bootstrap с 1000 выборок, чтобы найти распределение прибыли.\n",
    " \n",
    " 5.2. Найдите среднюю прибыль, 95%-й доверительный интервал и риск убытков. Убыток — это отрицательная прибыль.\n",
    " \n",
    " 5.3. Напишите выводы: предложите регион для разработки скважин и обоснуйте выбор."
   ]
  },
  {
   "cell_type": "code",
   "execution_count": 17,
   "metadata": {},
   "outputs": [
    {
     "name": "stdout",
     "output_type": "stream",
     "text": [
      "Прибыль: 2598571759.374111\n"
     ]
    }
   ],
   "source": [
    "def calculate_profit(data, budget, cost_per_well, income_per_barrel, num_wells_to_develop):\n",
    "    data_sorted = data.sort_values('preds', ascending=False)\n",
    "    top_wells = data_sorted.head(num_wells_to_develop)\n",
    "    total_volume = top_wells['product'].sum()\n",
    "    total_cost = cost_per_well * num_wells_to_develop\n",
    "    total_income = total_volume * income_per_barrel\n",
    "    profit = total_income - total_cost\n",
    "    return profit\n",
    "\n",
    "profit = calculate_profit(results_2, budget, cost_per_well, income_per_barrel, num_wells)\n",
    "print(f\"Прибыль: {profit}\")"
   ]
  },
  {
   "cell_type": "code",
   "execution_count": 19,
   "metadata": {},
   "outputs": [
    {
     "name": "stdout",
     "output_type": "stream",
     "text": [
      "Geo_date0\n",
      "{'mean_profit': 406278783.42441905, 'confidence_interval': (-117742136.49486831, 911737050.7514055), 'risk_of_loss': 0.067}\n",
      "Geo_date1\n",
      "{'mean_profit': 432624131.8131374, 'confidence_interval': (16846174.932430126, 815972526.2857513), 'risk_of_loss': 0.019}\n",
      "Geo_date2\n",
      "{'mean_profit': 377362192.4229165, 'confidence_interval': (-170780417.7057271, 901772131.3864455), 'risk_of_loss': 0.074}\n"
     ]
    }
   ],
   "source": [
    "def calculate_risk(data, budget, cost_per_well, income_per_barrel, num_wells_to_develop, n_bootstrap_samples=1000):\n",
    "    state = np.random.RandomState(12345)\n",
    "    values = []\n",
    "    for i in range(n_bootstrap_samples):\n",
    "        bootstrap_sample = data.sample(n=500, replace=True, random_state=state)\n",
    "        bootstrap_sample = bootstrap_sample.reset_index(drop=True) \n",
    "\n",
    "        profit = calculate_profit(bootstrap_sample, budget, cost_per_well, income_per_barrel, num_wells_to_develop)\n",
    "        values.append(profit)\n",
    "\n",
    "    values = pd.Series(values)\n",
    "    mean_profit = values.mean()\n",
    "    lower = values.quantile(0.025)\n",
    "    upper = values.quantile(0.975)\n",
    "    risk_of_loss = (values < 0).mean()\n",
    "\n",
    "    return {'mean_profit': mean_profit, 'confidence_interval': (lower, upper), 'risk_of_loss': risk_of_loss}\n",
    "\n",
    "print('Geo_date0')\n",
    "print(calculate_risk(\n",
    "        results_0, budget, cost_per_well, income_per_barrel, num_wells))\n",
    "\n",
    "print('Geo_date1')\n",
    "print(calculate_risk(\n",
    "        results_1, budget, cost_per_well, income_per_barrel, num_wells))\n",
    "\n",
    "\n",
    "print('Geo_date2')\n",
    "print(calculate_risk(\n",
    "        results_2, budget, cost_per_well, income_per_barrel, num_wells))"
   ]
  },
  {
   "cell_type": "markdown",
   "metadata": {},
   "source": [
    "Geo_date1 выглядит наиболее привлекательным регионом для инвестиций. У него самая высокая прибыль среди остальных регионов и наименьший риск убытков (1.9%). Кроме того, нижняя граница его доверительного интервала (16.8 млн рублей) значительно выше нуля.\n",
    "\n",
    "Geo_date0 имеет немного меньшую среднюю прибыль (406.3 млн рублей), чем Geo_date1, но существенно больший риск убытков (6.7%). Доверительный интервал для этого региона включает отрицательные значения.\n",
    "\n",
    "Geo_date2 показывает наименьшую среднюю прибыль (377.4 млн рублей) и самый высокий риск убытков (7.4%)."
   ]
  },
  {
   "cell_type": "markdown",
   "metadata": {},
   "source": [
    "**Вывод:**\n",
    "\n",
    "1. Загрузили файлы в переменные и изучили данные о трех регионах.\n",
    "2. Обучили модель Линейной Регрессии и посчитали метрику RMSE. Сохранили предсказанные значения, правильные ответы на валидационной выборке для каждого региона.\n",
    "3. Посчитали минимальное среднее количество продукта в месторождениях региона, достаточное для разработки. Безубыточный объем сырья: 111.11 тыс. баррелей. Предсказанного среднего запаса сырья в трех регионах оказалось недостаточным для выгодной разработки\n",
    "4. Провели процедуру Bootstrap, посчитали для каждого региона среднюю прибыль, 95%-й доверительный интервал и риск убытков. \n",
    "5. Получили, что Geo_date1 кажется наиболее прибыльным регионом для разработки. Он демонстрирует самую высокую среднюю прибыль (432.6 млн рублей) и наименьший риск убытков (1.9%) среди других регионов. "
   ]
  }
 ],
 "metadata": {
  "ExecuteTimeLog": [
   {
    "duration": 52,
    "start_time": "2025-01-14T16:18:53.338Z"
   },
   {
    "duration": 413,
    "start_time": "2025-01-14T16:19:17.354Z"
   },
   {
    "duration": 1612,
    "start_time": "2025-01-14T16:20:16.511Z"
   },
   {
    "duration": 18,
    "start_time": "2025-01-14T16:20:32.020Z"
   },
   {
    "duration": 2,
    "start_time": "2025-01-14T19:07:21.704Z"
   },
   {
    "duration": 368,
    "start_time": "2025-01-14T19:07:24.208Z"
   },
   {
    "duration": 11,
    "start_time": "2025-01-14T19:07:26.784Z"
   },
   {
    "duration": 2,
    "start_time": "2025-01-14T19:34:54.304Z"
   },
   {
    "duration": 360,
    "start_time": "2025-01-14T19:34:57.245Z"
   },
   {
    "duration": 58,
    "start_time": "2025-01-14T19:35:06.323Z"
   },
   {
    "duration": 119,
    "start_time": "2025-01-14T19:44:11.159Z"
   },
   {
    "duration": 3,
    "start_time": "2025-01-14T20:22:36.855Z"
   },
   {
    "duration": 31,
    "start_time": "2025-01-14T20:22:54.194Z"
   },
   {
    "duration": 777,
    "start_time": "2025-01-14T20:23:10.943Z"
   },
   {
    "duration": 20,
    "start_time": "2025-01-14T20:23:14.416Z"
   },
   {
    "duration": 16,
    "start_time": "2025-01-14T20:24:52.252Z"
   },
   {
    "duration": 50,
    "start_time": "2025-01-14T20:32:38.934Z"
   },
   {
    "duration": 21,
    "start_time": "2025-01-14T20:32:43.393Z"
   },
   {
    "duration": 1231,
    "start_time": "2025-01-14T20:32:47.861Z"
   },
   {
    "duration": 28,
    "start_time": "2025-01-14T20:33:15.631Z"
   },
   {
    "duration": 8,
    "start_time": "2025-01-14T20:33:28.530Z"
   },
   {
    "duration": 22,
    "start_time": "2025-01-14T20:34:56.237Z"
   },
   {
    "duration": 5,
    "start_time": "2025-01-14T20:35:14.178Z"
   },
   {
    "duration": 18297,
    "start_time": "2025-01-14T20:43:31.690Z"
   },
   {
    "duration": 2,
    "start_time": "2025-01-14T20:45:15.216Z"
   },
   {
    "duration": 7,
    "start_time": "2025-01-14T20:47:03.143Z"
   },
   {
    "duration": 1107,
    "start_time": "2025-01-15T09:34:35.182Z"
   },
   {
    "duration": 1684,
    "start_time": "2025-01-15T09:34:36.291Z"
   },
   {
    "duration": 67,
    "start_time": "2025-01-15T09:34:37.977Z"
   },
   {
    "duration": 22148,
    "start_time": "2025-01-15T09:34:38.045Z"
   },
   {
    "duration": 93,
    "start_time": "2025-01-15T09:35:00.195Z"
   },
   {
    "duration": 114,
    "start_time": "2025-01-15T09:35:00.289Z"
   },
   {
    "duration": 3,
    "start_time": "2025-01-15T09:40:07.560Z"
   },
   {
    "duration": 359,
    "start_time": "2025-01-15T09:40:10.967Z"
   },
   {
    "duration": 71,
    "start_time": "2025-01-15T09:40:14.480Z"
   },
   {
    "duration": 18585,
    "start_time": "2025-01-15T09:40:36.505Z"
   },
   {
    "duration": 11,
    "start_time": "2025-01-15T09:43:15.402Z"
   },
   {
    "duration": 35,
    "start_time": "2025-01-15T09:43:49.447Z"
   },
   {
    "duration": 4,
    "start_time": "2025-01-15T10:04:17.921Z"
   },
   {
    "duration": 4,
    "start_time": "2025-01-15T10:05:10.937Z"
   },
   {
    "duration": 23,
    "start_time": "2025-01-15T10:06:02.296Z"
   },
   {
    "duration": 239,
    "start_time": "2025-01-15T10:06:38.855Z"
   },
   {
    "duration": 317,
    "start_time": "2025-01-15T10:06:41.979Z"
   },
   {
    "duration": 4,
    "start_time": "2025-01-15T10:07:19.192Z"
   },
   {
    "duration": 287,
    "start_time": "2025-01-15T10:07:36.911Z"
   },
   {
    "duration": 87,
    "start_time": "2025-01-15T10:07:37.201Z"
   },
   {
    "duration": 4,
    "start_time": "2025-01-15T10:09:28.473Z"
   },
   {
    "duration": 297,
    "start_time": "2025-01-15T10:09:29.562Z"
   },
   {
    "duration": 3,
    "start_time": "2025-01-15T10:09:38.174Z"
   },
   {
    "duration": 3,
    "start_time": "2025-01-15T10:09:41.060Z"
   },
   {
    "duration": 258,
    "start_time": "2025-01-15T10:09:42.929Z"
   },
   {
    "duration": 3,
    "start_time": "2025-01-15T10:09:44.001Z"
   },
   {
    "duration": 3,
    "start_time": "2025-01-15T10:09:55.373Z"
   },
   {
    "duration": 3,
    "start_time": "2025-01-15T10:09:58.370Z"
   },
   {
    "duration": 4,
    "start_time": "2025-01-15T10:10:18.002Z"
   },
   {
    "duration": 293,
    "start_time": "2025-01-15T10:10:20.599Z"
   },
   {
    "duration": 3,
    "start_time": "2025-01-15T10:10:21.616Z"
   },
   {
    "duration": 3,
    "start_time": "2025-01-15T10:16:06.597Z"
   },
   {
    "duration": 4,
    "start_time": "2025-01-15T10:16:23.554Z"
   },
   {
    "duration": 469,
    "start_time": "2025-01-15T10:19:39.637Z"
   },
   {
    "duration": 322,
    "start_time": "2025-01-15T10:19:46.075Z"
   },
   {
    "duration": 270,
    "start_time": "2025-01-15T10:20:07.127Z"
   },
   {
    "duration": 1608,
    "start_time": "2025-02-17T19:11:25.124Z"
   },
   {
    "duration": 501,
    "start_time": "2025-02-17T19:11:28.561Z"
   },
   {
    "duration": 122,
    "start_time": "2025-02-17T19:11:32.527Z"
   },
   {
    "duration": 4,
    "start_time": "2025-02-17T19:11:36.721Z"
   },
   {
    "duration": 296,
    "start_time": "2025-02-17T19:11:39.859Z"
   },
   {
    "duration": 6,
    "start_time": "2025-02-17T19:12:18.562Z"
   },
   {
    "duration": 78,
    "start_time": "2025-02-17T19:12:20.283Z"
   },
   {
    "duration": 273,
    "start_time": "2025-02-17T19:12:46.604Z"
   },
   {
    "duration": 3,
    "start_time": "2025-02-17T19:13:01.743Z"
   },
   {
    "duration": 7,
    "start_time": "2025-02-17T19:13:36.862Z"
   },
   {
    "duration": 4,
    "start_time": "2025-02-17T19:13:53.591Z"
   },
   {
    "duration": 4,
    "start_time": "2025-02-17T19:18:49.935Z"
   },
   {
    "duration": 5,
    "start_time": "2025-02-17T19:18:58.837Z"
   },
   {
    "duration": 4,
    "start_time": "2025-02-17T19:19:46.281Z"
   },
   {
    "duration": 5,
    "start_time": "2025-02-17T19:19:50.786Z"
   },
   {
    "duration": 7,
    "start_time": "2025-02-17T19:19:58.147Z"
   },
   {
    "duration": 5,
    "start_time": "2025-02-17T19:21:49.667Z"
   },
   {
    "duration": 7,
    "start_time": "2025-02-17T19:21:59.264Z"
   },
   {
    "duration": 14,
    "start_time": "2025-02-17T20:01:37.946Z"
   },
   {
    "duration": 4,
    "start_time": "2025-02-17T20:01:45.119Z"
   },
   {
    "duration": 12,
    "start_time": "2025-02-17T20:01:58.070Z"
   },
   {
    "duration": 4,
    "start_time": "2025-02-17T20:02:03.710Z"
   },
   {
    "duration": 5,
    "start_time": "2025-02-17T20:03:35.599Z"
   },
   {
    "duration": 5,
    "start_time": "2025-02-17T22:17:18.628Z"
   },
   {
    "duration": 6,
    "start_time": "2025-02-17T22:17:37.385Z"
   },
   {
    "duration": 4,
    "start_time": "2025-02-17T22:18:22.247Z"
   },
   {
    "duration": 5,
    "start_time": "2025-02-17T22:20:51.318Z"
   },
   {
    "duration": 4,
    "start_time": "2025-02-17T22:25:45.309Z"
   },
   {
    "duration": 13,
    "start_time": "2025-02-17T22:26:20.045Z"
   },
   {
    "duration": 4,
    "start_time": "2025-02-17T22:26:49.637Z"
   },
   {
    "duration": 5,
    "start_time": "2025-02-17T22:26:50.698Z"
   },
   {
    "duration": 23,
    "start_time": "2025-02-17T22:26:53.716Z"
   },
   {
    "duration": 7,
    "start_time": "2025-02-17T22:27:23.301Z"
   },
   {
    "duration": 13,
    "start_time": "2025-02-17T22:48:49.312Z"
   },
   {
    "duration": 17,
    "start_time": "2025-02-17T22:48:55.777Z"
   },
   {
    "duration": 3,
    "start_time": "2025-02-17T22:49:17.456Z"
   },
   {
    "duration": 17,
    "start_time": "2025-02-17T22:49:19.895Z"
   },
   {
    "duration": 9,
    "start_time": "2025-02-17T22:50:03.156Z"
   },
   {
    "duration": 9,
    "start_time": "2025-02-17T22:50:12.010Z"
   },
   {
    "duration": 4,
    "start_time": "2025-02-17T22:50:39.101Z"
   },
   {
    "duration": 6,
    "start_time": "2025-02-17T22:51:29.339Z"
   },
   {
    "duration": 14,
    "start_time": "2025-02-17T22:51:43.608Z"
   },
   {
    "duration": 12,
    "start_time": "2025-02-17T22:51:53.531Z"
   },
   {
    "duration": 21,
    "start_time": "2025-02-17T22:52:03.539Z"
   },
   {
    "duration": 5,
    "start_time": "2025-02-17T22:52:56.077Z"
   },
   {
    "duration": 18,
    "start_time": "2025-02-17T22:53:06.538Z"
   },
   {
    "duration": 16,
    "start_time": "2025-02-17T22:53:09.208Z"
   },
   {
    "duration": 12,
    "start_time": "2025-02-17T22:53:23.920Z"
   },
   {
    "duration": 12,
    "start_time": "2025-02-17T22:53:39.042Z"
   },
   {
    "duration": 12,
    "start_time": "2025-02-17T22:54:23.925Z"
   },
   {
    "duration": 8,
    "start_time": "2025-02-17T22:54:32.009Z"
   },
   {
    "duration": 2707,
    "start_time": "2025-02-17T22:54:39.003Z"
   },
   {
    "duration": 8399,
    "start_time": "2025-02-17T23:07:36.942Z"
   },
   {
    "duration": 919,
    "start_time": "2025-02-17T23:10:45.859Z"
   },
   {
    "duration": 907,
    "start_time": "2025-02-17T23:10:59.613Z"
   },
   {
    "duration": 1175,
    "start_time": "2025-02-17T23:15:10.728Z"
   },
   {
    "duration": 4,
    "start_time": "2025-02-17T23:15:24.024Z"
   },
   {
    "duration": 438,
    "start_time": "2025-02-17T23:15:28.150Z"
   },
   {
    "duration": 82,
    "start_time": "2025-02-17T23:15:29.880Z"
   },
   {
    "duration": 448,
    "start_time": "2025-02-17T23:15:43.911Z"
   },
   {
    "duration": 3,
    "start_time": "2025-02-17T23:17:17.437Z"
   },
   {
    "duration": 5,
    "start_time": "2025-02-17T23:17:19.862Z"
   },
   {
    "duration": 7,
    "start_time": "2025-02-17T23:17:46.324Z"
   },
   {
    "duration": 909,
    "start_time": "2025-02-17T23:17:51.017Z"
   },
   {
    "duration": 7,
    "start_time": "2025-02-17T23:34:06.423Z"
   },
   {
    "duration": 7,
    "start_time": "2025-02-17T23:34:10.805Z"
   },
   {
    "duration": 48,
    "start_time": "2025-02-18T15:28:46.596Z"
   },
   {
    "duration": 1176,
    "start_time": "2025-02-18T15:28:59.114Z"
   },
   {
    "duration": 409,
    "start_time": "2025-02-18T15:29:00.292Z"
   },
   {
    "duration": 90,
    "start_time": "2025-02-18T15:29:00.703Z"
   },
   {
    "duration": 365,
    "start_time": "2025-02-18T15:29:00.796Z"
   },
   {
    "duration": 94,
    "start_time": "2025-02-18T15:29:01.163Z"
   },
   {
    "duration": 6,
    "start_time": "2025-02-18T15:29:01.348Z"
   },
   {
    "duration": 9,
    "start_time": "2025-02-18T15:29:01.355Z"
   },
   {
    "duration": 949,
    "start_time": "2025-02-18T15:29:01.366Z"
   },
   {
    "duration": 9,
    "start_time": "2025-02-18T15:29:02.317Z"
   },
   {
    "duration": 6,
    "start_time": "2025-02-18T15:29:34.476Z"
   },
   {
    "duration": 109,
    "start_time": "2025-02-18T15:32:06.236Z"
   },
   {
    "duration": 9,
    "start_time": "2025-02-18T15:37:08.200Z"
   },
   {
    "duration": 390,
    "start_time": "2025-02-18T15:40:50.687Z"
   },
   {
    "duration": 73,
    "start_time": "2025-02-18T15:40:51.386Z"
   },
   {
    "duration": 361,
    "start_time": "2025-02-18T15:40:56.089Z"
   },
   {
    "duration": 9,
    "start_time": "2025-02-18T15:42:27.868Z"
   },
   {
    "duration": 454,
    "start_time": "2025-02-18T15:43:24.328Z"
   },
   {
    "duration": 3,
    "start_time": "2025-02-18T15:44:21.417Z"
   },
   {
    "duration": 4,
    "start_time": "2025-02-18T15:44:37.961Z"
   },
   {
    "duration": 3,
    "start_time": "2025-02-18T15:44:41.449Z"
   },
   {
    "duration": 15,
    "start_time": "2025-02-18T15:47:13.246Z"
   },
   {
    "duration": 12,
    "start_time": "2025-02-18T15:48:54.178Z"
   },
   {
    "duration": 770,
    "start_time": "2025-02-18T15:49:00.580Z"
   },
   {
    "duration": 9,
    "start_time": "2025-02-18T15:49:25.328Z"
   },
   {
    "duration": 15,
    "start_time": "2025-02-18T15:50:47.723Z"
   },
   {
    "duration": 7,
    "start_time": "2025-02-18T15:51:20.782Z"
   },
   {
    "duration": 10,
    "start_time": "2025-02-18T15:51:39.655Z"
   },
   {
    "duration": 9,
    "start_time": "2025-02-18T15:51:47.743Z"
   },
   {
    "duration": 7,
    "start_time": "2025-02-18T15:51:51.423Z"
   },
   {
    "duration": 403,
    "start_time": "2025-02-18T15:52:11.461Z"
   },
   {
    "duration": 4,
    "start_time": "2025-02-18T15:53:10.654Z"
   },
   {
    "duration": 423,
    "start_time": "2025-02-18T15:54:33.220Z"
   },
   {
    "duration": 80,
    "start_time": "2025-02-18T15:54:35.326Z"
   },
   {
    "duration": 274,
    "start_time": "2025-02-18T15:54:41.181Z"
   },
   {
    "duration": 11,
    "start_time": "2025-02-18T15:55:03.221Z"
   },
   {
    "duration": 415,
    "start_time": "2025-02-18T15:55:54.640Z"
   },
   {
    "duration": 6,
    "start_time": "2025-02-18T15:55:55.832Z"
   },
   {
    "duration": 10,
    "start_time": "2025-02-18T15:56:05.925Z"
   },
   {
    "duration": 3351,
    "start_time": "2025-02-18T15:57:02.645Z"
   },
   {
    "duration": 8,
    "start_time": "2025-02-18T15:57:24.815Z"
   },
   {
    "duration": 3002,
    "start_time": "2025-02-18T15:58:21.367Z"
   },
   {
    "duration": 11,
    "start_time": "2025-02-18T15:59:56.136Z"
   },
   {
    "duration": 46,
    "start_time": "2025-02-18T16:09:57.181Z"
   },
   {
    "duration": 1182,
    "start_time": "2025-02-18T16:11:33.711Z"
   },
   {
    "duration": 428,
    "start_time": "2025-02-18T16:11:39.227Z"
   },
   {
    "duration": 86,
    "start_time": "2025-02-18T16:11:39.764Z"
   },
   {
    "duration": 133,
    "start_time": "2025-02-18T16:11:57.293Z"
   },
   {
    "duration": 143,
    "start_time": "2025-02-18T16:12:20.539Z"
   },
   {
    "duration": 41,
    "start_time": "2025-02-18T16:14:17.606Z"
   },
   {
    "duration": 71,
    "start_time": "2025-02-18T16:14:34.910Z"
   },
   {
    "duration": 387,
    "start_time": "2025-02-18T16:15:13.685Z"
   },
   {
    "duration": 5,
    "start_time": "2025-02-18T16:15:14.719Z"
   },
   {
    "duration": 3,
    "start_time": "2025-02-18T16:15:18.605Z"
   },
   {
    "duration": 4,
    "start_time": "2025-02-18T16:15:21.330Z"
   },
   {
    "duration": 8,
    "start_time": "2025-02-18T16:15:26.111Z"
   },
   {
    "duration": 2697,
    "start_time": "2025-02-18T16:16:10.651Z"
   },
   {
    "duration": 49,
    "start_time": "2025-02-18T21:44:31.942Z"
   },
   {
    "duration": 1169,
    "start_time": "2025-02-18T21:44:38.273Z"
   },
   {
    "duration": 379,
    "start_time": "2025-02-18T21:44:39.596Z"
   },
   {
    "duration": 63,
    "start_time": "2025-02-18T21:44:41.943Z"
   },
   {
    "duration": 371,
    "start_time": "2025-02-18T21:44:50.309Z"
   },
   {
    "duration": 5,
    "start_time": "2025-02-18T21:44:53.856Z"
   },
   {
    "duration": 4,
    "start_time": "2025-02-18T21:44:57.684Z"
   },
   {
    "duration": 4,
    "start_time": "2025-02-18T21:45:01.031Z"
   },
   {
    "duration": 5,
    "start_time": "2025-02-18T21:45:04.992Z"
   },
   {
    "duration": 5,
    "start_time": "2025-02-18T21:45:33.857Z"
   },
   {
    "duration": 4,
    "start_time": "2025-02-18T21:45:42.607Z"
   },
   {
    "duration": 4,
    "start_time": "2025-02-18T21:45:46.766Z"
   },
   {
    "duration": 1179,
    "start_time": "2025-02-18T21:45:57.479Z"
   },
   {
    "duration": 8,
    "start_time": "2025-02-18T21:46:28.980Z"
   },
   {
    "duration": 10245,
    "start_time": "2025-02-18T21:49:10.036Z"
   },
   {
    "duration": 2114,
    "start_time": "2025-02-18T21:55:46.002Z"
   },
   {
    "duration": 8,
    "start_time": "2025-02-18T22:01:45.933Z"
   },
   {
    "duration": 2114,
    "start_time": "2025-02-18T22:01:46.913Z"
   },
   {
    "duration": 2166,
    "start_time": "2025-02-18T22:03:09.711Z"
   }
  ],
  "kernelspec": {
   "display_name": "Python 3 (ipykernel)",
   "language": "python",
   "name": "python3"
  },
  "language_info": {
   "codemirror_mode": {
    "name": "ipython",
    "version": 3
   },
   "file_extension": ".py",
   "mimetype": "text/x-python",
   "name": "python",
   "nbconvert_exporter": "python",
   "pygments_lexer": "ipython3",
   "version": "3.9.5"
  },
  "toc": {
   "base_numbering": 1,
   "nav_menu": {},
   "number_sections": true,
   "sideBar": true,
   "skip_h1_title": true,
   "title_cell": "Table of Contents",
   "title_sidebar": "Contents",
   "toc_cell": false,
   "toc_position": {},
   "toc_section_display": true,
   "toc_window_display": true
  }
 },
 "nbformat": 4,
 "nbformat_minor": 2
}
