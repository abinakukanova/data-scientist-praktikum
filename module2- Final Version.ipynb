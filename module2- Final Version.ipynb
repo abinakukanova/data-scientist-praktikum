{
 "cells": [
  {
   "cell_type": "markdown",
   "metadata": {},
   "source": [
    "# Сборный проект №2\n",
    "\n",
    "**Описание исследования**\n",
    "\n",
    "HR-аналитики компании «Работа с заботой» помогают бизнесу оптимизировать управление персоналом: бизнес предоставляет данные, а аналитики предлагают, как избежать финансовых потерь и оттока сотрудников. В этом HR-аналитикам пригодится машинное обучение, с помощью которого получится быстрее и точнее отвечать на вопросы бизнеса.\n",
    "\n",
    "Компания предоставила данные с характеристиками сотрудников компании. Среди них — уровень удовлетворённости сотрудника работой в компании. Эту информацию получили из форм обратной связи: сотрудники заполняют тест-опросник, и по его результатам рассчитывается доля их удовлетворённости от 0 до 1, где 0 — совершенно неудовлетворён, 1 — полностью удовлетворён. \n",
    "\n",
    "**Цель исследования**\n",
    "\n",
    "Предсказать уровень удовлетворённости сотрудника и увольнение сотрудника из компании\n",
    "\n",
    "**Задачи исследования**\n",
    "- Построить модель, которая сможет предсказать уровень удовлетворённости сотрудника на основе данных заказчика. \n",
    "- Построить модель, которая сможет на основе данных заказчика предсказать то, что сотрудник уволится из компании.\n",
    "\n",
    "**Исходные данные**\n",
    "\n",
    "Первая задача: \n",
    "\n",
    "- Тренировочная выборка: `train_job_satisfaction_rate.csv`\n",
    "- Входные признаки тестовой выборки: `test_features.csv`\n",
    "- Целевой признак тестовой выборки: `test_target_job_satisfaction_rate.csv`\n",
    "\n",
    "Вторая задача:\n",
    "\n",
    "- Тренировочная выборка: `train_quit.csv`\n",
    "- Входные признаки тестовой выборки те же, что и в прошлой задаче: `test_features.csv`\n",
    "- Целевой признак тестовой выборки: `test_target_quit.csv`"
   ]
  },
  {
   "cell_type": "markdown",
   "metadata": {},
   "source": [
    "## Table of Contents\n",
    "* [Импортируем библиотеки](#chapter1)\n",
    "* [Задача №1: предсказание уровня удовлетворённости сотрудника](#chapter2)\n",
    "    * [Загрузка данных](#chapter3)\n",
    "    * [Описание данных](#chapter4)\n",
    "    * [Предобработка данных](#chapter5)\n",
    "    * [Исследовательский анализ данных](#chapter6)\n",
    "        * [Визуализация дискретных признаков](№chapter7)\n",
    "        * [Визуализация количественных признаков](#chapter8)\n",
    "        * [Визуализация категориальных признаков](#chapter9)\n",
    "        * [Матрица корреляций количественных признаков](#chapter10)\n",
    "    * [Пайплайн для подготовки данных](#chapter11)\n",
    "    * [Функция метрики SMAPE](#chapter12)\n",
    "    * [Обучение моделей](#chapter13)\n",
    "        * [Подбор параметров с RandomizedSearchCV](#chapter14)\n",
    "        * [Анализ важности признаков](#chapter15)\n",
    "* [Задача 2: предсказание увольнения сотрудника из компании¶](#chapter17)\n",
    "    * [Загрузка данных](#chapter18)\n",
    "    * [Описание данных](#chapter19)\n",
    "    * [Предобработка данных](#chapter20)\n",
    "    * [Портер уволившегося сотрудника](#chapter21)\n",
    "    * [Добавление нового признака](#chapter22)\n",
    "    * [Пайплайн для подготовки данных](#chapter23)\n",
    "    * [Обучение моделей](#chapter24)\n",
    "* [Общий вывод](#chapter25)"
   ]
  },
  {
   "cell_type": "markdown",
   "metadata": {},
   "source": [
    "<a class=\"anchor\" id=\"chapter1\"></a>\n",
    "## Импортируем библиотеки"
   ]
  },
  {
   "cell_type": "code",
   "execution_count": 1,
   "metadata": {},
   "outputs": [],
   "source": [
    "!pip install phik -q\n",
    "!pip install shap -q\n",
    "!pip install optuna -q\n",
    "!pip install optuna-integration -q\n",
    "!pip install scikit-learn --upgrade -q"
   ]
  },
  {
   "cell_type": "code",
   "execution_count": 2,
   "metadata": {},
   "outputs": [],
   "source": [
    "import pandas as pd\n",
    "import numpy as np\n",
    "\n",
    "\n",
    "import matplotlib.pyplot as plt\n",
    "import seaborn as sns\n",
    "\n",
    "from sklearn.pipeline import Pipeline\n",
    "from sklearn.compose import ColumnTransformer\n",
    "from sklearn.preprocessing import OneHotEncoder, OrdinalEncoder, StandardScaler, MinMaxScaler, RobustScaler\n",
    "from sklearn.impute import SimpleImputer\n",
    "from sklearn.linear_model import LinearRegression\n",
    "from sklearn.tree import DecisionTreeRegressor\n",
    "from sklearn.preprocessing import LabelEncoder\n",
    "from sklearn.linear_model import LogisticRegression\n",
    "from sklearn.neighbors import KNeighborsClassifier\n",
    "from sklearn.tree import DecisionTreeClassifier\n",
    "from sklearn.metrics import roc_auc_score\n",
    "from sklearn.metrics import root_mean_squared_error\n",
    "\n",
    "from optuna.integration import OptunaSearchCV \n",
    "from sklearn.model_selection import GridSearchCV\n",
    "from sklearn.model_selection import RandomizedSearchCV\n",
    "from optuna import distributions\n",
    "import optuna\n",
    "import shap\n",
    "\n",
    "import warnings\n",
    "warnings.filterwarnings(\"ignore\")"
   ]
  },
  {
   "cell_type": "markdown",
   "metadata": {},
   "source": [
    "<a class=\"anchor\" id=\"chapter2\"></a>\n",
    "\n",
    "## Задача №1: предсказание уровня удовлетворённости сотрудника"
   ]
  },
  {
   "cell_type": "markdown",
   "metadata": {},
   "source": [
    "<a class=\"anchor\" id=\"chapter3\"></a>\n",
    "### Загрузка данных"
   ]
  },
  {
   "cell_type": "code",
   "execution_count": 3,
   "metadata": {},
   "outputs": [],
   "source": [
    "try:\n",
    "    train_data = pd.read_csv('train_job_satisfaction_rate.csv')\n",
    "    X_test = pd.read_csv('test_features.csv')\n",
    "    y_test = pd.read_csv('test_target_job_satisfaction_rate.csv')\n",
    "except:\n",
    "    train_data = pd.read_csv('/datasets/train_job_satisfaction_rate.csv')\n",
    "    X_test = pd.read_csv('/datasets/test_features.csv')\n",
    "    y_test = pd.read_csv('/datasets/test_target_job_satisfaction_rate.csv')"
   ]
  },
  {
   "cell_type": "markdown",
   "metadata": {},
   "source": [
    "Как позже я выяснила, данные в файле с входными признаками тестовой выборки и данные в файле с целевым признакм тестовой выборки расположены не по порядку, поэтому нужно соединить входные и целевые признаки в один датафрейм по `id`"
   ]
  },
  {
   "cell_type": "code",
   "execution_count": 4,
   "metadata": {},
   "outputs": [
    {
     "data": {
      "text/html": [
       "<div>\n",
       "<style scoped>\n",
       "    .dataframe tbody tr th:only-of-type {\n",
       "        vertical-align: middle;\n",
       "    }\n",
       "\n",
       "    .dataframe tbody tr th {\n",
       "        vertical-align: top;\n",
       "    }\n",
       "\n",
       "    .dataframe thead th {\n",
       "        text-align: right;\n",
       "    }\n",
       "</style>\n",
       "<table border=\"1\" class=\"dataframe\">\n",
       "  <thead>\n",
       "    <tr style=\"text-align: right;\">\n",
       "      <th></th>\n",
       "      <th>id</th>\n",
       "      <th>dept</th>\n",
       "      <th>level</th>\n",
       "      <th>workload</th>\n",
       "      <th>employment_years</th>\n",
       "      <th>last_year_promo</th>\n",
       "      <th>last_year_violations</th>\n",
       "      <th>supervisor_evaluation</th>\n",
       "      <th>salary</th>\n",
       "      <th>job_satisfaction_rate</th>\n",
       "    </tr>\n",
       "  </thead>\n",
       "  <tbody>\n",
       "    <tr>\n",
       "      <th>0</th>\n",
       "      <td>485046</td>\n",
       "      <td>marketing</td>\n",
       "      <td>junior</td>\n",
       "      <td>medium</td>\n",
       "      <td>2</td>\n",
       "      <td>no</td>\n",
       "      <td>no</td>\n",
       "      <td>5</td>\n",
       "      <td>28800</td>\n",
       "      <td>0.79</td>\n",
       "    </tr>\n",
       "    <tr>\n",
       "      <th>1</th>\n",
       "      <td>686555</td>\n",
       "      <td>hr</td>\n",
       "      <td>junior</td>\n",
       "      <td>medium</td>\n",
       "      <td>1</td>\n",
       "      <td>no</td>\n",
       "      <td>no</td>\n",
       "      <td>4</td>\n",
       "      <td>30000</td>\n",
       "      <td>0.72</td>\n",
       "    </tr>\n",
       "    <tr>\n",
       "      <th>2</th>\n",
       "      <td>467458</td>\n",
       "      <td>sales</td>\n",
       "      <td>middle</td>\n",
       "      <td>low</td>\n",
       "      <td>5</td>\n",
       "      <td>no</td>\n",
       "      <td>no</td>\n",
       "      <td>4</td>\n",
       "      <td>19200</td>\n",
       "      <td>0.64</td>\n",
       "    </tr>\n",
       "    <tr>\n",
       "      <th>3</th>\n",
       "      <td>418655</td>\n",
       "      <td>sales</td>\n",
       "      <td>middle</td>\n",
       "      <td>low</td>\n",
       "      <td>6</td>\n",
       "      <td>no</td>\n",
       "      <td>no</td>\n",
       "      <td>4</td>\n",
       "      <td>19200</td>\n",
       "      <td>0.60</td>\n",
       "    </tr>\n",
       "    <tr>\n",
       "      <th>4</th>\n",
       "      <td>789145</td>\n",
       "      <td>hr</td>\n",
       "      <td>middle</td>\n",
       "      <td>medium</td>\n",
       "      <td>5</td>\n",
       "      <td>no</td>\n",
       "      <td>no</td>\n",
       "      <td>5</td>\n",
       "      <td>40800</td>\n",
       "      <td>0.75</td>\n",
       "    </tr>\n",
       "  </tbody>\n",
       "</table>\n",
       "</div>"
      ],
      "text/plain": [
       "       id       dept   level workload  employment_years last_year_promo  \\\n",
       "0  485046  marketing  junior   medium                 2              no   \n",
       "1  686555         hr  junior   medium                 1              no   \n",
       "2  467458      sales  middle      low                 5              no   \n",
       "3  418655      sales  middle      low                 6              no   \n",
       "4  789145         hr  middle   medium                 5              no   \n",
       "\n",
       "  last_year_violations  supervisor_evaluation  salary  job_satisfaction_rate  \n",
       "0                   no                      5   28800                   0.79  \n",
       "1                   no                      4   30000                   0.72  \n",
       "2                   no                      4   19200                   0.64  \n",
       "3                   no                      4   19200                   0.60  \n",
       "4                   no                      5   40800                   0.75  "
      ]
     },
     "execution_count": 4,
     "metadata": {},
     "output_type": "execute_result"
    }
   ],
   "source": [
    "test_data = X_test.merge(y_test, on='id')\n",
    "test_data.head()"
   ]
  },
  {
   "cell_type": "markdown",
   "metadata": {},
   "source": [
    "<a class=\"anchor\" id=\"chapter4\"></a>\n",
    "### Описание данных"
   ]
  },
  {
   "cell_type": "markdown",
   "metadata": {},
   "source": [
    "- `id` — уникальный идентификатор сотрудника;\n",
    "- `dept` — отдел, в котором работает сотрудник;\n",
    "- `level` — уровень занимаемой должности;\n",
    "- `workload` — уровень загруженности сотрудника;\n",
    "- `employment_years` — длительность работы в компании (в годах);\n",
    "- `last_year_promo` — показывает, было ли повышение за последний год;\n",
    "- `last_year_violations` — показывает, нарушал ли сотрудник трудовой договор за последний год;\n",
    "- `supervisor_evaluation` — оценка качества работы сотрудника, которую дал руководитель;\n",
    "- `salary` — ежемесячная зарплата сотрудника;\n",
    "- `job_satisfaction_rate` — уровень удовлетворённости сотрудника работой в компании, целевой признак."
   ]
  },
  {
   "cell_type": "markdown",
   "metadata": {},
   "source": [
    "Посмотрим на первые пять строчек тренировочного датасета, общую информацио о таблице. Проверим, если есть пропущенные значения, явные и неявные дубликаты. "
   ]
  },
  {
   "cell_type": "code",
   "execution_count": 5,
   "metadata": {},
   "outputs": [
    {
     "data": {
      "text/html": [
       "<div>\n",
       "<style scoped>\n",
       "    .dataframe tbody tr th:only-of-type {\n",
       "        vertical-align: middle;\n",
       "    }\n",
       "\n",
       "    .dataframe tbody tr th {\n",
       "        vertical-align: top;\n",
       "    }\n",
       "\n",
       "    .dataframe thead th {\n",
       "        text-align: right;\n",
       "    }\n",
       "</style>\n",
       "<table border=\"1\" class=\"dataframe\">\n",
       "  <thead>\n",
       "    <tr style=\"text-align: right;\">\n",
       "      <th></th>\n",
       "      <th>id</th>\n",
       "      <th>dept</th>\n",
       "      <th>level</th>\n",
       "      <th>workload</th>\n",
       "      <th>employment_years</th>\n",
       "      <th>last_year_promo</th>\n",
       "      <th>last_year_violations</th>\n",
       "      <th>supervisor_evaluation</th>\n",
       "      <th>salary</th>\n",
       "      <th>job_satisfaction_rate</th>\n",
       "    </tr>\n",
       "  </thead>\n",
       "  <tbody>\n",
       "    <tr>\n",
       "      <th>0</th>\n",
       "      <td>155278</td>\n",
       "      <td>sales</td>\n",
       "      <td>junior</td>\n",
       "      <td>medium</td>\n",
       "      <td>2</td>\n",
       "      <td>no</td>\n",
       "      <td>no</td>\n",
       "      <td>1</td>\n",
       "      <td>24000</td>\n",
       "      <td>0.58</td>\n",
       "    </tr>\n",
       "    <tr>\n",
       "      <th>1</th>\n",
       "      <td>653870</td>\n",
       "      <td>hr</td>\n",
       "      <td>junior</td>\n",
       "      <td>high</td>\n",
       "      <td>2</td>\n",
       "      <td>no</td>\n",
       "      <td>no</td>\n",
       "      <td>5</td>\n",
       "      <td>38400</td>\n",
       "      <td>0.76</td>\n",
       "    </tr>\n",
       "    <tr>\n",
       "      <th>2</th>\n",
       "      <td>184592</td>\n",
       "      <td>sales</td>\n",
       "      <td>junior</td>\n",
       "      <td>low</td>\n",
       "      <td>1</td>\n",
       "      <td>no</td>\n",
       "      <td>no</td>\n",
       "      <td>2</td>\n",
       "      <td>12000</td>\n",
       "      <td>0.11</td>\n",
       "    </tr>\n",
       "    <tr>\n",
       "      <th>3</th>\n",
       "      <td>171431</td>\n",
       "      <td>technology</td>\n",
       "      <td>junior</td>\n",
       "      <td>low</td>\n",
       "      <td>4</td>\n",
       "      <td>no</td>\n",
       "      <td>no</td>\n",
       "      <td>2</td>\n",
       "      <td>18000</td>\n",
       "      <td>0.37</td>\n",
       "    </tr>\n",
       "    <tr>\n",
       "      <th>4</th>\n",
       "      <td>693419</td>\n",
       "      <td>hr</td>\n",
       "      <td>junior</td>\n",
       "      <td>medium</td>\n",
       "      <td>1</td>\n",
       "      <td>no</td>\n",
       "      <td>no</td>\n",
       "      <td>3</td>\n",
       "      <td>22800</td>\n",
       "      <td>0.20</td>\n",
       "    </tr>\n",
       "  </tbody>\n",
       "</table>\n",
       "</div>"
      ],
      "text/plain": [
       "       id        dept   level workload  employment_years last_year_promo  \\\n",
       "0  155278       sales  junior   medium                 2              no   \n",
       "1  653870          hr  junior     high                 2              no   \n",
       "2  184592       sales  junior      low                 1              no   \n",
       "3  171431  technology  junior      low                 4              no   \n",
       "4  693419          hr  junior   medium                 1              no   \n",
       "\n",
       "  last_year_violations  supervisor_evaluation  salary  job_satisfaction_rate  \n",
       "0                   no                      1   24000                   0.58  \n",
       "1                   no                      5   38400                   0.76  \n",
       "2                   no                      2   12000                   0.11  \n",
       "3                   no                      2   18000                   0.37  \n",
       "4                   no                      3   22800                   0.20  "
      ]
     },
     "execution_count": 5,
     "metadata": {},
     "output_type": "execute_result"
    }
   ],
   "source": [
    "train_data.head()"
   ]
  },
  {
   "cell_type": "code",
   "execution_count": 6,
   "metadata": {},
   "outputs": [
    {
     "name": "stdout",
     "output_type": "stream",
     "text": [
      "<class 'pandas.core.frame.DataFrame'>\n",
      "RangeIndex: 4000 entries, 0 to 3999\n",
      "Data columns (total 10 columns):\n",
      " #   Column                 Non-Null Count  Dtype  \n",
      "---  ------                 --------------  -----  \n",
      " 0   id                     4000 non-null   int64  \n",
      " 1   dept                   3994 non-null   object \n",
      " 2   level                  3996 non-null   object \n",
      " 3   workload               4000 non-null   object \n",
      " 4   employment_years       4000 non-null   int64  \n",
      " 5   last_year_promo        4000 non-null   object \n",
      " 6   last_year_violations   4000 non-null   object \n",
      " 7   supervisor_evaluation  4000 non-null   int64  \n",
      " 8   salary                 4000 non-null   int64  \n",
      " 9   job_satisfaction_rate  4000 non-null   float64\n",
      "dtypes: float64(1), int64(4), object(5)\n",
      "memory usage: 312.6+ KB\n"
     ]
    }
   ],
   "source": [
    "train_data.info()"
   ]
  },
  {
   "cell_type": "markdown",
   "metadata": {},
   "source": [
    "**Мини-вывод:**\n",
    "\n",
    "- Загрузили и сохранили csv-файлы в переменные;\n",
    "- Соединили входные и целевые признаки тестовой выборки в один датафрейм, чтобы установить один порядок в данных;\n",
    "- По общей информации о датафрейме видно, что типы данных в столбцах имеют правильный вид, но есть пропущенные значения в двух признаках."
   ]
  },
  {
   "cell_type": "markdown",
   "metadata": {},
   "source": [
    "<a class=\"anchor\" id=\"chapter5\"></a>\n",
    "### Предобработка данных"
   ]
  },
  {
   "cell_type": "code",
   "execution_count": 7,
   "metadata": {},
   "outputs": [
    {
     "name": "stdout",
     "output_type": "stream",
     "text": [
      "\n",
      "Missing Train Data: \n",
      "id                       0\n",
      "dept                     6\n",
      "level                    4\n",
      "workload                 0\n",
      "employment_years         0\n",
      "last_year_promo          0\n",
      "last_year_violations     0\n",
      "supervisor_evaluation    0\n",
      "salary                   0\n",
      "job_satisfaction_rate    0\n",
      "dtype: int64\n",
      "\n",
      "Duplicates: 0\n"
     ]
    }
   ],
   "source": [
    "print(f'\\nMissing Train Data: \\n{train_data.isna().sum()}')\n",
    "print(f'\\nDuplicates: {train_data.duplicated().sum()}')"
   ]
  },
  {
   "cell_type": "code",
   "execution_count": 8,
   "metadata": {},
   "outputs": [
    {
     "name": "stdout",
     "output_type": "stream",
     "text": [
      "['sales' 'hr' 'technology' 'purchasing' 'marketing' nan]\n",
      "['junior' 'middle' 'sinior' nan]\n",
      "['medium' 'high' 'low']\n",
      "['no' 'yes']\n",
      "['no' 'yes']\n"
     ]
    }
   ],
   "source": [
    "# Проверим на наличие неявных дубликатов\n",
    "for col in train_data.select_dtypes(include=['object']).columns:\n",
    "    print(train_data[col].unique())"
   ]
  },
  {
   "cell_type": "markdown",
   "metadata": {},
   "source": [
    "**Мини-вывод:**\n",
    "\n",
    "- Явные и неявные дубликаты в тренировочной выборке не были найдены;\n",
    "- Типы данных в датафрейме стоят правильные \n",
    "- Присутствуют пропущенные значения, удалим их в пайплайне"
   ]
  },
  {
   "cell_type": "markdown",
   "metadata": {},
   "source": [
    "<a class=\"anchor\" id=\"chapter6\"></a>\n",
    "### Исследовательский анализ данных"
   ]
  },
  {
   "cell_type": "markdown",
   "metadata": {},
   "source": [
    "<a class=\"anchor\" id=\"chapter7\"></a>\n",
    "#### Визуализация дискретных признаков"
   ]
  },
  {
   "cell_type": "code",
   "execution_count": 9,
   "metadata": {},
   "outputs": [],
   "source": [
    "discrete_features = ['employment_years', 'supervisor_evaluation']\n",
    "\n",
    "interval_features = ['salary', 'job_satisfaction_rate']\n",
    "\n",
    "categorical_features = ['dept', 'level', 'workload', 'last_year_promo', 'last_year_violations']"
   ]
  },
  {
   "cell_type": "code",
   "execution_count": 10,
   "metadata": {},
   "outputs": [
    {
     "data": {
      "image/png": "[encoded data removed]",
      "text/plain": [
       "<Figure size 1080x360 with 2 Axes>"
      ]
     },
     "metadata": {
      "needs_background": "light"
     },
     "output_type": "display_data"
    }
   ],
   "source": [
    "def plot_discrete_features(df, descrite_cols):\n",
    "    num_plots = len(descrite_cols)\n",
    "    num_rows = (num_plots + 1) // 2 \n",
    "    num_cols = 2\n",
    "\n",
    "    fig, axes = plt.subplots(num_rows, num_cols, figsize=(15, 5 * num_rows))\n",
    "    axes = axes.ravel() \n",
    "    for i, col in enumerate(descrite_cols):\n",
    "        sns.countplot(x=col, data=df, ax=axes[i], palette='deep')\n",
    "        axes[i].set_title(col)\n",
    "\n",
    "    for i in range(num_plots, len(axes)):\n",
    "        fig.delaxes(axes[i])\n",
    "\n",
    "    plt.tight_layout()\n",
    "    plt.show()\n",
    "    \n",
    "plot_discrete_features(df=train_data, descrite_cols=discrete_features)"
   ]
  },
  {
   "cell_type": "code",
   "execution_count": 11,
   "metadata": {},
   "outputs": [
    {
     "name": "stdout",
     "output_type": "stream",
     "text": [
      "Распределение признака employment_years \n",
      "1     0.24150\n",
      "2     0.19625\n",
      "3     0.12075\n",
      "4     0.09600\n",
      "5     0.09500\n",
      "7     0.07525\n",
      "6     0.07175\n",
      "8     0.04825\n",
      "9     0.03250\n",
      "10    0.02275\n",
      "Name: employment_years, dtype: float64\n",
      "\n",
      "Статистический анализ признака supervisor_evaluation \n",
      "count    4000.000000\n",
      "mean        3.476500\n",
      "std         1.008812\n",
      "min         1.000000\n",
      "25%         3.000000\n",
      "50%         4.000000\n",
      "75%         4.000000\n",
      "max         5.000000\n",
      "Name: supervisor_evaluation, dtype: float64\n"
     ]
    }
   ],
   "source": [
    "print(f\"Распределение признака employment_years \\n{train_data['employment_years'].value_counts(normalize=True)}\")\n",
    "print(f\"\\nСтатистический анализ признака supervisor_evaluation \\n{train_data['supervisor_evaluation'].describe()}\")"
   ]
  },
  {
   "cell_type": "markdown",
   "metadata": {},
   "source": [
    "- 24% сотрудников имеют стаж длиною в один год, максимальный стаж сотрудников 10 лет\n",
    "- Средняя оценка качества работы сотрудника, выставленная руководителем, равна 3.47."
   ]
  },
  {
   "cell_type": "markdown",
   "metadata": {},
   "source": [
    "<a class=\"anchor\" id=\"chapter8\"></a>\n",
    "#### Визуализация количественных признаков"
   ]
  },
  {
   "cell_type": "code",
   "execution_count": 12,
   "metadata": {},
   "outputs": [
    {
     "data": {
      "image/png": "[encoded data removed]",
      "text/plain": [
       "<Figure size 1080x720 with 4 Axes>"
      ]
     },
     "metadata": {
      "needs_background": "light"
     },
     "output_type": "display_data"
    }
   ],
   "source": [
    "def plot_numerical_features(df, numerical_cols):\n",
    "    palette = sns.color_palette('deep', len(numerical_cols))\n",
    "    color_dict = dict(zip(numerical_cols, palette))\n",
    "    num_cols = len(numerical_cols)\n",
    "    fig, axes = plt.subplots(nrows=num_cols, ncols=2, figsize=(15, 5*num_cols)) \n",
    "\n",
    "    for i, col in enumerate(numerical_cols):\n",
    "        # Histogram\n",
    "        sns.histplot(data=df, x=col, kde=True, ax=axes[i, 0], color=color_dict[col]) \n",
    "        axes[i, 0].set_title(f'Histogram {col}')\n",
    "        axes[i, 0].set_xlabel(col)\n",
    "        axes[i, 0].set_ylabel('Frequency')\n",
    "\n",
    "        # Boxplot\n",
    "        sns.boxplot(y=df[col], ax=axes[i, 1], color=color_dict[col])\n",
    "        axes[i, 1].set_title(f'Boxplot {col}')\n",
    "        axes[i, 1].set_ylabel(col)\n",
    "\n",
    "    plt.tight_layout() \n",
    "    plt.show()\n",
    "\n",
    "\n",
    "plot_numerical_features(train_data, interval_features)"
   ]
  },
  {
   "cell_type": "code",
   "execution_count": 13,
   "metadata": {},
   "outputs": [
    {
     "name": "stdout",
     "output_type": "stream",
     "text": [
      "Статистический анализ признака salary \n",
      "count     4000.000000\n",
      "mean     33926.700000\n",
      "std      14900.703838\n",
      "min      12000.000000\n",
      "25%      22800.000000\n",
      "50%      30000.000000\n",
      "75%      43200.000000\n",
      "max      98400.000000\n",
      "Name: salary, dtype: float64\n",
      "\n",
      "Статистический анализ признака job_satisfaction_rate \n",
      "count    4000.000000\n",
      "mean        0.533995\n",
      "std         0.225327\n",
      "min         0.030000\n",
      "25%         0.360000\n",
      "50%         0.560000\n",
      "75%         0.710000\n",
      "max         1.000000\n",
      "Name: job_satisfaction_rate, dtype: float64\n"
     ]
    }
   ],
   "source": [
    "print(f\"Статистический анализ признака salary \\n{train_data['salary'].describe()}\")\n",
    "print(f\"\\nСтатистический анализ признака job_satisfaction_rate \\n{train_data['job_satisfaction_rate'].describe()}\")"
   ]
  },
  {
   "cell_type": "markdown",
   "metadata": {},
   "source": [
    "- Распределение признака `salary` ассиметричное, имеет левосторонний сдвиг\n",
    "- Средняя зарплата сотрудников в компании - 33926.7\n",
    "- Распределение признака `job_satisfaction_rate` ассиметричное\n",
    "- Среднее значение уровня удовлетворенности работой сотрудника - 0.53"
   ]
  },
  {
   "cell_type": "markdown",
   "metadata": {},
   "source": [
    "<a class=\"anchor\" id=\"chapter9\"></a>\n",
    "#### Визуализация категориальных признаков"
   ]
  },
  {
   "cell_type": "code",
   "execution_count": 14,
   "metadata": {
    "scrolled": true
   },
   "outputs": [
    {
     "data": {
      "image/png": "[encoded data removed]",
      "text/plain": [
       "<Figure size 1080x1800 with 10 Axes>"
      ]
     },
     "metadata": {
      "needs_background": "light"
     },
     "output_type": "display_data"
    }
   ],
   "source": [
    "def plot_categorical_features(df, categorical_cols, target_column):\n",
    "    palette = sns.color_palette('deep', len(categorical_cols))\n",
    "    color_dict = dict(zip(categorical_cols, palette))\n",
    "    cat_cols = len(categorical_cols)\n",
    "    fig, axes = plt.subplots(nrows=cat_cols, ncols=2, figsize=(15, 5*cat_cols)) \n",
    "\n",
    "    for i, col in enumerate(categorical_cols):\n",
    "        # Histogram\n",
    "        sns.countplot(data=df, x=col, ax=axes[i, 0], color=color_dict[col]) \n",
    "        axes[i, 0].set_title(f'Histogram {col}')\n",
    "        axes[i, 0].set_xlabel(col)\n",
    "        axes[i, 0].set_ylabel('Frequency')\n",
    "\n",
    "        # Boxplot\n",
    "        sns.boxplot(x=df[col], y=df[target_column], ax=axes[i, 1], color=color_dict[col])\n",
    "        axes[i, 1].set_title(f'Boxplot {col}')\n",
    "        axes[i, 1].set_ylabel(col)\n",
    "\n",
    "    plt.tight_layout() \n",
    "    plt.show()\n",
    "\n",
    "\n",
    "plot_categorical_features(train_data, categorical_features, target_column='job_satisfaction_rate')"
   ]
  },
  {
   "cell_type": "code",
   "execution_count": 15,
   "metadata": {},
   "outputs": [
    {
     "data": {
      "text/html": [
       "<div>\n",
       "<style scoped>\n",
       "    .dataframe tbody tr th:only-of-type {\n",
       "        vertical-align: middle;\n",
       "    }\n",
       "\n",
       "    .dataframe tbody tr th {\n",
       "        vertical-align: top;\n",
       "    }\n",
       "\n",
       "    .dataframe thead th {\n",
       "        text-align: right;\n",
       "    }\n",
       "</style>\n",
       "<table border=\"1\" class=\"dataframe\">\n",
       "  <thead>\n",
       "    <tr style=\"text-align: right;\">\n",
       "      <th></th>\n",
       "      <th>dept</th>\n",
       "      <th>job_satisfaction_rate</th>\n",
       "    </tr>\n",
       "  </thead>\n",
       "  <tbody>\n",
       "    <tr>\n",
       "      <th>2</th>\n",
       "      <td>purchasing</td>\n",
       "      <td>0.551967</td>\n",
       "    </tr>\n",
       "    <tr>\n",
       "      <th>0</th>\n",
       "      <td>hr</td>\n",
       "      <td>0.535680</td>\n",
       "    </tr>\n",
       "    <tr>\n",
       "      <th>3</th>\n",
       "      <td>sales</td>\n",
       "      <td>0.533757</td>\n",
       "    </tr>\n",
       "    <tr>\n",
       "      <th>4</th>\n",
       "      <td>technology</td>\n",
       "      <td>0.526467</td>\n",
       "    </tr>\n",
       "    <tr>\n",
       "      <th>1</th>\n",
       "      <td>marketing</td>\n",
       "      <td>0.524036</td>\n",
       "    </tr>\n",
       "  </tbody>\n",
       "</table>\n",
       "</div>"
      ],
      "text/plain": [
       "         dept  job_satisfaction_rate\n",
       "2  purchasing               0.551967\n",
       "0          hr               0.535680\n",
       "3       sales               0.533757\n",
       "4  technology               0.526467\n",
       "1   marketing               0.524036"
      ]
     },
     "execution_count": 15,
     "metadata": {},
     "output_type": "execute_result"
    }
   ],
   "source": [
    "train_data.groupby('dept')['job_satisfaction_rate'].mean().reset_index().sort_values(by='job_satisfaction_rate',\n",
    "                                                                                     ascending=False)"
   ]
  },
  {
   "cell_type": "code",
   "execution_count": 16,
   "metadata": {},
   "outputs": [
    {
     "data": {
      "text/plain": [
       "junior    0.473974\n",
       "middle    0.436436\n",
       "sinior    0.089590\n",
       "Name: level, dtype: float64"
      ]
     },
     "execution_count": 16,
     "metadata": {},
     "output_type": "execute_result"
    }
   ],
   "source": [
    "train_data['level'].value_counts(normalize=True)"
   ]
  },
  {
   "cell_type": "code",
   "execution_count": 17,
   "metadata": {},
   "outputs": [
    {
     "data": {
      "text/html": [
       "<div>\n",
       "<style scoped>\n",
       "    .dataframe tbody tr th:only-of-type {\n",
       "        vertical-align: middle;\n",
       "    }\n",
       "\n",
       "    .dataframe tbody tr th {\n",
       "        vertical-align: top;\n",
       "    }\n",
       "\n",
       "    .dataframe thead th {\n",
       "        text-align: right;\n",
       "    }\n",
       "</style>\n",
       "<table border=\"1\" class=\"dataframe\">\n",
       "  <thead>\n",
       "    <tr style=\"text-align: right;\">\n",
       "      <th></th>\n",
       "      <th>workload</th>\n",
       "      <th>job_satisfaction_rate</th>\n",
       "    </tr>\n",
       "  </thead>\n",
       "  <tbody>\n",
       "    <tr>\n",
       "      <th>0</th>\n",
       "      <td>high</td>\n",
       "      <td>0.546921</td>\n",
       "    </tr>\n",
       "    <tr>\n",
       "      <th>1</th>\n",
       "      <td>low</td>\n",
       "      <td>0.540592</td>\n",
       "    </tr>\n",
       "    <tr>\n",
       "      <th>2</th>\n",
       "      <td>medium</td>\n",
       "      <td>0.525571</td>\n",
       "    </tr>\n",
       "  </tbody>\n",
       "</table>\n",
       "</div>"
      ],
      "text/plain": [
       "  workload  job_satisfaction_rate\n",
       "0     high               0.546921\n",
       "1      low               0.540592\n",
       "2   medium               0.525571"
      ]
     },
     "execution_count": 17,
     "metadata": {},
     "output_type": "execute_result"
    }
   ],
   "source": [
    "train_data.groupby('workload')['job_satisfaction_rate'].mean().reset_index().sort_values(by='job_satisfaction_rate',\n",
    "                                                                                     ascending=False)"
   ]
  },
  {
   "cell_type": "code",
   "execution_count": 18,
   "metadata": {},
   "outputs": [
    {
     "data": {
      "text/html": [
       "<div>\n",
       "<style scoped>\n",
       "    .dataframe tbody tr th:only-of-type {\n",
       "        vertical-align: middle;\n",
       "    }\n",
       "\n",
       "    .dataframe tbody tr th {\n",
       "        vertical-align: top;\n",
       "    }\n",
       "\n",
       "    .dataframe thead th {\n",
       "        text-align: right;\n",
       "    }\n",
       "</style>\n",
       "<table border=\"1\" class=\"dataframe\">\n",
       "  <thead>\n",
       "    <tr style=\"text-align: right;\">\n",
       "      <th></th>\n",
       "      <th>last_year_promo</th>\n",
       "      <th>job_satisfaction_rate</th>\n",
       "    </tr>\n",
       "  </thead>\n",
       "  <tbody>\n",
       "    <tr>\n",
       "      <th>1</th>\n",
       "      <td>yes</td>\n",
       "      <td>0.673000</td>\n",
       "    </tr>\n",
       "    <tr>\n",
       "      <th>0</th>\n",
       "      <td>no</td>\n",
       "      <td>0.529696</td>\n",
       "    </tr>\n",
       "  </tbody>\n",
       "</table>\n",
       "</div>"
      ],
      "text/plain": [
       "  last_year_promo  job_satisfaction_rate\n",
       "1             yes               0.673000\n",
       "0              no               0.529696"
      ]
     },
     "execution_count": 18,
     "metadata": {},
     "output_type": "execute_result"
    }
   ],
   "source": [
    "train_data.groupby('last_year_promo')['job_satisfaction_rate'].mean().reset_index().sort_values(by='job_satisfaction_rate',\n",
    "                                                                                     ascending=False)"
   ]
  },
  {
   "cell_type": "code",
   "execution_count": 19,
   "metadata": {},
   "outputs": [
    {
     "data": {
      "text/html": [
       "<div>\n",
       "<style scoped>\n",
       "    .dataframe tbody tr th:only-of-type {\n",
       "        vertical-align: middle;\n",
       "    }\n",
       "\n",
       "    .dataframe tbody tr th {\n",
       "        vertical-align: top;\n",
       "    }\n",
       "\n",
       "    .dataframe thead th {\n",
       "        text-align: right;\n",
       "    }\n",
       "</style>\n",
       "<table border=\"1\" class=\"dataframe\">\n",
       "  <thead>\n",
       "    <tr style=\"text-align: right;\">\n",
       "      <th></th>\n",
       "      <th>last_year_violations</th>\n",
       "      <th>job_satisfaction_rate</th>\n",
       "    </tr>\n",
       "  </thead>\n",
       "  <tbody>\n",
       "    <tr>\n",
       "      <th>0</th>\n",
       "      <td>no</td>\n",
       "      <td>0.568759</td>\n",
       "    </tr>\n",
       "    <tr>\n",
       "      <th>1</th>\n",
       "      <td>yes</td>\n",
       "      <td>0.320000</td>\n",
       "    </tr>\n",
       "  </tbody>\n",
       "</table>\n",
       "</div>"
      ],
      "text/plain": [
       "  last_year_violations  job_satisfaction_rate\n",
       "0                   no               0.568759\n",
       "1                  yes               0.320000"
      ]
     },
     "execution_count": 19,
     "metadata": {},
     "output_type": "execute_result"
    }
   ],
   "source": [
    "train_data.groupby('last_year_violations')['job_satisfaction_rate'].mean().reset_index().sort_values(by='job_satisfaction_rate',\n",
    "                                                                                     ascending=False)"
   ]
  },
  {
   "cell_type": "markdown",
   "metadata": {},
   "source": [
    "- Самый высокий уровень удовлетворенности работой у сотрудника в отделе \"purchasing\t\"\n",
    "- Сотрудники уровня senior составляют всего 8% от общего количества сотрудников в компании, когда сотрудники уровней junior и middle составляют 47,3% и 43,6% соответственно\n",
    "- Сотрудники с высокой загруженностью имеют более высокий уровень удовлетворенности работой\n",
    "- Сотрудники, получившие повышение за последний год, имеют более высокий уровень удовлетворенности работой, чем сотрудники, не получившие повышение\n",
    "- Сотрудники, нарушавший трудовой договор за последний год, имеют более высокий уровень удовлетворенности работой"
   ]
  },
  {
   "cell_type": "markdown",
   "metadata": {},
   "source": [
    "**Мини-вывод:**\n",
    "\n",
    "- Построили столбчатые диаграммы для дискретных признаков\n",
    "- Построили гистограмму и \"ящик с усами\" для непрерывных признаков\n",
    "- Построили столбчатую диаграмму и \"ящик с усами\" с учетом целевого признака для категориальных признаков"
   ]
  },
  {
   "cell_type": "markdown",
   "metadata": {},
   "source": [
    "<a class=\"anchor\" id=\"chapter10\"></a>\n",
    "#### Матрица корреляций количественных признаков"
   ]
  },
  {
   "cell_type": "code",
   "execution_count": 20,
   "metadata": {},
   "outputs": [
    {
     "data": {
      "image/png": "[encoded data removed]",
      "text/plain": [
       "<Figure size 648x432 with 2 Axes>"
      ]
     },
     "metadata": {
      "needs_background": "light"
     },
     "output_type": "display_data"
    }
   ],
   "source": [
    "plt.figure(figsize = (9, 6))\n",
    "sns.heatmap(train_data[[col for col in train_data.select_dtypes(include=['number']).columns if col != 'id']]\n",
    "            .corr(method='spearman'), annot=True, fmt='.2f', cmap='coolwarm')\n",
    "plt.show()"
   ]
  },
  {
   "cell_type": "markdown",
   "metadata": {},
   "source": [
    "- Наблюдается умеренная линейная связь между признаками `employment_years` и `salary`, коэффициент Пирсона равен 0,47. Очевидно, что чем больше стаж у сотрудника, тем выше его заработная плата. \n",
    "\n",
    "- Есть высокая связь между признаками `job_satisfaction_rate` и `supervisor_evaluation` (0.75). Чем выше уровень удовлетворенности сотрудника, тем выше оценка его работы руководителем.  "
   ]
  },
  {
   "cell_type": "markdown",
   "metadata": {},
   "source": [
    "- Проиндексируем столбец `id`\n",
    "- Разделим данные на входные и целевые признаки в тренировочном и тестовом датасетах\n",
    "- Удалим новые дубликаты"
   ]
  },
  {
   "cell_type": "code",
   "execution_count": 21,
   "metadata": {},
   "outputs": [
    {
     "data": {
      "text/html": [
       "<div>\n",
       "<style scoped>\n",
       "    .dataframe tbody tr th:only-of-type {\n",
       "        vertical-align: middle;\n",
       "    }\n",
       "\n",
       "    .dataframe tbody tr th {\n",
       "        vertical-align: top;\n",
       "    }\n",
       "\n",
       "    .dataframe thead th {\n",
       "        text-align: right;\n",
       "    }\n",
       "</style>\n",
       "<table border=\"1\" class=\"dataframe\">\n",
       "  <thead>\n",
       "    <tr style=\"text-align: right;\">\n",
       "      <th></th>\n",
       "      <th>dept</th>\n",
       "      <th>level</th>\n",
       "      <th>workload</th>\n",
       "      <th>employment_years</th>\n",
       "      <th>last_year_promo</th>\n",
       "      <th>last_year_violations</th>\n",
       "      <th>supervisor_evaluation</th>\n",
       "      <th>salary</th>\n",
       "      <th>job_satisfaction_rate</th>\n",
       "    </tr>\n",
       "    <tr>\n",
       "      <th>id</th>\n",
       "      <th></th>\n",
       "      <th></th>\n",
       "      <th></th>\n",
       "      <th></th>\n",
       "      <th></th>\n",
       "      <th></th>\n",
       "      <th></th>\n",
       "      <th></th>\n",
       "      <th></th>\n",
       "    </tr>\n",
       "  </thead>\n",
       "  <tbody>\n",
       "    <tr>\n",
       "      <th>155278</th>\n",
       "      <td>sales</td>\n",
       "      <td>junior</td>\n",
       "      <td>medium</td>\n",
       "      <td>2</td>\n",
       "      <td>no</td>\n",
       "      <td>no</td>\n",
       "      <td>1</td>\n",
       "      <td>24000</td>\n",
       "      <td>0.58</td>\n",
       "    </tr>\n",
       "    <tr>\n",
       "      <th>653870</th>\n",
       "      <td>hr</td>\n",
       "      <td>junior</td>\n",
       "      <td>high</td>\n",
       "      <td>2</td>\n",
       "      <td>no</td>\n",
       "      <td>no</td>\n",
       "      <td>5</td>\n",
       "      <td>38400</td>\n",
       "      <td>0.76</td>\n",
       "    </tr>\n",
       "    <tr>\n",
       "      <th>184592</th>\n",
       "      <td>sales</td>\n",
       "      <td>junior</td>\n",
       "      <td>low</td>\n",
       "      <td>1</td>\n",
       "      <td>no</td>\n",
       "      <td>no</td>\n",
       "      <td>2</td>\n",
       "      <td>12000</td>\n",
       "      <td>0.11</td>\n",
       "    </tr>\n",
       "    <tr>\n",
       "      <th>171431</th>\n",
       "      <td>technology</td>\n",
       "      <td>junior</td>\n",
       "      <td>low</td>\n",
       "      <td>4</td>\n",
       "      <td>no</td>\n",
       "      <td>no</td>\n",
       "      <td>2</td>\n",
       "      <td>18000</td>\n",
       "      <td>0.37</td>\n",
       "    </tr>\n",
       "    <tr>\n",
       "      <th>693419</th>\n",
       "      <td>hr</td>\n",
       "      <td>junior</td>\n",
       "      <td>medium</td>\n",
       "      <td>1</td>\n",
       "      <td>no</td>\n",
       "      <td>no</td>\n",
       "      <td>3</td>\n",
       "      <td>22800</td>\n",
       "      <td>0.20</td>\n",
       "    </tr>\n",
       "  </tbody>\n",
       "</table>\n",
       "</div>"
      ],
      "text/plain": [
       "              dept   level workload  employment_years last_year_promo  \\\n",
       "id                                                                      \n",
       "155278       sales  junior   medium                 2              no   \n",
       "653870          hr  junior     high                 2              no   \n",
       "184592       sales  junior      low                 1              no   \n",
       "171431  technology  junior      low                 4              no   \n",
       "693419          hr  junior   medium                 1              no   \n",
       "\n",
       "       last_year_violations  supervisor_evaluation  salary  \\\n",
       "id                                                           \n",
       "155278                   no                      1   24000   \n",
       "653870                   no                      5   38400   \n",
       "184592                   no                      2   12000   \n",
       "171431                   no                      2   18000   \n",
       "693419                   no                      3   22800   \n",
       "\n",
       "        job_satisfaction_rate  \n",
       "id                             \n",
       "155278                   0.58  \n",
       "653870                   0.76  \n",
       "184592                   0.11  \n",
       "171431                   0.37  \n",
       "693419                   0.20  "
      ]
     },
     "execution_count": 21,
     "metadata": {},
     "output_type": "execute_result"
    }
   ],
   "source": [
    "train_data_indexed = train_data.set_index('id')\n",
    "train_data_indexed.head()"
   ]
  },
  {
   "cell_type": "code",
   "execution_count": 22,
   "metadata": {},
   "outputs": [
    {
     "name": "stdout",
     "output_type": "stream",
     "text": [
      "Было: 245\n",
      "Стало: 0\n"
     ]
    }
   ],
   "source": [
    "print(f'Было: {train_data_indexed.duplicated().sum()}')\n",
    "train_data_indexed.drop_duplicates(inplace=True)\n",
    "print(f'Стало: {train_data_indexed.duplicated().sum()}')"
   ]
  },
  {
   "cell_type": "code",
   "execution_count": 23,
   "metadata": {},
   "outputs": [],
   "source": [
    "X_train = train_data_indexed.drop(columns=['job_satisfaction_rate'])\n",
    "y_train = train_data_indexed['job_satisfaction_rate']"
   ]
  },
  {
   "cell_type": "code",
   "execution_count": 24,
   "metadata": {},
   "outputs": [],
   "source": [
    "duplicates = X_train[X_train.duplicated(keep=False)]\n",
    "\n",
    "duplicate_indices = duplicates.index"
   ]
  },
  {
   "cell_type": "code",
   "execution_count": 25,
   "metadata": {},
   "outputs": [
    {
     "name": "stdout",
     "output_type": "stream",
     "text": [
      "Размер X_train (1884, 8)\n",
      "Размер y_train (1884,)\n"
     ]
    }
   ],
   "source": [
    "X_train = X_train.drop(duplicate_indices)\n",
    "y_train = y_train.drop(duplicate_indices)\n",
    "\n",
    "print(f'Размер X_train {X_train.shape}')\n",
    "print(f'Размер y_train {y_train.shape}')"
   ]
  },
  {
   "cell_type": "code",
   "execution_count": 26,
   "metadata": {},
   "outputs": [],
   "source": [
    "X_test = test_data.drop(columns='job_satisfaction_rate')\n",
    "y_test = test_data['job_satisfaction_rate']"
   ]
  },
  {
   "cell_type": "markdown",
   "metadata": {},
   "source": [
    "<a class=\"anchor\" id=\"chapter11\"></a>\n",
    "### Пайплайн для подготовки данных"
   ]
  },
  {
   "cell_type": "markdown",
   "metadata": {},
   "source": [
    "Сохраним в отдельные переменные категориальные, ранговые и количественные признаки"
   ]
  },
  {
   "cell_type": "code",
   "execution_count": 27,
   "metadata": {},
   "outputs": [],
   "source": [
    "num_col_names = ['employment_years', 'supervisor_evaluation', 'salary']\n",
    "\n",
    "cat_col_names = ['dept', 'last_year_promo', 'last_year_violations']\n",
    "\n",
    "ord_col_names = ['level', 'workload']"
   ]
  },
  {
   "cell_type": "code",
   "execution_count": 28,
   "metadata": {},
   "outputs": [],
   "source": [
    "RANDOM_STATE = 42\n",
    "\n",
    "ohe_pipe = Pipeline(\n",
    "    [\n",
    "        (\n",
    "            'simpleImputer_ohe', \n",
    "            SimpleImputer(missing_values=np.nan, strategy='most_frequent')\n",
    "        ),\n",
    "        (\n",
    "            'ohe', \n",
    "            OneHotEncoder(drop='first', handle_unknown='ignore', sparse_output=False)\n",
    "        )\n",
    "    ]\n",
    ")\n",
    "\n",
    "\n",
    "ord_pipe = Pipeline(\n",
    "    [\n",
    "        (\n",
    "            'simpleImputer_before_ord', \n",
    "            SimpleImputer(missing_values=np.nan, strategy='most_frequent')\n",
    "        ),\n",
    "        (\n",
    "            'ord',\n",
    "            OrdinalEncoder(\n",
    "                categories=[\n",
    "                    ['junior' 'middle' 'sinior'],\n",
    "                    ['low', 'medium', 'high']\n",
    "                ], \n",
    "                handle_unknown='use_encoded_value',\n",
    "                unknown_value=np.nan\n",
    "            )\n",
    "        ),\n",
    "        (\n",
    "            'simpleImputer_after_ord', \n",
    "            SimpleImputer(missing_values=np.nan, strategy='most_frequent')\n",
    "        )\n",
    "    ]\n",
    ")\n",
    "\n",
    "data_preprocessor = ColumnTransformer(\n",
    "    [\n",
    "        ('ohe', ohe_pipe, cat_col_names),\n",
    "        ('ord', ord_pipe, ord_col_names),\n",
    "        ('num', StandardScaler(), num_col_names)\n",
    "    ], \n",
    "    remainder='passthrough'\n",
    ") "
   ]
  },
  {
   "cell_type": "markdown",
   "metadata": {},
   "source": [
    "<a class=\"anchor\" id=\"chapter12\"></a>\n",
    "### Функция метрики SMAPE"
   ]
  },
  {
   "cell_type": "code",
   "execution_count": 29,
   "metadata": {},
   "outputs": [],
   "source": [
    "def smape(y_true, y_pred):\n",
    "    smap = np.zeros(len(y_true))\n",
    "    \n",
    "    num = np.abs(y_true - y_pred)\n",
    "    dem = ((np.abs(y_true) + np.abs(y_pred)) / 2)\n",
    "    \n",
    "    pos_ind = dem != 0\n",
    "    smap[pos_ind] = num[pos_ind] / dem[pos_ind]\n",
    "    \n",
    "    return 100 * np.mean(smap)"
   ]
  },
  {
   "cell_type": "markdown",
   "metadata": {},
   "source": [
    "<a class=\"anchor\" id=\"chapter13\"></a>\n",
    "### Обучение моделей"
   ]
  },
  {
   "cell_type": "markdown",
   "metadata": {},
   "source": [
    "<a class=\"anchor\" id=\"chapter14\"></a>\n",
    "#### Подбор параметров с RandomizedSearchCV"
   ]
  },
  {
   "cell_type": "markdown",
   "metadata": {},
   "source": [
    "Возьмем две модели DecisionTreeRegressor() и LinearRegression() и с помощью RandomizedSearchCV автоматически подберем гиперпараметры и найдем лучшую модель"
   ]
  },
  {
   "cell_type": "code",
   "execution_count": 30,
   "metadata": {},
   "outputs": [
    {
     "data": {
      "text/html": [
       "<style>#sk-container-id-1 {\n",
       "  /* Definition of color scheme common for light and dark mode */\n",
       "  --sklearn-color-text: #000;\n",
       "  --sklearn-color-text-muted: #666;\n",
       "  --sklearn-color-line: gray;\n",
       "  /* Definition of color scheme for unfitted estimators */\n",
       "  --sklearn-color-unfitted-level-0: #fff5e6;\n",
       "  --sklearn-color-unfitted-level-1: #f6e4d2;\n",
       "  --sklearn-color-unfitted-level-2: #ffe0b3;\n",
       "  --sklearn-color-unfitted-level-3: chocolate;\n",
       "  /* Definition of color scheme for fitted estimators */\n",
       "  --sklearn-color-fitted-level-0: #f0f8ff;\n",
       "  --sklearn-color-fitted-level-1: #d4ebff;\n",
       "  --sklearn-color-fitted-level-2: #b3dbfd;\n",
       "  --sklearn-color-fitted-level-3: cornflowerblue;\n",
       "\n",
       "  /* Specific color for light theme */\n",
       "  --sklearn-color-text-on-default-background: var(--sg-text-color, var(--theme-code-foreground, var(--jp-content-font-color1, black)));\n",
       "  --sklearn-color-background: var(--sg-background-color, var(--theme-background, var(--jp-layout-color0, white)));\n",
       "  --sklearn-color-border-box: var(--sg-text-color, var(--theme-code-foreground, var(--jp-content-font-color1, black)));\n",
       "  --sklearn-color-icon: #696969;\n",
       "\n",
       "  @media (prefers-color-scheme: dark) {\n",
       "    /* Redefinition of color scheme for dark theme */\n",
       "    --sklearn-color-text-on-default-background: var(--sg-text-color, var(--theme-code-foreground, var(--jp-content-font-color1, white)));\n",
       "    --sklearn-color-background: var(--sg-background-color, var(--theme-background, var(--jp-layout-color0, #111)));\n",
       "    --sklearn-color-border-box: var(--sg-text-color, var(--theme-code-foreground, var(--jp-content-font-color1, white)));\n",
       "    --sklearn-color-icon: #878787;\n",
       "  }\n",
       "}\n",
       "\n",
       "#sk-container-id-1 {\n",
       "  color: var(--sklearn-color-text);\n",
       "}\n",
       "\n",
       "#sk-container-id-1 pre {\n",
       "  padding: 0;\n",
       "}\n",
       "\n",
       "#sk-container-id-1 input.sk-hidden--visually {\n",
       "  border: 0;\n",
       "  clip: rect(1px 1px 1px 1px);\n",
       "  clip: rect(1px, 1px, 1px, 1px);\n",
       "  height: 1px;\n",
       "  margin: -1px;\n",
       "  overflow: hidden;\n",
       "  padding: 0;\n",
       "  position: absolute;\n",
       "  width: 1px;\n",
       "}\n",
       "\n",
       "#sk-container-id-1 div.sk-dashed-wrapped {\n",
       "  border: 1px dashed var(--sklearn-color-line);\n",
       "  margin: 0 0.4em 0.5em 0.4em;\n",
       "  box-sizing: border-box;\n",
       "  padding-bottom: 0.4em;\n",
       "  background-color: var(--sklearn-color-background);\n",
       "}\n",
       "\n",
       "#sk-container-id-1 div.sk-container {\n",
       "  /* jupyter's `normalize.less` sets `[hidden] { display: none; }`\n",
       "     but bootstrap.min.css set `[hidden] { display: none !important; }`\n",
       "     so we also need the `!important` here to be able to override the\n",
       "     default hidden behavior on the sphinx rendered scikit-learn.org.\n",
       "     See: https://github.com/scikit-learn/scikit-learn/issues/21755 */\n",
       "  display: inline-block !important;\n",
       "  position: relative;\n",
       "}\n",
       "\n",
       "#sk-container-id-1 div.sk-text-repr-fallback {\n",
       "  display: none;\n",
       "}\n",
       "\n",
       "div.sk-parallel-item,\n",
       "div.sk-serial,\n",
       "div.sk-item {\n",
       "  /* draw centered vertical line to link estimators */\n",
       "  background-image: linear-gradient(var(--sklearn-color-text-on-default-background), var(--sklearn-color-text-on-default-background));\n",
       "  background-size: 2px 100%;\n",
       "  background-repeat: no-repeat;\n",
       "  background-position: center center;\n",
       "}\n",
       "\n",
       "/* Parallel-specific style estimator block */\n",
       "\n",
       "#sk-container-id-1 div.sk-parallel-item::after {\n",
       "  content: \"\";\n",
       "  width: 100%;\n",
       "  border-bottom: 2px solid var(--sklearn-color-text-on-default-background);\n",
       "  flex-grow: 1;\n",
       "}\n",
       "\n",
       "#sk-container-id-1 div.sk-parallel {\n",
       "  display: flex;\n",
       "  align-items: stretch;\n",
       "  justify-content: center;\n",
       "  background-color: var(--sklearn-color-background);\n",
       "  position: relative;\n",
       "}\n",
       "\n",
       "#sk-container-id-1 div.sk-parallel-item {\n",
       "  display: flex;\n",
       "  flex-direction: column;\n",
       "}\n",
       "\n",
       "#sk-container-id-1 div.sk-parallel-item:first-child::after {\n",
       "  align-self: flex-end;\n",
       "  width: 50%;\n",
       "}\n",
       "\n",
       "#sk-container-id-1 div.sk-parallel-item:last-child::after {\n",
       "  align-self: flex-start;\n",
       "  width: 50%;\n",
       "}\n",
       "\n",
       "#sk-container-id-1 div.sk-parallel-item:only-child::after {\n",
       "  width: 0;\n",
       "}\n",
       "\n",
       "/* Serial-specific style estimator block */\n",
       "\n",
       "#sk-container-id-1 div.sk-serial {\n",
       "  display: flex;\n",
       "  flex-direction: column;\n",
       "  align-items: center;\n",
       "  background-color: var(--sklearn-color-background);\n",
       "  padding-right: 1em;\n",
       "  padding-left: 1em;\n",
       "}\n",
       "\n",
       "\n",
       "/* Toggleable style: style used for estimator/Pipeline/ColumnTransformer box that is\n",
       "clickable and can be expanded/collapsed.\n",
       "- Pipeline and ColumnTransformer use this feature and define the default style\n",
       "- Estimators will overwrite some part of the style using the `sk-estimator` class\n",
       "*/\n",
       "\n",
       "/* Pipeline and ColumnTransformer style (default) */\n",
       "\n",
       "#sk-container-id-1 div.sk-toggleable {\n",
       "  /* Default theme specific background. It is overwritten whether we have a\n",
       "  specific estimator or a Pipeline/ColumnTransformer */\n",
       "  background-color: var(--sklearn-color-background);\n",
       "}\n",
       "\n",
       "/* Toggleable label */\n",
       "#sk-container-id-1 label.sk-toggleable__label {\n",
       "  cursor: pointer;\n",
       "  display: flex;\n",
       "  width: 100%;\n",
       "  margin-bottom: 0;\n",
       "  padding: 0.5em;\n",
       "  box-sizing: border-box;\n",
       "  text-align: center;\n",
       "  align-items: start;\n",
       "  justify-content: space-between;\n",
       "  gap: 0.5em;\n",
       "}\n",
       "\n",
       "#sk-container-id-1 label.sk-toggleable__label .caption {\n",
       "  font-size: 0.6rem;\n",
       "  font-weight: lighter;\n",
       "  color: var(--sklearn-color-text-muted);\n",
       "}\n",
       "\n",
       "#sk-container-id-1 label.sk-toggleable__label-arrow:before {\n",
       "  /* Arrow on the left of the label */\n",
       "  content: \"▸\";\n",
       "  float: left;\n",
       "  margin-right: 0.25em;\n",
       "  color: var(--sklearn-color-icon);\n",
       "}\n",
       "\n",
       "#sk-container-id-1 label.sk-toggleable__label-arrow:hover:before {\n",
       "  color: var(--sklearn-color-text);\n",
       "}\n",
       "\n",
       "/* Toggleable content - dropdown */\n",
       "\n",
       "#sk-container-id-1 div.sk-toggleable__content {\n",
       "  max-height: 0;\n",
       "  max-width: 0;\n",
       "  overflow: hidden;\n",
       "  text-align: left;\n",
       "  /* unfitted */\n",
       "  background-color: var(--sklearn-color-unfitted-level-0);\n",
       "}\n",
       "\n",
       "#sk-container-id-1 div.sk-toggleable__content.fitted {\n",
       "  /* fitted */\n",
       "  background-color: var(--sklearn-color-fitted-level-0);\n",
       "}\n",
       "\n",
       "#sk-container-id-1 div.sk-toggleable__content pre {\n",
       "  margin: 0.2em;\n",
       "  border-radius: 0.25em;\n",
       "  color: var(--sklearn-color-text);\n",
       "  /* unfitted */\n",
       "  background-color: var(--sklearn-color-unfitted-level-0);\n",
       "}\n",
       "\n",
       "#sk-container-id-1 div.sk-toggleable__content.fitted pre {\n",
       "  /* unfitted */\n",
       "  background-color: var(--sklearn-color-fitted-level-0);\n",
       "}\n",
       "\n",
       "#sk-container-id-1 input.sk-toggleable__control:checked~div.sk-toggleable__content {\n",
       "  /* Expand drop-down */\n",
       "  max-height: 200px;\n",
       "  max-width: 100%;\n",
       "  overflow: auto;\n",
       "}\n",
       "\n",
       "#sk-container-id-1 input.sk-toggleable__control:checked~label.sk-toggleable__label-arrow:before {\n",
       "  content: \"▾\";\n",
       "}\n",
       "\n",
       "/* Pipeline/ColumnTransformer-specific style */\n",
       "\n",
       "#sk-container-id-1 div.sk-label input.sk-toggleable__control:checked~label.sk-toggleable__label {\n",
       "  color: var(--sklearn-color-text);\n",
       "  background-color: var(--sklearn-color-unfitted-level-2);\n",
       "}\n",
       "\n",
       "#sk-container-id-1 div.sk-label.fitted input.sk-toggleable__control:checked~label.sk-toggleable__label {\n",
       "  background-color: var(--sklearn-color-fitted-level-2);\n",
       "}\n",
       "\n",
       "/* Estimator-specific style */\n",
       "\n",
       "/* Colorize estimator box */\n",
       "#sk-container-id-1 div.sk-estimator input.sk-toggleable__control:checked~label.sk-toggleable__label {\n",
       "  /* unfitted */\n",
       "  background-color: var(--sklearn-color-unfitted-level-2);\n",
       "}\n",
       "\n",
       "#sk-container-id-1 div.sk-estimator.fitted input.sk-toggleable__control:checked~label.sk-toggleable__label {\n",
       "  /* fitted */\n",
       "  background-color: var(--sklearn-color-fitted-level-2);\n",
       "}\n",
       "\n",
       "#sk-container-id-1 div.sk-label label.sk-toggleable__label,\n",
       "#sk-container-id-1 div.sk-label label {\n",
       "  /* The background is the default theme color */\n",
       "  color: var(--sklearn-color-text-on-default-background);\n",
       "}\n",
       "\n",
       "/* On hover, darken the color of the background */\n",
       "#sk-container-id-1 div.sk-label:hover label.sk-toggleable__label {\n",
       "  color: var(--sklearn-color-text);\n",
       "  background-color: var(--sklearn-color-unfitted-level-2);\n",
       "}\n",
       "\n",
       "/* Label box, darken color on hover, fitted */\n",
       "#sk-container-id-1 div.sk-label.fitted:hover label.sk-toggleable__label.fitted {\n",
       "  color: var(--sklearn-color-text);\n",
       "  background-color: var(--sklearn-color-fitted-level-2);\n",
       "}\n",
       "\n",
       "/* Estimator label */\n",
       "\n",
       "#sk-container-id-1 div.sk-label label {\n",
       "  font-family: monospace;\n",
       "  font-weight: bold;\n",
       "  display: inline-block;\n",
       "  line-height: 1.2em;\n",
       "}\n",
       "\n",
       "#sk-container-id-1 div.sk-label-container {\n",
       "  text-align: center;\n",
       "}\n",
       "\n",
       "/* Estimator-specific */\n",
       "#sk-container-id-1 div.sk-estimator {\n",
       "  font-family: monospace;\n",
       "  border: 1px dotted var(--sklearn-color-border-box);\n",
       "  border-radius: 0.25em;\n",
       "  box-sizing: border-box;\n",
       "  margin-bottom: 0.5em;\n",
       "  /* unfitted */\n",
       "  background-color: var(--sklearn-color-unfitted-level-0);\n",
       "}\n",
       "\n",
       "#sk-container-id-1 div.sk-estimator.fitted {\n",
       "  /* fitted */\n",
       "  background-color: var(--sklearn-color-fitted-level-0);\n",
       "}\n",
       "\n",
       "/* on hover */\n",
       "#sk-container-id-1 div.sk-estimator:hover {\n",
       "  /* unfitted */\n",
       "  background-color: var(--sklearn-color-unfitted-level-2);\n",
       "}\n",
       "\n",
       "#sk-container-id-1 div.sk-estimator.fitted:hover {\n",
       "  /* fitted */\n",
       "  background-color: var(--sklearn-color-fitted-level-2);\n",
       "}\n",
       "\n",
       "/* Specification for estimator info (e.g. \"i\" and \"?\") */\n",
       "\n",
       "/* Common style for \"i\" and \"?\" */\n",
       "\n",
       ".sk-estimator-doc-link,\n",
       "a:link.sk-estimator-doc-link,\n",
       "a:visited.sk-estimator-doc-link {\n",
       "  float: right;\n",
       "  font-size: smaller;\n",
       "  line-height: 1em;\n",
       "  font-family: monospace;\n",
       "  background-color: var(--sklearn-color-background);\n",
       "  border-radius: 1em;\n",
       "  height: 1em;\n",
       "  width: 1em;\n",
       "  text-decoration: none !important;\n",
       "  margin-left: 0.5em;\n",
       "  text-align: center;\n",
       "  /* unfitted */\n",
       "  border: var(--sklearn-color-unfitted-level-1) 1pt solid;\n",
       "  color: var(--sklearn-color-unfitted-level-1);\n",
       "}\n",
       "\n",
       ".sk-estimator-doc-link.fitted,\n",
       "a:link.sk-estimator-doc-link.fitted,\n",
       "a:visited.sk-estimator-doc-link.fitted {\n",
       "  /* fitted */\n",
       "  border: var(--sklearn-color-fitted-level-1) 1pt solid;\n",
       "  color: var(--sklearn-color-fitted-level-1);\n",
       "}\n",
       "\n",
       "/* On hover */\n",
       "div.sk-estimator:hover .sk-estimator-doc-link:hover,\n",
       ".sk-estimator-doc-link:hover,\n",
       "div.sk-label-container:hover .sk-estimator-doc-link:hover,\n",
       ".sk-estimator-doc-link:hover {\n",
       "  /* unfitted */\n",
       "  background-color: var(--sklearn-color-unfitted-level-3);\n",
       "  color: var(--sklearn-color-background);\n",
       "  text-decoration: none;\n",
       "}\n",
       "\n",
       "div.sk-estimator.fitted:hover .sk-estimator-doc-link.fitted:hover,\n",
       ".sk-estimator-doc-link.fitted:hover,\n",
       "div.sk-label-container:hover .sk-estimator-doc-link.fitted:hover,\n",
       ".sk-estimator-doc-link.fitted:hover {\n",
       "  /* fitted */\n",
       "  background-color: var(--sklearn-color-fitted-level-3);\n",
       "  color: var(--sklearn-color-background);\n",
       "  text-decoration: none;\n",
       "}\n",
       "\n",
       "/* Span, style for the box shown on hovering the info icon */\n",
       ".sk-estimator-doc-link span {\n",
       "  display: none;\n",
       "  z-index: 9999;\n",
       "  position: relative;\n",
       "  font-weight: normal;\n",
       "  right: .2ex;\n",
       "  padding: .5ex;\n",
       "  margin: .5ex;\n",
       "  width: min-content;\n",
       "  min-width: 20ex;\n",
       "  max-width: 50ex;\n",
       "  color: var(--sklearn-color-text);\n",
       "  box-shadow: 2pt 2pt 4pt #999;\n",
       "  /* unfitted */\n",
       "  background: var(--sklearn-color-unfitted-level-0);\n",
       "  border: .5pt solid var(--sklearn-color-unfitted-level-3);\n",
       "}\n",
       "\n",
       ".sk-estimator-doc-link.fitted span {\n",
       "  /* fitted */\n",
       "  background: var(--sklearn-color-fitted-level-0);\n",
       "  border: var(--sklearn-color-fitted-level-3);\n",
       "}\n",
       "\n",
       ".sk-estimator-doc-link:hover span {\n",
       "  display: block;\n",
       "}\n",
       "\n",
       "/* \"?\"-specific style due to the `<a>` HTML tag */\n",
       "\n",
       "#sk-container-id-1 a.estimator_doc_link {\n",
       "  float: right;\n",
       "  font-size: 1rem;\n",
       "  line-height: 1em;\n",
       "  font-family: monospace;\n",
       "  background-color: var(--sklearn-color-background);\n",
       "  border-radius: 1rem;\n",
       "  height: 1rem;\n",
       "  width: 1rem;\n",
       "  text-decoration: none;\n",
       "  /* unfitted */\n",
       "  color: var(--sklearn-color-unfitted-level-1);\n",
       "  border: var(--sklearn-color-unfitted-level-1) 1pt solid;\n",
       "}\n",
       "\n",
       "#sk-container-id-1 a.estimator_doc_link.fitted {\n",
       "  /* fitted */\n",
       "  border: var(--sklearn-color-fitted-level-1) 1pt solid;\n",
       "  color: var(--sklearn-color-fitted-level-1);\n",
       "}\n",
       "\n",
       "/* On hover */\n",
       "#sk-container-id-1 a.estimator_doc_link:hover {\n",
       "  /* unfitted */\n",
       "  background-color: var(--sklearn-color-unfitted-level-3);\n",
       "  color: var(--sklearn-color-background);\n",
       "  text-decoration: none;\n",
       "}\n",
       "\n",
       "#sk-container-id-1 a.estimator_doc_link.fitted:hover {\n",
       "  /* fitted */\n",
       "  background-color: var(--sklearn-color-fitted-level-3);\n",
       "}\n",
       "</style><div id=\"sk-container-id-1\" class=\"sk-top-container\"><div class=\"sk-text-repr-fallback\"><pre>RandomizedSearchCV(cv=5,\n",
       "                   estimator=Pipeline(steps=[(&#x27;preprocessor&#x27;,\n",
       "                                              ColumnTransformer(remainder=&#x27;passthrough&#x27;,\n",
       "                                                                transformers=[(&#x27;ohe&#x27;,\n",
       "                                                                               Pipeline(steps=[(&#x27;simpleImputer_ohe&#x27;,\n",
       "                                                                                                SimpleImputer(strategy=&#x27;most_frequent&#x27;)),\n",
       "                                                                                               (&#x27;ohe&#x27;,\n",
       "                                                                                                OneHotEncoder(drop=&#x27;first&#x27;,\n",
       "                                                                                                              handle_unknown=&#x27;ignore&#x27;,\n",
       "                                                                                                              sparse_output=False))]),\n",
       "                                                                               [&#x27;dept&#x27;,\n",
       "                                                                                &#x27;last_year_promo&#x27;,\n",
       "                                                                                &#x27;last_year_violations&#x27;]),\n",
       "                                                                              (&#x27;ord&#x27;,\n",
       "                                                                               Pip...\n",
       "                                         &#x27;preprocessor__num&#x27;: [StandardScaler(),\n",
       "                                                               MinMaxScaler(),\n",
       "                                                               &#x27;passthrough&#x27;]},\n",
       "                                        {&#x27;models&#x27;: [LinearRegression()],\n",
       "                                         &#x27;models__copy_X&#x27;: [True, False],\n",
       "                                         &#x27;models__fit_intercept&#x27;: [True, False],\n",
       "                                         &#x27;models__n_jobs&#x27;: [1, 5, 10, 15, None],\n",
       "                                         &#x27;models__positive&#x27;: [True, False],\n",
       "                                         &#x27;preprocessor__num&#x27;: [StandardScaler(),\n",
       "                                                               MinMaxScaler(),\n",
       "                                                               &#x27;passthrough&#x27;]}],\n",
       "                   random_state=42, scoring=&#x27;neg_mean_squared_error&#x27;)</pre><b>In a Jupyter environment, please rerun this cell to show the HTML representation or trust the notebook. <br />On GitHub, the HTML representation is unable to render, please try loading this page with nbviewer.org.</b></div><div class=\"sk-container\" hidden><div class=\"sk-item sk-dashed-wrapped\"><div class=\"sk-label-container\"><div class=\"sk-label fitted sk-toggleable\"><input class=\"sk-toggleable__control sk-hidden--visually\" id=\"sk-estimator-id-1\" type=\"checkbox\" ><label for=\"sk-estimator-id-1\" class=\"sk-toggleable__label fitted sk-toggleable__label-arrow\"><div><div>RandomizedSearchCV</div></div><div><a class=\"sk-estimator-doc-link fitted\" rel=\"noreferrer\" target=\"_blank\" href=\"https://scikit-learn.org/1.6/modules/generated/sklearn.model_selection.RandomizedSearchCV.html\">?<span>Documentation for RandomizedSearchCV</span></a><span class=\"sk-estimator-doc-link fitted\">i<span>Fitted</span></span></div></label><div class=\"sk-toggleable__content fitted\"><pre>RandomizedSearchCV(cv=5,\n",
       "                   estimator=Pipeline(steps=[(&#x27;preprocessor&#x27;,\n",
       "                                              ColumnTransformer(remainder=&#x27;passthrough&#x27;,\n",
       "                                                                transformers=[(&#x27;ohe&#x27;,\n",
       "                                                                               Pipeline(steps=[(&#x27;simpleImputer_ohe&#x27;,\n",
       "                                                                                                SimpleImputer(strategy=&#x27;most_frequent&#x27;)),\n",
       "                                                                                               (&#x27;ohe&#x27;,\n",
       "                                                                                                OneHotEncoder(drop=&#x27;first&#x27;,\n",
       "                                                                                                              handle_unknown=&#x27;ignore&#x27;,\n",
       "                                                                                                              sparse_output=False))]),\n",
       "                                                                               [&#x27;dept&#x27;,\n",
       "                                                                                &#x27;last_year_promo&#x27;,\n",
       "                                                                                &#x27;last_year_violations&#x27;]),\n",
       "                                                                              (&#x27;ord&#x27;,\n",
       "                                                                               Pip...\n",
       "                                         &#x27;preprocessor__num&#x27;: [StandardScaler(),\n",
       "                                                               MinMaxScaler(),\n",
       "                                                               &#x27;passthrough&#x27;]},\n",
       "                                        {&#x27;models&#x27;: [LinearRegression()],\n",
       "                                         &#x27;models__copy_X&#x27;: [True, False],\n",
       "                                         &#x27;models__fit_intercept&#x27;: [True, False],\n",
       "                                         &#x27;models__n_jobs&#x27;: [1, 5, 10, 15, None],\n",
       "                                         &#x27;models__positive&#x27;: [True, False],\n",
       "                                         &#x27;preprocessor__num&#x27;: [StandardScaler(),\n",
       "                                                               MinMaxScaler(),\n",
       "                                                               &#x27;passthrough&#x27;]}],\n",
       "                   random_state=42, scoring=&#x27;neg_mean_squared_error&#x27;)</pre></div> </div></div><div class=\"sk-parallel\"><div class=\"sk-parallel-item\"><div class=\"sk-item\"><div class=\"sk-label-container\"><div class=\"sk-label fitted sk-toggleable\"><input class=\"sk-toggleable__control sk-hidden--visually\" id=\"sk-estimator-id-2\" type=\"checkbox\" ><label for=\"sk-estimator-id-2\" class=\"sk-toggleable__label fitted sk-toggleable__label-arrow\"><div><div>best_estimator_: Pipeline</div></div></label><div class=\"sk-toggleable__content fitted\"><pre>Pipeline(steps=[(&#x27;preprocessor&#x27;,\n",
       "                 ColumnTransformer(remainder=&#x27;passthrough&#x27;,\n",
       "                                   transformers=[(&#x27;ohe&#x27;,\n",
       "                                                  Pipeline(steps=[(&#x27;simpleImputer_ohe&#x27;,\n",
       "                                                                   SimpleImputer(strategy=&#x27;most_frequent&#x27;)),\n",
       "                                                                  (&#x27;ohe&#x27;,\n",
       "                                                                   OneHotEncoder(drop=&#x27;first&#x27;,\n",
       "                                                                                 handle_unknown=&#x27;ignore&#x27;,\n",
       "                                                                                 sparse_output=False))]),\n",
       "                                                  [&#x27;dept&#x27;, &#x27;last_year_promo&#x27;,\n",
       "                                                   &#x27;last_year_violations&#x27;]),\n",
       "                                                 (&#x27;ord&#x27;,\n",
       "                                                  Pipeline(steps=[(&#x27;simpleImputer_befor...\n",
       "                                                                                              [&#x27;low&#x27;,\n",
       "                                                                                               &#x27;medium&#x27;,\n",
       "                                                                                               &#x27;high&#x27;]],\n",
       "                                                                                  handle_unknown=&#x27;use_encoded_value&#x27;,\n",
       "                                                                                  unknown_value=nan)),\n",
       "                                                                  (&#x27;simpleImputer_after_ord&#x27;,\n",
       "                                                                   SimpleImputer(strategy=&#x27;most_frequent&#x27;))]),\n",
       "                                                  [&#x27;level&#x27;, &#x27;workload&#x27;]),\n",
       "                                                 (&#x27;num&#x27;, &#x27;passthrough&#x27;,\n",
       "                                                  [&#x27;employment_years&#x27;,\n",
       "                                                   &#x27;supervisor_evaluation&#x27;,\n",
       "                                                   &#x27;salary&#x27;])])),\n",
       "                (&#x27;models&#x27;,\n",
       "                 DecisionTreeRegressor(max_depth=13, min_samples_leaf=5,\n",
       "                                       min_samples_split=4, random_state=42))])</pre></div> </div></div><div class=\"sk-serial\"><div class=\"sk-item\"><div class=\"sk-serial\"><div class=\"sk-item sk-dashed-wrapped\"><div class=\"sk-label-container\"><div class=\"sk-label fitted sk-toggleable\"><input class=\"sk-toggleable__control sk-hidden--visually\" id=\"sk-estimator-id-3\" type=\"checkbox\" ><label for=\"sk-estimator-id-3\" class=\"sk-toggleable__label fitted sk-toggleable__label-arrow\"><div><div>preprocessor: ColumnTransformer</div></div><div><a class=\"sk-estimator-doc-link fitted\" rel=\"noreferrer\" target=\"_blank\" href=\"https://scikit-learn.org/1.6/modules/generated/sklearn.compose.ColumnTransformer.html\">?<span>Documentation for preprocessor: ColumnTransformer</span></a></div></label><div class=\"sk-toggleable__content fitted\"><pre>ColumnTransformer(remainder=&#x27;passthrough&#x27;,\n",
       "                  transformers=[(&#x27;ohe&#x27;,\n",
       "                                 Pipeline(steps=[(&#x27;simpleImputer_ohe&#x27;,\n",
       "                                                  SimpleImputer(strategy=&#x27;most_frequent&#x27;)),\n",
       "                                                 (&#x27;ohe&#x27;,\n",
       "                                                  OneHotEncoder(drop=&#x27;first&#x27;,\n",
       "                                                                handle_unknown=&#x27;ignore&#x27;,\n",
       "                                                                sparse_output=False))]),\n",
       "                                 [&#x27;dept&#x27;, &#x27;last_year_promo&#x27;,\n",
       "                                  &#x27;last_year_violations&#x27;]),\n",
       "                                (&#x27;ord&#x27;,\n",
       "                                 Pipeline(steps=[(&#x27;simpleImputer_before_ord&#x27;,\n",
       "                                                  SimpleImputer(strategy=&#x27;most_frequent&#x27;)),\n",
       "                                                 (&#x27;ord&#x27;,\n",
       "                                                  OrdinalEncoder(categories=[[&#x27;juniormiddlesinior&#x27;],\n",
       "                                                                             [&#x27;low&#x27;,\n",
       "                                                                              &#x27;medium&#x27;,\n",
       "                                                                              &#x27;high&#x27;]],\n",
       "                                                                 handle_unknown=&#x27;use_encoded_value&#x27;,\n",
       "                                                                 unknown_value=nan)),\n",
       "                                                 (&#x27;simpleImputer_after_ord&#x27;,\n",
       "                                                  SimpleImputer(strategy=&#x27;most_frequent&#x27;))]),\n",
       "                                 [&#x27;level&#x27;, &#x27;workload&#x27;]),\n",
       "                                (&#x27;num&#x27;, &#x27;passthrough&#x27;,\n",
       "                                 [&#x27;employment_years&#x27;, &#x27;supervisor_evaluation&#x27;,\n",
       "                                  &#x27;salary&#x27;])])</pre></div> </div></div><div class=\"sk-parallel\"><div class=\"sk-parallel-item\"><div class=\"sk-item\"><div class=\"sk-label-container\"><div class=\"sk-label fitted sk-toggleable\"><input class=\"sk-toggleable__control sk-hidden--visually\" id=\"sk-estimator-id-4\" type=\"checkbox\" ><label for=\"sk-estimator-id-4\" class=\"sk-toggleable__label fitted sk-toggleable__label-arrow\"><div><div>ohe</div></div></label><div class=\"sk-toggleable__content fitted\"><pre>[&#x27;dept&#x27;, &#x27;last_year_promo&#x27;, &#x27;last_year_violations&#x27;]</pre></div> </div></div><div class=\"sk-serial\"><div class=\"sk-item\"><div class=\"sk-serial\"><div class=\"sk-item\"><div class=\"sk-estimator fitted sk-toggleable\"><input class=\"sk-toggleable__control sk-hidden--visually\" id=\"sk-estimator-id-5\" type=\"checkbox\" ><label for=\"sk-estimator-id-5\" class=\"sk-toggleable__label fitted sk-toggleable__label-arrow\"><div><div>SimpleImputer</div></div><div><a class=\"sk-estimator-doc-link fitted\" rel=\"noreferrer\" target=\"_blank\" href=\"https://scikit-learn.org/1.6/modules/generated/sklearn.impute.SimpleImputer.html\">?<span>Documentation for SimpleImputer</span></a></div></label><div class=\"sk-toggleable__content fitted\"><pre>SimpleImputer(strategy=&#x27;most_frequent&#x27;)</pre></div> </div></div><div class=\"sk-item\"><div class=\"sk-estimator fitted sk-toggleable\"><input class=\"sk-toggleable__control sk-hidden--visually\" id=\"sk-estimator-id-6\" type=\"checkbox\" ><label for=\"sk-estimator-id-6\" class=\"sk-toggleable__label fitted sk-toggleable__label-arrow\"><div><div>OneHotEncoder</div></div><div><a class=\"sk-estimator-doc-link fitted\" rel=\"noreferrer\" target=\"_blank\" href=\"https://scikit-learn.org/1.6/modules/generated/sklearn.preprocessing.OneHotEncoder.html\">?<span>Documentation for OneHotEncoder</span></a></div></label><div class=\"sk-toggleable__content fitted\"><pre>OneHotEncoder(drop=&#x27;first&#x27;, handle_unknown=&#x27;ignore&#x27;, sparse_output=False)</pre></div> </div></div></div></div></div></div></div><div class=\"sk-parallel-item\"><div class=\"sk-item\"><div class=\"sk-label-container\"><div class=\"sk-label fitted sk-toggleable\"><input class=\"sk-toggleable__control sk-hidden--visually\" id=\"sk-estimator-id-7\" type=\"checkbox\" ><label for=\"sk-estimator-id-7\" class=\"sk-toggleable__label fitted sk-toggleable__label-arrow\"><div><div>ord</div></div></label><div class=\"sk-toggleable__content fitted\"><pre>[&#x27;level&#x27;, &#x27;workload&#x27;]</pre></div> </div></div><div class=\"sk-serial\"><div class=\"sk-item\"><div class=\"sk-serial\"><div class=\"sk-item\"><div class=\"sk-estimator fitted sk-toggleable\"><input class=\"sk-toggleable__control sk-hidden--visually\" id=\"sk-estimator-id-8\" type=\"checkbox\" ><label for=\"sk-estimator-id-8\" class=\"sk-toggleable__label fitted sk-toggleable__label-arrow\"><div><div>SimpleImputer</div></div><div><a class=\"sk-estimator-doc-link fitted\" rel=\"noreferrer\" target=\"_blank\" href=\"https://scikit-learn.org/1.6/modules/generated/sklearn.impute.SimpleImputer.html\">?<span>Documentation for SimpleImputer</span></a></div></label><div class=\"sk-toggleable__content fitted\"><pre>SimpleImputer(strategy=&#x27;most_frequent&#x27;)</pre></div> </div></div><div class=\"sk-item\"><div class=\"sk-estimator fitted sk-toggleable\"><input class=\"sk-toggleable__control sk-hidden--visually\" id=\"sk-estimator-id-9\" type=\"checkbox\" ><label for=\"sk-estimator-id-9\" class=\"sk-toggleable__label fitted sk-toggleable__label-arrow\"><div><div>OrdinalEncoder</div></div><div><a class=\"sk-estimator-doc-link fitted\" rel=\"noreferrer\" target=\"_blank\" href=\"https://scikit-learn.org/1.6/modules/generated/sklearn.preprocessing.OrdinalEncoder.html\">?<span>Documentation for OrdinalEncoder</span></a></div></label><div class=\"sk-toggleable__content fitted\"><pre>OrdinalEncoder(categories=[[&#x27;juniormiddlesinior&#x27;], [&#x27;low&#x27;, &#x27;medium&#x27;, &#x27;high&#x27;]],\n",
       "               handle_unknown=&#x27;use_encoded_value&#x27;, unknown_value=nan)</pre></div> </div></div><div class=\"sk-item\"><div class=\"sk-estimator fitted sk-toggleable\"><input class=\"sk-toggleable__control sk-hidden--visually\" id=\"sk-estimator-id-10\" type=\"checkbox\" ><label for=\"sk-estimator-id-10\" class=\"sk-toggleable__label fitted sk-toggleable__label-arrow\"><div><div>SimpleImputer</div></div><div><a class=\"sk-estimator-doc-link fitted\" rel=\"noreferrer\" target=\"_blank\" href=\"https://scikit-learn.org/1.6/modules/generated/sklearn.impute.SimpleImputer.html\">?<span>Documentation for SimpleImputer</span></a></div></label><div class=\"sk-toggleable__content fitted\"><pre>SimpleImputer(strategy=&#x27;most_frequent&#x27;)</pre></div> </div></div></div></div></div></div></div><div class=\"sk-parallel-item\"><div class=\"sk-item\"><div class=\"sk-label-container\"><div class=\"sk-label fitted sk-toggleable\"><input class=\"sk-toggleable__control sk-hidden--visually\" id=\"sk-estimator-id-11\" type=\"checkbox\" ><label for=\"sk-estimator-id-11\" class=\"sk-toggleable__label fitted sk-toggleable__label-arrow\"><div><div>num</div></div></label><div class=\"sk-toggleable__content fitted\"><pre>[&#x27;employment_years&#x27;, &#x27;supervisor_evaluation&#x27;, &#x27;salary&#x27;]</pre></div> </div></div><div class=\"sk-serial\"><div class=\"sk-item\"><div class=\"sk-estimator fitted sk-toggleable\"><input class=\"sk-toggleable__control sk-hidden--visually\" id=\"sk-estimator-id-12\" type=\"checkbox\" ><label for=\"sk-estimator-id-12\" class=\"sk-toggleable__label fitted sk-toggleable__label-arrow\"><div><div>passthrough</div></div></label><div class=\"sk-toggleable__content fitted\"><pre>passthrough</pre></div> </div></div></div></div></div><div class=\"sk-parallel-item\"><div class=\"sk-item\"><div class=\"sk-label-container\"><div class=\"sk-label fitted sk-toggleable\"><input class=\"sk-toggleable__control sk-hidden--visually\" id=\"sk-estimator-id-13\" type=\"checkbox\" ><label for=\"sk-estimator-id-13\" class=\"sk-toggleable__label fitted sk-toggleable__label-arrow\"><div><div>remainder</div></div></label><div class=\"sk-toggleable__content fitted\"><pre>[]</pre></div> </div></div><div class=\"sk-serial\"><div class=\"sk-item\"><div class=\"sk-estimator fitted sk-toggleable\"><input class=\"sk-toggleable__control sk-hidden--visually\" id=\"sk-estimator-id-14\" type=\"checkbox\" ><label for=\"sk-estimator-id-14\" class=\"sk-toggleable__label fitted sk-toggleable__label-arrow\"><div><div>passthrough</div></div></label><div class=\"sk-toggleable__content fitted\"><pre>passthrough</pre></div> </div></div></div></div></div></div></div><div class=\"sk-item\"><div class=\"sk-estimator fitted sk-toggleable\"><input class=\"sk-toggleable__control sk-hidden--visually\" id=\"sk-estimator-id-15\" type=\"checkbox\" ><label for=\"sk-estimator-id-15\" class=\"sk-toggleable__label fitted sk-toggleable__label-arrow\"><div><div>DecisionTreeRegressor</div></div><div><a class=\"sk-estimator-doc-link fitted\" rel=\"noreferrer\" target=\"_blank\" href=\"https://scikit-learn.org/1.6/modules/generated/sklearn.tree.DecisionTreeRegressor.html\">?<span>Documentation for DecisionTreeRegressor</span></a></div></label><div class=\"sk-toggleable__content fitted\"><pre>DecisionTreeRegressor(max_depth=13, min_samples_leaf=5, min_samples_split=4,\n",
       "                      random_state=42)</pre></div> </div></div></div></div></div></div></div></div></div></div></div>"
      ],
      "text/plain": [
       "RandomizedSearchCV(cv=5,\n",
       "                   estimator=Pipeline(steps=[('preprocessor',\n",
       "                                              ColumnTransformer(remainder='passthrough',\n",
       "                                                                transformers=[('ohe',\n",
       "                                                                               Pipeline(steps=[('simpleImputer_ohe',\n",
       "                                                                                                SimpleImputer(strategy='most_frequent')),\n",
       "                                                                                               ('ohe',\n",
       "                                                                                                OneHotEncoder(drop='first',\n",
       "                                                                                                              handle_unknown='ignore',\n",
       "                                                                                                              sparse_output=False))]),\n",
       "                                                                               ['dept',\n",
       "                                                                                'last_year_promo',\n",
       "                                                                                'last_year_violations']),\n",
       "                                                                              ('ord',\n",
       "                                                                               Pip...\n",
       "                                         'preprocessor__num': [StandardScaler(),\n",
       "                                                               MinMaxScaler(),\n",
       "                                                               'passthrough']},\n",
       "                                        {'models': [LinearRegression()],\n",
       "                                         'models__copy_X': [True, False],\n",
       "                                         'models__fit_intercept': [True, False],\n",
       "                                         'models__n_jobs': [1, 5, 10, 15, None],\n",
       "                                         'models__positive': [True, False],\n",
       "                                         'preprocessor__num': [StandardScaler(),\n",
       "                                                               MinMaxScaler(),\n",
       "                                                               'passthrough']}],\n",
       "                   random_state=42, scoring='neg_mean_squared_error')"
      ]
     },
     "execution_count": 30,
     "metadata": {},
     "output_type": "execute_result"
    }
   ],
   "source": [
    "pipe_final = Pipeline([\n",
    "    ('preprocessor', data_preprocessor),\n",
    "    ('models', DecisionTreeRegressor(random_state=RANDOM_STATE))\n",
    "])\n",
    "\n",
    "param_grid = [\n",
    "    # словарь для модели DecisionTreeRegressor()\n",
    "    {\n",
    "        'models': [DecisionTreeRegressor(random_state=RANDOM_STATE)],\n",
    "        'models__max_depth': range(1, 20),\n",
    "        'models__min_samples_leaf': range(1, 10),\n",
    "        'models__min_samples_split': range(2, 10),\n",
    "        'models__splitter': ['best', 'random'],\n",
    "        'preprocessor__num': [StandardScaler(), MinMaxScaler(), 'passthrough']  \n",
    "    },\n",
    "\n",
    "    # словарь для модели LinearRegression()\n",
    "    {\n",
    "        'models': [LinearRegression()],\n",
    "        'models__copy_X': [True, False],\n",
    "        'models__fit_intercept': [True, False], \n",
    "        'models__n_jobs': [1,5,10,15,None],\n",
    "        'models__positive': [True, False],\n",
    "        'preprocessor__num': [StandardScaler(), MinMaxScaler(), 'passthrough']  \n",
    "    }\n",
    "]\n",
    "\n",
    "randomized_search = RandomizedSearchCV(\n",
    "    pipe_final, \n",
    "    param_grid, \n",
    "    cv=5,\n",
    "    scoring='neg_mean_squared_error',\n",
    "    random_state=RANDOM_STATE,\n",
    "    n_jobs=-1\n",
    ")\n",
    "randomized_search.fit(X_train, y_train)"
   ]
  },
  {
   "cell_type": "code",
   "execution_count": 31,
   "metadata": {},
   "outputs": [
    {
     "name": "stdout",
     "output_type": "stream",
     "text": [
      "Лучшая модель и её параметры:\n",
      "\n",
      " Pipeline(steps=[('preprocessor',\n",
      "                 ColumnTransformer(remainder='passthrough',\n",
      "                                   transformers=[('ohe',\n",
      "                                                  Pipeline(steps=[('simpleImputer_ohe',\n",
      "                                                                   SimpleImputer(strategy='most_frequent')),\n",
      "                                                                  ('ohe',\n",
      "                                                                   OneHotEncoder(drop='first',\n",
      "                                                                                 handle_unknown='ignore',\n",
      "                                                                                 sparse_output=False))]),\n",
      "                                                  ['dept', 'last_year_promo',\n",
      "                                                   'last_year_violations']),\n",
      "                                                 ('ord',\n",
      "                                                  Pipeline(steps=[('simpleImputer_befor...\n",
      "                                                                                              ['low',\n",
      "                                                                                               'medium',\n",
      "                                                                                               'high']],\n",
      "                                                                                  handle_unknown='use_encoded_value',\n",
      "                                                                                  unknown_value=nan)),\n",
      "                                                                  ('simpleImputer_after_ord',\n",
      "                                                                   SimpleImputer(strategy='most_frequent'))]),\n",
      "                                                  ['level', 'workload']),\n",
      "                                                 ('num', 'passthrough',\n",
      "                                                  ['employment_years',\n",
      "                                                   'supervisor_evaluation',\n",
      "                                                   'salary'])])),\n",
      "                ('models',\n",
      "                 DecisionTreeRegressor(max_depth=13, min_samples_leaf=5,\n",
      "                                       min_samples_split=4, random_state=42))])\n",
      "Метрика лучшей модели на кросс-валидации: -0.013686687674524916\n"
     ]
    }
   ],
   "source": [
    "print('Лучшая модель и её параметры:\\n\\n', randomized_search.best_estimator_)\n",
    "print ('Метрика лучшей модели на кросс-валидации:', randomized_search.best_score_)"
   ]
  },
  {
   "cell_type": "code",
   "execution_count": 32,
   "metadata": {},
   "outputs": [
    {
     "name": "stdout",
     "output_type": "stream",
     "text": [
      "Метрика SMAPE на тестовой выборке 18.00247843923853\n"
     ]
    }
   ],
   "source": [
    "predictions = randomized_search.predict(X_test)\n",
    "print(f'Метрика SMAPE на тестовой выборке {smape(y_test, predictions)}')"
   ]
  },
  {
   "cell_type": "markdown",
   "metadata": {},
   "source": [
    "Лучшей моделью стала модель DecisionTreeRegressor, и ее метрика на тестовой выборке равна 18.002"
   ]
  },
  {
   "cell_type": "markdown",
   "metadata": {},
   "source": [
    "<a class=\"anchor\" id=\"chapter15\"></a>\n",
    "#### Анализ важности признаков"
   ]
  },
  {
   "cell_type": "code",
   "execution_count": 33,
   "metadata": {},
   "outputs": [
    {
     "data": {
      "application/vnd.jupyter.widget-view+json": {
       "model_id": "7201373115e84b2faabb2bb37dd0ad99",
       "version_major": 2,
       "version_minor": 0
      },
      "text/plain": [
       "  0%|          | 0/100 [00:00<?, ?it/s]"
      ]
     },
     "metadata": {},
     "output_type": "display_data"
    }
   ],
   "source": [
    "best_model = randomized_search.best_estimator_\n",
    "X_train_prepr = best_model.named_steps['preprocessor'].transform(X_train)\n",
    "X_test_prepr = best_model.named_steps['preprocessor'].transform(X_test)\n",
    "feature_names = list(best_model.named_steps['preprocessor'].get_feature_names_out())\n",
    "\n",
    "# Возьмем 100 примеров из выборок \n",
    "X_train_sample = shap.sample(X_train_prepr, 100)\n",
    "X_test_sample = shap.sample(X_test_prepr, 100)\n",
    "explainer = shap.KernelExplainer(best_model.named_steps['models'].predict, X_train_sample)\n",
    "shap_values = explainer(X_test_sample)"
   ]
  },
  {
   "cell_type": "code",
   "execution_count": 34,
   "metadata": {
    "scrolled": true
   },
   "outputs": [
    {
     "data": {
      "text/plain": [
       "'\\nbase_values = np.repeat(explainer.expected_value, X_test_sample.shape[0])\\nshap_values_exp = shap.Explanation(values=shap_values, base_values=base_values,\\n                                   data=X_test_sample, feature_names=feature_names)\\n\\n# Построим график общей значимости признаков\\nshap.plots.bar(shap_values_exp, max_display=21)\\n'"
      ]
     },
     "execution_count": 34,
     "metadata": {},
     "output_type": "execute_result"
    }
   ],
   "source": [
    "# Преобразование SHAP значений в объект Explanation\n",
    "\"\"\"\n",
    "base_values = np.repeat(explainer.expected_value, X_test_sample.shape[0])\n",
    "shap_values_exp = shap.Explanation(values=shap_values, base_values=base_values,\n",
    "                                   data=X_test_sample, feature_names=feature_names)\n",
    "\n",
    "# Построим график общей значимости признаков\n",
    "shap.plots.bar(shap_values_exp, max_display=21)\n",
    "\"\"\""
   ]
  },
  {
   "attachments": {
    "output.png": {
     "image/png": "[encoded data removed]"
    }
   },
   "cell_type": "markdown",
   "metadata": {},
   "source": [
    "![output.png](attachment:output.png)"
   ]
  },
  {
   "cell_type": "markdown",
   "metadata": {},
   "source": [
    "Признаки на графике расположены в порядке убывания их вклада: начиная с самого важного признака и заканчивая самым малозначимым для модели признаком. Лидирует признак `supervisor_evaluation`, а вторым по значимости является признак `employment_years`. "
   ]
  },
  {
   "cell_type": "markdown",
   "metadata": {},
   "source": [
    "**Мини-вывод:**\n",
    "    \n",
    "Построили две модели регрессии, чтобы предсказать уровень удовлетворенности работника - LinearRegression с GridSearchCV и DecisionTreeRegressor с Optuna. Лучшей оказалась модель DecisionTreeRegressor и ее результаты на метрике SMAPE равны 14.78. Провели анализ признаков с помощью shap, и оказалось, что `supervisor_evaluation` и `employment_years` влияют на принятие решений моделью больше других признаков. "
   ]
  },
  {
   "cell_type": "markdown",
   "metadata": {},
   "source": [
    "<a class=\"anchor\" id=\"chapter17\"></a>\n",
    "\n",
    "## Задача 2: предсказание увольнения сотрудника из компании"
   ]
  },
  {
   "cell_type": "markdown",
   "metadata": {},
   "source": [
    "<a class=\"anchor\" id=\"chapter18\"></a>\n",
    "### Загрузка данных"
   ]
  },
  {
   "cell_type": "code",
   "execution_count": 35,
   "metadata": {},
   "outputs": [],
   "source": [
    "try:\n",
    "    train_df = pd.read_csv('train_quit.csv')\n",
    "    test_X = pd.read_csv('test_features (1).csv')\n",
    "    test_y = pd.read_csv('test_target_quit.csv')\n",
    "except:\n",
    "    train_df = pd.read_csv('/datasets/train_quit.csv')\n",
    "    test_X = pd.read_csv('/datasets/test_features.csv')\n",
    "    test_y = pd.read_csv('/datasets/test_target_quit.csv')"
   ]
  },
  {
   "cell_type": "markdown",
   "metadata": {},
   "source": [
    "Соединим входные и целевые признаки в один датафрейм по `id`"
   ]
  },
  {
   "cell_type": "code",
   "execution_count": 36,
   "metadata": {},
   "outputs": [
    {
     "data": {
      "text/html": [
       "<div>\n",
       "<style scoped>\n",
       "    .dataframe tbody tr th:only-of-type {\n",
       "        vertical-align: middle;\n",
       "    }\n",
       "\n",
       "    .dataframe tbody tr th {\n",
       "        vertical-align: top;\n",
       "    }\n",
       "\n",
       "    .dataframe thead th {\n",
       "        text-align: right;\n",
       "    }\n",
       "</style>\n",
       "<table border=\"1\" class=\"dataframe\">\n",
       "  <thead>\n",
       "    <tr style=\"text-align: right;\">\n",
       "      <th></th>\n",
       "      <th>id</th>\n",
       "      <th>dept</th>\n",
       "      <th>level</th>\n",
       "      <th>workload</th>\n",
       "      <th>employment_years</th>\n",
       "      <th>last_year_promo</th>\n",
       "      <th>last_year_violations</th>\n",
       "      <th>supervisor_evaluation</th>\n",
       "      <th>salary</th>\n",
       "      <th>quit</th>\n",
       "    </tr>\n",
       "  </thead>\n",
       "  <tbody>\n",
       "    <tr>\n",
       "      <th>0</th>\n",
       "      <td>485046</td>\n",
       "      <td>marketing</td>\n",
       "      <td>junior</td>\n",
       "      <td>medium</td>\n",
       "      <td>2</td>\n",
       "      <td>no</td>\n",
       "      <td>no</td>\n",
       "      <td>5</td>\n",
       "      <td>28800</td>\n",
       "      <td>no</td>\n",
       "    </tr>\n",
       "    <tr>\n",
       "      <th>1</th>\n",
       "      <td>686555</td>\n",
       "      <td>hr</td>\n",
       "      <td>junior</td>\n",
       "      <td>medium</td>\n",
       "      <td>1</td>\n",
       "      <td>no</td>\n",
       "      <td>no</td>\n",
       "      <td>4</td>\n",
       "      <td>30000</td>\n",
       "      <td>no</td>\n",
       "    </tr>\n",
       "    <tr>\n",
       "      <th>2</th>\n",
       "      <td>467458</td>\n",
       "      <td>sales</td>\n",
       "      <td>middle</td>\n",
       "      <td>low</td>\n",
       "      <td>5</td>\n",
       "      <td>no</td>\n",
       "      <td>no</td>\n",
       "      <td>4</td>\n",
       "      <td>19200</td>\n",
       "      <td>no</td>\n",
       "    </tr>\n",
       "    <tr>\n",
       "      <th>3</th>\n",
       "      <td>418655</td>\n",
       "      <td>sales</td>\n",
       "      <td>middle</td>\n",
       "      <td>low</td>\n",
       "      <td>6</td>\n",
       "      <td>no</td>\n",
       "      <td>no</td>\n",
       "      <td>4</td>\n",
       "      <td>19200</td>\n",
       "      <td>no</td>\n",
       "    </tr>\n",
       "    <tr>\n",
       "      <th>4</th>\n",
       "      <td>789145</td>\n",
       "      <td>hr</td>\n",
       "      <td>middle</td>\n",
       "      <td>medium</td>\n",
       "      <td>5</td>\n",
       "      <td>no</td>\n",
       "      <td>no</td>\n",
       "      <td>5</td>\n",
       "      <td>40800</td>\n",
       "      <td>no</td>\n",
       "    </tr>\n",
       "  </tbody>\n",
       "</table>\n",
       "</div>"
      ],
      "text/plain": [
       "       id       dept   level workload  employment_years last_year_promo  \\\n",
       "0  485046  marketing  junior   medium                 2              no   \n",
       "1  686555         hr  junior   medium                 1              no   \n",
       "2  467458      sales  middle      low                 5              no   \n",
       "3  418655      sales  middle      low                 6              no   \n",
       "4  789145         hr  middle   medium                 5              no   \n",
       "\n",
       "  last_year_violations  supervisor_evaluation  salary quit  \n",
       "0                   no                      5   28800   no  \n",
       "1                   no                      4   30000   no  \n",
       "2                   no                      4   19200   no  \n",
       "3                   no                      4   19200   no  \n",
       "4                   no                      5   40800   no  "
      ]
     },
     "execution_count": 36,
     "metadata": {},
     "output_type": "execute_result"
    }
   ],
   "source": [
    "test_df = test_X.merge(test_y, on='id')\n",
    "test_df.head()"
   ]
  },
  {
   "cell_type": "markdown",
   "metadata": {},
   "source": [
    "<a class=\"anchor\" id=\"chapter19\"></a>\n",
    "### Описание данных"
   ]
  },
  {
   "cell_type": "markdown",
   "metadata": {},
   "source": [
    "Выведем первые пять строчек тренировочного датасета и общую информацию о нем"
   ]
  },
  {
   "cell_type": "code",
   "execution_count": 37,
   "metadata": {
    "scrolled": true
   },
   "outputs": [
    {
     "data": {
      "text/html": [
       "<div>\n",
       "<style scoped>\n",
       "    .dataframe tbody tr th:only-of-type {\n",
       "        vertical-align: middle;\n",
       "    }\n",
       "\n",
       "    .dataframe tbody tr th {\n",
       "        vertical-align: top;\n",
       "    }\n",
       "\n",
       "    .dataframe thead th {\n",
       "        text-align: right;\n",
       "    }\n",
       "</style>\n",
       "<table border=\"1\" class=\"dataframe\">\n",
       "  <thead>\n",
       "    <tr style=\"text-align: right;\">\n",
       "      <th></th>\n",
       "      <th>id</th>\n",
       "      <th>dept</th>\n",
       "      <th>level</th>\n",
       "      <th>workload</th>\n",
       "      <th>employment_years</th>\n",
       "      <th>last_year_promo</th>\n",
       "      <th>last_year_violations</th>\n",
       "      <th>supervisor_evaluation</th>\n",
       "      <th>salary</th>\n",
       "      <th>quit</th>\n",
       "    </tr>\n",
       "  </thead>\n",
       "  <tbody>\n",
       "    <tr>\n",
       "      <th>0</th>\n",
       "      <td>723290</td>\n",
       "      <td>sales</td>\n",
       "      <td>middle</td>\n",
       "      <td>high</td>\n",
       "      <td>2</td>\n",
       "      <td>no</td>\n",
       "      <td>no</td>\n",
       "      <td>4</td>\n",
       "      <td>54000</td>\n",
       "      <td>no</td>\n",
       "    </tr>\n",
       "    <tr>\n",
       "      <th>1</th>\n",
       "      <td>814010</td>\n",
       "      <td>sales</td>\n",
       "      <td>junior</td>\n",
       "      <td>medium</td>\n",
       "      <td>2</td>\n",
       "      <td>no</td>\n",
       "      <td>no</td>\n",
       "      <td>4</td>\n",
       "      <td>27600</td>\n",
       "      <td>no</td>\n",
       "    </tr>\n",
       "    <tr>\n",
       "      <th>2</th>\n",
       "      <td>155091</td>\n",
       "      <td>purchasing</td>\n",
       "      <td>middle</td>\n",
       "      <td>medium</td>\n",
       "      <td>5</td>\n",
       "      <td>no</td>\n",
       "      <td>no</td>\n",
       "      <td>1</td>\n",
       "      <td>37200</td>\n",
       "      <td>no</td>\n",
       "    </tr>\n",
       "    <tr>\n",
       "      <th>3</th>\n",
       "      <td>257132</td>\n",
       "      <td>sales</td>\n",
       "      <td>junior</td>\n",
       "      <td>medium</td>\n",
       "      <td>2</td>\n",
       "      <td>no</td>\n",
       "      <td>yes</td>\n",
       "      <td>3</td>\n",
       "      <td>24000</td>\n",
       "      <td>yes</td>\n",
       "    </tr>\n",
       "    <tr>\n",
       "      <th>4</th>\n",
       "      <td>910140</td>\n",
       "      <td>marketing</td>\n",
       "      <td>junior</td>\n",
       "      <td>medium</td>\n",
       "      <td>2</td>\n",
       "      <td>no</td>\n",
       "      <td>no</td>\n",
       "      <td>5</td>\n",
       "      <td>25200</td>\n",
       "      <td>no</td>\n",
       "    </tr>\n",
       "  </tbody>\n",
       "</table>\n",
       "</div>"
      ],
      "text/plain": [
       "       id        dept   level workload  employment_years last_year_promo  \\\n",
       "0  723290       sales  middle     high                 2              no   \n",
       "1  814010       sales  junior   medium                 2              no   \n",
       "2  155091  purchasing  middle   medium                 5              no   \n",
       "3  257132       sales  junior   medium                 2              no   \n",
       "4  910140   marketing  junior   medium                 2              no   \n",
       "\n",
       "  last_year_violations  supervisor_evaluation  salary quit  \n",
       "0                   no                      4   54000   no  \n",
       "1                   no                      4   27600   no  \n",
       "2                   no                      1   37200   no  \n",
       "3                  yes                      3   24000  yes  \n",
       "4                   no                      5   25200   no  "
      ]
     },
     "execution_count": 37,
     "metadata": {},
     "output_type": "execute_result"
    }
   ],
   "source": [
    "train_df.head()"
   ]
  },
  {
   "cell_type": "code",
   "execution_count": 38,
   "metadata": {},
   "outputs": [
    {
     "name": "stdout",
     "output_type": "stream",
     "text": [
      "<class 'pandas.core.frame.DataFrame'>\n",
      "RangeIndex: 4000 entries, 0 to 3999\n",
      "Data columns (total 10 columns):\n",
      " #   Column                 Non-Null Count  Dtype \n",
      "---  ------                 --------------  ----- \n",
      " 0   id                     4000 non-null   int64 \n",
      " 1   dept                   4000 non-null   object\n",
      " 2   level                  4000 non-null   object\n",
      " 3   workload               4000 non-null   object\n",
      " 4   employment_years       4000 non-null   int64 \n",
      " 5   last_year_promo        4000 non-null   object\n",
      " 6   last_year_violations   4000 non-null   object\n",
      " 7   supervisor_evaluation  4000 non-null   int64 \n",
      " 8   salary                 4000 non-null   int64 \n",
      " 9   quit                   4000 non-null   object\n",
      "dtypes: int64(4), object(6)\n",
      "memory usage: 312.6+ KB\n"
     ]
    }
   ],
   "source": [
    "train_df.info()"
   ]
  },
  {
   "cell_type": "markdown",
   "metadata": {},
   "source": [
    "**Мини-вывод:**\n",
    "\n",
    "Загрузили и сохранили csv-файлы в переменные. Как и в первой задаче, соединили входные и целевой признаки в один датафрейм, чтобы получить один и тот же порядок в данных. По общей информации о датафейме выяснили, что пропущенных значений в таблице нет, и типы данных стоят правильные. "
   ]
  },
  {
   "cell_type": "markdown",
   "metadata": {},
   "source": [
    "<a class=\"anchor\" id=\"chapter20\"></a>\n",
    "### Предобработка данных"
   ]
  },
  {
   "cell_type": "code",
   "execution_count": 39,
   "metadata": {},
   "outputs": [
    {
     "name": "stdout",
     "output_type": "stream",
     "text": [
      "\n",
      "Missing Train Data: \n",
      "id                       0\n",
      "dept                     0\n",
      "level                    0\n",
      "workload                 0\n",
      "employment_years         0\n",
      "last_year_promo          0\n",
      "last_year_violations     0\n",
      "supervisor_evaluation    0\n",
      "salary                   0\n",
      "quit                     0\n",
      "dtype: int64\n",
      "\n",
      "Duplicates: 0\n"
     ]
    }
   ],
   "source": [
    "print(f'\\nMissing Train Data: \\n{train_df.isna().sum()}')\n",
    "print(f'\\nDuplicates: {train_df.duplicated().sum()}')"
   ]
  },
  {
   "cell_type": "code",
   "execution_count": 40,
   "metadata": {},
   "outputs": [
    {
     "name": "stdout",
     "output_type": "stream",
     "text": [
      "['sales' 'purchasing' 'marketing' 'technology' 'hr']\n",
      "['middle' 'junior' 'sinior']\n",
      "['high' 'medium' 'low']\n",
      "['no' 'yes']\n",
      "['no' 'yes']\n",
      "['no' 'yes']\n"
     ]
    }
   ],
   "source": [
    "# Проверим на наличие неявных дубликатов\n",
    "for col in train_df.select_dtypes(include=['object']).columns:\n",
    "    print(train_df[col].unique())"
   ]
  },
  {
   "cell_type": "markdown",
   "metadata": {},
   "source": [
    "**Мини-вывод:**\n",
    "\n",
    "- Явные и неявные дубликаты в тренировочной выборке не были найдены;\n",
    "- Типы данных в датафрейме стоят правильные \n",
    "- Пропущенных значений нет"
   ]
  },
  {
   "cell_type": "markdown",
   "metadata": {},
   "source": [
    "<a class=\"anchor\" id=\"chapter21\"></a>\n",
    "### Портрет уволившегося сотрудника "
   ]
  },
  {
   "cell_type": "code",
   "execution_count": 41,
   "metadata": {
    "scrolled": false
   },
   "outputs": [
    {
     "data": {
      "image/png": "[encoded data removed]",
      "text/plain": [
       "<Figure size 1080x1080 with 5 Axes>"
      ]
     },
     "metadata": {
      "needs_background": "light"
     },
     "output_type": "display_data"
    }
   ],
   "source": [
    "categorical_features = ['dept', 'level', 'workload', 'last_year_promo', 'last_year_violations']\n",
    "\n",
    "num_plots = len(categorical_features)\n",
    "num_rows = (num_plots + 1) // 2 \n",
    "num_cols = 2\n",
    "\n",
    "fig, axes = plt.subplots(num_rows, num_cols, figsize=(15, 5 * num_rows))\n",
    "axes = axes.ravel() \n",
    "for i, col in enumerate(categorical_features):\n",
    "    sns.countplot(x=col, hue='quit', data=train_df, ax=axes[i], palette='deep')\n",
    "    axes[i].set_title(col)\n",
    "\n",
    "for i in range(num_plots, len(axes)):\n",
    "    fig.delaxes(axes[i])\n",
    "\n",
    "plt.tight_layout()\n",
    "plt.show()"
   ]
  },
  {
   "cell_type": "markdown",
   "metadata": {},
   "source": [
    "Рассчитаем соотношение уволившихся сотрудников к общему количеству в каждом отделе, и для этого преобразуем колонку `quit` в булев тип и построим сводную таблицу"
   ]
  },
  {
   "cell_type": "code",
   "execution_count": 42,
   "metadata": {},
   "outputs": [
    {
     "data": {
      "text/html": [
       "<div>\n",
       "<style scoped>\n",
       "    .dataframe tbody tr th:only-of-type {\n",
       "        vertical-align: middle;\n",
       "    }\n",
       "\n",
       "    .dataframe tbody tr th {\n",
       "        vertical-align: top;\n",
       "    }\n",
       "\n",
       "    .dataframe thead th {\n",
       "        text-align: right;\n",
       "    }\n",
       "</style>\n",
       "<table border=\"1\" class=\"dataframe\">\n",
       "  <thead>\n",
       "    <tr style=\"text-align: right;\">\n",
       "      <th></th>\n",
       "      <th>total_quit</th>\n",
       "      <th>total_workers</th>\n",
       "      <th>prctg_quit</th>\n",
       "    </tr>\n",
       "    <tr>\n",
       "      <th>dept</th>\n",
       "      <th></th>\n",
       "      <th></th>\n",
       "      <th></th>\n",
       "    </tr>\n",
       "  </thead>\n",
       "  <tbody>\n",
       "    <tr>\n",
       "      <th>technology</th>\n",
       "      <td>276</td>\n",
       "      <td>928</td>\n",
       "      <td>29.741379</td>\n",
       "    </tr>\n",
       "    <tr>\n",
       "      <th>sales</th>\n",
       "      <td>407</td>\n",
       "      <td>1438</td>\n",
       "      <td>28.303199</td>\n",
       "    </tr>\n",
       "    <tr>\n",
       "      <th>purchasing</th>\n",
       "      <td>166</td>\n",
       "      <td>588</td>\n",
       "      <td>28.231293</td>\n",
       "    </tr>\n",
       "    <tr>\n",
       "      <th>marketing</th>\n",
       "      <td>163</td>\n",
       "      <td>582</td>\n",
       "      <td>28.006873</td>\n",
       "    </tr>\n",
       "    <tr>\n",
       "      <th>hr</th>\n",
       "      <td>116</td>\n",
       "      <td>464</td>\n",
       "      <td>25.000000</td>\n",
       "    </tr>\n",
       "  </tbody>\n",
       "</table>\n",
       "</div>"
      ],
      "text/plain": [
       "            total_quit  total_workers  prctg_quit\n",
       "dept                                             \n",
       "technology         276            928   29.741379\n",
       "sales              407           1438   28.303199\n",
       "purchasing         166            588   28.231293\n",
       "marketing          163            582   28.006873\n",
       "hr                 116            464   25.000000"
      ]
     },
     "execution_count": 42,
     "metadata": {},
     "output_type": "execute_result"
    }
   ],
   "source": [
    "temp_train_df = train_df.copy()\n",
    "temp_train_df['quit'] = temp_train_df['quit'] == 'yes'\n",
    "\n",
    "temp_train_df.groupby('dept').agg(total_quit=('quit', 'sum'),\n",
    "                             total_workers=('quit', 'count')).assign(\n",
    "                            prctg_quit=lambda x: x['total_quit'] / x['total_workers'] * 100).sort_values(\n",
    "                            by='prctg_quit', ascending=False)"
   ]
  },
  {
   "cell_type": "code",
   "execution_count": 43,
   "metadata": {},
   "outputs": [
    {
     "data": {
      "text/html": [
       "<div>\n",
       "<style scoped>\n",
       "    .dataframe tbody tr th:only-of-type {\n",
       "        vertical-align: middle;\n",
       "    }\n",
       "\n",
       "    .dataframe tbody tr th {\n",
       "        vertical-align: top;\n",
       "    }\n",
       "\n",
       "    .dataframe thead th {\n",
       "        text-align: right;\n",
       "    }\n",
       "</style>\n",
       "<table border=\"1\" class=\"dataframe\">\n",
       "  <thead>\n",
       "    <tr style=\"text-align: right;\">\n",
       "      <th></th>\n",
       "      <th>total_quit</th>\n",
       "      <th>total_workers</th>\n",
       "      <th>prctg_quit</th>\n",
       "    </tr>\n",
       "    <tr>\n",
       "      <th>level</th>\n",
       "      <th></th>\n",
       "      <th></th>\n",
       "      <th></th>\n",
       "    </tr>\n",
       "  </thead>\n",
       "  <tbody>\n",
       "    <tr>\n",
       "      <th>junior</th>\n",
       "      <td>1003</td>\n",
       "      <td>1949</td>\n",
       "      <td>51.462288</td>\n",
       "    </tr>\n",
       "    <tr>\n",
       "      <th>middle</th>\n",
       "      <td>108</td>\n",
       "      <td>1694</td>\n",
       "      <td>6.375443</td>\n",
       "    </tr>\n",
       "    <tr>\n",
       "      <th>sinior</th>\n",
       "      <td>17</td>\n",
       "      <td>357</td>\n",
       "      <td>4.761905</td>\n",
       "    </tr>\n",
       "  </tbody>\n",
       "</table>\n",
       "</div>"
      ],
      "text/plain": [
       "        total_quit  total_workers  prctg_quit\n",
       "level                                        \n",
       "junior        1003           1949   51.462288\n",
       "middle         108           1694    6.375443\n",
       "sinior          17            357    4.761905"
      ]
     },
     "execution_count": 43,
     "metadata": {},
     "output_type": "execute_result"
    }
   ],
   "source": [
    "temp_train_df.groupby('level').agg(total_quit=('quit', 'sum'),\n",
    "                             total_workers=('quit', 'count')).assign(\n",
    "                            prctg_quit=lambda x: x['total_quit'] / x['total_workers'] * 100).sort_values(\n",
    "                            by='prctg_quit', ascending=False)"
   ]
  },
  {
   "cell_type": "code",
   "execution_count": 44,
   "metadata": {},
   "outputs": [
    {
     "data": {
      "text/html": [
       "<div>\n",
       "<style scoped>\n",
       "    .dataframe tbody tr th:only-of-type {\n",
       "        vertical-align: middle;\n",
       "    }\n",
       "\n",
       "    .dataframe tbody tr th {\n",
       "        vertical-align: top;\n",
       "    }\n",
       "\n",
       "    .dataframe thead th {\n",
       "        text-align: right;\n",
       "    }\n",
       "</style>\n",
       "<table border=\"1\" class=\"dataframe\">\n",
       "  <thead>\n",
       "    <tr style=\"text-align: right;\">\n",
       "      <th></th>\n",
       "      <th>total_quit</th>\n",
       "      <th>total_workers</th>\n",
       "      <th>prctg_quit</th>\n",
       "    </tr>\n",
       "    <tr>\n",
       "      <th>workload</th>\n",
       "      <th></th>\n",
       "      <th></th>\n",
       "      <th></th>\n",
       "    </tr>\n",
       "  </thead>\n",
       "  <tbody>\n",
       "    <tr>\n",
       "      <th>low</th>\n",
       "      <td>519</td>\n",
       "      <td>1208</td>\n",
       "      <td>42.963576</td>\n",
       "    </tr>\n",
       "    <tr>\n",
       "      <th>medium</th>\n",
       "      <td>488</td>\n",
       "      <td>2118</td>\n",
       "      <td>23.040604</td>\n",
       "    </tr>\n",
       "    <tr>\n",
       "      <th>high</th>\n",
       "      <td>121</td>\n",
       "      <td>674</td>\n",
       "      <td>17.952522</td>\n",
       "    </tr>\n",
       "  </tbody>\n",
       "</table>\n",
       "</div>"
      ],
      "text/plain": [
       "          total_quit  total_workers  prctg_quit\n",
       "workload                                       \n",
       "low              519           1208   42.963576\n",
       "medium           488           2118   23.040604\n",
       "high             121            674   17.952522"
      ]
     },
     "execution_count": 44,
     "metadata": {},
     "output_type": "execute_result"
    }
   ],
   "source": [
    "temp_train_df.groupby('workload').agg(total_quit=('quit', 'sum'),\n",
    "                             total_workers=('quit', 'count')).assign(\n",
    "                            prctg_quit=lambda x: x['total_quit'] / x['total_workers'] * 100).sort_values(\n",
    "                            by='prctg_quit', ascending=False)"
   ]
  },
  {
   "cell_type": "code",
   "execution_count": 45,
   "metadata": {},
   "outputs": [
    {
     "data": {
      "text/html": [
       "<div>\n",
       "<style scoped>\n",
       "    .dataframe tbody tr th:only-of-type {\n",
       "        vertical-align: middle;\n",
       "    }\n",
       "\n",
       "    .dataframe tbody tr th {\n",
       "        vertical-align: top;\n",
       "    }\n",
       "\n",
       "    .dataframe thead th {\n",
       "        text-align: right;\n",
       "    }\n",
       "</style>\n",
       "<table border=\"1\" class=\"dataframe\">\n",
       "  <thead>\n",
       "    <tr style=\"text-align: right;\">\n",
       "      <th></th>\n",
       "      <th>total_quit</th>\n",
       "      <th>total_workers</th>\n",
       "      <th>prctg_quit</th>\n",
       "    </tr>\n",
       "    <tr>\n",
       "      <th>last_year_promo</th>\n",
       "      <th></th>\n",
       "      <th></th>\n",
       "      <th></th>\n",
       "    </tr>\n",
       "  </thead>\n",
       "  <tbody>\n",
       "    <tr>\n",
       "      <th>no</th>\n",
       "      <td>1127</td>\n",
       "      <td>3887</td>\n",
       "      <td>28.994083</td>\n",
       "    </tr>\n",
       "    <tr>\n",
       "      <th>yes</th>\n",
       "      <td>1</td>\n",
       "      <td>113</td>\n",
       "      <td>0.884956</td>\n",
       "    </tr>\n",
       "  </tbody>\n",
       "</table>\n",
       "</div>"
      ],
      "text/plain": [
       "                 total_quit  total_workers  prctg_quit\n",
       "last_year_promo                                       \n",
       "no                     1127           3887   28.994083\n",
       "yes                       1            113    0.884956"
      ]
     },
     "execution_count": 45,
     "metadata": {},
     "output_type": "execute_result"
    }
   ],
   "source": [
    "temp_train_df.groupby('last_year_promo').agg(total_quit=('quit', 'sum'),\n",
    "                             total_workers=('quit', 'count')).assign(\n",
    "                            prctg_quit=lambda x: x['total_quit'] / x['total_workers'] * 100).sort_values(\n",
    "                            by='prctg_quit', ascending=False)"
   ]
  },
  {
   "cell_type": "code",
   "execution_count": 46,
   "metadata": {},
   "outputs": [
    {
     "data": {
      "text/html": [
       "<div>\n",
       "<style scoped>\n",
       "    .dataframe tbody tr th:only-of-type {\n",
       "        vertical-align: middle;\n",
       "    }\n",
       "\n",
       "    .dataframe tbody tr th {\n",
       "        vertical-align: top;\n",
       "    }\n",
       "\n",
       "    .dataframe thead th {\n",
       "        text-align: right;\n",
       "    }\n",
       "</style>\n",
       "<table border=\"1\" class=\"dataframe\">\n",
       "  <thead>\n",
       "    <tr style=\"text-align: right;\">\n",
       "      <th></th>\n",
       "      <th>total_quit</th>\n",
       "      <th>total_workers</th>\n",
       "      <th>prctg_quit</th>\n",
       "    </tr>\n",
       "    <tr>\n",
       "      <th>last_year_violations</th>\n",
       "      <th></th>\n",
       "      <th></th>\n",
       "      <th></th>\n",
       "    </tr>\n",
       "  </thead>\n",
       "  <tbody>\n",
       "    <tr>\n",
       "      <th>yes</th>\n",
       "      <td>228</td>\n",
       "      <td>545</td>\n",
       "      <td>41.834862</td>\n",
       "    </tr>\n",
       "    <tr>\n",
       "      <th>no</th>\n",
       "      <td>900</td>\n",
       "      <td>3455</td>\n",
       "      <td>26.049204</td>\n",
       "    </tr>\n",
       "  </tbody>\n",
       "</table>\n",
       "</div>"
      ],
      "text/plain": [
       "                      total_quit  total_workers  prctg_quit\n",
       "last_year_violations                                       \n",
       "yes                          228            545   41.834862\n",
       "no                           900           3455   26.049204"
      ]
     },
     "execution_count": 46,
     "metadata": {},
     "output_type": "execute_result"
    }
   ],
   "source": [
    "temp_train_df.groupby('last_year_violations').agg(total_quit=('quit', 'sum'),\n",
    "                             total_workers=('quit', 'count')).assign(\n",
    "                            prctg_quit=lambda x: x['total_quit'] / x['total_workers'] * 100).sort_values(\n",
    "                            by='prctg_quit', ascending=False)"
   ]
  },
  {
   "cell_type": "code",
   "execution_count": 47,
   "metadata": {},
   "outputs": [
    {
     "data": {
      "text/html": [
       "<div>\n",
       "<style scoped>\n",
       "    .dataframe tbody tr th:only-of-type {\n",
       "        vertical-align: middle;\n",
       "    }\n",
       "\n",
       "    .dataframe tbody tr th {\n",
       "        vertical-align: top;\n",
       "    }\n",
       "\n",
       "    .dataframe thead th {\n",
       "        text-align: right;\n",
       "    }\n",
       "</style>\n",
       "<table border=\"1\" class=\"dataframe\">\n",
       "  <thead>\n",
       "    <tr style=\"text-align: right;\">\n",
       "      <th></th>\n",
       "      <th>quit</th>\n",
       "      <th>salary</th>\n",
       "    </tr>\n",
       "  </thead>\n",
       "  <tbody>\n",
       "    <tr>\n",
       "      <th>0</th>\n",
       "      <td>no</td>\n",
       "      <td>37702.228412</td>\n",
       "    </tr>\n",
       "    <tr>\n",
       "      <th>1</th>\n",
       "      <td>yes</td>\n",
       "      <td>23885.106383</td>\n",
       "    </tr>\n",
       "  </tbody>\n",
       "</table>\n",
       "</div>"
      ],
      "text/plain": [
       "  quit        salary\n",
       "0   no  37702.228412\n",
       "1  yes  23885.106383"
      ]
     },
     "metadata": {},
     "output_type": "display_data"
    },
    {
     "data": {
      "image/png": "[encoded data removed]",
      "text/plain": [
       "<Figure size 432x288 with 1 Axes>"
      ]
     },
     "metadata": {
      "needs_background": "light"
     },
     "output_type": "display_data"
    }
   ],
   "source": [
    "salary_agg = train_df.groupby('quit')['salary'].mean().reset_index()\n",
    "display(salary_agg)\n",
    "sns.barplot(data=salary_agg, x='quit', y='salary', hue='quit')\n",
    "plt.title('Средняя зарплата у сотрудников')\n",
    "plt.show()"
   ]
  },
  {
   "cell_type": "markdown",
   "metadata": {},
   "source": [
    "- В отделе `technology` самый высокий процент уволившихся сотрудников (29.7%)\n",
    "- 51.4% сотрудников уровня junior уволились из компании, когда из сотрудников уровней middle и senior всего 6,37% и 4,76% соответственно\n",
    "- 42% сотрудников с низкой загруженностью увольняются с работы\n",
    "- 28.9% cотрудников, не получивших повышение за последний угод, покинули компанию\n",
    "- 41.8% cотрудников, нарушавших трудовой договор за последний год, уволились из компании\n",
    "- Средняя зарплата у уволившихся сотрудников меньше, чем у оставшихся"
   ]
  },
  {
   "cell_type": "markdown",
   "metadata": {},
   "source": [
    "Добавим из тестовой выборки первой задачи признак `job_satisfaction_rate` к тестовому датасету второй задачи"
   ]
  },
  {
   "cell_type": "code",
   "execution_count": 48,
   "metadata": {},
   "outputs": [
    {
     "data": {
      "text/html": [
       "<div>\n",
       "<style scoped>\n",
       "    .dataframe tbody tr th:only-of-type {\n",
       "        vertical-align: middle;\n",
       "    }\n",
       "\n",
       "    .dataframe tbody tr th {\n",
       "        vertical-align: top;\n",
       "    }\n",
       "\n",
       "    .dataframe thead th {\n",
       "        text-align: right;\n",
       "    }\n",
       "</style>\n",
       "<table border=\"1\" class=\"dataframe\">\n",
       "  <thead>\n",
       "    <tr style=\"text-align: right;\">\n",
       "      <th></th>\n",
       "      <th>id</th>\n",
       "      <th>dept</th>\n",
       "      <th>level</th>\n",
       "      <th>workload</th>\n",
       "      <th>employment_years</th>\n",
       "      <th>last_year_promo</th>\n",
       "      <th>last_year_violations</th>\n",
       "      <th>supervisor_evaluation</th>\n",
       "      <th>salary</th>\n",
       "      <th>quit</th>\n",
       "      <th>job_satisfaction_rate</th>\n",
       "    </tr>\n",
       "  </thead>\n",
       "  <tbody>\n",
       "    <tr>\n",
       "      <th>0</th>\n",
       "      <td>485046</td>\n",
       "      <td>marketing</td>\n",
       "      <td>junior</td>\n",
       "      <td>medium</td>\n",
       "      <td>2</td>\n",
       "      <td>no</td>\n",
       "      <td>no</td>\n",
       "      <td>5</td>\n",
       "      <td>28800</td>\n",
       "      <td>no</td>\n",
       "      <td>0.79</td>\n",
       "    </tr>\n",
       "    <tr>\n",
       "      <th>1</th>\n",
       "      <td>686555</td>\n",
       "      <td>hr</td>\n",
       "      <td>junior</td>\n",
       "      <td>medium</td>\n",
       "      <td>1</td>\n",
       "      <td>no</td>\n",
       "      <td>no</td>\n",
       "      <td>4</td>\n",
       "      <td>30000</td>\n",
       "      <td>no</td>\n",
       "      <td>0.72</td>\n",
       "    </tr>\n",
       "    <tr>\n",
       "      <th>2</th>\n",
       "      <td>467458</td>\n",
       "      <td>sales</td>\n",
       "      <td>middle</td>\n",
       "      <td>low</td>\n",
       "      <td>5</td>\n",
       "      <td>no</td>\n",
       "      <td>no</td>\n",
       "      <td>4</td>\n",
       "      <td>19200</td>\n",
       "      <td>no</td>\n",
       "      <td>0.64</td>\n",
       "    </tr>\n",
       "    <tr>\n",
       "      <th>3</th>\n",
       "      <td>418655</td>\n",
       "      <td>sales</td>\n",
       "      <td>middle</td>\n",
       "      <td>low</td>\n",
       "      <td>6</td>\n",
       "      <td>no</td>\n",
       "      <td>no</td>\n",
       "      <td>4</td>\n",
       "      <td>19200</td>\n",
       "      <td>no</td>\n",
       "      <td>0.60</td>\n",
       "    </tr>\n",
       "    <tr>\n",
       "      <th>4</th>\n",
       "      <td>789145</td>\n",
       "      <td>hr</td>\n",
       "      <td>middle</td>\n",
       "      <td>medium</td>\n",
       "      <td>5</td>\n",
       "      <td>no</td>\n",
       "      <td>no</td>\n",
       "      <td>5</td>\n",
       "      <td>40800</td>\n",
       "      <td>no</td>\n",
       "      <td>0.75</td>\n",
       "    </tr>\n",
       "  </tbody>\n",
       "</table>\n",
       "</div>"
      ],
      "text/plain": [
       "       id       dept   level workload  employment_years last_year_promo  \\\n",
       "0  485046  marketing  junior   medium                 2              no   \n",
       "1  686555         hr  junior   medium                 1              no   \n",
       "2  467458      sales  middle      low                 5              no   \n",
       "3  418655      sales  middle      low                 6              no   \n",
       "4  789145         hr  middle   medium                 5              no   \n",
       "\n",
       "  last_year_violations  supervisor_evaluation  salary quit  \\\n",
       "0                   no                      5   28800   no   \n",
       "1                   no                      4   30000   no   \n",
       "2                   no                      4   19200   no   \n",
       "3                   no                      4   19200   no   \n",
       "4                   no                      5   40800   no   \n",
       "\n",
       "   job_satisfaction_rate  \n",
       "0                   0.79  \n",
       "1                   0.72  \n",
       "2                   0.64  \n",
       "3                   0.60  \n",
       "4                   0.75  "
      ]
     },
     "execution_count": 48,
     "metadata": {},
     "output_type": "execute_result"
    }
   ],
   "source": [
    "test_df_merged = test_df.merge(test_data[['id', 'job_satisfaction_rate']], on='id')\n",
    "test_df_merged.head()"
   ]
  },
  {
   "cell_type": "code",
   "execution_count": 49,
   "metadata": {},
   "outputs": [
    {
     "data": {
      "text/html": [
       "<div>\n",
       "<style scoped>\n",
       "    .dataframe tbody tr th:only-of-type {\n",
       "        vertical-align: middle;\n",
       "    }\n",
       "\n",
       "    .dataframe tbody tr th {\n",
       "        vertical-align: top;\n",
       "    }\n",
       "\n",
       "    .dataframe thead th {\n",
       "        text-align: right;\n",
       "    }\n",
       "</style>\n",
       "<table border=\"1\" class=\"dataframe\">\n",
       "  <thead>\n",
       "    <tr style=\"text-align: right;\">\n",
       "      <th></th>\n",
       "      <th>quit</th>\n",
       "      <th>job_satisfaction_rate</th>\n",
       "    </tr>\n",
       "  </thead>\n",
       "  <tbody>\n",
       "    <tr>\n",
       "      <th>0</th>\n",
       "      <td>no</td>\n",
       "      <td>0.612040</td>\n",
       "    </tr>\n",
       "    <tr>\n",
       "      <th>1</th>\n",
       "      <td>yes</td>\n",
       "      <td>0.387713</td>\n",
       "    </tr>\n",
       "  </tbody>\n",
       "</table>\n",
       "</div>"
      ],
      "text/plain": [
       "  quit  job_satisfaction_rate\n",
       "0   no               0.612040\n",
       "1  yes               0.387713"
      ]
     },
     "metadata": {},
     "output_type": "display_data"
    },
    {
     "data": {
      "image/png": "[encoded data removed]",
      "text/plain": [
       "<Figure size 432x288 with 1 Axes>"
      ]
     },
     "metadata": {
      "needs_background": "light"
     },
     "output_type": "display_data"
    }
   ],
   "source": [
    "job_satisfaction_agg = test_df_merged.groupby('quit')['job_satisfaction_rate'].mean().reset_index()\n",
    "display(job_satisfaction_agg)\n",
    "sns.barplot(data=job_satisfaction_agg, x='quit', y='job_satisfaction_rate', hue='quit')\n",
    "plt.title('Уровень удовлетворённости для ушедших и оставшихся сотрудников')\n",
    "plt.show()"
   ]
  },
  {
   "cell_type": "markdown",
   "metadata": {},
   "source": [
    "На графике видно, что уровень удовлетворенности работой выше у оставшихся выше, чем у уволившихся"
   ]
  },
  {
   "cell_type": "markdown",
   "metadata": {},
   "source": [
    "**Мини-вывод:**\n",
    "\n",
    "Уволивший сотрудник это скорее всего:\n",
    "- специалист уровня junior\n",
    "- из отдела technology\n",
    "- с низкой загруженностью\n",
    "- не получивший повышение на должности за последний год\n",
    "- нарушал трудовой договор\n",
    "- с низкой зарплатой\n",
    "- с низким уровнем удовлетворенности работой "
   ]
  },
  {
   "cell_type": "markdown",
   "metadata": {},
   "source": [
    "**Разделим данные на входные и целевой признаки**"
   ]
  },
  {
   "cell_type": "code",
   "execution_count": 50,
   "metadata": {},
   "outputs": [
    {
     "name": "stdout",
     "output_type": "stream",
     "text": [
      "Размер new_X_train (1796, 8)\n",
      "Размер new_y_train (1796,)\n"
     ]
    }
   ],
   "source": [
    "train_df_indexed = train_df.set_index('id')\n",
    "new_X_train = train_df_indexed.drop(columns='quit')\n",
    "new_y_train = train_df_indexed['quit']\n",
    "\n",
    "duplicates = new_X_train[new_X_train.duplicated(keep=False)]\n",
    "\n",
    "duplicate_indices = duplicates.index\n",
    "\n",
    "new_X_train = new_X_train.drop(duplicate_indices)\n",
    "new_y_train = new_y_train.drop(duplicate_indices)\n",
    "\n",
    "print(f'Размер new_X_train {new_X_train.shape}')\n",
    "print(f'Размер new_y_train {new_y_train.shape}')"
   ]
  },
  {
   "cell_type": "code",
   "execution_count": 51,
   "metadata": {},
   "outputs": [],
   "source": [
    "new_X_test = test_df_merged.drop(columns='quit')\n",
    "new_y_test = test_df_merged['quit']"
   ]
  },
  {
   "cell_type": "markdown",
   "metadata": {},
   "source": [
    "<a class=\"anchor\" id=\"chapter22\"></a>\n",
    "### Добавление нового признака"
   ]
  },
  {
   "cell_type": "markdown",
   "metadata": {},
   "source": [
    "Используя лучшую модель из первой задачи, предскажем признак `job_satisfaction_rate` для тренировочной выборки второго задания"
   ]
  },
  {
   "cell_type": "code",
   "execution_count": 52,
   "metadata": {},
   "outputs": [],
   "source": [
    "new_X_train_preprocessed = best_model.named_steps['preprocessor'].transform(new_X_train[num_col_names+cat_col_names+ord_col_names])\n",
    "new_predictions = best_model.named_steps['models'].predict(new_X_train_preprocessed)\n",
    "new_X_train['job_satisfaction_rate'] = new_predictions"
   ]
  },
  {
   "cell_type": "markdown",
   "metadata": {},
   "source": [
    "Теперь определим новые столбцы для второй задачи"
   ]
  },
  {
   "cell_type": "code",
   "execution_count": 53,
   "metadata": {},
   "outputs": [],
   "source": [
    "new_num_col = ['employment_years', 'supervisor_evaluation', 'salary', 'job_satisfaction_rate']\n",
    "\n",
    "new_cat_col = ['dept', 'last_year_promo', 'last_year_violations']\n",
    "\n",
    "new_ord_col = ['level', 'workload']"
   ]
  },
  {
   "cell_type": "markdown",
   "metadata": {},
   "source": [
    "<a class=\"anchor\" id=\"chapter23\"></a>\n",
    "### Пайплайн для подготовки данных"
   ]
  },
  {
   "cell_type": "markdown",
   "metadata": {},
   "source": [
    "Закодируем целевой признак с помощью класса `LabelEncoder`"
   ]
  },
  {
   "cell_type": "code",
   "execution_count": 54,
   "metadata": {},
   "outputs": [],
   "source": [
    "label_encoder = LabelEncoder()\n",
    "label_encoder.fit(['no', 'yes'])\n",
    "\n",
    "new_y_train = label_encoder.transform(new_y_train)\n",
    "new_y_test = label_encoder.transform(new_y_test) "
   ]
  },
  {
   "cell_type": "markdown",
   "metadata": {},
   "source": [
    "Так как во второй задаче был добавлен новый признак `job_satisfaction_rate`, то создадим новый пайплайн для подготовки данных"
   ]
  },
  {
   "cell_type": "code",
   "execution_count": 55,
   "metadata": {},
   "outputs": [],
   "source": [
    "new_data_preprocessor = ColumnTransformer(\n",
    "    [\n",
    "        ('ohe', ohe_pipe, new_cat_col),\n",
    "        ('ord', ord_pipe, new_ord_col),\n",
    "        ('num', StandardScaler(), new_num_col)\n",
    "    ], \n",
    "    remainder='passthrough'\n",
    ") "
   ]
  },
  {
   "cell_type": "markdown",
   "metadata": {},
   "source": [
    "<a class=\"anchor\" id=\"chapter24\"></a>\n",
    "### Обучение моделей"
   ]
  },
  {
   "cell_type": "markdown",
   "metadata": {},
   "source": [
    "Обучим три модели DecisionTreeClassifier(), KNeighborsClassifier(), LogisticRegression() и с помощью RandomizedSearchCV найдем лучшую модель, подобрав гиперпараметры. "
   ]
  },
  {
   "cell_type": "code",
   "execution_count": 56,
   "metadata": {},
   "outputs": [
    {
     "data": {
      "text/html": [
       "<style>#sk-container-id-2 {\n",
       "  /* Definition of color scheme common for light and dark mode */\n",
       "  --sklearn-color-text: #000;\n",
       "  --sklearn-color-text-muted: #666;\n",
       "  --sklearn-color-line: gray;\n",
       "  /* Definition of color scheme for unfitted estimators */\n",
       "  --sklearn-color-unfitted-level-0: #fff5e6;\n",
       "  --sklearn-color-unfitted-level-1: #f6e4d2;\n",
       "  --sklearn-color-unfitted-level-2: #ffe0b3;\n",
       "  --sklearn-color-unfitted-level-3: chocolate;\n",
       "  /* Definition of color scheme for fitted estimators */\n",
       "  --sklearn-color-fitted-level-0: #f0f8ff;\n",
       "  --sklearn-color-fitted-level-1: #d4ebff;\n",
       "  --sklearn-color-fitted-level-2: #b3dbfd;\n",
       "  --sklearn-color-fitted-level-3: cornflowerblue;\n",
       "\n",
       "  /* Specific color for light theme */\n",
       "  --sklearn-color-text-on-default-background: var(--sg-text-color, var(--theme-code-foreground, var(--jp-content-font-color1, black)));\n",
       "  --sklearn-color-background: var(--sg-background-color, var(--theme-background, var(--jp-layout-color0, white)));\n",
       "  --sklearn-color-border-box: var(--sg-text-color, var(--theme-code-foreground, var(--jp-content-font-color1, black)));\n",
       "  --sklearn-color-icon: #696969;\n",
       "\n",
       "  @media (prefers-color-scheme: dark) {\n",
       "    /* Redefinition of color scheme for dark theme */\n",
       "    --sklearn-color-text-on-default-background: var(--sg-text-color, var(--theme-code-foreground, var(--jp-content-font-color1, white)));\n",
       "    --sklearn-color-background: var(--sg-background-color, var(--theme-background, var(--jp-layout-color0, #111)));\n",
       "    --sklearn-color-border-box: var(--sg-text-color, var(--theme-code-foreground, var(--jp-content-font-color1, white)));\n",
       "    --sklearn-color-icon: #878787;\n",
       "  }\n",
       "}\n",
       "\n",
       "#sk-container-id-2 {\n",
       "  color: var(--sklearn-color-text);\n",
       "}\n",
       "\n",
       "#sk-container-id-2 pre {\n",
       "  padding: 0;\n",
       "}\n",
       "\n",
       "#sk-container-id-2 input.sk-hidden--visually {\n",
       "  border: 0;\n",
       "  clip: rect(1px 1px 1px 1px);\n",
       "  clip: rect(1px, 1px, 1px, 1px);\n",
       "  height: 1px;\n",
       "  margin: -1px;\n",
       "  overflow: hidden;\n",
       "  padding: 0;\n",
       "  position: absolute;\n",
       "  width: 1px;\n",
       "}\n",
       "\n",
       "#sk-container-id-2 div.sk-dashed-wrapped {\n",
       "  border: 1px dashed var(--sklearn-color-line);\n",
       "  margin: 0 0.4em 0.5em 0.4em;\n",
       "  box-sizing: border-box;\n",
       "  padding-bottom: 0.4em;\n",
       "  background-color: var(--sklearn-color-background);\n",
       "}\n",
       "\n",
       "#sk-container-id-2 div.sk-container {\n",
       "  /* jupyter's `normalize.less` sets `[hidden] { display: none; }`\n",
       "     but bootstrap.min.css set `[hidden] { display: none !important; }`\n",
       "     so we also need the `!important` here to be able to override the\n",
       "     default hidden behavior on the sphinx rendered scikit-learn.org.\n",
       "     See: https://github.com/scikit-learn/scikit-learn/issues/21755 */\n",
       "  display: inline-block !important;\n",
       "  position: relative;\n",
       "}\n",
       "\n",
       "#sk-container-id-2 div.sk-text-repr-fallback {\n",
       "  display: none;\n",
       "}\n",
       "\n",
       "div.sk-parallel-item,\n",
       "div.sk-serial,\n",
       "div.sk-item {\n",
       "  /* draw centered vertical line to link estimators */\n",
       "  background-image: linear-gradient(var(--sklearn-color-text-on-default-background), var(--sklearn-color-text-on-default-background));\n",
       "  background-size: 2px 100%;\n",
       "  background-repeat: no-repeat;\n",
       "  background-position: center center;\n",
       "}\n",
       "\n",
       "/* Parallel-specific style estimator block */\n",
       "\n",
       "#sk-container-id-2 div.sk-parallel-item::after {\n",
       "  content: \"\";\n",
       "  width: 100%;\n",
       "  border-bottom: 2px solid var(--sklearn-color-text-on-default-background);\n",
       "  flex-grow: 1;\n",
       "}\n",
       "\n",
       "#sk-container-id-2 div.sk-parallel {\n",
       "  display: flex;\n",
       "  align-items: stretch;\n",
       "  justify-content: center;\n",
       "  background-color: var(--sklearn-color-background);\n",
       "  position: relative;\n",
       "}\n",
       "\n",
       "#sk-container-id-2 div.sk-parallel-item {\n",
       "  display: flex;\n",
       "  flex-direction: column;\n",
       "}\n",
       "\n",
       "#sk-container-id-2 div.sk-parallel-item:first-child::after {\n",
       "  align-self: flex-end;\n",
       "  width: 50%;\n",
       "}\n",
       "\n",
       "#sk-container-id-2 div.sk-parallel-item:last-child::after {\n",
       "  align-self: flex-start;\n",
       "  width: 50%;\n",
       "}\n",
       "\n",
       "#sk-container-id-2 div.sk-parallel-item:only-child::after {\n",
       "  width: 0;\n",
       "}\n",
       "\n",
       "/* Serial-specific style estimator block */\n",
       "\n",
       "#sk-container-id-2 div.sk-serial {\n",
       "  display: flex;\n",
       "  flex-direction: column;\n",
       "  align-items: center;\n",
       "  background-color: var(--sklearn-color-background);\n",
       "  padding-right: 1em;\n",
       "  padding-left: 1em;\n",
       "}\n",
       "\n",
       "\n",
       "/* Toggleable style: style used for estimator/Pipeline/ColumnTransformer box that is\n",
       "clickable and can be expanded/collapsed.\n",
       "- Pipeline and ColumnTransformer use this feature and define the default style\n",
       "- Estimators will overwrite some part of the style using the `sk-estimator` class\n",
       "*/\n",
       "\n",
       "/* Pipeline and ColumnTransformer style (default) */\n",
       "\n",
       "#sk-container-id-2 div.sk-toggleable {\n",
       "  /* Default theme specific background. It is overwritten whether we have a\n",
       "  specific estimator or a Pipeline/ColumnTransformer */\n",
       "  background-color: var(--sklearn-color-background);\n",
       "}\n",
       "\n",
       "/* Toggleable label */\n",
       "#sk-container-id-2 label.sk-toggleable__label {\n",
       "  cursor: pointer;\n",
       "  display: flex;\n",
       "  width: 100%;\n",
       "  margin-bottom: 0;\n",
       "  padding: 0.5em;\n",
       "  box-sizing: border-box;\n",
       "  text-align: center;\n",
       "  align-items: start;\n",
       "  justify-content: space-between;\n",
       "  gap: 0.5em;\n",
       "}\n",
       "\n",
       "#sk-container-id-2 label.sk-toggleable__label .caption {\n",
       "  font-size: 0.6rem;\n",
       "  font-weight: lighter;\n",
       "  color: var(--sklearn-color-text-muted);\n",
       "}\n",
       "\n",
       "#sk-container-id-2 label.sk-toggleable__label-arrow:before {\n",
       "  /* Arrow on the left of the label */\n",
       "  content: \"▸\";\n",
       "  float: left;\n",
       "  margin-right: 0.25em;\n",
       "  color: var(--sklearn-color-icon);\n",
       "}\n",
       "\n",
       "#sk-container-id-2 label.sk-toggleable__label-arrow:hover:before {\n",
       "  color: var(--sklearn-color-text);\n",
       "}\n",
       "\n",
       "/* Toggleable content - dropdown */\n",
       "\n",
       "#sk-container-id-2 div.sk-toggleable__content {\n",
       "  max-height: 0;\n",
       "  max-width: 0;\n",
       "  overflow: hidden;\n",
       "  text-align: left;\n",
       "  /* unfitted */\n",
       "  background-color: var(--sklearn-color-unfitted-level-0);\n",
       "}\n",
       "\n",
       "#sk-container-id-2 div.sk-toggleable__content.fitted {\n",
       "  /* fitted */\n",
       "  background-color: var(--sklearn-color-fitted-level-0);\n",
       "}\n",
       "\n",
       "#sk-container-id-2 div.sk-toggleable__content pre {\n",
       "  margin: 0.2em;\n",
       "  border-radius: 0.25em;\n",
       "  color: var(--sklearn-color-text);\n",
       "  /* unfitted */\n",
       "  background-color: var(--sklearn-color-unfitted-level-0);\n",
       "}\n",
       "\n",
       "#sk-container-id-2 div.sk-toggleable__content.fitted pre {\n",
       "  /* unfitted */\n",
       "  background-color: var(--sklearn-color-fitted-level-0);\n",
       "}\n",
       "\n",
       "#sk-container-id-2 input.sk-toggleable__control:checked~div.sk-toggleable__content {\n",
       "  /* Expand drop-down */\n",
       "  max-height: 200px;\n",
       "  max-width: 100%;\n",
       "  overflow: auto;\n",
       "}\n",
       "\n",
       "#sk-container-id-2 input.sk-toggleable__control:checked~label.sk-toggleable__label-arrow:before {\n",
       "  content: \"▾\";\n",
       "}\n",
       "\n",
       "/* Pipeline/ColumnTransformer-specific style */\n",
       "\n",
       "#sk-container-id-2 div.sk-label input.sk-toggleable__control:checked~label.sk-toggleable__label {\n",
       "  color: var(--sklearn-color-text);\n",
       "  background-color: var(--sklearn-color-unfitted-level-2);\n",
       "}\n",
       "\n",
       "#sk-container-id-2 div.sk-label.fitted input.sk-toggleable__control:checked~label.sk-toggleable__label {\n",
       "  background-color: var(--sklearn-color-fitted-level-2);\n",
       "}\n",
       "\n",
       "/* Estimator-specific style */\n",
       "\n",
       "/* Colorize estimator box */\n",
       "#sk-container-id-2 div.sk-estimator input.sk-toggleable__control:checked~label.sk-toggleable__label {\n",
       "  /* unfitted */\n",
       "  background-color: var(--sklearn-color-unfitted-level-2);\n",
       "}\n",
       "\n",
       "#sk-container-id-2 div.sk-estimator.fitted input.sk-toggleable__control:checked~label.sk-toggleable__label {\n",
       "  /* fitted */\n",
       "  background-color: var(--sklearn-color-fitted-level-2);\n",
       "}\n",
       "\n",
       "#sk-container-id-2 div.sk-label label.sk-toggleable__label,\n",
       "#sk-container-id-2 div.sk-label label {\n",
       "  /* The background is the default theme color */\n",
       "  color: var(--sklearn-color-text-on-default-background);\n",
       "}\n",
       "\n",
       "/* On hover, darken the color of the background */\n",
       "#sk-container-id-2 div.sk-label:hover label.sk-toggleable__label {\n",
       "  color: var(--sklearn-color-text);\n",
       "  background-color: var(--sklearn-color-unfitted-level-2);\n",
       "}\n",
       "\n",
       "/* Label box, darken color on hover, fitted */\n",
       "#sk-container-id-2 div.sk-label.fitted:hover label.sk-toggleable__label.fitted {\n",
       "  color: var(--sklearn-color-text);\n",
       "  background-color: var(--sklearn-color-fitted-level-2);\n",
       "}\n",
       "\n",
       "/* Estimator label */\n",
       "\n",
       "#sk-container-id-2 div.sk-label label {\n",
       "  font-family: monospace;\n",
       "  font-weight: bold;\n",
       "  display: inline-block;\n",
       "  line-height: 1.2em;\n",
       "}\n",
       "\n",
       "#sk-container-id-2 div.sk-label-container {\n",
       "  text-align: center;\n",
       "}\n",
       "\n",
       "/* Estimator-specific */\n",
       "#sk-container-id-2 div.sk-estimator {\n",
       "  font-family: monospace;\n",
       "  border: 1px dotted var(--sklearn-color-border-box);\n",
       "  border-radius: 0.25em;\n",
       "  box-sizing: border-box;\n",
       "  margin-bottom: 0.5em;\n",
       "  /* unfitted */\n",
       "  background-color: var(--sklearn-color-unfitted-level-0);\n",
       "}\n",
       "\n",
       "#sk-container-id-2 div.sk-estimator.fitted {\n",
       "  /* fitted */\n",
       "  background-color: var(--sklearn-color-fitted-level-0);\n",
       "}\n",
       "\n",
       "/* on hover */\n",
       "#sk-container-id-2 div.sk-estimator:hover {\n",
       "  /* unfitted */\n",
       "  background-color: var(--sklearn-color-unfitted-level-2);\n",
       "}\n",
       "\n",
       "#sk-container-id-2 div.sk-estimator.fitted:hover {\n",
       "  /* fitted */\n",
       "  background-color: var(--sklearn-color-fitted-level-2);\n",
       "}\n",
       "\n",
       "/* Specification for estimator info (e.g. \"i\" and \"?\") */\n",
       "\n",
       "/* Common style for \"i\" and \"?\" */\n",
       "\n",
       ".sk-estimator-doc-link,\n",
       "a:link.sk-estimator-doc-link,\n",
       "a:visited.sk-estimator-doc-link {\n",
       "  float: right;\n",
       "  font-size: smaller;\n",
       "  line-height: 1em;\n",
       "  font-family: monospace;\n",
       "  background-color: var(--sklearn-color-background);\n",
       "  border-radius: 1em;\n",
       "  height: 1em;\n",
       "  width: 1em;\n",
       "  text-decoration: none !important;\n",
       "  margin-left: 0.5em;\n",
       "  text-align: center;\n",
       "  /* unfitted */\n",
       "  border: var(--sklearn-color-unfitted-level-1) 1pt solid;\n",
       "  color: var(--sklearn-color-unfitted-level-1);\n",
       "}\n",
       "\n",
       ".sk-estimator-doc-link.fitted,\n",
       "a:link.sk-estimator-doc-link.fitted,\n",
       "a:visited.sk-estimator-doc-link.fitted {\n",
       "  /* fitted */\n",
       "  border: var(--sklearn-color-fitted-level-1) 1pt solid;\n",
       "  color: var(--sklearn-color-fitted-level-1);\n",
       "}\n",
       "\n",
       "/* On hover */\n",
       "div.sk-estimator:hover .sk-estimator-doc-link:hover,\n",
       ".sk-estimator-doc-link:hover,\n",
       "div.sk-label-container:hover .sk-estimator-doc-link:hover,\n",
       ".sk-estimator-doc-link:hover {\n",
       "  /* unfitted */\n",
       "  background-color: var(--sklearn-color-unfitted-level-3);\n",
       "  color: var(--sklearn-color-background);\n",
       "  text-decoration: none;\n",
       "}\n",
       "\n",
       "div.sk-estimator.fitted:hover .sk-estimator-doc-link.fitted:hover,\n",
       ".sk-estimator-doc-link.fitted:hover,\n",
       "div.sk-label-container:hover .sk-estimator-doc-link.fitted:hover,\n",
       ".sk-estimator-doc-link.fitted:hover {\n",
       "  /* fitted */\n",
       "  background-color: var(--sklearn-color-fitted-level-3);\n",
       "  color: var(--sklearn-color-background);\n",
       "  text-decoration: none;\n",
       "}\n",
       "\n",
       "/* Span, style for the box shown on hovering the info icon */\n",
       ".sk-estimator-doc-link span {\n",
       "  display: none;\n",
       "  z-index: 9999;\n",
       "  position: relative;\n",
       "  font-weight: normal;\n",
       "  right: .2ex;\n",
       "  padding: .5ex;\n",
       "  margin: .5ex;\n",
       "  width: min-content;\n",
       "  min-width: 20ex;\n",
       "  max-width: 50ex;\n",
       "  color: var(--sklearn-color-text);\n",
       "  box-shadow: 2pt 2pt 4pt #999;\n",
       "  /* unfitted */\n",
       "  background: var(--sklearn-color-unfitted-level-0);\n",
       "  border: .5pt solid var(--sklearn-color-unfitted-level-3);\n",
       "}\n",
       "\n",
       ".sk-estimator-doc-link.fitted span {\n",
       "  /* fitted */\n",
       "  background: var(--sklearn-color-fitted-level-0);\n",
       "  border: var(--sklearn-color-fitted-level-3);\n",
       "}\n",
       "\n",
       ".sk-estimator-doc-link:hover span {\n",
       "  display: block;\n",
       "}\n",
       "\n",
       "/* \"?\"-specific style due to the `<a>` HTML tag */\n",
       "\n",
       "#sk-container-id-2 a.estimator_doc_link {\n",
       "  float: right;\n",
       "  font-size: 1rem;\n",
       "  line-height: 1em;\n",
       "  font-family: monospace;\n",
       "  background-color: var(--sklearn-color-background);\n",
       "  border-radius: 1rem;\n",
       "  height: 1rem;\n",
       "  width: 1rem;\n",
       "  text-decoration: none;\n",
       "  /* unfitted */\n",
       "  color: var(--sklearn-color-unfitted-level-1);\n",
       "  border: var(--sklearn-color-unfitted-level-1) 1pt solid;\n",
       "}\n",
       "\n",
       "#sk-container-id-2 a.estimator_doc_link.fitted {\n",
       "  /* fitted */\n",
       "  border: var(--sklearn-color-fitted-level-1) 1pt solid;\n",
       "  color: var(--sklearn-color-fitted-level-1);\n",
       "}\n",
       "\n",
       "/* On hover */\n",
       "#sk-container-id-2 a.estimator_doc_link:hover {\n",
       "  /* unfitted */\n",
       "  background-color: var(--sklearn-color-unfitted-level-3);\n",
       "  color: var(--sklearn-color-background);\n",
       "  text-decoration: none;\n",
       "}\n",
       "\n",
       "#sk-container-id-2 a.estimator_doc_link.fitted:hover {\n",
       "  /* fitted */\n",
       "  background-color: var(--sklearn-color-fitted-level-3);\n",
       "}\n",
       "</style><div id=\"sk-container-id-2\" class=\"sk-top-container\"><div class=\"sk-text-repr-fallback\"><pre>RandomizedSearchCV(cv=5,\n",
       "                   estimator=Pipeline(steps=[(&#x27;preprocessor&#x27;,\n",
       "                                              ColumnTransformer(remainder=&#x27;passthrough&#x27;,\n",
       "                                                                transformers=[(&#x27;ohe&#x27;,\n",
       "                                                                               Pipeline(steps=[(&#x27;simpleImputer_ohe&#x27;,\n",
       "                                                                                                SimpleImputer(strategy=&#x27;most_frequent&#x27;)),\n",
       "                                                                                               (&#x27;ohe&#x27;,\n",
       "                                                                                                OneHotEncoder(drop=&#x27;first&#x27;,\n",
       "                                                                                                              handle_unknown=&#x27;ignore&#x27;,\n",
       "                                                                                                              sparse_output=False))]),\n",
       "                                                                               [&#x27;dept&#x27;,\n",
       "                                                                                &#x27;last_year_promo&#x27;,\n",
       "                                                                                &#x27;last_year_violations&#x27;]),\n",
       "                                                                              (&#x27;ord&#x27;,\n",
       "                                                                               Pip...\n",
       "                                         &#x27;models__metric&#x27;: [&#x27;manhattan&#x27;,\n",
       "                                                            &#x27;euclidean&#x27;],\n",
       "                                         &#x27;models__n_neighbors&#x27;: range(2, 11),\n",
       "                                         &#x27;preprocessor__num&#x27;: [StandardScaler(),\n",
       "                                                               MinMaxScaler(),\n",
       "                                                               &#x27;passthrough&#x27;]},\n",
       "                                        {&#x27;models&#x27;: [LogisticRegression(penalty=&#x27;l1&#x27;,\n",
       "                                                                       random_state=42,\n",
       "                                                                       solver=&#x27;liblinear&#x27;)],\n",
       "                                         &#x27;models__C&#x27;: range(1, 5),\n",
       "                                         &#x27;preprocessor__num&#x27;: [StandardScaler(),\n",
       "                                                               MinMaxScaler(),\n",
       "                                                               &#x27;passthrough&#x27;]}],\n",
       "                   random_state=42, scoring=&#x27;roc_auc&#x27;)</pre><b>In a Jupyter environment, please rerun this cell to show the HTML representation or trust the notebook. <br />On GitHub, the HTML representation is unable to render, please try loading this page with nbviewer.org.</b></div><div class=\"sk-container\" hidden><div class=\"sk-item sk-dashed-wrapped\"><div class=\"sk-label-container\"><div class=\"sk-label fitted sk-toggleable\"><input class=\"sk-toggleable__control sk-hidden--visually\" id=\"sk-estimator-id-16\" type=\"checkbox\" ><label for=\"sk-estimator-id-16\" class=\"sk-toggleable__label fitted sk-toggleable__label-arrow\"><div><div>RandomizedSearchCV</div></div><div><a class=\"sk-estimator-doc-link fitted\" rel=\"noreferrer\" target=\"_blank\" href=\"https://scikit-learn.org/1.6/modules/generated/sklearn.model_selection.RandomizedSearchCV.html\">?<span>Documentation for RandomizedSearchCV</span></a><span class=\"sk-estimator-doc-link fitted\">i<span>Fitted</span></span></div></label><div class=\"sk-toggleable__content fitted\"><pre>RandomizedSearchCV(cv=5,\n",
       "                   estimator=Pipeline(steps=[(&#x27;preprocessor&#x27;,\n",
       "                                              ColumnTransformer(remainder=&#x27;passthrough&#x27;,\n",
       "                                                                transformers=[(&#x27;ohe&#x27;,\n",
       "                                                                               Pipeline(steps=[(&#x27;simpleImputer_ohe&#x27;,\n",
       "                                                                                                SimpleImputer(strategy=&#x27;most_frequent&#x27;)),\n",
       "                                                                                               (&#x27;ohe&#x27;,\n",
       "                                                                                                OneHotEncoder(drop=&#x27;first&#x27;,\n",
       "                                                                                                              handle_unknown=&#x27;ignore&#x27;,\n",
       "                                                                                                              sparse_output=False))]),\n",
       "                                                                               [&#x27;dept&#x27;,\n",
       "                                                                                &#x27;last_year_promo&#x27;,\n",
       "                                                                                &#x27;last_year_violations&#x27;]),\n",
       "                                                                              (&#x27;ord&#x27;,\n",
       "                                                                               Pip...\n",
       "                                         &#x27;models__metric&#x27;: [&#x27;manhattan&#x27;,\n",
       "                                                            &#x27;euclidean&#x27;],\n",
       "                                         &#x27;models__n_neighbors&#x27;: range(2, 11),\n",
       "                                         &#x27;preprocessor__num&#x27;: [StandardScaler(),\n",
       "                                                               MinMaxScaler(),\n",
       "                                                               &#x27;passthrough&#x27;]},\n",
       "                                        {&#x27;models&#x27;: [LogisticRegression(penalty=&#x27;l1&#x27;,\n",
       "                                                                       random_state=42,\n",
       "                                                                       solver=&#x27;liblinear&#x27;)],\n",
       "                                         &#x27;models__C&#x27;: range(1, 5),\n",
       "                                         &#x27;preprocessor__num&#x27;: [StandardScaler(),\n",
       "                                                               MinMaxScaler(),\n",
       "                                                               &#x27;passthrough&#x27;]}],\n",
       "                   random_state=42, scoring=&#x27;roc_auc&#x27;)</pre></div> </div></div><div class=\"sk-parallel\"><div class=\"sk-parallel-item\"><div class=\"sk-item\"><div class=\"sk-label-container\"><div class=\"sk-label fitted sk-toggleable\"><input class=\"sk-toggleable__control sk-hidden--visually\" id=\"sk-estimator-id-17\" type=\"checkbox\" ><label for=\"sk-estimator-id-17\" class=\"sk-toggleable__label fitted sk-toggleable__label-arrow\"><div><div>best_estimator_: Pipeline</div></div></label><div class=\"sk-toggleable__content fitted\"><pre>Pipeline(steps=[(&#x27;preprocessor&#x27;,\n",
       "                 ColumnTransformer(remainder=&#x27;passthrough&#x27;,\n",
       "                                   transformers=[(&#x27;ohe&#x27;,\n",
       "                                                  Pipeline(steps=[(&#x27;simpleImputer_ohe&#x27;,\n",
       "                                                                   SimpleImputer(strategy=&#x27;most_frequent&#x27;)),\n",
       "                                                                  (&#x27;ohe&#x27;,\n",
       "                                                                   OneHotEncoder(drop=&#x27;first&#x27;,\n",
       "                                                                                 handle_unknown=&#x27;ignore&#x27;,\n",
       "                                                                                 sparse_output=False))]),\n",
       "                                                  [&#x27;dept&#x27;, &#x27;last_year_promo&#x27;,\n",
       "                                                   &#x27;last_year_violations&#x27;]),\n",
       "                                                 (&#x27;ord&#x27;,\n",
       "                                                  Pipeline(steps=[(&#x27;simpleImputer_befor...\n",
       "                                                                                  handle_unknown=&#x27;use_encoded_value&#x27;,\n",
       "                                                                                  unknown_value=nan)),\n",
       "                                                                  (&#x27;simpleImputer_after_ord&#x27;,\n",
       "                                                                   SimpleImputer(strategy=&#x27;most_frequent&#x27;))]),\n",
       "                                                  [&#x27;level&#x27;, &#x27;workload&#x27;]),\n",
       "                                                 (&#x27;num&#x27;, &#x27;passthrough&#x27;,\n",
       "                                                  [&#x27;employment_years&#x27;,\n",
       "                                                   &#x27;supervisor_evaluation&#x27;,\n",
       "                                                   &#x27;salary&#x27;,\n",
       "                                                   &#x27;job_satisfaction_rate&#x27;])])),\n",
       "                (&#x27;models&#x27;,\n",
       "                 DecisionTreeClassifier(max_depth=5, min_samples_leaf=2,\n",
       "                                        min_samples_split=9,\n",
       "                                        random_state=42))])</pre></div> </div></div><div class=\"sk-serial\"><div class=\"sk-item\"><div class=\"sk-serial\"><div class=\"sk-item sk-dashed-wrapped\"><div class=\"sk-label-container\"><div class=\"sk-label fitted sk-toggleable\"><input class=\"sk-toggleable__control sk-hidden--visually\" id=\"sk-estimator-id-18\" type=\"checkbox\" ><label for=\"sk-estimator-id-18\" class=\"sk-toggleable__label fitted sk-toggleable__label-arrow\"><div><div>preprocessor: ColumnTransformer</div></div><div><a class=\"sk-estimator-doc-link fitted\" rel=\"noreferrer\" target=\"_blank\" href=\"https://scikit-learn.org/1.6/modules/generated/sklearn.compose.ColumnTransformer.html\">?<span>Documentation for preprocessor: ColumnTransformer</span></a></div></label><div class=\"sk-toggleable__content fitted\"><pre>ColumnTransformer(remainder=&#x27;passthrough&#x27;,\n",
       "                  transformers=[(&#x27;ohe&#x27;,\n",
       "                                 Pipeline(steps=[(&#x27;simpleImputer_ohe&#x27;,\n",
       "                                                  SimpleImputer(strategy=&#x27;most_frequent&#x27;)),\n",
       "                                                 (&#x27;ohe&#x27;,\n",
       "                                                  OneHotEncoder(drop=&#x27;first&#x27;,\n",
       "                                                                handle_unknown=&#x27;ignore&#x27;,\n",
       "                                                                sparse_output=False))]),\n",
       "                                 [&#x27;dept&#x27;, &#x27;last_year_promo&#x27;,\n",
       "                                  &#x27;last_year_violations&#x27;]),\n",
       "                                (&#x27;ord&#x27;,\n",
       "                                 Pipeline(steps=[(&#x27;simpleImputer_before_ord&#x27;,\n",
       "                                                  SimpleImputer(strategy=&#x27;most_frequent&#x27;)),\n",
       "                                                 (&#x27;ord&#x27;,\n",
       "                                                  OrdinalEncoder(categories=[[&#x27;juniormiddlesinior&#x27;],\n",
       "                                                                             [&#x27;low&#x27;,\n",
       "                                                                              &#x27;medium&#x27;,\n",
       "                                                                              &#x27;high&#x27;]],\n",
       "                                                                 handle_unknown=&#x27;use_encoded_value&#x27;,\n",
       "                                                                 unknown_value=nan)),\n",
       "                                                 (&#x27;simpleImputer_after_ord&#x27;,\n",
       "                                                  SimpleImputer(strategy=&#x27;most_frequent&#x27;))]),\n",
       "                                 [&#x27;level&#x27;, &#x27;workload&#x27;]),\n",
       "                                (&#x27;num&#x27;, &#x27;passthrough&#x27;,\n",
       "                                 [&#x27;employment_years&#x27;, &#x27;supervisor_evaluation&#x27;,\n",
       "                                  &#x27;salary&#x27;, &#x27;job_satisfaction_rate&#x27;])])</pre></div> </div></div><div class=\"sk-parallel\"><div class=\"sk-parallel-item\"><div class=\"sk-item\"><div class=\"sk-label-container\"><div class=\"sk-label fitted sk-toggleable\"><input class=\"sk-toggleable__control sk-hidden--visually\" id=\"sk-estimator-id-19\" type=\"checkbox\" ><label for=\"sk-estimator-id-19\" class=\"sk-toggleable__label fitted sk-toggleable__label-arrow\"><div><div>ohe</div></div></label><div class=\"sk-toggleable__content fitted\"><pre>[&#x27;dept&#x27;, &#x27;last_year_promo&#x27;, &#x27;last_year_violations&#x27;]</pre></div> </div></div><div class=\"sk-serial\"><div class=\"sk-item\"><div class=\"sk-serial\"><div class=\"sk-item\"><div class=\"sk-estimator fitted sk-toggleable\"><input class=\"sk-toggleable__control sk-hidden--visually\" id=\"sk-estimator-id-20\" type=\"checkbox\" ><label for=\"sk-estimator-id-20\" class=\"sk-toggleable__label fitted sk-toggleable__label-arrow\"><div><div>SimpleImputer</div></div><div><a class=\"sk-estimator-doc-link fitted\" rel=\"noreferrer\" target=\"_blank\" href=\"https://scikit-learn.org/1.6/modules/generated/sklearn.impute.SimpleImputer.html\">?<span>Documentation for SimpleImputer</span></a></div></label><div class=\"sk-toggleable__content fitted\"><pre>SimpleImputer(strategy=&#x27;most_frequent&#x27;)</pre></div> </div></div><div class=\"sk-item\"><div class=\"sk-estimator fitted sk-toggleable\"><input class=\"sk-toggleable__control sk-hidden--visually\" id=\"sk-estimator-id-21\" type=\"checkbox\" ><label for=\"sk-estimator-id-21\" class=\"sk-toggleable__label fitted sk-toggleable__label-arrow\"><div><div>OneHotEncoder</div></div><div><a class=\"sk-estimator-doc-link fitted\" rel=\"noreferrer\" target=\"_blank\" href=\"https://scikit-learn.org/1.6/modules/generated/sklearn.preprocessing.OneHotEncoder.html\">?<span>Documentation for OneHotEncoder</span></a></div></label><div class=\"sk-toggleable__content fitted\"><pre>OneHotEncoder(drop=&#x27;first&#x27;, handle_unknown=&#x27;ignore&#x27;, sparse_output=False)</pre></div> </div></div></div></div></div></div></div><div class=\"sk-parallel-item\"><div class=\"sk-item\"><div class=\"sk-label-container\"><div class=\"sk-label fitted sk-toggleable\"><input class=\"sk-toggleable__control sk-hidden--visually\" id=\"sk-estimator-id-22\" type=\"checkbox\" ><label for=\"sk-estimator-id-22\" class=\"sk-toggleable__label fitted sk-toggleable__label-arrow\"><div><div>ord</div></div></label><div class=\"sk-toggleable__content fitted\"><pre>[&#x27;level&#x27;, &#x27;workload&#x27;]</pre></div> </div></div><div class=\"sk-serial\"><div class=\"sk-item\"><div class=\"sk-serial\"><div class=\"sk-item\"><div class=\"sk-estimator fitted sk-toggleable\"><input class=\"sk-toggleable__control sk-hidden--visually\" id=\"sk-estimator-id-23\" type=\"checkbox\" ><label for=\"sk-estimator-id-23\" class=\"sk-toggleable__label fitted sk-toggleable__label-arrow\"><div><div>SimpleImputer</div></div><div><a class=\"sk-estimator-doc-link fitted\" rel=\"noreferrer\" target=\"_blank\" href=\"https://scikit-learn.org/1.6/modules/generated/sklearn.impute.SimpleImputer.html\">?<span>Documentation for SimpleImputer</span></a></div></label><div class=\"sk-toggleable__content fitted\"><pre>SimpleImputer(strategy=&#x27;most_frequent&#x27;)</pre></div> </div></div><div class=\"sk-item\"><div class=\"sk-estimator fitted sk-toggleable\"><input class=\"sk-toggleable__control sk-hidden--visually\" id=\"sk-estimator-id-24\" type=\"checkbox\" ><label for=\"sk-estimator-id-24\" class=\"sk-toggleable__label fitted sk-toggleable__label-arrow\"><div><div>OrdinalEncoder</div></div><div><a class=\"sk-estimator-doc-link fitted\" rel=\"noreferrer\" target=\"_blank\" href=\"https://scikit-learn.org/1.6/modules/generated/sklearn.preprocessing.OrdinalEncoder.html\">?<span>Documentation for OrdinalEncoder</span></a></div></label><div class=\"sk-toggleable__content fitted\"><pre>OrdinalEncoder(categories=[[&#x27;juniormiddlesinior&#x27;], [&#x27;low&#x27;, &#x27;medium&#x27;, &#x27;high&#x27;]],\n",
       "               handle_unknown=&#x27;use_encoded_value&#x27;, unknown_value=nan)</pre></div> </div></div><div class=\"sk-item\"><div class=\"sk-estimator fitted sk-toggleable\"><input class=\"sk-toggleable__control sk-hidden--visually\" id=\"sk-estimator-id-25\" type=\"checkbox\" ><label for=\"sk-estimator-id-25\" class=\"sk-toggleable__label fitted sk-toggleable__label-arrow\"><div><div>SimpleImputer</div></div><div><a class=\"sk-estimator-doc-link fitted\" rel=\"noreferrer\" target=\"_blank\" href=\"https://scikit-learn.org/1.6/modules/generated/sklearn.impute.SimpleImputer.html\">?<span>Documentation for SimpleImputer</span></a></div></label><div class=\"sk-toggleable__content fitted\"><pre>SimpleImputer(strategy=&#x27;most_frequent&#x27;)</pre></div> </div></div></div></div></div></div></div><div class=\"sk-parallel-item\"><div class=\"sk-item\"><div class=\"sk-label-container\"><div class=\"sk-label fitted sk-toggleable\"><input class=\"sk-toggleable__control sk-hidden--visually\" id=\"sk-estimator-id-26\" type=\"checkbox\" ><label for=\"sk-estimator-id-26\" class=\"sk-toggleable__label fitted sk-toggleable__label-arrow\"><div><div>num</div></div></label><div class=\"sk-toggleable__content fitted\"><pre>[&#x27;employment_years&#x27;, &#x27;supervisor_evaluation&#x27;, &#x27;salary&#x27;, &#x27;job_satisfaction_rate&#x27;]</pre></div> </div></div><div class=\"sk-serial\"><div class=\"sk-item\"><div class=\"sk-estimator fitted sk-toggleable\"><input class=\"sk-toggleable__control sk-hidden--visually\" id=\"sk-estimator-id-27\" type=\"checkbox\" ><label for=\"sk-estimator-id-27\" class=\"sk-toggleable__label fitted sk-toggleable__label-arrow\"><div><div>passthrough</div></div></label><div class=\"sk-toggleable__content fitted\"><pre>passthrough</pre></div> </div></div></div></div></div><div class=\"sk-parallel-item\"><div class=\"sk-item\"><div class=\"sk-label-container\"><div class=\"sk-label fitted sk-toggleable\"><input class=\"sk-toggleable__control sk-hidden--visually\" id=\"sk-estimator-id-28\" type=\"checkbox\" ><label for=\"sk-estimator-id-28\" class=\"sk-toggleable__label fitted sk-toggleable__label-arrow\"><div><div>remainder</div></div></label><div class=\"sk-toggleable__content fitted\"><pre>[]</pre></div> </div></div><div class=\"sk-serial\"><div class=\"sk-item\"><div class=\"sk-estimator fitted sk-toggleable\"><input class=\"sk-toggleable__control sk-hidden--visually\" id=\"sk-estimator-id-29\" type=\"checkbox\" ><label for=\"sk-estimator-id-29\" class=\"sk-toggleable__label fitted sk-toggleable__label-arrow\"><div><div>passthrough</div></div></label><div class=\"sk-toggleable__content fitted\"><pre>passthrough</pre></div> </div></div></div></div></div></div></div><div class=\"sk-item\"><div class=\"sk-estimator fitted sk-toggleable\"><input class=\"sk-toggleable__control sk-hidden--visually\" id=\"sk-estimator-id-30\" type=\"checkbox\" ><label for=\"sk-estimator-id-30\" class=\"sk-toggleable__label fitted sk-toggleable__label-arrow\"><div><div>DecisionTreeClassifier</div></div><div><a class=\"sk-estimator-doc-link fitted\" rel=\"noreferrer\" target=\"_blank\" href=\"https://scikit-learn.org/1.6/modules/generated/sklearn.tree.DecisionTreeClassifier.html\">?<span>Documentation for DecisionTreeClassifier</span></a></div></label><div class=\"sk-toggleable__content fitted\"><pre>DecisionTreeClassifier(max_depth=5, min_samples_leaf=2, min_samples_split=9,\n",
       "                       random_state=42)</pre></div> </div></div></div></div></div></div></div></div></div></div></div>"
      ],
      "text/plain": [
       "RandomizedSearchCV(cv=5,\n",
       "                   estimator=Pipeline(steps=[('preprocessor',\n",
       "                                              ColumnTransformer(remainder='passthrough',\n",
       "                                                                transformers=[('ohe',\n",
       "                                                                               Pipeline(steps=[('simpleImputer_ohe',\n",
       "                                                                                                SimpleImputer(strategy='most_frequent')),\n",
       "                                                                                               ('ohe',\n",
       "                                                                                                OneHotEncoder(drop='first',\n",
       "                                                                                                              handle_unknown='ignore',\n",
       "                                                                                                              sparse_output=False))]),\n",
       "                                                                               ['dept',\n",
       "                                                                                'last_year_promo',\n",
       "                                                                                'last_year_violations']),\n",
       "                                                                              ('ord',\n",
       "                                                                               Pip...\n",
       "                                         'models__metric': ['manhattan',\n",
       "                                                            'euclidean'],\n",
       "                                         'models__n_neighbors': range(2, 11),\n",
       "                                         'preprocessor__num': [StandardScaler(),\n",
       "                                                               MinMaxScaler(),\n",
       "                                                               'passthrough']},\n",
       "                                        {'models': [LogisticRegression(penalty='l1',\n",
       "                                                                       random_state=42,\n",
       "                                                                       solver='liblinear')],\n",
       "                                         'models__C': range(1, 5),\n",
       "                                         'preprocessor__num': [StandardScaler(),\n",
       "                                                               MinMaxScaler(),\n",
       "                                                               'passthrough']}],\n",
       "                   random_state=42, scoring='roc_auc')"
      ]
     },
     "execution_count": 56,
     "metadata": {},
     "output_type": "execute_result"
    }
   ],
   "source": [
    "pipe_final = Pipeline([\n",
    "    ('preprocessor', new_data_preprocessor),\n",
    "    ('models', DecisionTreeClassifier(random_state=RANDOM_STATE))\n",
    "])\n",
    "\n",
    "param_grid = [\n",
    "    # словарь для модели DecisionTreeClassifier()\n",
    "    {\n",
    "        'models': [DecisionTreeClassifier(random_state=RANDOM_STATE)],\n",
    "        'models__min_samples_split': range(2, 11),\n",
    "        'models__min_samples_leaf': range(1, 11),\n",
    "        'models__max_depth': range(2, 11),\n",
    "        'preprocessor__num': [StandardScaler(), MinMaxScaler(), 'passthrough']  \n",
    "    },\n",
    "    \n",
    "    # словарь для модели KNeighborsClassifier() \n",
    "    {\n",
    "        'models': [KNeighborsClassifier()],\n",
    "        'models__n_neighbors': range(2, 11),\n",
    "        'models__metric': ['manhattan', 'euclidean'],\n",
    "        'preprocessor__num': [StandardScaler(), MinMaxScaler(), 'passthrough']   \n",
    "    },\n",
    "\n",
    "    # словарь для модели LogisticRegression()\n",
    "    {\n",
    "        'models': [LogisticRegression(\n",
    "            random_state=RANDOM_STATE, \n",
    "            solver='liblinear', \n",
    "            penalty='l1'\n",
    "        )],\n",
    "        'models__C': range(1, 5),\n",
    "        'preprocessor__num': [StandardScaler(), MinMaxScaler(), 'passthrough']  \n",
    "    }\n",
    "]\n",
    "\n",
    "randomized_search = RandomizedSearchCV(\n",
    "    pipe_final, \n",
    "    param_grid, \n",
    "    cv=5,\n",
    "    scoring='roc_auc',\n",
    "    random_state=RANDOM_STATE,\n",
    "    n_jobs=-1\n",
    ")\n",
    "randomized_search.fit(new_X_train, new_y_train)"
   ]
  },
  {
   "cell_type": "code",
   "execution_count": 57,
   "metadata": {},
   "outputs": [
    {
     "name": "stdout",
     "output_type": "stream",
     "text": [
      "Лучшая модель и её параметры:\n",
      "\n",
      " Pipeline(steps=[('preprocessor',\n",
      "                 ColumnTransformer(remainder='passthrough',\n",
      "                                   transformers=[('ohe',\n",
      "                                                  Pipeline(steps=[('simpleImputer_ohe',\n",
      "                                                                   SimpleImputer(strategy='most_frequent')),\n",
      "                                                                  ('ohe',\n",
      "                                                                   OneHotEncoder(drop='first',\n",
      "                                                                                 handle_unknown='ignore',\n",
      "                                                                                 sparse_output=False))]),\n",
      "                                                  ['dept', 'last_year_promo',\n",
      "                                                   'last_year_violations']),\n",
      "                                                 ('ord',\n",
      "                                                  Pipeline(steps=[('simpleImputer_befor...\n",
      "                                                                                  handle_unknown='use_encoded_value',\n",
      "                                                                                  unknown_value=nan)),\n",
      "                                                                  ('simpleImputer_after_ord',\n",
      "                                                                   SimpleImputer(strategy='most_frequent'))]),\n",
      "                                                  ['level', 'workload']),\n",
      "                                                 ('num', 'passthrough',\n",
      "                                                  ['employment_years',\n",
      "                                                   'supervisor_evaluation',\n",
      "                                                   'salary',\n",
      "                                                   'job_satisfaction_rate'])])),\n",
      "                ('models',\n",
      "                 DecisionTreeClassifier(max_depth=5, min_samples_leaf=2,\n",
      "                                        min_samples_split=9,\n",
      "                                        random_state=42))])\n",
      "Метрика лучшей модели на кросс-валидации: 0.9061681164314919\n"
     ]
    }
   ],
   "source": [
    "print('Лучшая модель и её параметры:\\n\\n', randomized_search.best_estimator_)\n",
    "print ('Метрика лучшей модели на кросс-валидации:', randomized_search.best_score_)"
   ]
  },
  {
   "cell_type": "code",
   "execution_count": 58,
   "metadata": {},
   "outputs": [
    {
     "name": "stdout",
     "output_type": "stream",
     "text": [
      "Метрика ROC-AUC на тестовой выборке: 0.9031576581915881\n"
     ]
    }
   ],
   "source": [
    "y_test_pred = randomized_search.predict_proba(new_X_test)[:,1]\n",
    "print(f'Метрика ROC-AUC на тестовой выборке: {roc_auc_score(new_y_test, y_test_pred)}')"
   ]
  },
  {
   "cell_type": "markdown",
   "metadata": {},
   "source": [
    "Лучшей моделью стала DecisionTreeClassifier, и ее значение на метрике ROC-AUC равно 0.90. "
   ]
  },
  {
   "cell_type": "markdown",
   "metadata": {},
   "source": [
    "<a class=\"anchor\" id=\"chapter25\"></a>\n",
    "## Общий вывод\n",
    "\n",
    "HR-аналитики компании «Работа с заботой» нужно помочь бизнесу оптимизировать управление персоналом, чтобы быстрее и точнее отвечать на вопросы бизнеса. Компания предоставила данные о своих сотрудниках, и в данном проекте предложила выполнить две задачи: предсказать уровень удовлетворенности работой сотрудником и предсказать на основе данных заказчика то, что сотрудник уволится из компании. Для этого мы сделали следующие шаги:\n",
    "\n",
    "Для первой задачи: \n",
    "- Объединили входные и целевые признаки тестовой выборки в один датафрейм, чтобы избежать путаницы в порядке даннных;\n",
    "- Провели предобработку данных: проверили на наличие явных и неявных дубликатов, и пропущенных значений;\n",
    "- Провели исследовательский анализ данных: построили столбчатые диаграммы для дискретных признаков, гистограмму и \"ящик с усами\" для непрерывных признаков, столбчатую диаграмму и \"ящик с усами\" для категориальных признаков. \n",
    "- выполнили подготовку данных для обучения модели в пайплайне;\n",
    "- обучили две модели - DecisionTreeRegression и LinearRegression, подобрали гиперпараметры  с помощью RandomizedSearchCV: \n",
    "> - Метрика SMAPE лучшей модели DecisionTreeRegression на тестовой выборке: 18\n",
    "- Проанализировали важность признаков: `supervisor_evaluation` и `employment_years` самые важные признаки у лучшей модели\n",
    "\n",
    "Для второй задачи:\n",
    "- Объединили входные и целевые признаки тестовой выборки в один датафрейм, чтобы избежать путаницы в порядке даннных;\n",
    "- Провели предобработку данных: проверили на наличие явных и неявных дубликатов, и пропущенных значений;\n",
    "- Составили портрет уволившегося сотрудника: \n",
    "> Уволивший сотрудник это скорее всего:\n",
    "> - специалист уровня junior\n",
    "> - из отдела technology\n",
    "> - с низкой загруженностью\n",
    "> - не получивший повышение на должности за последний год\n",
    "> - нарушал трудовой договор\n",
    "> - с низкой зарплатой\n",
    "> - с низким уровнем удовлетворенности работой \n",
    "- Предсказали признак `job_satisfaction_rate` лучшей моделью из первой задачи;\n",
    "- Построили пайплайн для подготовки данных с учетом добавления нового признака;\n",
    "- Построили три модели `DecisionTreeClassifier`, `LogisticRegression`, `KNeighborsClassifier` и с помощью `RandomizedSearchCV` нашли лучщую модель, подобрав гиперпараметры:\n",
    "> - Метрика ROC-AUC лучшей модели DecisionTreeClassifier на тестовой выборке: 0.90"
   ]
  }
 ],
 "metadata": {
  "ExecuteTimeLog": [
   {
    "duration": 19926,
    "start_time": "2024-12-21T20:46:08.290Z"
   },
   {
    "duration": 457,
    "start_time": "2024-12-21T20:46:28.218Z"
   },
   {
    "duration": 0,
    "start_time": "2024-12-21T20:46:28.677Z"
   },
   {
    "duration": 0,
    "start_time": "2024-12-21T20:46:28.678Z"
   },
   {
    "duration": 0,
    "start_time": "2024-12-21T20:46:28.679Z"
   },
   {
    "duration": 0,
    "start_time": "2024-12-21T20:46:28.680Z"
   },
   {
    "duration": 0,
    "start_time": "2024-12-21T20:46:28.681Z"
   },
   {
    "duration": 0,
    "start_time": "2024-12-21T20:46:28.682Z"
   },
   {
    "duration": 0,
    "start_time": "2024-12-21T20:46:28.683Z"
   },
   {
    "duration": 0,
    "start_time": "2024-12-21T20:46:28.685Z"
   },
   {
    "duration": 0,
    "start_time": "2024-12-21T20:46:28.687Z"
   },
   {
    "duration": 0,
    "start_time": "2024-12-21T20:46:28.688Z"
   },
   {
    "duration": 0,
    "start_time": "2024-12-21T20:46:28.689Z"
   },
   {
    "duration": 0,
    "start_time": "2024-12-21T20:46:28.690Z"
   },
   {
    "duration": 0,
    "start_time": "2024-12-21T20:46:28.691Z"
   },
   {
    "duration": 0,
    "start_time": "2024-12-21T20:46:28.692Z"
   },
   {
    "duration": 0,
    "start_time": "2024-12-21T20:46:28.721Z"
   },
   {
    "duration": 0,
    "start_time": "2024-12-21T20:46:28.722Z"
   },
   {
    "duration": 0,
    "start_time": "2024-12-21T20:46:28.724Z"
   },
   {
    "duration": 0,
    "start_time": "2024-12-21T20:46:28.724Z"
   },
   {
    "duration": 0,
    "start_time": "2024-12-21T20:46:28.725Z"
   },
   {
    "duration": 0,
    "start_time": "2024-12-21T20:46:28.727Z"
   },
   {
    "duration": 0,
    "start_time": "2024-12-21T20:46:28.728Z"
   },
   {
    "duration": 0,
    "start_time": "2024-12-21T20:46:28.729Z"
   },
   {
    "duration": 0,
    "start_time": "2024-12-21T20:46:28.730Z"
   },
   {
    "duration": 0,
    "start_time": "2024-12-21T20:46:28.731Z"
   },
   {
    "duration": 0,
    "start_time": "2024-12-21T20:46:28.732Z"
   },
   {
    "duration": 0,
    "start_time": "2024-12-21T20:46:28.733Z"
   },
   {
    "duration": 0,
    "start_time": "2024-12-21T20:46:28.733Z"
   },
   {
    "duration": 0,
    "start_time": "2024-12-21T20:46:28.734Z"
   },
   {
    "duration": 0,
    "start_time": "2024-12-21T20:46:28.735Z"
   },
   {
    "duration": 0,
    "start_time": "2024-12-21T20:46:28.736Z"
   },
   {
    "duration": 0,
    "start_time": "2024-12-21T20:46:28.737Z"
   },
   {
    "duration": 0,
    "start_time": "2024-12-21T20:46:28.738Z"
   },
   {
    "duration": 0,
    "start_time": "2024-12-21T20:46:28.739Z"
   },
   {
    "duration": 0,
    "start_time": "2024-12-21T20:46:28.740Z"
   },
   {
    "duration": 0,
    "start_time": "2024-12-21T20:46:28.741Z"
   },
   {
    "duration": 0,
    "start_time": "2024-12-21T20:46:28.742Z"
   },
   {
    "duration": 0,
    "start_time": "2024-12-21T20:46:28.743Z"
   },
   {
    "duration": 25328,
    "start_time": "2024-12-21T20:54:15.096Z"
   },
   {
    "duration": 1845,
    "start_time": "2024-12-21T20:54:40.427Z"
   },
   {
    "duration": 370,
    "start_time": "2024-12-21T20:55:02.872Z"
   },
   {
    "duration": 16230,
    "start_time": "2024-12-21T20:55:20.522Z"
   },
   {
    "duration": 7,
    "start_time": "2024-12-21T20:55:36.755Z"
   },
   {
    "duration": 114,
    "start_time": "2024-12-21T20:55:36.763Z"
   },
   {
    "duration": 8,
    "start_time": "2024-12-21T20:55:36.879Z"
   },
   {
    "duration": 17,
    "start_time": "2024-12-21T20:55:36.889Z"
   },
   {
    "duration": 12,
    "start_time": "2024-12-21T20:55:36.908Z"
   },
   {
    "duration": 14,
    "start_time": "2024-12-21T20:55:36.921Z"
   },
   {
    "duration": 9,
    "start_time": "2024-12-21T20:55:36.937Z"
   },
   {
    "duration": 7,
    "start_time": "2024-12-21T20:55:36.948Z"
   },
   {
    "duration": 1528,
    "start_time": "2024-12-21T20:55:36.958Z"
   },
   {
    "duration": 1299,
    "start_time": "2024-12-21T20:55:38.488Z"
   },
   {
    "duration": 329,
    "start_time": "2024-12-21T20:55:39.788Z"
   },
   {
    "duration": 5,
    "start_time": "2024-12-21T20:55:40.118Z"
   },
   {
    "duration": 4,
    "start_time": "2024-12-21T20:55:40.124Z"
   },
   {
    "duration": 17,
    "start_time": "2024-12-21T20:55:40.129Z"
   },
   {
    "duration": 3,
    "start_time": "2024-12-21T20:55:40.147Z"
   },
   {
    "duration": 41,
    "start_time": "2024-12-21T20:55:40.151Z"
   },
   {
    "duration": 997,
    "start_time": "2024-12-21T20:55:40.193Z"
   },
   {
    "duration": 11,
    "start_time": "2024-12-21T20:55:41.192Z"
   },
   {
    "duration": 45347,
    "start_time": "2024-12-21T20:55:41.204Z"
   },
   {
    "duration": 436,
    "start_time": "2024-12-21T20:56:26.552Z"
   },
   {
    "duration": 0,
    "start_time": "2024-12-21T20:56:26.991Z"
   },
   {
    "duration": 0,
    "start_time": "2024-12-21T20:56:26.992Z"
   },
   {
    "duration": 0,
    "start_time": "2024-12-21T20:56:26.993Z"
   },
   {
    "duration": 0,
    "start_time": "2024-12-21T20:56:26.994Z"
   },
   {
    "duration": 0,
    "start_time": "2024-12-21T20:56:26.995Z"
   },
   {
    "duration": 0,
    "start_time": "2024-12-21T20:56:26.996Z"
   },
   {
    "duration": 0,
    "start_time": "2024-12-21T20:56:26.997Z"
   },
   {
    "duration": 0,
    "start_time": "2024-12-21T20:56:26.998Z"
   },
   {
    "duration": 0,
    "start_time": "2024-12-21T20:56:27.000Z"
   },
   {
    "duration": 0,
    "start_time": "2024-12-21T20:56:27.000Z"
   },
   {
    "duration": 0,
    "start_time": "2024-12-21T20:56:27.002Z"
   },
   {
    "duration": 0,
    "start_time": "2024-12-21T20:56:27.002Z"
   },
   {
    "duration": 0,
    "start_time": "2024-12-21T20:56:27.003Z"
   },
   {
    "duration": 0,
    "start_time": "2024-12-21T20:56:27.005Z"
   },
   {
    "duration": 0,
    "start_time": "2024-12-21T20:56:27.005Z"
   },
   {
    "duration": 0,
    "start_time": "2024-12-21T20:56:27.006Z"
   },
   {
    "duration": 0,
    "start_time": "2024-12-21T20:56:27.008Z"
   },
   {
    "duration": 0,
    "start_time": "2024-12-21T20:56:27.009Z"
   },
   {
    "duration": 106,
    "start_time": "2024-12-22T15:36:08.392Z"
   },
   {
    "duration": 74,
    "start_time": "2024-12-22T15:39:56.206Z"
   },
   {
    "duration": 77,
    "start_time": "2024-12-22T15:40:26.347Z"
   },
   {
    "duration": 26167,
    "start_time": "2024-12-22T16:05:40.181Z"
   },
   {
    "duration": 81,
    "start_time": "2024-12-22T16:08:22.318Z"
   },
   {
    "duration": 1991,
    "start_time": "2024-12-22T16:33:20.807Z"
   },
   {
    "duration": 263,
    "start_time": "2024-12-22T16:33:31.087Z"
   },
   {
    "duration": 145,
    "start_time": "2024-12-22T16:41:03.087Z"
   },
   {
    "duration": 131,
    "start_time": "2024-12-22T16:41:26.647Z"
   },
   {
    "duration": 7,
    "start_time": "2024-12-22T16:42:05.697Z"
   },
   {
    "duration": 15,
    "start_time": "2024-12-22T17:20:34.051Z"
   },
   {
    "duration": 13,
    "start_time": "2024-12-22T17:20:37.551Z"
   },
   {
    "duration": 15,
    "start_time": "2024-12-22T17:20:42.759Z"
   },
   {
    "duration": 10,
    "start_time": "2024-12-22T17:20:56.459Z"
   },
   {
    "duration": 10,
    "start_time": "2024-12-22T17:21:12.488Z"
   },
   {
    "duration": 9,
    "start_time": "2024-12-22T17:21:43.308Z"
   },
   {
    "duration": 78,
    "start_time": "2024-12-22T17:55:36.480Z"
   },
   {
    "duration": 2,
    "start_time": "2024-12-22T17:57:43.310Z"
   },
   {
    "duration": 105,
    "start_time": "2024-12-23T00:06:57.279Z"
   },
   {
    "duration": 5,
    "start_time": "2024-12-23T00:08:07.979Z"
   },
   {
    "duration": 212,
    "start_time": "2024-12-23T00:29:12.376Z"
   },
   {
    "duration": 7,
    "start_time": "2024-12-23T00:29:17.968Z"
   },
   {
    "duration": 11,
    "start_time": "2024-12-23T00:31:13.755Z"
   },
   {
    "duration": 8,
    "start_time": "2024-12-23T00:34:17.062Z"
   },
   {
    "duration": 11,
    "start_time": "2024-12-23T00:34:40.938Z"
   },
   {
    "duration": 12,
    "start_time": "2024-12-23T00:34:52.326Z"
   },
   {
    "duration": 111,
    "start_time": "2024-12-23T00:36:51.197Z"
   },
   {
    "duration": 85,
    "start_time": "2024-12-23T00:43:21.110Z"
   },
   {
    "duration": 101,
    "start_time": "2024-12-23T00:45:42.741Z"
   },
   {
    "duration": 11,
    "start_time": "2024-12-23T01:24:22.982Z"
   },
   {
    "duration": 10,
    "start_time": "2024-12-23T01:24:27.104Z"
   },
   {
    "duration": 7,
    "start_time": "2024-12-23T01:24:29.593Z"
   },
   {
    "duration": 1705,
    "start_time": "2024-12-23T01:25:52.858Z"
   },
   {
    "duration": 1433,
    "start_time": "2024-12-23T01:26:11.376Z"
   },
   {
    "duration": 343,
    "start_time": "2024-12-23T01:26:24.329Z"
   },
   {
    "duration": 6,
    "start_time": "2024-12-23T01:26:58.147Z"
   },
   {
    "duration": 3,
    "start_time": "2024-12-23T01:27:19.532Z"
   },
   {
    "duration": 12,
    "start_time": "2024-12-23T01:27:23.945Z"
   },
   {
    "duration": 5,
    "start_time": "2024-12-23T01:27:28.383Z"
   },
   {
    "duration": 43,
    "start_time": "2024-12-23T01:27:30.697Z"
   },
   {
    "duration": 5,
    "start_time": "2024-12-23T01:27:33.997Z"
   },
   {
    "duration": 1222,
    "start_time": "2024-12-23T01:27:37.458Z"
   },
   {
    "duration": 14,
    "start_time": "2024-12-23T01:27:52.597Z"
   },
   {
    "duration": 47220,
    "start_time": "2024-12-23T01:27:56.227Z"
   },
   {
    "duration": 146,
    "start_time": "2024-12-23T01:28:45.695Z"
   },
   {
    "duration": 1266,
    "start_time": "2024-12-23T01:31:18.438Z"
   },
   {
    "duration": 1231,
    "start_time": "2024-12-23T01:31:26.788Z"
   },
   {
    "duration": 160,
    "start_time": "2024-12-23T01:32:41.018Z"
   },
   {
    "duration": 13541,
    "start_time": "2024-12-23T01:34:19.991Z"
   },
   {
    "duration": 153,
    "start_time": "2024-12-23T01:35:15.746Z"
   },
   {
    "duration": 4987,
    "start_time": "2024-12-23T01:35:59.148Z"
   },
   {
    "duration": 6460,
    "start_time": "2024-12-23T01:36:09.615Z"
   },
   {
    "duration": 315,
    "start_time": "2024-12-23T01:36:23.475Z"
   },
   {
    "duration": 22313,
    "start_time": "2024-12-23T01:37:02.229Z"
   },
   {
    "duration": 1606,
    "start_time": "2024-12-23T01:37:24.544Z"
   },
   {
    "duration": 0,
    "start_time": "2024-12-23T01:37:26.153Z"
   },
   {
    "duration": 0,
    "start_time": "2024-12-23T01:37:26.154Z"
   },
   {
    "duration": 0,
    "start_time": "2024-12-23T01:37:26.155Z"
   },
   {
    "duration": 0,
    "start_time": "2024-12-23T01:37:26.157Z"
   },
   {
    "duration": 0,
    "start_time": "2024-12-23T01:37:26.158Z"
   },
   {
    "duration": 0,
    "start_time": "2024-12-23T01:37:26.159Z"
   },
   {
    "duration": 0,
    "start_time": "2024-12-23T01:37:26.160Z"
   },
   {
    "duration": 0,
    "start_time": "2024-12-23T01:37:26.161Z"
   },
   {
    "duration": 0,
    "start_time": "2024-12-23T01:37:26.162Z"
   },
   {
    "duration": 0,
    "start_time": "2024-12-23T01:37:26.163Z"
   },
   {
    "duration": 0,
    "start_time": "2024-12-23T01:37:26.164Z"
   },
   {
    "duration": 0,
    "start_time": "2024-12-23T01:37:26.165Z"
   },
   {
    "duration": 0,
    "start_time": "2024-12-23T01:37:26.166Z"
   },
   {
    "duration": 0,
    "start_time": "2024-12-23T01:37:26.167Z"
   },
   {
    "duration": 0,
    "start_time": "2024-12-23T01:37:26.169Z"
   },
   {
    "duration": 0,
    "start_time": "2024-12-23T01:37:26.170Z"
   },
   {
    "duration": 0,
    "start_time": "2024-12-23T01:37:26.171Z"
   },
   {
    "duration": 0,
    "start_time": "2024-12-23T01:37:26.172Z"
   },
   {
    "duration": 0,
    "start_time": "2024-12-23T01:37:26.173Z"
   },
   {
    "duration": 0,
    "start_time": "2024-12-23T01:37:26.174Z"
   },
   {
    "duration": 0,
    "start_time": "2024-12-23T01:37:26.175Z"
   },
   {
    "duration": 0,
    "start_time": "2024-12-23T01:37:26.177Z"
   },
   {
    "duration": 0,
    "start_time": "2024-12-23T01:37:26.178Z"
   },
   {
    "duration": 0,
    "start_time": "2024-12-23T01:37:26.179Z"
   },
   {
    "duration": 0,
    "start_time": "2024-12-23T01:37:26.180Z"
   },
   {
    "duration": 0,
    "start_time": "2024-12-23T01:37:26.230Z"
   },
   {
    "duration": 0,
    "start_time": "2024-12-23T01:37:26.231Z"
   },
   {
    "duration": 0,
    "start_time": "2024-12-23T01:37:26.232Z"
   },
   {
    "duration": 0,
    "start_time": "2024-12-23T01:37:26.233Z"
   },
   {
    "duration": 0,
    "start_time": "2024-12-23T01:37:26.235Z"
   },
   {
    "duration": 0,
    "start_time": "2024-12-23T01:37:26.236Z"
   },
   {
    "duration": 0,
    "start_time": "2024-12-23T01:37:26.237Z"
   },
   {
    "duration": 0,
    "start_time": "2024-12-23T01:37:26.238Z"
   },
   {
    "duration": 0,
    "start_time": "2024-12-23T01:37:26.239Z"
   },
   {
    "duration": 0,
    "start_time": "2024-12-23T01:37:26.240Z"
   },
   {
    "duration": 0,
    "start_time": "2024-12-23T01:37:26.241Z"
   },
   {
    "duration": 0,
    "start_time": "2024-12-23T01:37:26.242Z"
   },
   {
    "duration": 0,
    "start_time": "2024-12-23T01:37:26.243Z"
   },
   {
    "duration": 0,
    "start_time": "2024-12-23T01:37:26.244Z"
   },
   {
    "duration": 0,
    "start_time": "2024-12-23T01:37:26.245Z"
   },
   {
    "duration": 19,
    "start_time": "2024-12-23T01:37:39.471Z"
   },
   {
    "duration": 16571,
    "start_time": "2024-12-23T01:37:56.038Z"
   },
   {
    "duration": 25733,
    "start_time": "2024-12-23T01:39:52.180Z"
   },
   {
    "duration": 1429,
    "start_time": "2024-12-23T01:40:18.995Z"
   },
   {
    "duration": 22160,
    "start_time": "2024-12-23T01:40:58.622Z"
   },
   {
    "duration": 1892,
    "start_time": "2024-12-23T01:41:32.458Z"
   },
   {
    "duration": 19103,
    "start_time": "2024-12-23T01:42:34.524Z"
   },
   {
    "duration": 29,
    "start_time": "2024-12-23T01:43:21.942Z"
   },
   {
    "duration": 11167,
    "start_time": "2024-12-23T01:44:48.742Z"
   },
   {
    "duration": 26,
    "start_time": "2024-12-23T01:44:59.912Z"
   },
   {
    "duration": 18061,
    "start_time": "2024-12-23T01:45:16.699Z"
   },
   {
    "duration": 26,
    "start_time": "2024-12-23T01:45:44.931Z"
   },
   {
    "duration": 27508,
    "start_time": "2024-12-23T01:48:15.931Z"
   },
   {
    "duration": 1050,
    "start_time": "2024-12-23T01:52:16.417Z"
   },
   {
    "duration": 1844,
    "start_time": "2024-12-23T01:52:40.141Z"
   },
   {
    "duration": 26502,
    "start_time": "2024-12-23T01:52:49.819Z"
   },
   {
    "duration": 140,
    "start_time": "2024-12-23T01:53:59.707Z"
   },
   {
    "duration": 25354,
    "start_time": "2024-12-23T12:49:40.898Z"
   },
   {
    "duration": 1965,
    "start_time": "2024-12-23T12:50:13.021Z"
   },
   {
    "duration": 266,
    "start_time": "2024-12-23T12:51:11.693Z"
   },
   {
    "duration": 8,
    "start_time": "2024-12-23T12:51:14.507Z"
   },
   {
    "duration": 17,
    "start_time": "2024-12-23T12:54:14.312Z"
   },
   {
    "duration": 14,
    "start_time": "2024-12-23T12:54:15.133Z"
   },
   {
    "duration": 11,
    "start_time": "2024-12-23T12:54:24.608Z"
   },
   {
    "duration": 9,
    "start_time": "2024-12-23T12:54:25.384Z"
   },
   {
    "duration": 1746,
    "start_time": "2024-12-23T12:56:10.641Z"
   },
   {
    "duration": 1880,
    "start_time": "2024-12-23T13:09:54.430Z"
   },
   {
    "duration": 162,
    "start_time": "2024-12-23T13:25:06.017Z"
   },
   {
    "duration": 5,
    "start_time": "2024-12-23T13:25:11.373Z"
   },
   {
    "duration": 200,
    "start_time": "2024-12-23T13:25:54.772Z"
   },
   {
    "duration": 408,
    "start_time": "2024-12-23T13:26:02.941Z"
   },
   {
    "duration": 449,
    "start_time": "2024-12-23T13:26:19.180Z"
   },
   {
    "duration": 453,
    "start_time": "2024-12-23T13:26:29.282Z"
   },
   {
    "duration": 5,
    "start_time": "2024-12-23T13:29:50.263Z"
   },
   {
    "duration": 11,
    "start_time": "2024-12-23T13:30:31.542Z"
   },
   {
    "duration": 11,
    "start_time": "2024-12-23T13:30:48.423Z"
   },
   {
    "duration": 577,
    "start_time": "2024-12-23T13:31:00.132Z"
   },
   {
    "duration": 1553,
    "start_time": "2024-12-23T13:33:55.743Z"
   },
   {
    "duration": 3,
    "start_time": "2024-12-23T13:34:16.743Z"
   },
   {
    "duration": 455,
    "start_time": "2024-12-23T13:34:32.372Z"
   },
   {
    "duration": 725,
    "start_time": "2024-12-23T13:35:14.799Z"
   },
   {
    "duration": 1651,
    "start_time": "2024-12-23T13:37:24.557Z"
   },
   {
    "duration": 2,
    "start_time": "2024-12-23T13:38:51.191Z"
   },
   {
    "duration": 570,
    "start_time": "2024-12-23T18:55:03.421Z"
   },
   {
    "duration": 45300,
    "start_time": "2024-12-23T18:55:12.624Z"
   },
   {
    "duration": 1794,
    "start_time": "2024-12-23T18:56:20.086Z"
   },
   {
    "duration": 321,
    "start_time": "2024-12-23T18:56:43.193Z"
   },
   {
    "duration": 11,
    "start_time": "2024-12-23T18:56:49.184Z"
   },
   {
    "duration": 17,
    "start_time": "2024-12-23T18:58:22.642Z"
   },
   {
    "duration": 20,
    "start_time": "2024-12-23T18:58:33.077Z"
   },
   {
    "duration": 10,
    "start_time": "2024-12-23T19:01:05.206Z"
   },
   {
    "duration": 10,
    "start_time": "2024-12-23T19:03:52.057Z"
   },
   {
    "duration": 3,
    "start_time": "2024-12-23T19:06:49.145Z"
   },
   {
    "duration": 525,
    "start_time": "2024-12-23T19:06:52.365Z"
   },
   {
    "duration": 927,
    "start_time": "2024-12-23T19:12:47.444Z"
   },
   {
    "duration": 1741,
    "start_time": "2024-12-23T19:14:16.703Z"
   },
   {
    "duration": 401,
    "start_time": "2024-12-23T19:18:22.623Z"
   },
   {
    "duration": 403,
    "start_time": "2024-12-23T20:50:19.026Z"
   },
   {
    "duration": 7,
    "start_time": "2024-12-23T20:51:10.016Z"
   },
   {
    "duration": 6,
    "start_time": "2024-12-23T20:51:39.422Z"
   },
   {
    "duration": 7,
    "start_time": "2024-12-23T21:29:09.088Z"
   },
   {
    "duration": 7,
    "start_time": "2024-12-23T21:29:31.060Z"
   },
   {
    "duration": 101,
    "start_time": "2024-12-23T21:32:44.833Z"
   },
   {
    "duration": 7,
    "start_time": "2024-12-23T21:32:50.757Z"
   },
   {
    "duration": 10,
    "start_time": "2024-12-23T21:33:39.518Z"
   },
   {
    "duration": 61,
    "start_time": "2024-12-23T21:36:31.055Z"
   },
   {
    "duration": 60,
    "start_time": "2024-12-23T21:36:55.515Z"
   },
   {
    "duration": 7,
    "start_time": "2024-12-23T21:38:30.313Z"
   },
   {
    "duration": 57,
    "start_time": "2024-12-23T21:39:41.684Z"
   },
   {
    "duration": 68,
    "start_time": "2024-12-23T21:40:33.833Z"
   },
   {
    "duration": 5,
    "start_time": "2024-12-23T21:41:41.097Z"
   },
   {
    "duration": 6,
    "start_time": "2024-12-23T21:41:51.539Z"
   },
   {
    "duration": 7,
    "start_time": "2024-12-23T21:42:06.885Z"
   },
   {
    "duration": 6,
    "start_time": "2024-12-23T21:42:14.043Z"
   },
   {
    "duration": 5,
    "start_time": "2024-12-23T21:42:21.717Z"
   },
   {
    "duration": 6,
    "start_time": "2024-12-23T21:42:38.402Z"
   },
   {
    "duration": 10,
    "start_time": "2024-12-23T21:42:51.730Z"
   },
   {
    "duration": 9,
    "start_time": "2024-12-23T21:50:01.912Z"
   },
   {
    "duration": 23863,
    "start_time": "2024-12-24T20:26:25.782Z"
   },
   {
    "duration": 1823,
    "start_time": "2024-12-24T20:27:22.086Z"
   },
   {
    "duration": 251,
    "start_time": "2024-12-24T20:27:26.738Z"
   },
   {
    "duration": 9,
    "start_time": "2024-12-24T20:27:30.306Z"
   },
   {
    "duration": 20,
    "start_time": "2024-12-24T20:27:41.567Z"
   },
   {
    "duration": 10,
    "start_time": "2024-12-24T20:27:48.656Z"
   },
   {
    "duration": 12,
    "start_time": "2024-12-24T20:27:51.309Z"
   },
   {
    "duration": 9,
    "start_time": "2024-12-24T20:31:52.490Z"
   },
   {
    "duration": 7,
    "start_time": "2024-12-24T20:31:56.446Z"
   },
   {
    "duration": 7,
    "start_time": "2024-12-24T20:40:07.038Z"
   },
   {
    "duration": 8,
    "start_time": "2024-12-24T20:40:13.059Z"
   },
   {
    "duration": 76,
    "start_time": "2024-12-24T20:41:03.754Z"
   },
   {
    "duration": 9,
    "start_time": "2024-12-24T20:41:33.338Z"
   },
   {
    "duration": 10,
    "start_time": "2024-12-24T20:41:40.376Z"
   },
   {
    "duration": 134,
    "start_time": "2024-12-24T20:42:23.867Z"
   },
   {
    "duration": 3,
    "start_time": "2024-12-24T20:42:35.305Z"
   },
   {
    "duration": 418,
    "start_time": "2024-12-24T20:42:37.598Z"
   },
   {
    "duration": 10,
    "start_time": "2024-12-24T20:42:40.588Z"
   },
   {
    "duration": 746,
    "start_time": "2024-12-24T20:42:47.046Z"
   },
   {
    "duration": 1415,
    "start_time": "2024-12-24T20:42:51.787Z"
   },
   {
    "duration": 13,
    "start_time": "2024-12-24T20:45:04.474Z"
   },
   {
    "duration": 12,
    "start_time": "2024-12-24T20:45:16.154Z"
   },
   {
    "duration": 6,
    "start_time": "2024-12-24T20:45:24.879Z"
   },
   {
    "duration": 13,
    "start_time": "2024-12-24T20:45:46.725Z"
   },
   {
    "duration": 11,
    "start_time": "2024-12-24T20:46:05.163Z"
   },
   {
    "duration": 10,
    "start_time": "2024-12-24T20:46:27.929Z"
   },
   {
    "duration": 1343,
    "start_time": "2024-12-24T20:47:19.511Z"
   },
   {
    "duration": 10,
    "start_time": "2024-12-24T20:47:25.256Z"
   },
   {
    "duration": 6,
    "start_time": "2024-12-24T20:48:40.498Z"
   },
   {
    "duration": 10,
    "start_time": "2024-12-24T20:51:47.572Z"
   },
   {
    "duration": 10,
    "start_time": "2024-12-24T20:53:48.594Z"
   },
   {
    "duration": 10,
    "start_time": "2024-12-24T20:55:58.407Z"
   },
   {
    "duration": 10,
    "start_time": "2024-12-24T20:56:13.416Z"
   },
   {
    "duration": 10,
    "start_time": "2024-12-24T20:56:18.848Z"
   },
   {
    "duration": 9,
    "start_time": "2024-12-24T20:56:21.996Z"
   },
   {
    "duration": 6,
    "start_time": "2024-12-24T21:04:16.159Z"
   },
   {
    "duration": 2,
    "start_time": "2024-12-24T21:10:34.069Z"
   },
   {
    "duration": 128,
    "start_time": "2024-12-24T21:28:50.288Z"
   },
   {
    "duration": 40,
    "start_time": "2024-12-24T21:29:06.340Z"
   },
   {
    "duration": 13,
    "start_time": "2024-12-24T21:29:49.495Z"
   },
   {
    "duration": 6,
    "start_time": "2024-12-24T21:30:58.695Z"
   },
   {
    "duration": 5,
    "start_time": "2024-12-24T21:31:12.058Z"
   },
   {
    "duration": 6,
    "start_time": "2024-12-24T21:31:36.063Z"
   },
   {
    "duration": 1196,
    "start_time": "2024-12-24T21:31:40.232Z"
   },
   {
    "duration": 13,
    "start_time": "2024-12-24T21:31:46.794Z"
   },
   {
    "duration": 44927,
    "start_time": "2024-12-24T21:36:20.273Z"
   },
   {
    "duration": 156,
    "start_time": "2024-12-24T21:37:30.895Z"
   },
   {
    "duration": 2432,
    "start_time": "2024-12-24T21:39:11.406Z"
   },
   {
    "duration": 199,
    "start_time": "2024-12-24T22:04:13.179Z"
   },
   {
    "duration": 6,
    "start_time": "2024-12-24T22:04:18.609Z"
   },
   {
    "duration": 13,
    "start_time": "2024-12-24T22:04:27.685Z"
   },
   {
    "duration": 9,
    "start_time": "2024-12-24T22:05:20.710Z"
   },
   {
    "duration": 11,
    "start_time": "2024-12-24T22:05:21.389Z"
   },
   {
    "duration": 9,
    "start_time": "2024-12-24T22:11:02.469Z"
   },
   {
    "duration": 7,
    "start_time": "2024-12-24T22:11:09.419Z"
   },
   {
    "duration": 744,
    "start_time": "2024-12-24T22:13:20.805Z"
   },
   {
    "duration": 6,
    "start_time": "2024-12-24T22:17:06.322Z"
   },
   {
    "duration": 13,
    "start_time": "2024-12-24T22:17:17.006Z"
   },
   {
    "duration": 12,
    "start_time": "2024-12-24T22:17:24.675Z"
   },
   {
    "duration": 1424,
    "start_time": "2024-12-24T22:18:38.029Z"
   },
   {
    "duration": 5,
    "start_time": "2024-12-24T22:18:44.807Z"
   },
   {
    "duration": 15,
    "start_time": "2024-12-24T22:20:03.637Z"
   },
   {
    "duration": 792,
    "start_time": "2024-12-24T23:09:43.477Z"
   },
   {
    "duration": 4,
    "start_time": "2024-12-24T23:10:23.342Z"
   },
   {
    "duration": 15,
    "start_time": "2024-12-24T23:10:30.513Z"
   },
   {
    "duration": 9,
    "start_time": "2024-12-24T23:16:37.282Z"
   },
   {
    "duration": 84,
    "start_time": "2024-12-24T23:20:04.101Z"
   },
   {
    "duration": 13,
    "start_time": "2024-12-24T23:20:27.801Z"
   },
   {
    "duration": 14,
    "start_time": "2024-12-24T23:21:29.563Z"
   },
   {
    "duration": 15,
    "start_time": "2024-12-24T23:25:46.250Z"
   },
   {
    "duration": 14,
    "start_time": "2024-12-24T23:25:59.809Z"
   },
   {
    "duration": 14,
    "start_time": "2024-12-24T23:28:36.804Z"
   },
   {
    "duration": 15,
    "start_time": "2024-12-24T23:31:53.488Z"
   },
   {
    "duration": 14,
    "start_time": "2024-12-24T23:33:22.550Z"
   },
   {
    "duration": 15,
    "start_time": "2024-12-24T23:34:32.370Z"
   },
   {
    "duration": 130,
    "start_time": "2024-12-24T23:35:46.208Z"
   },
   {
    "duration": 15,
    "start_time": "2024-12-24T23:38:57.800Z"
   },
   {
    "duration": 130,
    "start_time": "2024-12-24T23:39:05.158Z"
   },
   {
    "duration": 6,
    "start_time": "2024-12-24T23:42:36.898Z"
   },
   {
    "duration": 20,
    "start_time": "2024-12-24T23:43:04.258Z"
   },
   {
    "duration": 3,
    "start_time": "2024-12-24T23:43:31.759Z"
   },
   {
    "duration": 14,
    "start_time": "2024-12-24T23:44:43.520Z"
   },
   {
    "duration": 15,
    "start_time": "2024-12-24T23:45:50.390Z"
   },
   {
    "duration": 2,
    "start_time": "2024-12-24T23:46:07.926Z"
   },
   {
    "duration": 6,
    "start_time": "2024-12-24T23:46:19.540Z"
   },
   {
    "duration": 3,
    "start_time": "2024-12-24T23:46:35.222Z"
   },
   {
    "duration": 3,
    "start_time": "2024-12-24T23:48:00.250Z"
   },
   {
    "duration": 3,
    "start_time": "2024-12-24T23:48:03.234Z"
   },
   {
    "duration": 4,
    "start_time": "2024-12-24T23:49:39.935Z"
   },
   {
    "duration": 4611,
    "start_time": "2024-12-24T23:50:01.318Z"
   },
   {
    "duration": 4440,
    "start_time": "2024-12-24T23:50:47.256Z"
   },
   {
    "duration": 4618,
    "start_time": "2024-12-24T23:51:47.118Z"
   },
   {
    "duration": 1092,
    "start_time": "2024-12-24T23:56:03.691Z"
   },
   {
    "duration": 1058,
    "start_time": "2024-12-24T23:59:11.112Z"
   },
   {
    "duration": 4714,
    "start_time": "2024-12-25T00:03:58.488Z"
   },
   {
    "duration": 19,
    "start_time": "2024-12-25T00:08:39.380Z"
   },
   {
    "duration": 56,
    "start_time": "2024-12-25T00:09:15.049Z"
   },
   {
    "duration": 4439,
    "start_time": "2024-12-25T00:10:04.817Z"
   },
   {
    "duration": 4458,
    "start_time": "2024-12-25T00:10:55.398Z"
   },
   {
    "duration": 3,
    "start_time": "2024-12-25T00:11:24.353Z"
   },
   {
    "duration": 56,
    "start_time": "2024-12-25T00:11:28.039Z"
   },
   {
    "duration": 2,
    "start_time": "2024-12-25T00:12:52.699Z"
   },
   {
    "duration": 4388,
    "start_time": "2024-12-25T00:12:55.927Z"
   },
   {
    "duration": 3,
    "start_time": "2024-12-25T00:13:12.719Z"
   },
   {
    "duration": 4482,
    "start_time": "2024-12-25T00:13:15.347Z"
   },
   {
    "duration": 2,
    "start_time": "2024-12-25T00:13:28.879Z"
   },
   {
    "duration": 4453,
    "start_time": "2024-12-25T00:13:31.205Z"
   },
   {
    "duration": 3,
    "start_time": "2024-12-25T00:14:08.013Z"
   },
   {
    "duration": 4614,
    "start_time": "2024-12-25T00:14:10.057Z"
   },
   {
    "duration": 3,
    "start_time": "2024-12-25T00:14:27.024Z"
   },
   {
    "duration": 4685,
    "start_time": "2024-12-25T00:14:28.668Z"
   },
   {
    "duration": 3,
    "start_time": "2024-12-25T00:14:46.789Z"
   },
   {
    "duration": 4677,
    "start_time": "2024-12-25T00:14:48.478Z"
   },
   {
    "duration": 3,
    "start_time": "2024-12-25T00:15:03.689Z"
   },
   {
    "duration": 4918,
    "start_time": "2024-12-25T00:15:05.177Z"
   },
   {
    "duration": 2,
    "start_time": "2024-12-25T00:15:25.209Z"
   },
   {
    "duration": 46,
    "start_time": "2024-12-25T00:16:18.298Z"
   },
   {
    "duration": 939,
    "start_time": "2024-12-25T00:16:38.393Z"
   },
   {
    "duration": 8,
    "start_time": "2024-12-25T00:16:44.259Z"
   },
   {
    "duration": 14453,
    "start_time": "2024-12-25T00:17:53.048Z"
   },
   {
    "duration": 1667,
    "start_time": "2024-12-25T00:18:07.503Z"
   },
   {
    "duration": 109,
    "start_time": "2024-12-25T00:18:09.171Z"
   },
   {
    "duration": 17,
    "start_time": "2024-12-25T00:18:09.282Z"
   },
   {
    "duration": 11,
    "start_time": "2024-12-25T00:18:09.300Z"
   },
   {
    "duration": 13,
    "start_time": "2024-12-25T00:18:09.312Z"
   },
   {
    "duration": 8,
    "start_time": "2024-12-25T00:18:09.326Z"
   },
   {
    "duration": 18,
    "start_time": "2024-12-25T00:18:09.335Z"
   },
   {
    "duration": 4,
    "start_time": "2024-12-25T00:18:09.354Z"
   },
   {
    "duration": 422,
    "start_time": "2024-12-25T00:18:09.361Z"
   },
   {
    "duration": 9,
    "start_time": "2024-12-25T00:18:09.784Z"
   },
   {
    "duration": 630,
    "start_time": "2024-12-25T00:18:09.794Z"
   },
   {
    "duration": 9,
    "start_time": "2024-12-25T00:18:10.425Z"
   },
   {
    "duration": 1434,
    "start_time": "2024-12-25T00:18:10.436Z"
   },
   {
    "duration": 10,
    "start_time": "2024-12-25T00:18:11.871Z"
   },
   {
    "duration": 21,
    "start_time": "2024-12-25T00:18:11.882Z"
   },
   {
    "duration": 21,
    "start_time": "2024-12-25T00:18:11.904Z"
   },
   {
    "duration": 20,
    "start_time": "2024-12-25T00:18:11.926Z"
   },
   {
    "duration": 16,
    "start_time": "2024-12-25T00:18:11.947Z"
   },
   {
    "duration": 344,
    "start_time": "2024-12-25T00:18:11.964Z"
   },
   {
    "duration": 5,
    "start_time": "2024-12-25T00:18:12.309Z"
   },
   {
    "duration": 59,
    "start_time": "2024-12-25T00:18:12.322Z"
   },
   {
    "duration": 14,
    "start_time": "2024-12-25T00:18:12.383Z"
   },
   {
    "duration": 67,
    "start_time": "2024-12-25T00:18:12.400Z"
   },
   {
    "duration": 3,
    "start_time": "2024-12-25T00:18:12.469Z"
   },
   {
    "duration": 1063,
    "start_time": "2024-12-25T00:18:12.473Z"
   },
   {
    "duration": 13,
    "start_time": "2024-12-25T00:18:13.537Z"
   },
   {
    "duration": 43531,
    "start_time": "2024-12-25T00:18:13.553Z"
   },
   {
    "duration": 368,
    "start_time": "2024-12-25T00:18:57.085Z"
   },
   {
    "duration": 0,
    "start_time": "2024-12-25T00:18:57.454Z"
   },
   {
    "duration": 0,
    "start_time": "2024-12-25T00:18:57.455Z"
   },
   {
    "duration": 0,
    "start_time": "2024-12-25T00:18:57.456Z"
   },
   {
    "duration": 0,
    "start_time": "2024-12-25T00:18:57.457Z"
   },
   {
    "duration": 0,
    "start_time": "2024-12-25T00:18:57.458Z"
   },
   {
    "duration": 0,
    "start_time": "2024-12-25T00:18:57.459Z"
   },
   {
    "duration": 0,
    "start_time": "2024-12-25T00:18:57.461Z"
   },
   {
    "duration": 0,
    "start_time": "2024-12-25T00:18:57.461Z"
   },
   {
    "duration": 0,
    "start_time": "2024-12-25T00:18:57.462Z"
   },
   {
    "duration": 0,
    "start_time": "2024-12-25T00:18:57.464Z"
   },
   {
    "duration": 0,
    "start_time": "2024-12-25T00:18:57.465Z"
   },
   {
    "duration": 0,
    "start_time": "2024-12-25T00:18:57.466Z"
   },
   {
    "duration": 0,
    "start_time": "2024-12-25T00:18:57.467Z"
   },
   {
    "duration": 0,
    "start_time": "2024-12-25T00:18:57.468Z"
   },
   {
    "duration": 0,
    "start_time": "2024-12-25T00:18:57.469Z"
   },
   {
    "duration": 0,
    "start_time": "2024-12-25T00:18:57.470Z"
   },
   {
    "duration": 1,
    "start_time": "2024-12-25T00:18:57.470Z"
   },
   {
    "duration": 0,
    "start_time": "2024-12-25T00:18:57.472Z"
   },
   {
    "duration": 1,
    "start_time": "2024-12-25T00:18:57.472Z"
   },
   {
    "duration": 0,
    "start_time": "2024-12-25T00:18:57.474Z"
   },
   {
    "duration": 0,
    "start_time": "2024-12-25T00:18:57.476Z"
   },
   {
    "duration": 0,
    "start_time": "2024-12-25T00:18:57.477Z"
   },
   {
    "duration": 0,
    "start_time": "2024-12-25T00:18:57.478Z"
   },
   {
    "duration": 0,
    "start_time": "2024-12-25T00:18:57.522Z"
   },
   {
    "duration": 0,
    "start_time": "2024-12-25T00:18:57.523Z"
   },
   {
    "duration": 1799,
    "start_time": "2024-12-25T00:21:22.923Z"
   },
   {
    "duration": 114,
    "start_time": "2024-12-25T00:21:27.441Z"
   },
   {
    "duration": 13,
    "start_time": "2024-12-25T00:21:28.437Z"
   },
   {
    "duration": 10,
    "start_time": "2024-12-25T00:21:31.964Z"
   },
   {
    "duration": 10,
    "start_time": "2024-12-25T00:21:32.303Z"
   },
   {
    "duration": 11,
    "start_time": "2024-12-25T00:21:35.053Z"
   },
   {
    "duration": 7,
    "start_time": "2024-12-25T00:21:35.423Z"
   },
   {
    "duration": 745,
    "start_time": "2024-12-25T00:21:38.216Z"
   },
   {
    "duration": 15,
    "start_time": "2024-12-25T00:21:43.323Z"
   },
   {
    "duration": 13,
    "start_time": "2024-12-25T00:21:44.123Z"
   },
   {
    "duration": 14,
    "start_time": "2024-12-25T00:21:46.233Z"
   },
   {
    "duration": 14,
    "start_time": "2024-12-25T00:21:46.813Z"
   },
   {
    "duration": 14,
    "start_time": "2024-12-25T00:21:48.450Z"
   },
   {
    "duration": 249,
    "start_time": "2024-12-25T00:21:52.367Z"
   },
   {
    "duration": 15,
    "start_time": "2024-12-25T00:22:01.951Z"
   },
   {
    "duration": 136,
    "start_time": "2024-12-25T00:22:02.503Z"
   },
   {
    "duration": 5,
    "start_time": "2024-12-25T00:22:19.043Z"
   },
   {
    "duration": 21,
    "start_time": "2024-12-25T00:22:21.569Z"
   },
   {
    "duration": 3,
    "start_time": "2024-12-25T00:22:23.572Z"
   },
   {
    "duration": 7,
    "start_time": "2024-12-25T00:22:25.973Z"
   },
   {
    "duration": 3,
    "start_time": "2024-12-25T00:22:26.778Z"
   },
   {
    "duration": 4,
    "start_time": "2024-12-25T00:22:30.362Z"
   },
   {
    "duration": 55,
    "start_time": "2024-12-25T00:22:33.663Z"
   },
   {
    "duration": 4375,
    "start_time": "2024-12-25T00:22:45.331Z"
   },
   {
    "duration": 51,
    "start_time": "2024-12-25T00:25:32.263Z"
   },
   {
    "duration": 11,
    "start_time": "2024-12-25T00:27:49.040Z"
   },
   {
    "duration": 50,
    "start_time": "2024-12-25T00:28:02.633Z"
   },
   {
    "duration": 48,
    "start_time": "2024-12-25T00:28:19.383Z"
   },
   {
    "duration": 2218,
    "start_time": "2024-12-25T00:28:42.773Z"
   },
   {
    "duration": 4,
    "start_time": "2024-12-25T00:29:08.112Z"
   },
   {
    "duration": 5,
    "start_time": "2024-12-25T00:29:48.391Z"
   },
   {
    "duration": 2249,
    "start_time": "2024-12-25T00:29:57.472Z"
   },
   {
    "duration": 2158,
    "start_time": "2024-12-25T00:31:09.441Z"
   },
   {
    "duration": 2106,
    "start_time": "2024-12-25T00:33:01.131Z"
   },
   {
    "duration": 2111,
    "start_time": "2024-12-25T00:34:10.543Z"
   },
   {
    "duration": 10082,
    "start_time": "2024-12-25T00:35:34.441Z"
   },
   {
    "duration": 2076,
    "start_time": "2024-12-25T00:37:28.221Z"
   },
   {
    "duration": 2117,
    "start_time": "2024-12-25T00:37:42.611Z"
   },
   {
    "duration": 26036,
    "start_time": "2024-12-25T12:12:50.318Z"
   },
   {
    "duration": 1950,
    "start_time": "2024-12-25T12:13:16.356Z"
   },
   {
    "duration": 294,
    "start_time": "2024-12-25T12:13:18.307Z"
   },
   {
    "duration": 18,
    "start_time": "2024-12-25T12:13:18.603Z"
   },
   {
    "duration": 9,
    "start_time": "2024-12-25T12:13:18.622Z"
   },
   {
    "duration": 50,
    "start_time": "2024-12-25T12:13:18.632Z"
   },
   {
    "duration": 8,
    "start_time": "2024-12-25T12:13:18.684Z"
   },
   {
    "duration": 6,
    "start_time": "2024-12-25T12:13:18.693Z"
   },
   {
    "duration": 32,
    "start_time": "2024-12-25T12:13:18.701Z"
   },
   {
    "duration": 474,
    "start_time": "2024-12-25T12:13:18.735Z"
   },
   {
    "duration": 9,
    "start_time": "2024-12-25T12:13:19.211Z"
   },
   {
    "duration": 793,
    "start_time": "2024-12-25T12:13:19.221Z"
   },
   {
    "duration": 10,
    "start_time": "2024-12-25T12:13:20.015Z"
   },
   {
    "duration": 1415,
    "start_time": "2024-12-25T12:13:20.026Z"
   },
   {
    "duration": 9,
    "start_time": "2024-12-25T12:13:21.443Z"
   },
   {
    "duration": 18,
    "start_time": "2024-12-25T12:13:21.454Z"
   },
   {
    "duration": 9,
    "start_time": "2024-12-25T12:13:21.473Z"
   },
   {
    "duration": 7,
    "start_time": "2024-12-25T12:13:21.483Z"
   },
   {
    "duration": 7,
    "start_time": "2024-12-25T12:13:21.492Z"
   },
   {
    "duration": 332,
    "start_time": "2024-12-25T12:13:21.501Z"
   },
   {
    "duration": 6,
    "start_time": "2024-12-25T12:13:21.835Z"
   },
   {
    "duration": 3,
    "start_time": "2024-12-25T12:13:21.852Z"
   },
   {
    "duration": 16,
    "start_time": "2024-12-25T12:13:21.856Z"
   },
   {
    "duration": 43,
    "start_time": "2024-12-25T12:13:21.873Z"
   },
   {
    "duration": 10,
    "start_time": "2024-12-25T12:13:21.917Z"
   },
   {
    "duration": 1078,
    "start_time": "2024-12-25T12:13:21.928Z"
   },
   {
    "duration": 12,
    "start_time": "2024-12-25T12:13:23.008Z"
   },
   {
    "duration": 48896,
    "start_time": "2024-12-25T12:13:23.024Z"
   },
   {
    "duration": 381,
    "start_time": "2024-12-25T12:14:11.922Z"
   },
   {
    "duration": 0,
    "start_time": "2024-12-25T12:14:12.304Z"
   },
   {
    "duration": 0,
    "start_time": "2024-12-25T12:14:12.305Z"
   },
   {
    "duration": 0,
    "start_time": "2024-12-25T12:14:12.306Z"
   },
   {
    "duration": 0,
    "start_time": "2024-12-25T12:14:12.307Z"
   },
   {
    "duration": 0,
    "start_time": "2024-12-25T12:14:12.308Z"
   },
   {
    "duration": 0,
    "start_time": "2024-12-25T12:14:12.309Z"
   },
   {
    "duration": 0,
    "start_time": "2024-12-25T12:14:12.310Z"
   },
   {
    "duration": 0,
    "start_time": "2024-12-25T12:14:12.310Z"
   },
   {
    "duration": 0,
    "start_time": "2024-12-25T12:14:12.311Z"
   },
   {
    "duration": 0,
    "start_time": "2024-12-25T12:14:12.312Z"
   },
   {
    "duration": 0,
    "start_time": "2024-12-25T12:14:12.313Z"
   },
   {
    "duration": 0,
    "start_time": "2024-12-25T12:14:12.313Z"
   },
   {
    "duration": 0,
    "start_time": "2024-12-25T12:14:12.314Z"
   },
   {
    "duration": 0,
    "start_time": "2024-12-25T12:14:12.315Z"
   },
   {
    "duration": 0,
    "start_time": "2024-12-25T12:14:12.316Z"
   },
   {
    "duration": 1,
    "start_time": "2024-12-25T12:14:12.316Z"
   },
   {
    "duration": 0,
    "start_time": "2024-12-25T12:14:12.317Z"
   },
   {
    "duration": 0,
    "start_time": "2024-12-25T12:14:12.318Z"
   },
   {
    "duration": 0,
    "start_time": "2024-12-25T12:14:12.319Z"
   },
   {
    "duration": 0,
    "start_time": "2024-12-25T12:14:12.320Z"
   },
   {
    "duration": 0,
    "start_time": "2024-12-25T12:14:12.320Z"
   },
   {
    "duration": 0,
    "start_time": "2024-12-25T12:14:12.321Z"
   },
   {
    "duration": 0,
    "start_time": "2024-12-25T12:14:12.322Z"
   },
   {
    "duration": 0,
    "start_time": "2024-12-25T12:14:12.353Z"
   },
   {
    "duration": 1615,
    "start_time": "2024-12-25T12:14:55.050Z"
   },
   {
    "duration": 243,
    "start_time": "2024-12-25T12:14:56.753Z"
   },
   {
    "duration": 14,
    "start_time": "2024-12-25T12:14:56.997Z"
   },
   {
    "duration": 16,
    "start_time": "2024-12-25T12:14:57.012Z"
   },
   {
    "duration": 25,
    "start_time": "2024-12-25T12:14:57.029Z"
   },
   {
    "duration": 23,
    "start_time": "2024-12-25T12:14:57.055Z"
   },
   {
    "duration": 27,
    "start_time": "2024-12-25T12:14:57.079Z"
   },
   {
    "duration": 886,
    "start_time": "2024-12-25T12:14:57.107Z"
   },
   {
    "duration": 15,
    "start_time": "2024-12-25T12:14:57.995Z"
   },
   {
    "duration": 38,
    "start_time": "2024-12-25T12:14:58.012Z"
   },
   {
    "duration": 20,
    "start_time": "2024-12-25T12:14:58.051Z"
   },
   {
    "duration": 45,
    "start_time": "2024-12-25T12:14:58.072Z"
   },
   {
    "duration": 39,
    "start_time": "2024-12-25T12:14:58.118Z"
   },
   {
    "duration": 154,
    "start_time": "2024-12-25T12:14:58.159Z"
   },
   {
    "duration": 15,
    "start_time": "2024-12-25T12:14:58.315Z"
   },
   {
    "duration": 156,
    "start_time": "2024-12-25T12:14:58.331Z"
   },
   {
    "duration": 6,
    "start_time": "2024-12-25T12:14:58.489Z"
   },
   {
    "duration": 48,
    "start_time": "2024-12-25T12:14:58.496Z"
   },
   {
    "duration": 7,
    "start_time": "2024-12-25T12:14:58.546Z"
   },
   {
    "duration": 41,
    "start_time": "2024-12-25T12:14:58.554Z"
   },
   {
    "duration": 22,
    "start_time": "2024-12-25T12:14:58.596Z"
   },
   {
    "duration": 24,
    "start_time": "2024-12-25T12:14:58.620Z"
   },
   {
    "duration": 0,
    "start_time": "2024-12-25T12:14:58.646Z"
   },
   {
    "duration": 0,
    "start_time": "2024-12-25T12:14:58.647Z"
   },
   {
    "duration": 12,
    "start_time": "2024-12-25T12:15:54.246Z"
   },
   {
    "duration": 38,
    "start_time": "2024-12-25T12:16:18.433Z"
   },
   {
    "duration": 12,
    "start_time": "2024-12-25T12:16:33.551Z"
   },
   {
    "duration": 27202,
    "start_time": "2024-12-25T15:41:23.168Z"
   },
   {
    "duration": 2095,
    "start_time": "2024-12-25T15:41:50.373Z"
   },
   {
    "duration": 265,
    "start_time": "2024-12-25T15:41:52.470Z"
   },
   {
    "duration": 20,
    "start_time": "2024-12-25T15:41:52.737Z"
   },
   {
    "duration": 11,
    "start_time": "2024-12-25T15:41:52.760Z"
   },
   {
    "duration": 21,
    "start_time": "2024-12-25T15:41:52.773Z"
   },
   {
    "duration": 17,
    "start_time": "2024-12-25T15:41:52.796Z"
   },
   {
    "duration": 24,
    "start_time": "2024-12-25T15:41:52.815Z"
   },
   {
    "duration": 5,
    "start_time": "2024-12-25T15:41:52.840Z"
   },
   {
    "duration": 510,
    "start_time": "2024-12-25T15:41:52.846Z"
   },
   {
    "duration": 14,
    "start_time": "2024-12-25T15:41:53.358Z"
   },
   {
    "duration": 1487,
    "start_time": "2024-12-25T15:41:53.374Z"
   },
   {
    "duration": 10,
    "start_time": "2024-12-25T15:41:54.863Z"
   },
   {
    "duration": 1691,
    "start_time": "2024-12-25T15:41:54.931Z"
   },
   {
    "duration": 11,
    "start_time": "2024-12-25T15:41:56.624Z"
   },
   {
    "duration": 14,
    "start_time": "2024-12-25T15:41:56.636Z"
   },
   {
    "duration": 11,
    "start_time": "2024-12-25T15:41:56.651Z"
   },
   {
    "duration": 10,
    "start_time": "2024-12-25T15:41:56.664Z"
   },
   {
    "duration": 12,
    "start_time": "2024-12-25T15:41:56.676Z"
   },
   {
    "duration": 399,
    "start_time": "2024-12-25T15:41:56.689Z"
   },
   {
    "duration": 6,
    "start_time": "2024-12-25T15:41:57.090Z"
   },
   {
    "duration": 12,
    "start_time": "2024-12-25T15:41:57.098Z"
   },
   {
    "duration": 10,
    "start_time": "2024-12-25T15:41:57.112Z"
   },
   {
    "duration": 51,
    "start_time": "2024-12-25T15:41:57.124Z"
   },
   {
    "duration": 4,
    "start_time": "2024-12-25T15:41:57.177Z"
   },
   {
    "duration": 1365,
    "start_time": "2024-12-25T15:41:57.182Z"
   },
   {
    "duration": 15,
    "start_time": "2024-12-25T15:41:58.549Z"
   },
   {
    "duration": 50024,
    "start_time": "2024-12-25T15:41:58.566Z"
   },
   {
    "duration": 25197,
    "start_time": "2024-12-25T15:42:53.853Z"
   },
   {
    "duration": 378,
    "start_time": "2024-12-25T15:43:23.960Z"
   },
   {
    "duration": 155,
    "start_time": "2024-12-25T15:44:12.235Z"
   },
   {
    "duration": 6624,
    "start_time": "2024-12-25T15:45:26.517Z"
   },
   {
    "duration": 160,
    "start_time": "2024-12-25T15:45:47.684Z"
   },
   {
    "duration": 1845,
    "start_time": "2024-12-25T15:47:22.325Z"
   },
   {
    "duration": 10139,
    "start_time": "2024-12-25T15:47:25.826Z"
   },
   {
    "duration": 17458,
    "start_time": "2024-12-25T15:47:49.821Z"
   },
   {
    "duration": 2322,
    "start_time": "2024-12-25T15:48:15.744Z"
   },
   {
    "duration": 56594,
    "start_time": "2024-12-25T15:48:32.506Z"
   },
   {
    "duration": 976,
    "start_time": "2024-12-25T15:49:44.730Z"
   },
   {
    "duration": 53,
    "start_time": "2024-12-25T16:36:33.418Z"
   },
   {
    "duration": 9,
    "start_time": "2024-12-25T16:38:48.047Z"
   },
   {
    "duration": 22552,
    "start_time": "2024-12-27T22:23:09.903Z"
   },
   {
    "duration": 1950,
    "start_time": "2024-12-27T22:23:36.802Z"
   },
   {
    "duration": 257,
    "start_time": "2024-12-27T22:23:43.954Z"
   },
   {
    "duration": 18,
    "start_time": "2024-12-27T22:24:50.541Z"
   },
   {
    "duration": 10,
    "start_time": "2024-12-27T22:24:57.578Z"
   },
   {
    "duration": 13,
    "start_time": "2024-12-27T22:25:01.732Z"
   },
   {
    "duration": 9,
    "start_time": "2024-12-27T23:21:29.291Z"
   },
   {
    "duration": 7,
    "start_time": "2024-12-27T23:21:33.691Z"
   },
   {
    "duration": 7,
    "start_time": "2024-12-27T23:22:58.369Z"
   },
   {
    "duration": 3,
    "start_time": "2024-12-27T23:23:15.439Z"
   },
   {
    "duration": 428,
    "start_time": "2024-12-27T23:23:18.589Z"
   },
   {
    "duration": 9,
    "start_time": "2024-12-27T23:23:30.039Z"
   },
   {
    "duration": 746,
    "start_time": "2024-12-27T23:23:33.859Z"
   },
   {
    "duration": 9,
    "start_time": "2024-12-27T23:23:38.559Z"
   },
   {
    "duration": 1357,
    "start_time": "2024-12-27T23:23:41.677Z"
   },
   {
    "duration": 10,
    "start_time": "2024-12-27T23:23:46.629Z"
   },
   {
    "duration": 6,
    "start_time": "2024-12-27T23:23:47.340Z"
   },
   {
    "duration": 11,
    "start_time": "2024-12-27T23:23:47.968Z"
   },
   {
    "duration": 10,
    "start_time": "2024-12-27T23:23:49.910Z"
   },
   {
    "duration": 10,
    "start_time": "2024-12-27T23:23:50.529Z"
   },
   {
    "duration": 10,
    "start_time": "2024-12-27T23:53:26.799Z"
   },
   {
    "duration": 295,
    "start_time": "2024-12-27T23:53:35.459Z"
   },
   {
    "duration": 6,
    "start_time": "2024-12-27T23:57:18.979Z"
   },
   {
    "duration": 3,
    "start_time": "2024-12-27T23:57:21.949Z"
   },
   {
    "duration": 5,
    "start_time": "2024-12-28T00:22:15.807Z"
   },
   {
    "duration": 4,
    "start_time": "2024-12-28T00:22:18.269Z"
   },
   {
    "duration": 12,
    "start_time": "2024-12-28T00:22:24.619Z"
   },
   {
    "duration": 8,
    "start_time": "2024-12-28T00:25:03.060Z"
   },
   {
    "duration": 7,
    "start_time": "2024-12-28T00:31:36.099Z"
   },
   {
    "duration": 14,
    "start_time": "2024-12-28T00:31:53.817Z"
   },
   {
    "duration": 7,
    "start_time": "2024-12-28T00:43:35.369Z"
   },
   {
    "duration": 14,
    "start_time": "2024-12-28T00:43:38.429Z"
   },
   {
    "duration": 8,
    "start_time": "2024-12-28T00:46:00.694Z"
   },
   {
    "duration": 8,
    "start_time": "2024-12-28T00:46:04.279Z"
   },
   {
    "duration": 7,
    "start_time": "2024-12-28T00:46:19.179Z"
   },
   {
    "duration": 4,
    "start_time": "2024-12-28T00:46:53.479Z"
   },
   {
    "duration": 14,
    "start_time": "2024-12-28T00:47:10.335Z"
   },
   {
    "duration": 15,
    "start_time": "2024-12-28T00:47:34.175Z"
   },
   {
    "duration": 9,
    "start_time": "2024-12-28T00:47:56.349Z"
   },
   {
    "duration": 9,
    "start_time": "2024-12-28T00:48:00.538Z"
   },
   {
    "duration": 8,
    "start_time": "2024-12-28T00:53:31.216Z"
   },
   {
    "duration": 19,
    "start_time": "2024-12-28T00:54:56.235Z"
   },
   {
    "duration": 29786,
    "start_time": "2024-12-28T10:15:49.318Z"
   },
   {
    "duration": 1978,
    "start_time": "2024-12-28T10:16:19.107Z"
   },
   {
    "duration": 301,
    "start_time": "2024-12-28T10:16:30.541Z"
   },
   {
    "duration": 20,
    "start_time": "2024-12-28T10:16:53.557Z"
   },
   {
    "duration": 11,
    "start_time": "2024-12-28T10:17:07.710Z"
   },
   {
    "duration": 12,
    "start_time": "2024-12-28T10:17:10.229Z"
   },
   {
    "duration": 13,
    "start_time": "2024-12-28T10:17:21.179Z"
   },
   {
    "duration": 8,
    "start_time": "2024-12-28T10:17:25.749Z"
   },
   {
    "duration": 3,
    "start_time": "2024-12-28T10:17:29.540Z"
   },
   {
    "duration": 465,
    "start_time": "2024-12-28T10:17:31.399Z"
   },
   {
    "duration": 10,
    "start_time": "2024-12-28T10:17:35.911Z"
   },
   {
    "duration": 963,
    "start_time": "2024-12-28T10:17:39.151Z"
   },
   {
    "duration": 13,
    "start_time": "2024-12-28T10:17:42.540Z"
   },
   {
    "duration": 1874,
    "start_time": "2024-12-28T10:17:45.510Z"
   },
   {
    "duration": 367,
    "start_time": "2024-12-28T10:17:53.850Z"
   },
   {
    "duration": 11,
    "start_time": "2024-12-28T10:21:01.370Z"
   },
   {
    "duration": 11,
    "start_time": "2024-12-28T10:21:07.918Z"
   },
   {
    "duration": 18,
    "start_time": "2024-12-28T10:21:25.211Z"
   },
   {
    "duration": 17,
    "start_time": "2024-12-28T10:43:15.819Z"
   },
   {
    "duration": 16,
    "start_time": "2024-12-28T10:46:24.357Z"
   },
   {
    "duration": 22,
    "start_time": "2024-12-28T10:47:07.030Z"
   },
   {
    "duration": 15,
    "start_time": "2024-12-28T11:33:13.221Z"
   },
   {
    "duration": 8,
    "start_time": "2024-12-28T11:35:29.041Z"
   },
   {
    "duration": 16,
    "start_time": "2024-12-28T11:35:39.090Z"
   },
   {
    "duration": 15,
    "start_time": "2024-12-28T11:37:35.401Z"
   },
   {
    "duration": 15,
    "start_time": "2024-12-28T11:37:47.110Z"
   },
   {
    "duration": 14,
    "start_time": "2024-12-28T11:38:03.020Z"
   },
   {
    "duration": 15,
    "start_time": "2024-12-28T11:40:42.130Z"
   },
   {
    "duration": 150,
    "start_time": "2024-12-28T11:42:30.140Z"
   },
   {
    "duration": 8,
    "start_time": "2024-12-28T11:42:38.142Z"
   },
   {
    "duration": 9,
    "start_time": "2024-12-28T11:44:16.890Z"
   },
   {
    "duration": 15,
    "start_time": "2024-12-28T11:44:31.470Z"
   },
   {
    "duration": 15,
    "start_time": "2024-12-28T11:44:44.341Z"
   },
   {
    "duration": 20,
    "start_time": "2024-12-28T11:52:53.520Z"
   },
   {
    "duration": 16,
    "start_time": "2024-12-28T11:53:08.179Z"
   },
   {
    "duration": 15,
    "start_time": "2024-12-28T12:06:11.187Z"
   },
   {
    "duration": 70,
    "start_time": "2024-12-28T12:06:29.269Z"
   },
   {
    "duration": 55,
    "start_time": "2024-12-28T12:06:42.139Z"
   },
   {
    "duration": 15,
    "start_time": "2024-12-28T12:06:47.270Z"
   },
   {
    "duration": 15,
    "start_time": "2024-12-28T12:08:38.220Z"
   },
   {
    "duration": 15,
    "start_time": "2024-12-28T12:43:37.480Z"
   },
   {
    "duration": 20,
    "start_time": "2024-12-28T12:44:18.033Z"
   },
   {
    "duration": 12,
    "start_time": "2024-12-28T12:44:30.190Z"
   },
   {
    "duration": 6,
    "start_time": "2024-12-28T12:44:38.369Z"
   },
   {
    "duration": 14,
    "start_time": "2024-12-28T12:45:55.898Z"
   },
   {
    "duration": 7,
    "start_time": "2024-12-28T12:45:59.056Z"
   },
   {
    "duration": 14,
    "start_time": "2024-12-28T12:47:47.155Z"
   },
   {
    "duration": 25,
    "start_time": "2024-12-28T12:47:58.676Z"
   },
   {
    "duration": 15,
    "start_time": "2024-12-28T12:48:21.140Z"
   },
   {
    "duration": 7,
    "start_time": "2024-12-28T12:48:30.430Z"
   },
   {
    "duration": 15,
    "start_time": "2024-12-28T12:56:09.860Z"
   },
   {
    "duration": 16,
    "start_time": "2024-12-28T12:57:41.531Z"
   },
   {
    "duration": 15,
    "start_time": "2024-12-28T12:58:04.648Z"
   },
   {
    "duration": 16,
    "start_time": "2024-12-28T13:27:46.090Z"
   },
   {
    "duration": 17,
    "start_time": "2024-12-28T13:28:16.319Z"
   },
   {
    "duration": 17,
    "start_time": "2024-12-28T13:28:27.109Z"
   },
   {
    "duration": 18,
    "start_time": "2024-12-28T13:28:40.059Z"
   },
   {
    "duration": 17,
    "start_time": "2024-12-28T13:29:38.200Z"
   },
   {
    "duration": 17,
    "start_time": "2024-12-28T13:29:55.460Z"
   },
   {
    "duration": 17,
    "start_time": "2024-12-28T13:30:18.059Z"
   },
   {
    "duration": 14,
    "start_time": "2024-12-28T13:30:36.657Z"
   },
   {
    "duration": 4,
    "start_time": "2024-12-28T13:31:29.139Z"
   },
   {
    "duration": 4,
    "start_time": "2024-12-28T13:31:39.155Z"
   },
   {
    "duration": 17,
    "start_time": "2024-12-28T13:32:37.579Z"
   },
   {
    "duration": 14,
    "start_time": "2024-12-28T13:34:40.710Z"
   },
   {
    "duration": 17,
    "start_time": "2024-12-28T13:34:57.289Z"
   },
   {
    "duration": 5,
    "start_time": "2024-12-28T13:35:55.992Z"
   },
   {
    "duration": 15,
    "start_time": "2024-12-28T13:36:05.619Z"
   },
   {
    "duration": 14,
    "start_time": "2024-12-28T13:38:56.578Z"
   },
   {
    "duration": 56,
    "start_time": "2024-12-28T13:39:04.989Z"
   },
   {
    "duration": 6,
    "start_time": "2024-12-28T13:39:48.149Z"
   },
   {
    "duration": 60,
    "start_time": "2024-12-28T13:39:50.300Z"
   },
   {
    "duration": 6,
    "start_time": "2024-12-28T13:43:37.309Z"
   },
   {
    "duration": 15,
    "start_time": "2024-12-28T13:43:40.139Z"
   },
   {
    "duration": 122,
    "start_time": "2024-12-28T13:43:53.512Z"
   },
   {
    "duration": 6,
    "start_time": "2024-12-28T13:44:41.040Z"
   },
   {
    "duration": 97,
    "start_time": "2024-12-28T13:44:42.959Z"
   },
   {
    "duration": 7,
    "start_time": "2024-12-28T13:45:39.179Z"
   },
   {
    "duration": 99,
    "start_time": "2024-12-28T13:45:40.949Z"
   },
   {
    "duration": 7,
    "start_time": "2024-12-28T13:46:00.962Z"
   },
   {
    "duration": 98,
    "start_time": "2024-12-28T13:46:02.899Z"
   },
   {
    "duration": 5,
    "start_time": "2024-12-28T13:49:53.288Z"
   },
   {
    "duration": 6,
    "start_time": "2024-12-28T13:49:59.537Z"
   },
   {
    "duration": 8,
    "start_time": "2024-12-28T13:50:40.999Z"
   },
   {
    "duration": 22601,
    "start_time": "2024-12-29T20:43:46.542Z"
   },
   {
    "duration": 1916,
    "start_time": "2024-12-29T20:45:10.966Z"
   },
   {
    "duration": 273,
    "start_time": "2024-12-29T20:45:29.558Z"
   },
   {
    "duration": 19,
    "start_time": "2024-12-29T20:45:33.493Z"
   },
   {
    "duration": 10,
    "start_time": "2024-12-29T20:45:39.344Z"
   },
   {
    "duration": 12,
    "start_time": "2024-12-29T20:45:42.581Z"
   },
   {
    "duration": 9,
    "start_time": "2024-12-29T20:45:48.080Z"
   },
   {
    "duration": 7,
    "start_time": "2024-12-29T20:45:52.658Z"
   },
   {
    "duration": 3,
    "start_time": "2024-12-29T20:45:56.955Z"
   },
   {
    "duration": 373,
    "start_time": "2024-12-29T20:46:11.227Z"
   },
   {
    "duration": 3,
    "start_time": "2024-12-29T20:48:18.075Z"
   },
   {
    "duration": 16,
    "start_time": "2024-12-29T20:48:19.363Z"
   },
   {
    "duration": 8,
    "start_time": "2024-12-29T20:48:57.431Z"
   },
   {
    "duration": 141,
    "start_time": "2024-12-29T20:50:44.742Z"
   },
   {
    "duration": 133,
    "start_time": "2024-12-29T20:50:53.942Z"
   },
   {
    "duration": 20,
    "start_time": "2024-12-29T20:51:44.401Z"
   },
   {
    "duration": 14,
    "start_time": "2024-12-29T20:51:56.614Z"
   },
   {
    "duration": 108,
    "start_time": "2024-12-29T20:52:01.983Z"
   },
   {
    "duration": 11,
    "start_time": "2024-12-29T20:52:08.812Z"
   },
   {
    "duration": 5,
    "start_time": "2024-12-29T20:53:53.067Z"
   },
   {
    "duration": 10,
    "start_time": "2024-12-29T20:54:22.715Z"
   },
   {
    "duration": 104,
    "start_time": "2024-12-29T20:55:14.381Z"
   },
   {
    "duration": 108,
    "start_time": "2024-12-29T21:04:15.987Z"
   },
   {
    "duration": 11,
    "start_time": "2024-12-29T21:05:35.838Z"
   },
   {
    "duration": 7,
    "start_time": "2024-12-29T21:06:02.362Z"
   },
   {
    "duration": 9,
    "start_time": "2024-12-29T21:14:24.158Z"
   },
   {
    "duration": 11,
    "start_time": "2024-12-29T21:15:13.351Z"
   },
   {
    "duration": 7,
    "start_time": "2024-12-29T21:15:15.879Z"
   },
   {
    "duration": 12,
    "start_time": "2024-12-29T21:15:34.654Z"
   },
   {
    "duration": 10,
    "start_time": "2024-12-29T21:15:37.873Z"
   },
   {
    "duration": 12,
    "start_time": "2024-12-29T21:15:39.908Z"
   },
   {
    "duration": 4,
    "start_time": "2024-12-29T21:16:31.443Z"
   },
   {
    "duration": 13,
    "start_time": "2024-12-29T21:16:42.149Z"
   },
   {
    "duration": 7,
    "start_time": "2024-12-29T21:16:52.568Z"
   },
   {
    "duration": 7,
    "start_time": "2024-12-29T21:17:24.177Z"
   },
   {
    "duration": 4,
    "start_time": "2024-12-29T21:17:46.396Z"
   },
   {
    "duration": 6,
    "start_time": "2024-12-29T21:17:46.790Z"
   },
   {
    "duration": 6,
    "start_time": "2024-12-29T21:19:12.946Z"
   },
   {
    "duration": 2,
    "start_time": "2024-12-29T21:19:56.063Z"
   },
   {
    "duration": 7,
    "start_time": "2024-12-29T21:20:11.940Z"
   },
   {
    "duration": 6,
    "start_time": "2024-12-29T21:20:15.964Z"
   },
   {
    "duration": 3,
    "start_time": "2024-12-29T21:23:46.150Z"
   },
   {
    "duration": 5,
    "start_time": "2024-12-29T21:25:51.564Z"
   },
   {
    "duration": 7,
    "start_time": "2024-12-29T21:26:15.719Z"
   },
   {
    "duration": 15,
    "start_time": "2024-12-29T21:27:27.433Z"
   },
   {
    "duration": 5,
    "start_time": "2024-12-29T21:28:31.765Z"
   },
   {
    "duration": 13,
    "start_time": "2024-12-29T21:28:43.273Z"
   },
   {
    "duration": 11,
    "start_time": "2024-12-29T21:30:30.960Z"
   },
   {
    "duration": 115,
    "start_time": "2024-12-29T21:30:36.922Z"
   },
   {
    "duration": 12,
    "start_time": "2024-12-29T21:30:43.007Z"
   },
   {
    "duration": 14,
    "start_time": "2024-12-29T21:30:45.434Z"
   },
   {
    "duration": 3,
    "start_time": "2024-12-29T21:30:52.513Z"
   },
   {
    "duration": 6,
    "start_time": "2024-12-29T21:31:04.501Z"
   },
   {
    "duration": 5,
    "start_time": "2024-12-29T21:31:06.282Z"
   },
   {
    "duration": 12,
    "start_time": "2024-12-29T21:31:08.058Z"
   },
   {
    "duration": 14,
    "start_time": "2024-12-29T21:31:24.297Z"
   },
   {
    "duration": 111,
    "start_time": "2024-12-29T21:31:35.614Z"
   },
   {
    "duration": 13,
    "start_time": "2024-12-29T21:31:40.334Z"
   },
   {
    "duration": 11,
    "start_time": "2024-12-29T21:31:46.889Z"
   },
   {
    "duration": 13,
    "start_time": "2024-12-29T21:31:51.753Z"
   },
   {
    "duration": 4,
    "start_time": "2024-12-29T21:31:52.737Z"
   },
   {
    "duration": 6,
    "start_time": "2024-12-29T21:31:55.058Z"
   },
   {
    "duration": 6,
    "start_time": "2024-12-29T21:31:55.746Z"
   },
   {
    "duration": 10,
    "start_time": "2024-12-29T21:31:56.914Z"
   },
   {
    "duration": 3,
    "start_time": "2024-12-29T21:32:05.063Z"
   },
   {
    "duration": 10,
    "start_time": "2024-12-29T21:32:07.423Z"
   },
   {
    "duration": 37,
    "start_time": "2024-12-29T21:32:25.487Z"
   },
   {
    "duration": 3,
    "start_time": "2024-12-29T21:32:28.966Z"
   },
   {
    "duration": 38,
    "start_time": "2024-12-29T21:44:46.013Z"
   },
   {
    "duration": 288,
    "start_time": "2024-12-29T21:55:06.263Z"
   },
   {
    "duration": 4,
    "start_time": "2024-12-29T21:55:30.806Z"
   },
   {
    "duration": 3,
    "start_time": "2024-12-29T21:55:48.406Z"
   },
   {
    "duration": 89,
    "start_time": "2024-12-29T21:56:00.074Z"
   },
   {
    "duration": 15,
    "start_time": "2024-12-29T21:56:05.563Z"
   },
   {
    "duration": 28,
    "start_time": "2024-12-29T21:57:28.502Z"
   },
   {
    "duration": 25,
    "start_time": "2024-12-29T21:57:45.024Z"
   },
   {
    "duration": 1642,
    "start_time": "2024-12-29T21:58:12.508Z"
   },
   {
    "duration": 29,
    "start_time": "2024-12-29T21:58:40.931Z"
   },
   {
    "duration": 6,
    "start_time": "2024-12-29T22:00:39.021Z"
   },
   {
    "duration": 46,
    "start_time": "2024-12-29T22:01:00.357Z"
   },
   {
    "duration": 13,
    "start_time": "2024-12-29T22:02:00.510Z"
   },
   {
    "duration": 132416,
    "start_time": "2024-12-29T22:02:07.578Z"
   },
   {
    "duration": 1666,
    "start_time": "2024-12-29T22:05:00.993Z"
   },
   {
    "duration": 30,
    "start_time": "2024-12-29T22:05:05.858Z"
   },
   {
    "duration": 18,
    "start_time": "2024-12-29T22:05:14.153Z"
   },
   {
    "duration": 1620,
    "start_time": "2024-12-29T22:06:49.431Z"
   },
   {
    "duration": 30,
    "start_time": "2024-12-29T22:06:53.137Z"
   },
   {
    "duration": 17,
    "start_time": "2024-12-29T22:06:58.614Z"
   },
   {
    "duration": 1674,
    "start_time": "2024-12-29T22:07:29.536Z"
   },
   {
    "duration": 31,
    "start_time": "2024-12-29T22:07:33.388Z"
   },
   {
    "duration": 30,
    "start_time": "2024-12-29T22:07:37.165Z"
   },
   {
    "duration": 17,
    "start_time": "2024-12-29T22:07:41.448Z"
   },
   {
    "duration": 1663,
    "start_time": "2024-12-29T22:08:05.860Z"
   },
   {
    "duration": 30,
    "start_time": "2024-12-29T22:08:10.493Z"
   },
   {
    "duration": 19,
    "start_time": "2024-12-29T22:08:15.524Z"
   },
   {
    "duration": 1714,
    "start_time": "2024-12-29T22:09:01.472Z"
   },
   {
    "duration": 32,
    "start_time": "2024-12-29T22:09:04.935Z"
   },
   {
    "duration": 21,
    "start_time": "2024-12-29T22:09:09.760Z"
   },
   {
    "duration": 1673,
    "start_time": "2024-12-29T22:09:31.084Z"
   },
   {
    "duration": 31,
    "start_time": "2024-12-29T22:09:34.530Z"
   },
   {
    "duration": 17,
    "start_time": "2024-12-29T22:09:37.658Z"
   },
   {
    "duration": 22,
    "start_time": "2024-12-29T22:09:41.845Z"
   },
   {
    "duration": 1729,
    "start_time": "2024-12-29T22:10:29.013Z"
   },
   {
    "duration": 32,
    "start_time": "2024-12-29T22:10:32.030Z"
   },
   {
    "duration": 18,
    "start_time": "2024-12-29T22:10:35.445Z"
   },
   {
    "duration": 1632,
    "start_time": "2024-12-29T22:11:05.961Z"
   },
   {
    "duration": 29,
    "start_time": "2024-12-29T22:11:09.657Z"
   },
   {
    "duration": 17,
    "start_time": "2024-12-29T22:11:14.018Z"
   },
   {
    "duration": 17,
    "start_time": "2024-12-29T22:11:39.884Z"
   },
   {
    "duration": 1265246,
    "start_time": "2024-12-29T22:12:02.151Z"
   },
   {
    "duration": 31,
    "start_time": "2024-12-29T22:36:24.080Z"
   },
   {
    "duration": 19,
    "start_time": "2024-12-29T22:36:31.265Z"
   },
   {
    "duration": 18,
    "start_time": "2024-12-29T22:36:37.123Z"
   },
   {
    "duration": 1704,
    "start_time": "2024-12-29T22:37:25.072Z"
   },
   {
    "duration": 31,
    "start_time": "2024-12-29T22:37:32.833Z"
   },
   {
    "duration": 18,
    "start_time": "2024-12-29T22:37:36.782Z"
   },
   {
    "duration": 43,
    "start_time": "2024-12-29T22:42:41.505Z"
   },
   {
    "duration": 49,
    "start_time": "2024-12-29T22:42:53.947Z"
   },
   {
    "duration": 3,
    "start_time": "2024-12-29T22:43:30.112Z"
   },
   {
    "duration": 3,
    "start_time": "2024-12-29T22:43:39.562Z"
   },
   {
    "duration": 52,
    "start_time": "2024-12-29T22:44:00.650Z"
   },
   {
    "duration": 5,
    "start_time": "2024-12-29T22:44:47.943Z"
   },
   {
    "duration": 54,
    "start_time": "2024-12-29T22:45:03.159Z"
   },
   {
    "duration": 5,
    "start_time": "2024-12-29T22:45:49.378Z"
   },
   {
    "duration": 52,
    "start_time": "2024-12-29T22:47:23.240Z"
   },
   {
    "duration": 23,
    "start_time": "2024-12-29T22:47:51.033Z"
   },
   {
    "duration": 43807,
    "start_time": "2024-12-29T22:50:10.223Z"
   },
   {
    "duration": 91,
    "start_time": "2024-12-29T22:50:54.032Z"
   },
   {
    "duration": 1672,
    "start_time": "2024-12-29T22:51:00.939Z"
   },
   {
    "duration": 146,
    "start_time": "2024-12-29T22:51:27.841Z"
   },
   {
    "duration": 216,
    "start_time": "2024-12-29T22:53:55.938Z"
   },
   {
    "duration": 13,
    "start_time": "2024-12-29T22:53:56.984Z"
   },
   {
    "duration": 11,
    "start_time": "2024-12-29T22:54:20.278Z"
   },
   {
    "duration": 13,
    "start_time": "2024-12-29T22:54:29.933Z"
   },
   {
    "duration": 105,
    "start_time": "2024-12-29T22:54:37.619Z"
   },
   {
    "duration": 14,
    "start_time": "2024-12-29T22:54:40.815Z"
   },
   {
    "duration": 11,
    "start_time": "2024-12-29T22:55:36.669Z"
   },
   {
    "duration": 104,
    "start_time": "2024-12-29T22:55:41.660Z"
   },
   {
    "duration": 11,
    "start_time": "2024-12-29T22:55:48.453Z"
   },
   {
    "duration": 12,
    "start_time": "2024-12-29T22:55:49.463Z"
   },
   {
    "duration": 4,
    "start_time": "2024-12-29T22:55:50.014Z"
   },
   {
    "duration": 6,
    "start_time": "2024-12-29T22:55:50.600Z"
   },
   {
    "duration": 5,
    "start_time": "2024-12-29T22:55:53.345Z"
   },
   {
    "duration": 11,
    "start_time": "2024-12-29T22:55:54.200Z"
   },
   {
    "duration": 10,
    "start_time": "2024-12-29T22:55:58.933Z"
   },
   {
    "duration": 114,
    "start_time": "2024-12-29T22:56:01.938Z"
   },
   {
    "duration": 11,
    "start_time": "2024-12-29T22:56:07.285Z"
   },
   {
    "duration": 110,
    "start_time": "2024-12-29T22:56:13.951Z"
   },
   {
    "duration": 14,
    "start_time": "2024-12-29T22:56:17.071Z"
   },
   {
    "duration": 5,
    "start_time": "2024-12-29T22:56:26.308Z"
   },
   {
    "duration": 11,
    "start_time": "2024-12-29T22:56:29.890Z"
   },
   {
    "duration": 12,
    "start_time": "2024-12-29T22:56:30.381Z"
   },
   {
    "duration": 4,
    "start_time": "2024-12-29T22:56:30.859Z"
   },
   {
    "duration": 7,
    "start_time": "2024-12-29T22:56:33.003Z"
   },
   {
    "duration": 5,
    "start_time": "2024-12-29T22:56:33.655Z"
   },
   {
    "duration": 4,
    "start_time": "2024-12-29T22:56:42.395Z"
   },
   {
    "duration": 5,
    "start_time": "2024-12-29T22:56:45.433Z"
   },
   {
    "duration": 4,
    "start_time": "2024-12-29T22:56:48.867Z"
   },
   {
    "duration": 1605,
    "start_time": "2024-12-29T22:56:51.955Z"
   },
   {
    "duration": 29,
    "start_time": "2024-12-29T22:56:54.251Z"
   },
   {
    "duration": 19,
    "start_time": "2024-12-29T22:57:03.121Z"
   },
   {
    "duration": 109,
    "start_time": "2024-12-29T22:57:11.283Z"
   },
   {
    "duration": 14,
    "start_time": "2024-12-29T22:57:12.976Z"
   },
   {
    "duration": 14,
    "start_time": "2024-12-29T22:57:33.324Z"
   },
   {
    "duration": 136,
    "start_time": "2024-12-29T22:57:36.523Z"
   },
   {
    "duration": 6,
    "start_time": "2024-12-29T22:57:41.284Z"
   },
   {
    "duration": 13,
    "start_time": "2024-12-29T22:57:54.194Z"
   },
   {
    "duration": 10,
    "start_time": "2024-12-29T23:01:52.520Z"
   },
   {
    "duration": 13,
    "start_time": "2024-12-29T23:02:11.087Z"
   },
   {
    "duration": 6,
    "start_time": "2024-12-29T23:02:17.830Z"
   },
   {
    "duration": 5,
    "start_time": "2024-12-29T23:03:40.307Z"
   },
   {
    "duration": 14,
    "start_time": "2024-12-29T23:04:11.785Z"
   },
   {
    "duration": 30,
    "start_time": "2024-12-29T23:04:37.019Z"
   },
   {
    "duration": 32,
    "start_time": "2024-12-29T23:04:49.816Z"
   },
   {
    "duration": 23,
    "start_time": "2024-12-29T23:05:40.227Z"
   },
   {
    "duration": 24,
    "start_time": "2024-12-29T23:05:48.858Z"
   },
   {
    "duration": 23,
    "start_time": "2024-12-29T23:06:23.154Z"
   },
   {
    "duration": 25,
    "start_time": "2024-12-29T23:06:47.223Z"
   },
   {
    "duration": 25,
    "start_time": "2024-12-29T23:06:50.823Z"
   },
   {
    "duration": 45040,
    "start_time": "2024-12-29T23:07:09.823Z"
   },
   {
    "duration": 57,
    "start_time": "2024-12-29T23:07:54.865Z"
   },
   {
    "duration": 3,
    "start_time": "2024-12-29T23:08:24.781Z"
   },
   {
    "duration": 15,
    "start_time": "2024-12-29T23:09:15.716Z"
   },
   {
    "duration": 14,
    "start_time": "2024-12-29T23:09:53.949Z"
   },
   {
    "duration": 15,
    "start_time": "2024-12-29T23:10:01.114Z"
   },
   {
    "duration": 15,
    "start_time": "2024-12-29T23:10:06.641Z"
   },
   {
    "duration": 14,
    "start_time": "2024-12-29T23:10:07.238Z"
   },
   {
    "duration": 2,
    "start_time": "2024-12-29T23:10:14.158Z"
   },
   {
    "duration": 8,
    "start_time": "2024-12-29T23:11:02.385Z"
   },
   {
    "duration": 2,
    "start_time": "2024-12-29T23:11:05.798Z"
   },
   {
    "duration": 1683,
    "start_time": "2024-12-29T23:13:41.650Z"
   },
   {
    "duration": 29,
    "start_time": "2024-12-29T23:14:23.334Z"
   },
   {
    "duration": 5,
    "start_time": "2024-12-29T23:15:10.670Z"
   },
   {
    "duration": 1660,
    "start_time": "2024-12-29T23:15:16.410Z"
   },
   {
    "duration": 34,
    "start_time": "2024-12-29T23:15:18.242Z"
   },
   {
    "duration": 30,
    "start_time": "2024-12-29T23:15:22.195Z"
   },
   {
    "duration": 20,
    "start_time": "2024-12-29T23:15:32.353Z"
   },
   {
    "duration": 4,
    "start_time": "2024-12-29T23:21:25.802Z"
   },
   {
    "duration": 15429,
    "start_time": "2024-12-29T23:21:38.921Z"
   },
   {
    "duration": 1604,
    "start_time": "2024-12-29T23:21:54.352Z"
   },
   {
    "duration": 107,
    "start_time": "2024-12-29T23:21:55.957Z"
   },
   {
    "duration": 17,
    "start_time": "2024-12-29T23:21:56.066Z"
   },
   {
    "duration": 10,
    "start_time": "2024-12-29T23:21:56.084Z"
   },
   {
    "duration": 13,
    "start_time": "2024-12-29T23:21:56.095Z"
   },
   {
    "duration": 9,
    "start_time": "2024-12-29T23:21:56.110Z"
   },
   {
    "duration": 9,
    "start_time": "2024-12-29T23:21:56.121Z"
   },
   {
    "duration": 3,
    "start_time": "2024-12-29T23:21:56.131Z"
   },
   {
    "duration": 419,
    "start_time": "2024-12-29T23:21:56.137Z"
   },
   {
    "duration": 8,
    "start_time": "2024-12-29T23:21:56.558Z"
   },
   {
    "duration": 656,
    "start_time": "2024-12-29T23:21:56.568Z"
   },
   {
    "duration": 9,
    "start_time": "2024-12-29T23:21:57.225Z"
   },
   {
    "duration": 26072,
    "start_time": "2024-12-30T09:49:45.902Z"
   },
   {
    "duration": 2098,
    "start_time": "2024-12-30T09:50:11.976Z"
   },
   {
    "duration": 265,
    "start_time": "2024-12-30T09:50:14.076Z"
   },
   {
    "duration": 30,
    "start_time": "2024-12-30T09:50:14.350Z"
   },
   {
    "duration": 15,
    "start_time": "2024-12-30T09:50:14.383Z"
   },
   {
    "duration": 17,
    "start_time": "2024-12-30T09:50:14.400Z"
   },
   {
    "duration": 20,
    "start_time": "2024-12-30T09:50:14.419Z"
   },
   {
    "duration": 15,
    "start_time": "2024-12-30T09:50:14.440Z"
   },
   {
    "duration": 9,
    "start_time": "2024-12-30T09:50:14.457Z"
   },
   {
    "duration": 503,
    "start_time": "2024-12-30T09:50:14.468Z"
   },
   {
    "duration": 11,
    "start_time": "2024-12-30T09:50:14.973Z"
   },
   {
    "duration": 959,
    "start_time": "2024-12-30T09:50:14.985Z"
   },
   {
    "duration": 13,
    "start_time": "2024-12-30T09:50:15.948Z"
   },
   {
    "duration": 1685,
    "start_time": "2024-12-30T09:50:15.964Z"
   },
   {
    "duration": 11,
    "start_time": "2024-12-30T09:50:17.651Z"
   },
   {
    "duration": 28,
    "start_time": "2024-12-30T09:50:17.664Z"
   },
   {
    "duration": 16,
    "start_time": "2024-12-30T09:50:17.694Z"
   },
   {
    "duration": 38,
    "start_time": "2024-12-30T09:50:17.711Z"
   },
   {
    "duration": 83,
    "start_time": "2024-12-30T09:50:17.752Z"
   },
   {
    "duration": 382,
    "start_time": "2024-12-30T09:50:17.837Z"
   },
   {
    "duration": 29,
    "start_time": "2024-12-30T09:50:18.222Z"
   },
   {
    "duration": 20,
    "start_time": "2024-12-30T09:50:18.253Z"
   },
   {
    "duration": 5,
    "start_time": "2024-12-30T09:50:18.275Z"
   },
   {
    "duration": 12,
    "start_time": "2024-12-30T09:50:18.282Z"
   },
   {
    "duration": 7,
    "start_time": "2024-12-30T09:50:18.296Z"
   },
   {
    "duration": 36,
    "start_time": "2024-12-30T09:50:18.305Z"
   },
   {
    "duration": 3,
    "start_time": "2024-12-30T09:50:18.343Z"
   },
   {
    "duration": 6,
    "start_time": "2024-12-30T09:50:18.351Z"
   },
   {
    "duration": 9,
    "start_time": "2024-12-30T09:50:18.358Z"
   },
   {
    "duration": 1913,
    "start_time": "2024-12-30T09:50:18.369Z"
   },
   {
    "duration": 32,
    "start_time": "2024-12-30T09:50:20.285Z"
   },
   {
    "duration": 45,
    "start_time": "2024-12-30T09:50:20.320Z"
   },
   {
    "duration": 50174,
    "start_time": "2024-12-30T09:50:20.368Z"
   },
   {
    "duration": 4,
    "start_time": "2024-12-30T09:51:10.544Z"
   },
   {
    "duration": 257,
    "start_time": "2024-12-30T09:51:10.550Z"
   },
   {
    "duration": 21,
    "start_time": "2024-12-30T09:51:10.809Z"
   },
   {
    "duration": 11,
    "start_time": "2024-12-30T09:51:10.832Z"
   },
   {
    "duration": 11,
    "start_time": "2024-12-30T09:51:10.845Z"
   },
   {
    "duration": 10,
    "start_time": "2024-12-30T09:51:10.857Z"
   },
   {
    "duration": 23,
    "start_time": "2024-12-30T09:51:10.868Z"
   },
   {
    "duration": 846,
    "start_time": "2024-12-30T09:51:10.894Z"
   },
   {
    "duration": 19,
    "start_time": "2024-12-30T09:51:11.741Z"
   },
   {
    "duration": 39,
    "start_time": "2024-12-30T09:51:11.762Z"
   },
   {
    "duration": 57,
    "start_time": "2024-12-30T09:51:11.802Z"
   },
   {
    "duration": 35,
    "start_time": "2024-12-30T09:51:11.861Z"
   },
   {
    "duration": 34,
    "start_time": "2024-12-30T09:51:11.898Z"
   },
   {
    "duration": 295,
    "start_time": "2024-12-30T09:51:11.934Z"
   },
   {
    "duration": 28,
    "start_time": "2024-12-30T09:51:12.231Z"
   },
   {
    "duration": 178,
    "start_time": "2024-12-30T09:51:12.261Z"
   },
   {
    "duration": 12,
    "start_time": "2024-12-30T09:51:12.441Z"
   },
   {
    "duration": 16,
    "start_time": "2024-12-30T09:51:12.455Z"
   },
   {
    "duration": 38,
    "start_time": "2024-12-30T09:51:12.473Z"
   },
   {
    "duration": 14,
    "start_time": "2024-12-30T09:51:12.513Z"
   },
   {
    "duration": 37,
    "start_time": "2024-12-30T09:51:12.529Z"
   },
   {
    "duration": 26,
    "start_time": "2024-12-30T09:51:12.568Z"
   },
   {
    "duration": 1976,
    "start_time": "2024-12-30T09:51:12.597Z"
   },
   {
    "duration": 34,
    "start_time": "2024-12-30T09:51:14.574Z"
   },
   {
    "duration": 59,
    "start_time": "2024-12-30T09:51:14.610Z"
   },
   {
    "duration": 24296,
    "start_time": "2025-01-02T13:08:59.808Z"
   },
   {
    "duration": 2217,
    "start_time": "2025-01-02T13:09:24.107Z"
   },
   {
    "duration": 249,
    "start_time": "2025-01-02T13:09:26.326Z"
   },
   {
    "duration": 21,
    "start_time": "2025-01-02T13:09:26.577Z"
   },
   {
    "duration": 60,
    "start_time": "2025-01-02T13:09:26.599Z"
   },
   {
    "duration": 57,
    "start_time": "2025-01-02T13:09:26.660Z"
   },
   {
    "duration": 90,
    "start_time": "2025-01-02T13:09:26.719Z"
   },
   {
    "duration": 27,
    "start_time": "2025-01-02T13:09:26.811Z"
   },
   {
    "duration": 26,
    "start_time": "2025-01-02T13:09:26.839Z"
   },
   {
    "duration": 538,
    "start_time": "2025-01-02T13:09:26.868Z"
   },
   {
    "duration": 9,
    "start_time": "2025-01-02T13:09:27.407Z"
   },
   {
    "duration": 879,
    "start_time": "2025-01-02T13:09:27.418Z"
   },
   {
    "duration": 12,
    "start_time": "2025-01-02T13:09:28.299Z"
   },
   {
    "duration": 1578,
    "start_time": "2025-01-02T13:09:28.313Z"
   },
   {
    "duration": 11,
    "start_time": "2025-01-02T13:09:29.893Z"
   },
   {
    "duration": 17,
    "start_time": "2025-01-02T13:09:29.906Z"
   },
   {
    "duration": 11,
    "start_time": "2025-01-02T13:09:29.924Z"
   },
   {
    "duration": 10,
    "start_time": "2025-01-02T13:09:29.936Z"
   },
   {
    "duration": 10,
    "start_time": "2025-01-02T13:09:29.948Z"
   },
   {
    "duration": 361,
    "start_time": "2025-01-02T13:09:29.971Z"
   },
   {
    "duration": 13,
    "start_time": "2025-01-02T13:09:30.334Z"
   },
   {
    "duration": 47,
    "start_time": "2025-01-02T13:09:30.350Z"
   },
   {
    "duration": 5,
    "start_time": "2025-01-02T13:09:30.399Z"
   },
   {
    "duration": 23,
    "start_time": "2025-01-02T13:09:30.407Z"
   },
   {
    "duration": 54,
    "start_time": "2025-01-02T13:09:30.433Z"
   },
   {
    "duration": 31,
    "start_time": "2025-01-02T13:09:30.489Z"
   },
   {
    "duration": 47,
    "start_time": "2025-01-02T13:09:30.523Z"
   },
   {
    "duration": 95,
    "start_time": "2025-01-02T13:09:30.574Z"
   },
   {
    "duration": 121,
    "start_time": "2025-01-02T13:09:30.671Z"
   },
   {
    "duration": 1908,
    "start_time": "2025-01-02T13:09:30.793Z"
   },
   {
    "duration": 34,
    "start_time": "2025-01-02T13:09:32.703Z"
   },
   {
    "duration": 136,
    "start_time": "2025-01-02T13:09:32.739Z"
   },
   {
    "duration": 52494,
    "start_time": "2025-01-02T13:09:32.877Z"
   },
   {
    "duration": 5,
    "start_time": "2025-01-02T13:10:25.373Z"
   },
   {
    "duration": 229,
    "start_time": "2025-01-02T13:10:25.379Z"
   },
   {
    "duration": 16,
    "start_time": "2025-01-02T13:10:25.610Z"
   },
   {
    "duration": 10,
    "start_time": "2025-01-02T13:10:25.628Z"
   },
   {
    "duration": 44,
    "start_time": "2025-01-02T13:10:25.639Z"
   },
   {
    "duration": 73,
    "start_time": "2025-01-02T13:10:25.685Z"
   },
   {
    "duration": 11,
    "start_time": "2025-01-02T13:10:25.760Z"
   },
   {
    "duration": 999,
    "start_time": "2025-01-02T13:10:25.774Z"
   },
   {
    "duration": 20,
    "start_time": "2025-01-02T13:10:26.775Z"
   },
   {
    "duration": 26,
    "start_time": "2025-01-02T13:10:26.797Z"
   },
   {
    "duration": 25,
    "start_time": "2025-01-02T13:10:26.825Z"
   },
   {
    "duration": 28,
    "start_time": "2025-01-02T13:10:26.852Z"
   },
   {
    "duration": 19,
    "start_time": "2025-01-02T13:10:26.882Z"
   },
   {
    "duration": 293,
    "start_time": "2025-01-02T13:10:26.903Z"
   },
   {
    "duration": 17,
    "start_time": "2025-01-02T13:10:27.199Z"
   },
   {
    "duration": 174,
    "start_time": "2025-01-02T13:10:27.218Z"
   },
   {
    "duration": 11,
    "start_time": "2025-01-02T13:10:27.394Z"
   },
   {
    "duration": 5,
    "start_time": "2025-01-02T13:10:27.407Z"
   },
   {
    "duration": 17,
    "start_time": "2025-01-02T13:10:27.413Z"
   },
   {
    "duration": 8,
    "start_time": "2025-01-02T13:10:27.431Z"
   },
   {
    "duration": 42,
    "start_time": "2025-01-02T13:10:27.441Z"
   },
   {
    "duration": 12,
    "start_time": "2025-01-02T13:10:27.485Z"
   },
   {
    "duration": 1930,
    "start_time": "2025-01-02T13:10:27.498Z"
   },
   {
    "duration": 45,
    "start_time": "2025-01-02T13:10:29.430Z"
   },
   {
    "duration": 23,
    "start_time": "2025-01-02T13:10:29.477Z"
   },
   {
    "duration": 16,
    "start_time": "2025-01-02T13:10:43.109Z"
   },
   {
    "duration": 15,
    "start_time": "2025-01-02T13:11:55.991Z"
   },
   {
    "duration": 15,
    "start_time": "2025-01-02T13:13:04.592Z"
   },
   {
    "duration": 16,
    "start_time": "2025-01-02T13:14:35.128Z"
   }
  ],
  "kernelspec": {
   "display_name": "Python 3 (ipykernel)",
   "language": "python",
   "name": "python3"
  },
  "language_info": {
   "codemirror_mode": {
    "name": "ipython",
    "version": 3
   },
   "file_extension": ".py",
   "mimetype": "text/x-python",
   "name": "python",
   "nbconvert_exporter": "python",
   "pygments_lexer": "ipython3",
   "version": "3.9.5"
  },
  "toc": {
   "base_numbering": 1,
   "nav_menu": {},
   "number_sections": true,
   "sideBar": true,
   "skip_h1_title": true,
   "title_cell": "Table of Contents",
   "title_sidebar": "Contents",
   "toc_cell": false,
   "toc_position": {
    "height": "602px",
    "left": "25px",
    "top": "111.141px",
    "width": "307.188px"
   },
   "toc_section_display": true,
   "toc_window_display": true
  }
 },
 "nbformat": 4,
 "nbformat_minor": 2
}
