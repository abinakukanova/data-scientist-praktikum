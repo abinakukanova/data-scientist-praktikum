{
 "cells": [
  {
   "cell_type": "markdown",
   "metadata": {
    "id": "MLM5X0svZdnH",
    "toc": true
   },
   "source": [
    "<h1>Содержание<span class=\"tocSkip\"></span></h1>\n",
    "<div class=\"toc\"><ul class=\"toc-item\"><li><span><a href=\"#Импортируем-библиотеки\" data-toc-modified-id=\"Импортируем-библиотеки-1\"><span class=\"toc-item-num\">1&nbsp;&nbsp;</span>Импортируем библиотеки</a></span></li><li><span><a href=\"#Анализ\" data-toc-modified-id=\"Анализ-2\"><span class=\"toc-item-num\">2&nbsp;&nbsp;</span>Анализ</a></span></li><li><span><a href=\"#Подготовка\" data-toc-modified-id=\"Подготовка-3\"><span class=\"toc-item-num\">3&nbsp;&nbsp;</span>Подготовка</a></span></li><li><span><a href=\"#Подберем-параметры-для-LightGBM-с-помощью-Optuna\" data-toc-modified-id=\"Подберем-параметры-для-LightGBM-с-помощью-Optuna-4\"><span class=\"toc-item-num\">4&nbsp;&nbsp;</span>Подберем параметры для LightGBM с помощью Optuna</a></span></li><li><span><a href=\"#Подберем-параметры-для-DecisionTreeRegressor\" data-toc-modified-id=\"Подберем-параметры-для-DecisionTreeRegressor-5\"><span class=\"toc-item-num\">5&nbsp;&nbsp;</span>Подберем параметры для DecisionTreeRegressor</a></span></li><li><span><a href=\"#Подберем-параметры-для-RandomForestRegressor\" data-toc-modified-id=\"Подберем-параметры-для-RandomForestRegressor-6\"><span class=\"toc-item-num\">6&nbsp;&nbsp;</span>Подберем параметры для RandomForestRegressor</a></span></li><li><span><a href=\"#Общий-вывод\" data-toc-modified-id=\"Общий-вывод-7\"><span class=\"toc-item-num\">7&nbsp;&nbsp;</span>Общий вывод</a></span></li></ul></div>"
   ]
  },
  {
   "cell_type": "markdown",
   "metadata": {
    "id": "QfbfF4p2gEeY"
   },
   "source": [
    "# Проект по курсу \"Временные ряды\"\n",
    "\n",
    "**Описание исследования**\n",
    "\n",
    "Компания «Чётенькое такси» собрала исторические данные о заказах такси в аэропортах. Чтобы привлекать больше водителей в период пиковой нагрузки, нужно спрогнозировать количество заказов такси на следующий час. Постройте модель для такого предсказания.\n",
    "\n",
    "**Задачи исследования**\n",
    "1. Загрузить данные и выполнить их ресемплирование по одному часу.\n",
    "2. Проанализировать данные.\n",
    "3. Обучить разные модели с различными гиперпараметрами. Сделать тестовую выборку размером 10% от исходных данных.\n",
    "4. Проверить данные на тестовой выборке и сделать выводы.\n",
    "\n",
    "**Описание данных**\n",
    "\n",
    "Данные лежат в файле `/datasets/taxi.csv`.\n",
    "\n",
    "Количество заказов находится в столбце 'num_orders' (от англ. number of orders, «число заказов»)."
   ]
  },
  {
   "cell_type": "markdown",
   "metadata": {
    "id": "XjmQrtQ_y-LE"
   },
   "source": [
    "## Импортируем библиотеки"
   ]
  },
  {
   "cell_type": "code",
   "execution_count": 2,
   "metadata": {
    "id": "GFPwtS3bZvNG"
   },
   "outputs": [],
   "source": [
    "!pip install optuna -q\n",
    "!pip install lightgbm -q\n",
    "!pip install scikit-learn --upgrade -q"
   ]
  },
  {
   "cell_type": "code",
   "execution_count": 3,
   "metadata": {
    "id": "GhbtiCMGgEea"
   },
   "outputs": [],
   "source": [
    "import pandas as pd\n",
    "import numpy as np\n",
    "import seaborn as sns\n",
    "import matplotlib.pyplot as plt\n",
    "\n",
    "from sklearn.pipeline import Pipeline\n",
    "from sklearn.compose import ColumnTransformer\n",
    "from sklearn.tree import DecisionTreeRegressor\n",
    "from sklearn.ensemble import RandomForestRegressor\n",
    "from sklearn.model_selection import RandomizedSearchCV\n",
    "from sklearn.preprocessing import OneHotEncoder, StandardScaler, MinMaxScaler, RobustScaler\n",
    "from sklearn.model_selection import train_test_split, cross_val_score, TimeSeriesSplit\n",
    "from sklearn.metrics import root_mean_squared_error\n",
    "import optuna\n",
    "import lightgbm as lgb\n",
    "from statsmodels.tsa.seasonal import seasonal_decompose\n",
    "\n",
    "import time\n",
    "import warnings\n",
    "warnings.filterwarnings(\"ignore\")"
   ]
  },
  {
   "cell_type": "code",
   "execution_count": 4,
   "metadata": {
    "colab": {
     "base_uri": "https://localhost:8080/",
     "height": 394
    },
    "id": "a6jQ_pLngEec",
    "outputId": "3594acb8-79ea-4ae5-fdc8-80d3b7756198"
   },
   "outputs": [
    {
     "data": {
      "text/html": [
       "<div>\n",
       "<style scoped>\n",
       "    .dataframe tbody tr th:only-of-type {\n",
       "        vertical-align: middle;\n",
       "    }\n",
       "\n",
       "    .dataframe tbody tr th {\n",
       "        vertical-align: top;\n",
       "    }\n",
       "\n",
       "    .dataframe thead th {\n",
       "        text-align: right;\n",
       "    }\n",
       "</style>\n",
       "<table border=\"1\" class=\"dataframe\">\n",
       "  <thead>\n",
       "    <tr style=\"text-align: right;\">\n",
       "      <th></th>\n",
       "      <th>num_orders</th>\n",
       "    </tr>\n",
       "    <tr>\n",
       "      <th>datetime</th>\n",
       "      <th></th>\n",
       "    </tr>\n",
       "  </thead>\n",
       "  <tbody>\n",
       "    <tr>\n",
       "      <th>2018-03-01 00:00:00</th>\n",
       "      <td>124</td>\n",
       "    </tr>\n",
       "    <tr>\n",
       "      <th>2018-03-01 01:00:00</th>\n",
       "      <td>85</td>\n",
       "    </tr>\n",
       "    <tr>\n",
       "      <th>2018-03-01 02:00:00</th>\n",
       "      <td>71</td>\n",
       "    </tr>\n",
       "    <tr>\n",
       "      <th>2018-03-01 03:00:00</th>\n",
       "      <td>66</td>\n",
       "    </tr>\n",
       "    <tr>\n",
       "      <th>2018-03-01 04:00:00</th>\n",
       "      <td>43</td>\n",
       "    </tr>\n",
       "  </tbody>\n",
       "</table>\n",
       "</div>"
      ],
      "text/plain": [
       "                     num_orders\n",
       "datetime                       \n",
       "2018-03-01 00:00:00         124\n",
       "2018-03-01 01:00:00          85\n",
       "2018-03-01 02:00:00          71\n",
       "2018-03-01 03:00:00          66\n",
       "2018-03-01 04:00:00          43"
      ]
     },
     "metadata": {},
     "output_type": "display_data"
    },
    {
     "name": "stdout",
     "output_type": "stream",
     "text": [
      "<class 'pandas.core.frame.DataFrame'>\n",
      "DatetimeIndex: 4416 entries, 2018-03-01 00:00:00 to 2018-08-31 23:00:00\n",
      "Freq: H\n",
      "Data columns (total 1 columns):\n",
      " #   Column      Non-Null Count  Dtype\n",
      "---  ------      --------------  -----\n",
      " 0   num_orders  4416 non-null   int64\n",
      "dtypes: int64(1)\n",
      "memory usage: 69.0 KB\n"
     ]
    }
   ],
   "source": [
    "try:\n",
    "  df = pd.read_csv('/datasets/taxi.csv', index_col=[0], parse_dates=[0])\n",
    "except:\n",
    "  df = pd.read_csv('taxi.csv', index_col=[0], parse_dates=[0])\n",
    "\n",
    "df.sort_index(inplace=True)\n",
    "df = df.resample('1H').sum()\n",
    "display(df.head(5))\n",
    "df.info()"
   ]
  },
  {
   "cell_type": "code",
   "execution_count": 5,
   "metadata": {
    "colab": {
     "base_uri": "https://localhost:8080/"
    },
    "id": "LRXo407rgEee",
    "outputId": "c1dcc5a2-31d3-47e3-eced-80f760fc4337"
   },
   "outputs": [
    {
     "data": {
      "text/plain": [
       "True"
      ]
     },
     "execution_count": 5,
     "metadata": {},
     "output_type": "execute_result"
    }
   ],
   "source": [
    "df.index.is_monotonic_increasing"
   ]
  },
  {
   "cell_type": "markdown",
   "metadata": {
    "id": "4ilYZrvkgEef"
   },
   "source": [
    "**Вывод**\n",
    "\n",
    "Загрузили данные из csv-файла, сразу изменив на правильный тип данных в столбце `datetime`. Изменили интервал на один час, так как по задаче нам нужно спрогнозировать количество заказов такси на следующий час. Проверили, что данные находятся в хронологическом порядке."
   ]
  },
  {
   "cell_type": "markdown",
   "metadata": {
    "id": "7uMjKYQ5ujdY"
   },
   "source": [
    "## Анализ"
   ]
  },
  {
   "cell_type": "code",
   "execution_count": 6,
   "metadata": {
    "colab": {
     "base_uri": "https://localhost:8080/",
     "height": 580
    },
    "id": "S1T7ll_NgEeg",
    "outputId": "0fb72dfd-6e34-4146-ec11-59b4ca2404cf"
   },
   "outputs": [
    {
     "data": {
      "image/png": "[encoded data removed]",
      "text/plain": [
       "<Figure size 864x432 with 1 Axes>"
      ]
     },
     "metadata": {
      "needs_background": "light"
     },
     "output_type": "display_data"
    }
   ],
   "source": [
    "decomposed = seasonal_decompose(df)\n",
    "plt.figure(figsize=(12, 6))\n",
    "decomposed.trend.plot()\n",
    "plt.title('Trend')\n",
    "plt.show()"
   ]
  },
  {
   "cell_type": "code",
   "execution_count": 7,
   "metadata": {
    "colab": {
     "base_uri": "https://localhost:8080/",
     "height": 597
    },
    "id": "VLFo3lPugEeh",
    "outputId": "b055a587-610c-487a-bc81-38193eceb97a",
    "scrolled": false
   },
   "outputs": [
    {
     "data": {
      "image/png": "[encoded data removed]",
      "text/plain": [
       "<Figure size 864x432 with 1 Axes>"
      ]
     },
     "metadata": {
      "needs_background": "light"
     },
     "output_type": "display_data"
    }
   ],
   "source": [
    "plt.figure(figsize=(12, 6))\n",
    "decomposed.seasonal['2018-06-01':'2018-06-02'].plot()\n",
    "plt.title('Seasonality')\n",
    "plt.show()"
   ]
  },
  {
   "cell_type": "code",
   "execution_count": 8,
   "metadata": {
    "colab": {
     "base_uri": "https://localhost:8080/",
     "height": 580
    },
    "id": "KpmtGzH3gEeh",
    "outputId": "0c69cc9c-9efd-42fa-831f-5fbc6c717867"
   },
   "outputs": [
    {
     "data": {
      "image/png": "[encoded data removed]",
      "text/plain": [
       "<Figure size 864x432 with 1 Axes>"
      ]
     },
     "metadata": {
      "needs_background": "light"
     },
     "output_type": "display_data"
    }
   ],
   "source": [
    "plt.figure(figsize=(12, 6))\n",
    "decomposed.resid.plot()\n",
    "plt.title('Residuals')\n",
    "plt.show()"
   ]
  },
  {
   "cell_type": "code",
   "execution_count": 9,
   "metadata": {
    "colab": {
     "base_uri": "https://localhost:8080/",
     "height": 466
    },
    "id": "14kBnCSmgEei",
    "outputId": "e4feae0f-54b9-40ad-caeb-40b943966a7f"
   },
   "outputs": [
    {
     "data": {
      "image/png": "[encoded data removed]",
      "text/plain": [
       "<Figure size 432x288 with 1 Axes>"
      ]
     },
     "metadata": {
      "needs_background": "light"
     },
     "output_type": "display_data"
    }
   ],
   "source": [
    "df['rolling_mean'] = df.rolling(10).mean()\n",
    "df.plot()\n",
    "plt.show()"
   ]
  },
  {
   "cell_type": "markdown",
   "metadata": {
    "id": "OEhSVJMZgEej"
   },
   "source": [
    "**Вывод**\n",
    "- Построили график сезонной составляющей с 1 по 2-ое июня.  Получилось, что ночью высокий спрос на такси.\n",
    "- По графику с трендом видно, что объем заказов с марта 2018 года объем заказов увеличился"
   ]
  },
  {
   "cell_type": "markdown",
   "metadata": {
    "id": "c-Pmn1jawrub"
   },
   "source": [
    "## Подготовка"
   ]
  },
  {
   "cell_type": "code",
   "execution_count": 10,
   "metadata": {
    "colab": {
     "base_uri": "https://localhost:8080/",
     "height": 460
    },
    "id": "UN4Sv3ZogEek",
    "outputId": "5bd99271-9a7d-49d2-98c7-d46231a4bf40"
   },
   "outputs": [
    {
     "data": {
      "text/html": [
       "<div>\n",
       "<style scoped>\n",
       "    .dataframe tbody tr th:only-of-type {\n",
       "        vertical-align: middle;\n",
       "    }\n",
       "\n",
       "    .dataframe tbody tr th {\n",
       "        vertical-align: top;\n",
       "    }\n",
       "\n",
       "    .dataframe thead th {\n",
       "        text-align: right;\n",
       "    }\n",
       "</style>\n",
       "<table border=\"1\" class=\"dataframe\">\n",
       "  <thead>\n",
       "    <tr style=\"text-align: right;\">\n",
       "      <th></th>\n",
       "      <th>num_orders</th>\n",
       "      <th>rolling_mean</th>\n",
       "      <th>day_of_week</th>\n",
       "      <th>hour</th>\n",
       "      <th>lag_1</th>\n",
       "      <th>lag_2</th>\n",
       "      <th>lag_3</th>\n",
       "      <th>lag_4</th>\n",
       "      <th>lag_5</th>\n",
       "      <th>lag_6</th>\n",
       "      <th>...</th>\n",
       "      <th>lag_11</th>\n",
       "      <th>lag_12</th>\n",
       "      <th>lag_13</th>\n",
       "      <th>lag_14</th>\n",
       "      <th>lag_15</th>\n",
       "      <th>lag_16</th>\n",
       "      <th>lag_17</th>\n",
       "      <th>lag_18</th>\n",
       "      <th>lag_19</th>\n",
       "      <th>lag_20</th>\n",
       "    </tr>\n",
       "    <tr>\n",
       "      <th>datetime</th>\n",
       "      <th></th>\n",
       "      <th></th>\n",
       "      <th></th>\n",
       "      <th></th>\n",
       "      <th></th>\n",
       "      <th></th>\n",
       "      <th></th>\n",
       "      <th></th>\n",
       "      <th></th>\n",
       "      <th></th>\n",
       "      <th></th>\n",
       "      <th></th>\n",
       "      <th></th>\n",
       "      <th></th>\n",
       "      <th></th>\n",
       "      <th></th>\n",
       "      <th></th>\n",
       "      <th></th>\n",
       "      <th></th>\n",
       "      <th></th>\n",
       "      <th></th>\n",
       "    </tr>\n",
       "  </thead>\n",
       "  <tbody>\n",
       "    <tr>\n",
       "      <th>2018-03-01 00:00:00</th>\n",
       "      <td>124</td>\n",
       "      <td>NaN</td>\n",
       "      <td>3</td>\n",
       "      <td>0</td>\n",
       "      <td>NaN</td>\n",
       "      <td>NaN</td>\n",
       "      <td>NaN</td>\n",
       "      <td>NaN</td>\n",
       "      <td>NaN</td>\n",
       "      <td>NaN</td>\n",
       "      <td>...</td>\n",
       "      <td>NaN</td>\n",
       "      <td>NaN</td>\n",
       "      <td>NaN</td>\n",
       "      <td>NaN</td>\n",
       "      <td>NaN</td>\n",
       "      <td>NaN</td>\n",
       "      <td>NaN</td>\n",
       "      <td>NaN</td>\n",
       "      <td>NaN</td>\n",
       "      <td>NaN</td>\n",
       "    </tr>\n",
       "    <tr>\n",
       "      <th>2018-03-01 01:00:00</th>\n",
       "      <td>85</td>\n",
       "      <td>NaN</td>\n",
       "      <td>3</td>\n",
       "      <td>1</td>\n",
       "      <td>124.0</td>\n",
       "      <td>NaN</td>\n",
       "      <td>NaN</td>\n",
       "      <td>NaN</td>\n",
       "      <td>NaN</td>\n",
       "      <td>NaN</td>\n",
       "      <td>...</td>\n",
       "      <td>NaN</td>\n",
       "      <td>NaN</td>\n",
       "      <td>NaN</td>\n",
       "      <td>NaN</td>\n",
       "      <td>NaN</td>\n",
       "      <td>NaN</td>\n",
       "      <td>NaN</td>\n",
       "      <td>NaN</td>\n",
       "      <td>NaN</td>\n",
       "      <td>NaN</td>\n",
       "    </tr>\n",
       "    <tr>\n",
       "      <th>2018-03-01 02:00:00</th>\n",
       "      <td>71</td>\n",
       "      <td>NaN</td>\n",
       "      <td>3</td>\n",
       "      <td>2</td>\n",
       "      <td>85.0</td>\n",
       "      <td>124.0</td>\n",
       "      <td>NaN</td>\n",
       "      <td>NaN</td>\n",
       "      <td>NaN</td>\n",
       "      <td>NaN</td>\n",
       "      <td>...</td>\n",
       "      <td>NaN</td>\n",
       "      <td>NaN</td>\n",
       "      <td>NaN</td>\n",
       "      <td>NaN</td>\n",
       "      <td>NaN</td>\n",
       "      <td>NaN</td>\n",
       "      <td>NaN</td>\n",
       "      <td>NaN</td>\n",
       "      <td>NaN</td>\n",
       "      <td>NaN</td>\n",
       "    </tr>\n",
       "    <tr>\n",
       "      <th>2018-03-01 03:00:00</th>\n",
       "      <td>66</td>\n",
       "      <td>NaN</td>\n",
       "      <td>3</td>\n",
       "      <td>3</td>\n",
       "      <td>71.0</td>\n",
       "      <td>85.0</td>\n",
       "      <td>124.0</td>\n",
       "      <td>NaN</td>\n",
       "      <td>NaN</td>\n",
       "      <td>NaN</td>\n",
       "      <td>...</td>\n",
       "      <td>NaN</td>\n",
       "      <td>NaN</td>\n",
       "      <td>NaN</td>\n",
       "      <td>NaN</td>\n",
       "      <td>NaN</td>\n",
       "      <td>NaN</td>\n",
       "      <td>NaN</td>\n",
       "      <td>NaN</td>\n",
       "      <td>NaN</td>\n",
       "      <td>NaN</td>\n",
       "    </tr>\n",
       "    <tr>\n",
       "      <th>2018-03-01 04:00:00</th>\n",
       "      <td>43</td>\n",
       "      <td>NaN</td>\n",
       "      <td>3</td>\n",
       "      <td>4</td>\n",
       "      <td>66.0</td>\n",
       "      <td>71.0</td>\n",
       "      <td>85.0</td>\n",
       "      <td>124.0</td>\n",
       "      <td>NaN</td>\n",
       "      <td>NaN</td>\n",
       "      <td>...</td>\n",
       "      <td>NaN</td>\n",
       "      <td>NaN</td>\n",
       "      <td>NaN</td>\n",
       "      <td>NaN</td>\n",
       "      <td>NaN</td>\n",
       "      <td>NaN</td>\n",
       "      <td>NaN</td>\n",
       "      <td>NaN</td>\n",
       "      <td>NaN</td>\n",
       "      <td>NaN</td>\n",
       "    </tr>\n",
       "  </tbody>\n",
       "</table>\n",
       "<p>5 rows × 24 columns</p>\n",
       "</div>"
      ],
      "text/plain": [
       "                     num_orders  rolling_mean  day_of_week  hour  lag_1  \\\n",
       "datetime                                                                  \n",
       "2018-03-01 00:00:00         124           NaN            3     0    NaN   \n",
       "2018-03-01 01:00:00          85           NaN            3     1  124.0   \n",
       "2018-03-01 02:00:00          71           NaN            3     2   85.0   \n",
       "2018-03-01 03:00:00          66           NaN            3     3   71.0   \n",
       "2018-03-01 04:00:00          43           NaN            3     4   66.0   \n",
       "\n",
       "                     lag_2  lag_3  lag_4  lag_5  lag_6  ...  lag_11  lag_12  \\\n",
       "datetime                                                ...                   \n",
       "2018-03-01 00:00:00    NaN    NaN    NaN    NaN    NaN  ...     NaN     NaN   \n",
       "2018-03-01 01:00:00    NaN    NaN    NaN    NaN    NaN  ...     NaN     NaN   \n",
       "2018-03-01 02:00:00  124.0    NaN    NaN    NaN    NaN  ...     NaN     NaN   \n",
       "2018-03-01 03:00:00   85.0  124.0    NaN    NaN    NaN  ...     NaN     NaN   \n",
       "2018-03-01 04:00:00   71.0   85.0  124.0    NaN    NaN  ...     NaN     NaN   \n",
       "\n",
       "                     lag_13  lag_14  lag_15  lag_16  lag_17  lag_18  lag_19  \\\n",
       "datetime                                                                      \n",
       "2018-03-01 00:00:00     NaN     NaN     NaN     NaN     NaN     NaN     NaN   \n",
       "2018-03-01 01:00:00     NaN     NaN     NaN     NaN     NaN     NaN     NaN   \n",
       "2018-03-01 02:00:00     NaN     NaN     NaN     NaN     NaN     NaN     NaN   \n",
       "2018-03-01 03:00:00     NaN     NaN     NaN     NaN     NaN     NaN     NaN   \n",
       "2018-03-01 04:00:00     NaN     NaN     NaN     NaN     NaN     NaN     NaN   \n",
       "\n",
       "                     lag_20  \n",
       "datetime                     \n",
       "2018-03-01 00:00:00     NaN  \n",
       "2018-03-01 01:00:00     NaN  \n",
       "2018-03-01 02:00:00     NaN  \n",
       "2018-03-01 03:00:00     NaN  \n",
       "2018-03-01 04:00:00     NaN  \n",
       "\n",
       "[5 rows x 24 columns]"
      ]
     },
     "execution_count": 10,
     "metadata": {},
     "output_type": "execute_result"
    }
   ],
   "source": [
    "df['day_of_week'] = df.index.dayofweek\n",
    "df['hour'] = df.index.hour\n",
    "for lag in range(1, 21):\n",
    "        df['lag_{}'.format(lag)] = df['num_orders'].shift(lag)\n",
    "\n",
    "df.head()"
   ]
  },
  {
   "cell_type": "code",
   "execution_count": 11,
   "metadata": {
    "id": "P4GYm789h24y"
   },
   "outputs": [],
   "source": [
    "X = df.drop(columns='num_orders')\n",
    "y = df['num_orders']\n",
    "\n",
    "numerical_features = ['rolling_mean', 'day_of_week', 'hour', 'lag_1', 'lag_2',\n",
    "       'lag_3', 'lag_4', 'lag_5', 'lag_6', 'lag_7', 'lag_8', 'lag_9', 'lag_10',\n",
    "       'lag_11', 'lag_12', 'lag_13', 'lag_14', 'lag_15', 'lag_16', 'lag_17',\n",
    "       'lag_18', 'lag_19', 'lag_20']\n",
    "\n",
    "X_train, X_test, y_train, y_test = train_test_split(X, y, shuffle=False, test_size=0.1, random_state=42)"
   ]
  },
  {
   "cell_type": "markdown",
   "metadata": {
    "id": "C1cdseZGw0Dw"
   },
   "source": [
    "**Вывод**\n",
    "\n",
    "- Создали новые признаки: год, месяц, день месяца, день недели, день в году, квартал\n",
    "- Разделили данные на обучающую и тестовую выборки"
   ]
  },
  {
   "cell_type": "markdown",
   "metadata": {
    "id": "usTb7ldQxK5U"
   },
   "source": [
    "## Подберем параметры для LightGBM с помощью Optuna"
   ]
  },
  {
   "cell_type": "code",
   "execution_count": 13,
   "metadata": {
    "colab": {
     "base_uri": "https://localhost:8080/",
     "height": 101,
     "referenced_widgets": [
      "e4b85170ac2c40438d421b15b5f42ae6",
      "9ae374e5ca9c4762a742acef45712dc6",
      "a71eddd5fd70467ea729ac4c2b7e9db1",
      "e1aec1e03de6467493b39416bbccf618",
      "9187f21aaf844f458499b95ef74bd4f2",
      "b1cdd7646d4a4b09bfd1866030f7b855",
      "3c14e4138bb04aa0bbe532f4e5ea780b",
      "5d3e9dc87d734d17a7ea3c916b93aea0",
      "486f463b8f5a4536b9bbe70c4fd6219b",
      "21daaab05b11492da7773ef0d104e2a1",
      "ac9a4c4629a643abbe0223623ad0e011"
     ]
    },
    "id": "GJy-259xnRtx",
    "outputId": "a5c2ebf7-2a1f-49be-b467-38218ea09d98"
   },
   "outputs": [
    {
     "data": {
      "application/vnd.jupyter.widget-view+json": {
       "model_id": "0d26a29a3bcd4bb7bdf34f67917ac8c1",
       "version_major": 2,
       "version_minor": 0
      },
      "text/plain": [
       "  0%|          | 0/10 [00:00<?, ?it/s]"
      ]
     },
     "metadata": {},
     "output_type": "display_data"
    },
    {
     "name": "stdout",
     "output_type": "stream",
     "text": [
      "[LightGBM] [Warning] num_threads is set=5, n_jobs=-1 will be ignored. Current value: num_threads=5\n",
      "[LightGBM] [Warning] num_threads is set=5, n_jobs=-1 will be ignored. Current value: num_threads=5\n",
      "[LightGBM] [Warning] num_threads is set=5, n_jobs=-1 will be ignored. Current value: num_threads=5\n",
      "[LightGBM] [Warning] num_threads is set=5, n_jobs=-1 will be ignored. Current value: num_threads=5\n",
      "[LightGBM] [Warning] num_threads is set=5, n_jobs=-1 will be ignored. Current value: num_threads=5\n",
      "[LightGBM] [Warning] num_threads is set=5, n_jobs=-1 will be ignored. Current value: num_threads=5\n",
      "[LightGBM] [Warning] num_threads is set=5, n_jobs=-1 will be ignored. Current value: num_threads=5\n",
      "[LightGBM] [Warning] num_threads is set=5, n_jobs=-1 will be ignored. Current value: num_threads=5\n",
      "[LightGBM] [Warning] num_threads is set=5, n_jobs=-1 will be ignored. Current value: num_threads=5\n",
      "[LightGBM] [Warning] num_threads is set=5, n_jobs=-1 will be ignored. Current value: num_threads=5\n",
      "[LightGBM] [Warning] num_threads is set=5, n_jobs=-1 will be ignored. Current value: num_threads=5\n",
      "[LightGBM] [Warning] num_threads is set=5, n_jobs=-1 will be ignored. Current value: num_threads=5\n",
      "[LightGBM] [Warning] num_threads is set=5, n_jobs=-1 will be ignored. Current value: num_threads=5\n",
      "[LightGBM] [Warning] num_threads is set=5, n_jobs=-1 will be ignored. Current value: num_threads=5\n",
      "[LightGBM] [Warning] num_threads is set=5, n_jobs=-1 will be ignored. Current value: num_threads=5\n",
      "[LightGBM] [Warning] num_threads is set=5, n_jobs=-1 will be ignored. Current value: num_threads=5\n",
      "[LightGBM] [Warning] num_threads is set=5, n_jobs=-1 will be ignored. Current value: num_threads=5\n",
      "[LightGBM] [Warning] num_threads is set=5, n_jobs=-1 will be ignored. Current value: num_threads=5\n",
      "[LightGBM] [Warning] num_threads is set=5, n_jobs=-1 will be ignored. Current value: num_threads=5\n",
      "[LightGBM] [Warning] num_threads is set=5, n_jobs=-1 will be ignored. Current value: num_threads=5\n",
      "[LightGBM] [Warning] num_threads is set=5, n_jobs=-1 will be ignored. Current value: num_threads=5\n",
      "[LightGBM] [Warning] num_threads is set=5, n_jobs=-1 will be ignored. Current value: num_threads=5\n",
      "[LightGBM] [Warning] num_threads is set=5, n_jobs=-1 will be ignored. Current value: num_threads=5\n",
      "[LightGBM] [Warning] num_threads is set=5, n_jobs=-1 will be ignored. Current value: num_threads=5\n",
      "[LightGBM] [Warning] num_threads is set=5, n_jobs=-1 will be ignored. Current value: num_threads=5\n",
      "[LightGBM] [Warning] num_threads is set=5, n_jobs=-1 will be ignored. Current value: num_threads=5\n",
      "[LightGBM] [Warning] num_threads is set=5, n_jobs=-1 will be ignored. Current value: num_threads=5\n",
      "[LightGBM] [Warning] num_threads is set=5, n_jobs=-1 will be ignored. Current value: num_threads=5\n",
      "[LightGBM] [Warning] num_threads is set=5, n_jobs=-1 will be ignored. Current value: num_threads=5\n",
      "[LightGBM] [Warning] num_threads is set=5, n_jobs=-1 will be ignored. Current value: num_threads=5\n",
      "[LightGBM] [Warning] num_threads is set=5, n_jobs=-1 will be ignored. Current value: num_threads=5\n",
      "[LightGBM] [Warning] num_threads is set=5, n_jobs=-1 will be ignored. Current value: num_threads=5\n",
      "[LightGBM] [Warning] num_threads is set=5, n_jobs=-1 will be ignored. Current value: num_threads=5\n",
      "[LightGBM] [Warning] num_threads is set=5, n_jobs=-1 will be ignored. Current value: num_threads=5\n",
      "[LightGBM] [Warning] num_threads is set=5, n_jobs=-1 will be ignored. Current value: num_threads=5\n",
      "[LightGBM] [Warning] num_threads is set=5, n_jobs=-1 will be ignored. Current value: num_threads=5\n",
      "[LightGBM] [Warning] num_threads is set=5, n_jobs=-1 will be ignored. Current value: num_threads=5\n",
      "[LightGBM] [Warning] num_threads is set=5, n_jobs=-1 will be ignored. Current value: num_threads=5\n",
      "[LightGBM] [Warning] num_threads is set=5, n_jobs=-1 will be ignored. Current value: num_threads=5\n",
      "[LightGBM] [Warning] num_threads is set=5, n_jobs=-1 will be ignored. Current value: num_threads=5\n",
      "[LightGBM] [Warning] num_threads is set=5, n_jobs=-1 will be ignored. Current value: num_threads=5\n",
      "[LightGBM] [Warning] num_threads is set=5, n_jobs=-1 will be ignored. Current value: num_threads=5\n",
      "[LightGBM] [Warning] num_threads is set=5, n_jobs=-1 will be ignored. Current value: num_threads=5\n",
      "[LightGBM] [Warning] num_threads is set=5, n_jobs=-1 will be ignored. Current value: num_threads=5\n",
      "[LightGBM] [Warning] num_threads is set=5, n_jobs=-1 will be ignored. Current value: num_threads=5\n",
      "[LightGBM] [Warning] num_threads is set=5, n_jobs=-1 will be ignored. Current value: num_threads=5\n",
      "[LightGBM] [Warning] num_threads is set=5, n_jobs=-1 will be ignored. Current value: num_threads=5\n",
      "[LightGBM] [Warning] num_threads is set=5, n_jobs=-1 will be ignored. Current value: num_threads=5\n",
      "[LightGBM] [Warning] num_threads is set=5, n_jobs=-1 will be ignored. Current value: num_threads=5\n",
      "Best parameters: {'n_estimators': 693, 'learning_rate': 0.03286470691740857, 'num_leaves': 218, 'max_depth': 19}\n",
      "Best RMSE: 21.782341222452494\n"
     ]
    }
   ],
   "source": [
    "def objective(trial):\n",
    "    params = {\n",
    "        'objective': 'regression',\n",
    "        'metric': 'rmse',\n",
    "        'n_estimators': trial.suggest_int('n_estimators', 100, 1000),\n",
    "        'boosting_type': \"gbdt\",\n",
    "        'learning_rate': trial.suggest_float('learning_rate', 0.001, 0.1, log=True),\n",
    "        'num_leaves': trial.suggest_int('num_leaves', 20, 300),\n",
    "        'max_depth': trial.suggest_int('max_depth', -1, 20),\n",
    "        \"verbosity\": -1,\n",
    "        'random_state': 42\n",
    "    }\n",
    "\n",
    "    model = lgb.LGBMRegressor(**params, num_threads = 5)\n",
    "    tscv = TimeSeriesSplit(n_splits=5)\n",
    "    rmse = cross_val_score(model, X_train, y_train, cv=tscv, scoring='neg_root_mean_squared_error')\n",
    "    return -np.mean(rmse)\n",
    "\n",
    "\n",
    "study = optuna.create_study(study_name=\"LGBM_study\", direction='minimize')\n",
    "optuna.logging.set_verbosity(optuna.logging.WARNING)\n",
    "study.optimize(objective, n_trials=10, show_progress_bar=True)\n",
    "\n",
    "# Best parameters and RMSE\n",
    "print(\"Best parameters:\", study.best_params)\n",
    "print(\"Best RMSE:\", study.best_value)"
   ]
  },
  {
   "cell_type": "markdown",
   "metadata": {
    "id": "mdvxc2UPxT5u"
   },
   "source": [
    "## Подберем параметры для DecisionTreeRegressor"
   ]
  },
  {
   "cell_type": "code",
   "execution_count": 21,
   "metadata": {
    "colab": {
     "base_uri": "https://localhost:8080/"
    },
    "id": "bSDctIkIoEBn",
    "outputId": "078c9fcb-7da1-437b-89eb-6df08fb98bed"
   },
   "outputs": [
    {
     "name": "stdout",
     "output_type": "stream",
     "text": [
      "Best model:\n",
      "\n",
      " Pipeline(steps=[('preprocessor',\n",
      "                 ColumnTransformer(transformers=[('num', RobustScaler(),\n",
      "                                                  ['rolling_mean',\n",
      "                                                   'day_of_week', 'hour',\n",
      "                                                   'lag_1', 'lag_2', 'lag_3',\n",
      "                                                   'lag_4', 'lag_5', 'lag_6',\n",
      "                                                   'lag_7', 'lag_8', 'lag_9',\n",
      "                                                   'lag_10', 'lag_11', 'lag_12',\n",
      "                                                   'lag_13', 'lag_14', 'lag_15',\n",
      "                                                   'lag_16', 'lag_17', 'lag_18',\n",
      "                                                   'lag_19', 'lag_20'])])),\n",
      "                ('models',\n",
      "                 DecisionTreeRegressor(max_depth=8, min_samples_leaf=7,\n",
      "                                       min_samples_split=3, random_state=42))])\n",
      "Best score: 27.956541543266916\n"
     ]
    }
   ],
   "source": [
    "data_preprocessor = ColumnTransformer([\n",
    "    ('num', StandardScaler(), numerical_features)\n",
    "])\n",
    "\n",
    "treeregr_final = Pipeline([\n",
    "    ('preprocessor', data_preprocessor),\n",
    "    ('models', DecisionTreeRegressor(random_state=42))\n",
    "])\n",
    "\n",
    "param_grid = [\n",
    "    {\n",
    "        'models': [DecisionTreeRegressor(random_state=42)],\n",
    "        'models__max_depth': range(1, 20),\n",
    "        'models__min_samples_leaf': range(1, 10),\n",
    "        'models__min_samples_split': range(2, 10),\n",
    "        'models__splitter': ['best', 'random'],\n",
    "        'preprocessor__num': [StandardScaler(), MinMaxScaler(), RobustScaler(), 'passthrough']\n",
    "    }\n",
    "]\n",
    "tscv = TimeSeriesSplit(n_splits=5)\n",
    "randomized_search = RandomizedSearchCV(\n",
    "    treeregr_final,\n",
    "    param_grid,\n",
    "    cv=tscv,\n",
    "    scoring='neg_root_mean_squared_error',\n",
    "    random_state=42,\n",
    "    n_jobs=-1\n",
    ")\n",
    "\n",
    "randomized_search.fit(X_train, y_train)\n",
    "print('Best model:\\n\\n', randomized_search.best_estimator_)\n",
    "print ('Best score:', -randomized_search.best_score_)"
   ]
  },
  {
   "cell_type": "markdown",
   "metadata": {
    "id": "-sAUDtwwxbpW"
   },
   "source": [
    "## Подберем параметры для RandomForestRegressor"
   ]
  },
  {
   "cell_type": "code",
   "execution_count": 22,
   "metadata": {
    "colab": {
     "base_uri": "https://localhost:8080/"
    },
    "id": "9o8wdtnrpOz-",
    "outputId": "8131e369-a6f6-488b-f688-7a68414d86af"
   },
   "outputs": [
    {
     "name": "stdout",
     "output_type": "stream",
     "text": [
      "Best model:\n",
      "\n",
      " Pipeline(steps=[('preprocessor',\n",
      "                 ColumnTransformer(transformers=[('num', RobustScaler(),\n",
      "                                                  ['rolling_mean',\n",
      "                                                   'day_of_week', 'hour',\n",
      "                                                   'lag_1', 'lag_2', 'lag_3',\n",
      "                                                   'lag_4', 'lag_5', 'lag_6',\n",
      "                                                   'lag_7', 'lag_8', 'lag_9',\n",
      "                                                   'lag_10', 'lag_11', 'lag_12',\n",
      "                                                   'lag_13', 'lag_14', 'lag_15',\n",
      "                                                   'lag_16', 'lag_17', 'lag_18',\n",
      "                                                   'lag_19', 'lag_20'])])),\n",
      "                ('models',\n",
      "                 RandomForestRegressor(max_depth=9, max_features=9,\n",
      "                                       min_samples_leaf=3, min_samples_split=6,\n",
      "                                       random_state=42))])\n",
      "Best score: 24.89197220273641\n"
     ]
    }
   ],
   "source": [
    "rf_final = Pipeline([\n",
    "    ('preprocessor', data_preprocessor),\n",
    "    ('models', RandomForestRegressor(random_state=42))\n",
    "])\n",
    "\n",
    "\n",
    "rf_grid = [\n",
    "    {\n",
    "        'models': [RandomForestRegressor(random_state=42)],\n",
    "        'models__n_estimators': [100, 120, 150],\n",
    "        'models__max_depth': [None,1,3,5,7,9],\n",
    "        'models__max_features': range(1,11),\n",
    "        'models__min_samples_split':range(2, 10),\n",
    "        'models__min_samples_leaf':[1,3,5],\n",
    "        'preprocessor__num': [StandardScaler(), MinMaxScaler(), RobustScaler(), 'passthrough']\n",
    "    }\n",
    "]\n",
    "tscv = TimeSeriesSplit(n_splits=5)\n",
    "rf_search = RandomizedSearchCV(\n",
    "    rf_final,\n",
    "    rf_grid,\n",
    "    cv=tscv,\n",
    "    scoring='neg_root_mean_squared_error',\n",
    "    random_state=42,\n",
    "    n_jobs=-1\n",
    ")\n",
    "\n",
    "rf_search.fit(X_train, y_train)\n",
    "print('Best model:\\n\\n', rf_search.best_estimator_)\n",
    "print ('Best score:', -rf_search.best_score_)"
   ]
  },
  {
   "cell_type": "markdown",
   "metadata": {
    "id": "DYUsSjg4xgnI"
   },
   "source": [
    "Лучший результат на кросс-валидации показала модель LightGBM, с помощью нее сделаем предсказания для тестовой выборки."
   ]
  },
  {
   "cell_type": "code",
   "execution_count": 14,
   "metadata": {
    "colab": {
     "base_uri": "https://localhost:8080/"
    },
    "id": "JYXP2p7oqTFz",
    "outputId": "91aacce3-e78a-45bc-c37c-de8dc2ae86c6"
   },
   "outputs": [
    {
     "name": "stdout",
     "output_type": "stream",
     "text": [
      "RMSE: 39.34803589401707\n"
     ]
    }
   ],
   "source": [
    "final_params = study.best_params\n",
    "\n",
    "lgb_model = lgb.LGBMRegressor(**final_params)\n",
    "lgb_model.fit(X_train, y_train)\n",
    "\n",
    "lgb_preds = lgb_model.predict(X_test)\n",
    "rmse_score = root_mean_squared_error(y_test, lgb_preds)\n",
    "print(f'RMSE: {rmse_score}')"
   ]
  },
  {
   "cell_type": "markdown",
   "metadata": {
    "id": "7Ii0ZejHxrqq"
   },
   "source": [
    "## Общий вывод\n",
    "\n",
    "- Сделали ресемплирование: увеличили интервал на один час\n",
    "- Изучили данные: построили графики тренда, сезонности, остатков и скользящего среднего.\n",
    "- Обучили три разные модели: LightGBM, Random Forest, Decision Tree. С помощью Optuna и RandomizedSearchCV подобрали гиперпараметры.\n",
    "- Лучший результат показала модель LightGBM."
   ]
  }
 ],
 "metadata": {
  "ExecuteTimeLog": [
   {
    "duration": 54,
    "start_time": "2025-02-22T02:29:17.434Z"
   },
   {
    "duration": 439,
    "start_time": "2025-02-22T02:29:29.538Z"
   },
   {
    "duration": 47,
    "start_time": "2025-02-22T02:29:31.078Z"
   },
   {
    "duration": 43,
    "start_time": "2025-02-22T02:32:05.058Z"
   },
   {
    "duration": 48,
    "start_time": "2025-02-22T02:32:44.878Z"
   },
   {
    "duration": 51,
    "start_time": "2025-02-22T02:32:55.385Z"
   },
   {
    "duration": 38,
    "start_time": "2025-02-22T02:36:49.616Z"
   },
   {
    "duration": 55,
    "start_time": "2025-02-22T02:38:25.974Z"
   },
   {
    "duration": 11,
    "start_time": "2025-02-22T02:38:31.010Z"
   },
   {
    "duration": 4,
    "start_time": "2025-02-22T02:45:54.309Z"
   },
   {
    "duration": 410,
    "start_time": "2025-02-22T07:12:14.512Z"
   },
   {
    "duration": 64,
    "start_time": "2025-02-22T07:12:18.372Z"
   },
   {
    "duration": 13,
    "start_time": "2025-02-22T07:12:22.722Z"
   },
   {
    "duration": 4,
    "start_time": "2025-02-22T07:12:24.662Z"
   },
   {
    "duration": 48,
    "start_time": "2025-02-22T07:30:23.763Z"
   },
   {
    "duration": 11,
    "start_time": "2025-02-22T07:30:25.237Z"
   },
   {
    "duration": 5,
    "start_time": "2025-02-22T07:30:28.379Z"
   },
   {
    "duration": 991,
    "start_time": "2025-02-22T07:36:32.995Z"
   },
   {
    "duration": 7,
    "start_time": "2025-02-22T07:36:48.111Z"
   },
   {
    "duration": 4,
    "start_time": "2025-02-22T07:39:07.855Z"
   },
   {
    "duration": 11,
    "start_time": "2025-02-22T07:39:13.540Z"
   },
   {
    "duration": 877,
    "start_time": "2025-02-22T07:46:49.932Z"
   },
   {
    "duration": 50,
    "start_time": "2025-02-22T07:47:18.487Z"
   },
   {
    "duration": 11,
    "start_time": "2025-02-22T07:47:19.543Z"
   },
   {
    "duration": 3,
    "start_time": "2025-02-22T07:47:22.187Z"
   },
   {
    "duration": 8,
    "start_time": "2025-02-22T07:47:22.988Z"
   },
   {
    "duration": 43,
    "start_time": "2025-02-22T07:56:26.893Z"
   },
   {
    "duration": 36,
    "start_time": "2025-02-22T07:56:40.694Z"
   },
   {
    "duration": 6,
    "start_time": "2025-02-22T07:57:47.248Z"
   },
   {
    "duration": 47,
    "start_time": "2025-02-22T07:57:54.109Z"
   },
   {
    "duration": 4,
    "start_time": "2025-02-22T07:58:01.436Z"
   },
   {
    "duration": 6,
    "start_time": "2025-02-22T07:58:02.590Z"
   },
   {
    "duration": 12,
    "start_time": "2025-02-22T07:58:10.592Z"
   },
   {
    "duration": 1596,
    "start_time": "2025-02-22T19:00:25.544Z"
   },
   {
    "duration": 83,
    "start_time": "2025-02-22T19:00:40.594Z"
   },
   {
    "duration": 14,
    "start_time": "2025-02-22T19:00:47.634Z"
   },
   {
    "duration": 15346,
    "start_time": "2025-02-22T23:53:02.150Z"
   },
   {
    "duration": 66,
    "start_time": "2025-02-22T23:54:35.576Z"
   },
   {
    "duration": 10,
    "start_time": "2025-02-22T23:54:36.267Z"
   },
   {
    "duration": 9,
    "start_time": "2025-02-23T00:29:35.329Z"
   },
   {
    "duration": 9,
    "start_time": "2025-02-23T01:03:27.138Z"
   },
   {
    "duration": 9,
    "start_time": "2025-02-23T01:16:14.285Z"
   },
   {
    "duration": 53,
    "start_time": "2025-02-23T01:29:45.196Z"
   },
   {
    "duration": 56,
    "start_time": "2025-02-23T01:30:35.068Z"
   },
   {
    "duration": 4,
    "start_time": "2025-02-23T01:30:35.945Z"
   },
   {
    "duration": 9,
    "start_time": "2025-02-23T01:30:39.516Z"
   },
   {
    "duration": 143,
    "start_time": "2025-02-23T01:32:34.567Z"
   },
   {
    "duration": 321,
    "start_time": "2025-02-23T01:32:43.672Z"
   },
   {
    "duration": 338,
    "start_time": "2025-02-23T01:33:12.065Z"
   },
   {
    "duration": 253,
    "start_time": "2025-02-23T01:39:41.895Z"
   },
   {
    "duration": 275,
    "start_time": "2025-02-23T01:39:47.214Z"
   },
   {
    "duration": 277,
    "start_time": "2025-02-23T01:39:52.838Z"
   },
   {
    "duration": 281,
    "start_time": "2025-02-23T01:39:58.587Z"
   },
   {
    "duration": 8852,
    "start_time": "2025-02-23T01:40:56.502Z"
   },
   {
    "duration": 23,
    "start_time": "2025-02-23T01:43:35.682Z"
   },
   {
    "duration": 70,
    "start_time": "2025-02-23T01:43:45.725Z"
   },
   {
    "duration": 62,
    "start_time": "2025-02-23T01:44:22.448Z"
   },
   {
    "duration": 4,
    "start_time": "2025-02-23T01:44:24.006Z"
   },
   {
    "duration": 407,
    "start_time": "2025-02-23T01:45:40.334Z"
   },
   {
    "duration": 14,
    "start_time": "2025-02-23T01:45:51.666Z"
   },
   {
    "duration": 65,
    "start_time": "2025-02-23T01:45:58.238Z"
   },
   {
    "duration": 233,
    "start_time": "2025-02-23T01:46:25.986Z"
   },
   {
    "duration": 229,
    "start_time": "2025-02-23T01:47:18.617Z"
   },
   {
    "duration": 7,
    "start_time": "2025-02-23T01:47:47.784Z"
   },
   {
    "duration": 219,
    "start_time": "2025-02-23T01:47:48.576Z"
   },
   {
    "duration": 217,
    "start_time": "2025-02-23T01:48:08.978Z"
   },
   {
    "duration": 238,
    "start_time": "2025-02-23T01:48:27.672Z"
   },
   {
    "duration": 262,
    "start_time": "2025-02-23T01:49:56.043Z"
   },
   {
    "duration": 364,
    "start_time": "2025-02-23T01:56:58.123Z"
   },
   {
    "duration": 278,
    "start_time": "2025-02-23T02:00:46.749Z"
   },
   {
    "duration": 180,
    "start_time": "2025-02-23T02:03:56.262Z"
   },
   {
    "duration": 172,
    "start_time": "2025-02-23T02:04:03.088Z"
   },
   {
    "duration": 280,
    "start_time": "2025-02-23T02:05:19.411Z"
   },
   {
    "duration": 272,
    "start_time": "2025-02-23T02:05:25.846Z"
   },
   {
    "duration": 174,
    "start_time": "2025-02-23T02:05:45.529Z"
   },
   {
    "duration": 202,
    "start_time": "2025-02-23T02:06:01.574Z"
   },
   {
    "duration": 220,
    "start_time": "2025-02-23T02:08:59.729Z"
   },
   {
    "duration": 63,
    "start_time": "2025-02-23T02:15:43.386Z"
   },
   {
    "duration": 15,
    "start_time": "2025-02-23T02:16:55.380Z"
   },
   {
    "duration": 399,
    "start_time": "2025-02-23T02:16:59.738Z"
   },
   {
    "duration": 294,
    "start_time": "2025-02-23T02:17:19.870Z"
   },
   {
    "duration": 294,
    "start_time": "2025-02-23T02:17:25.992Z"
   },
   {
    "duration": 319,
    "start_time": "2025-02-23T02:17:31.612Z"
   },
   {
    "duration": 21,
    "start_time": "2025-02-23T02:48:58.540Z"
   },
   {
    "duration": 78,
    "start_time": "2025-02-23T03:15:57.230Z"
   },
   {
    "duration": 8,
    "start_time": "2025-02-23T03:16:19.456Z"
   },
   {
    "duration": 356,
    "start_time": "2025-02-23T03:16:28.112Z"
   },
   {
    "duration": 237,
    "start_time": "2025-02-23T03:16:39.665Z"
   },
   {
    "duration": 302,
    "start_time": "2025-02-23T03:16:42.524Z"
   },
   {
    "duration": 289,
    "start_time": "2025-02-23T03:16:46.082Z"
   },
   {
    "duration": 18,
    "start_time": "2025-02-23T03:20:49.019Z"
   },
   {
    "duration": 16,
    "start_time": "2025-02-23T04:48:32.091Z"
   },
   {
    "duration": 54,
    "start_time": "2025-02-23T13:18:55.597Z"
   },
   {
    "duration": 13059,
    "start_time": "2025-02-23T13:24:06.253Z"
   },
   {
    "duration": 1613,
    "start_time": "2025-02-23T13:24:19.314Z"
   },
   {
    "duration": 99,
    "start_time": "2025-02-23T13:24:20.929Z"
   },
   {
    "duration": 4,
    "start_time": "2025-02-23T13:24:21.030Z"
   },
   {
    "duration": 261,
    "start_time": "2025-02-23T13:24:21.035Z"
   },
   {
    "duration": 185,
    "start_time": "2025-02-23T13:24:21.297Z"
   },
   {
    "duration": 328,
    "start_time": "2025-02-23T13:24:21.484Z"
   },
   {
    "duration": 260,
    "start_time": "2025-02-23T13:24:21.814Z"
   },
   {
    "duration": 40,
    "start_time": "2025-02-23T13:24:22.076Z"
   },
   {
    "duration": 35,
    "start_time": "2025-02-23T13:24:22.119Z"
   },
   {
    "duration": 86608,
    "start_time": "2025-02-23T13:24:22.157Z"
   },
   {
    "duration": 366106,
    "start_time": "2025-02-23T13:25:50.569Z"
   },
   {
    "duration": 16695,
    "start_time": "2025-02-23T13:35:58.276Z"
   }
  ],
  "colab": {
   "provenance": [],
   "toc_visible": true
  },
  "kernelspec": {
   "display_name": "Python 3 (ipykernel)",
   "language": "python",
   "name": "python3"
  },
  "language_info": {
   "codemirror_mode": {
    "name": "ipython",
    "version": 3
   },
   "file_extension": ".py",
   "mimetype": "text/x-python",
   "name": "python",
   "nbconvert_exporter": "python",
   "pygments_lexer": "ipython3",
   "version": "3.9.5"
  },
  "toc": {
   "base_numbering": 1,
   "nav_menu": {},
   "number_sections": true,
   "sideBar": true,
   "skip_h1_title": true,
   "title_cell": "Содержание",
   "title_sidebar": "Contents",
   "toc_cell": true,
   "toc_position": {},
   "toc_section_display": true,
   "toc_window_display": true
  },
  "widgets": {
   "application/vnd.jupyter.widget-state+json": {
    "21daaab05b11492da7773ef0d104e2a1": {
     "model_module": "@jupyter-widgets/base",
     "model_module_version": "1.2.0",
     "model_name": "LayoutModel",
     "state": {
      "_model_module": "@jupyter-widgets/base",
      "_model_module_version": "1.2.0",
      "_model_name": "LayoutModel",
      "_view_count": null,
      "_view_module": "@jupyter-widgets/base",
      "_view_module_version": "1.2.0",
      "_view_name": "LayoutView",
      "align_content": null,
      "align_items": null,
      "align_self": null,
      "border": null,
      "bottom": null,
      "display": null,
      "flex": null,
      "flex_flow": null,
      "grid_area": null,
      "grid_auto_columns": null,
      "grid_auto_flow": null,
      "grid_auto_rows": null,
      "grid_column": null,
      "grid_gap": null,
      "grid_row": null,
      "grid_template_areas": null,
      "grid_template_columns": null,
      "grid_template_rows": null,
      "height": null,
      "justify_content": null,
      "justify_items": null,
      "left": null,
      "margin": null,
      "max_height": null,
      "max_width": null,
      "min_height": null,
      "min_width": null,
      "object_fit": null,
      "object_position": null,
      "order": null,
      "overflow": null,
      "overflow_x": null,
      "overflow_y": null,
      "padding": null,
      "right": null,
      "top": null,
      "visibility": null,
      "width": null
     }
    },
    "3c14e4138bb04aa0bbe532f4e5ea780b": {
     "model_module": "@jupyter-widgets/controls",
     "model_module_version": "1.5.0",
     "model_name": "DescriptionStyleModel",
     "state": {
      "_model_module": "@jupyter-widgets/controls",
      "_model_module_version": "1.5.0",
      "_model_name": "DescriptionStyleModel",
      "_view_count": null,
      "_view_module": "@jupyter-widgets/base",
      "_view_module_version": "1.2.0",
      "_view_name": "StyleView",
      "description_width": ""
     }
    },
    "486f463b8f5a4536b9bbe70c4fd6219b": {
     "model_module": "@jupyter-widgets/controls",
     "model_module_version": "1.5.0",
     "model_name": "ProgressStyleModel",
     "state": {
      "_model_module": "@jupyter-widgets/controls",
      "_model_module_version": "1.5.0",
      "_model_name": "ProgressStyleModel",
      "_view_count": null,
      "_view_module": "@jupyter-widgets/base",
      "_view_module_version": "1.2.0",
      "_view_name": "StyleView",
      "bar_color": null,
      "description_width": ""
     }
    },
    "5d3e9dc87d734d17a7ea3c916b93aea0": {
     "model_module": "@jupyter-widgets/base",
     "model_module_version": "1.2.0",
     "model_name": "LayoutModel",
     "state": {
      "_model_module": "@jupyter-widgets/base",
      "_model_module_version": "1.2.0",
      "_model_name": "LayoutModel",
      "_view_count": null,
      "_view_module": "@jupyter-widgets/base",
      "_view_module_version": "1.2.0",
      "_view_name": "LayoutView",
      "align_content": null,
      "align_items": null,
      "align_self": null,
      "border": null,
      "bottom": null,
      "display": null,
      "flex": null,
      "flex_flow": null,
      "grid_area": null,
      "grid_auto_columns": null,
      "grid_auto_flow": null,
      "grid_auto_rows": null,
      "grid_column": null,
      "grid_gap": null,
      "grid_row": null,
      "grid_template_areas": null,
      "grid_template_columns": null,
      "grid_template_rows": null,
      "height": null,
      "justify_content": null,
      "justify_items": null,
      "left": null,
      "margin": null,
      "max_height": null,
      "max_width": null,
      "min_height": null,
      "min_width": null,
      "object_fit": null,
      "object_position": null,
      "order": null,
      "overflow": null,
      "overflow_x": null,
      "overflow_y": null,
      "padding": null,
      "right": null,
      "top": null,
      "visibility": null,
      "width": null
     }
    },
    "9187f21aaf844f458499b95ef74bd4f2": {
     "model_module": "@jupyter-widgets/base",
     "model_module_version": "1.2.0",
     "model_name": "LayoutModel",
     "state": {
      "_model_module": "@jupyter-widgets/base",
      "_model_module_version": "1.2.0",
      "_model_name": "LayoutModel",
      "_view_count": null,
      "_view_module": "@jupyter-widgets/base",
      "_view_module_version": "1.2.0",
      "_view_name": "LayoutView",
      "align_content": null,
      "align_items": null,
      "align_self": null,
      "border": null,
      "bottom": null,
      "display": null,
      "flex": null,
      "flex_flow": null,
      "grid_area": null,
      "grid_auto_columns": null,
      "grid_auto_flow": null,
      "grid_auto_rows": null,
      "grid_column": null,
      "grid_gap": null,
      "grid_row": null,
      "grid_template_areas": null,
      "grid_template_columns": null,
      "grid_template_rows": null,
      "height": null,
      "justify_content": null,
      "justify_items": null,
      "left": null,
      "margin": null,
      "max_height": null,
      "max_width": null,
      "min_height": null,
      "min_width": null,
      "object_fit": null,
      "object_position": null,
      "order": null,
      "overflow": null,
      "overflow_x": null,
      "overflow_y": null,
      "padding": null,
      "right": null,
      "top": null,
      "visibility": null,
      "width": null
     }
    },
    "9ae374e5ca9c4762a742acef45712dc6": {
     "model_module": "@jupyter-widgets/controls",
     "model_module_version": "1.5.0",
     "model_name": "HTMLModel",
     "state": {
      "_dom_classes": [],
      "_model_module": "@jupyter-widgets/controls",
      "_model_module_version": "1.5.0",
      "_model_name": "HTMLModel",
      "_view_count": null,
      "_view_module": "@jupyter-widgets/controls",
      "_view_module_version": "1.5.0",
      "_view_name": "HTMLView",
      "description": "",
      "description_tooltip": null,
      "layout": "IPY_MODEL_b1cdd7646d4a4b09bfd1866030f7b855",
      "placeholder": "​",
      "style": "IPY_MODEL_3c14e4138bb04aa0bbe532f4e5ea780b",
      "value": "Best trial: 7. Best value: 21.8231: 100%"
     }
    },
    "a71eddd5fd70467ea729ac4c2b7e9db1": {
     "model_module": "@jupyter-widgets/controls",
     "model_module_version": "1.5.0",
     "model_name": "FloatProgressModel",
     "state": {
      "_dom_classes": [],
      "_model_module": "@jupyter-widgets/controls",
      "_model_module_version": "1.5.0",
      "_model_name": "FloatProgressModel",
      "_view_count": null,
      "_view_module": "@jupyter-widgets/controls",
      "_view_module_version": "1.5.0",
      "_view_name": "ProgressView",
      "bar_style": "success",
      "description": "",
      "description_tooltip": null,
      "layout": "IPY_MODEL_5d3e9dc87d734d17a7ea3c916b93aea0",
      "max": 10,
      "min": 0,
      "orientation": "horizontal",
      "style": "IPY_MODEL_486f463b8f5a4536b9bbe70c4fd6219b",
      "value": 10
     }
    },
    "ac9a4c4629a643abbe0223623ad0e011": {
     "model_module": "@jupyter-widgets/controls",
     "model_module_version": "1.5.0",
     "model_name": "DescriptionStyleModel",
     "state": {
      "_model_module": "@jupyter-widgets/controls",
      "_model_module_version": "1.5.0",
      "_model_name": "DescriptionStyleModel",
      "_view_count": null,
      "_view_module": "@jupyter-widgets/base",
      "_view_module_version": "1.2.0",
      "_view_name": "StyleView",
      "description_width": ""
     }
    },
    "b1cdd7646d4a4b09bfd1866030f7b855": {
     "model_module": "@jupyter-widgets/base",
     "model_module_version": "1.2.0",
     "model_name": "LayoutModel",
     "state": {
      "_model_module": "@jupyter-widgets/base",
      "_model_module_version": "1.2.0",
      "_model_name": "LayoutModel",
      "_view_count": null,
      "_view_module": "@jupyter-widgets/base",
      "_view_module_version": "1.2.0",
      "_view_name": "LayoutView",
      "align_content": null,
      "align_items": null,
      "align_self": null,
      "border": null,
      "bottom": null,
      "display": null,
      "flex": null,
      "flex_flow": null,
      "grid_area": null,
      "grid_auto_columns": null,
      "grid_auto_flow": null,
      "grid_auto_rows": null,
      "grid_column": null,
      "grid_gap": null,
      "grid_row": null,
      "grid_template_areas": null,
      "grid_template_columns": null,
      "grid_template_rows": null,
      "height": null,
      "justify_content": null,
      "justify_items": null,
      "left": null,
      "margin": null,
      "max_height": null,
      "max_width": null,
      "min_height": null,
      "min_width": null,
      "object_fit": null,
      "object_position": null,
      "order": null,
      "overflow": null,
      "overflow_x": null,
      "overflow_y": null,
      "padding": null,
      "right": null,
      "top": null,
      "visibility": null,
      "width": null
     }
    },
    "e1aec1e03de6467493b39416bbccf618": {
     "model_module": "@jupyter-widgets/controls",
     "model_module_version": "1.5.0",
     "model_name": "HTMLModel",
     "state": {
      "_dom_classes": [],
      "_model_module": "@jupyter-widgets/controls",
      "_model_module_version": "1.5.0",
      "_model_name": "HTMLModel",
      "_view_count": null,
      "_view_module": "@jupyter-widgets/controls",
      "_view_module_version": "1.5.0",
      "_view_name": "HTMLView",
      "description": "",
      "description_tooltip": null,
      "layout": "IPY_MODEL_21daaab05b11492da7773ef0d104e2a1",
      "placeholder": "​",
      "style": "IPY_MODEL_ac9a4c4629a643abbe0223623ad0e011",
      "value": " 10/10 [01:22&lt;00:00,  5.60s/it]"
     }
    },
    "e4b85170ac2c40438d421b15b5f42ae6": {
     "model_module": "@jupyter-widgets/controls",
     "model_module_version": "1.5.0",
     "model_name": "HBoxModel",
     "state": {
      "_dom_classes": [],
      "_model_module": "@jupyter-widgets/controls",
      "_model_module_version": "1.5.0",
      "_model_name": "HBoxModel",
      "_view_count": null,
      "_view_module": "@jupyter-widgets/controls",
      "_view_module_version": "1.5.0",
      "_view_name": "HBoxView",
      "box_style": "",
      "children": [
       "IPY_MODEL_9ae374e5ca9c4762a742acef45712dc6",
       "IPY_MODEL_a71eddd5fd70467ea729ac4c2b7e9db1",
       "IPY_MODEL_e1aec1e03de6467493b39416bbccf618"
      ],
      "layout": "IPY_MODEL_9187f21aaf844f458499b95ef74bd4f2"
     }
    }
   }
  }
 },
 "nbformat": 4,
 "nbformat_minor": 1
}
