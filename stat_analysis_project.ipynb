{
 "cells": [
  {
   "cell_type": "markdown",
   "metadata": {},
   "source": [
    "# Проект: Статистический анализ данных"
   ]
  },
  {
   "cell_type": "markdown",
   "metadata": {},
   "source": [
    "В этом проекте будем работать с данными из популярного сервиса аренды самокатов GoFast. Нам передали данные о некоторых пользователях из нескольких городов, а также об их поездках. Нам нужно загрузить данные, выполнить предобработку, провести исследовательский анализ данных и проверить некоторые гипотезы, которые могут помочь бизнесу вырасти. \n",
    "\n",
    "Чтобы совершать поездки по городу, пользователи сервиса GoFast пользуются мобильным приложением. Сервисом можно пользоваться:\n",
    "\n",
    "1. без подписки\n",
    "- абонентская плата отсутствует;\n",
    "- стоимость одной минуты поездки — 8 рублей;\n",
    "- стоимость старта (начала поездки) — 50 рублей;\n",
    "\n",
    "2. с подпиской Ultra\n",
    "- абонентская плата — 199 рублей в месяц;\n",
    "- стоимость одной минуты поездки — 6 рублей;\n",
    "- стоимость старта — бесплатно."
   ]
  },
  {
   "cell_type": "code",
   "execution_count": 1,
   "metadata": {},
   "outputs": [],
   "source": [
    "# импортируем библиотеки\n",
    "import pandas as pd\n",
    "import matplotlib.pyplot as plt\n",
    "import numpy as np\n",
    "import scipy.stats as st"
   ]
  },
  {
   "cell_type": "markdown",
   "metadata": {},
   "source": [
    "## Шаг 1. Загрузка данных"
   ]
  },
  {
   "cell_type": "markdown",
   "metadata": {},
   "source": [
    "**Импортируем библиотеку pandas. Считаем данные из csv-файлов и сохраним в переменные**"
   ]
  },
  {
   "cell_type": "code",
   "execution_count": 2,
   "metadata": {},
   "outputs": [],
   "source": [
    "try:\n",
    "    users_data = pd.read_csv('users_go.csv')\n",
    "    rides_data = pd.read_csv('rides_go.csv')\n",
    "    subsriotions_data = pd.read_csv('subscriptions_go.csv')\n",
    "except:\n",
    "    users_data = pd.read_csv('/datasets/users_go.csv')\n",
    "    rides_data = pd.read_csv('/datasets/rides_go.csv')\n",
    "    subsriotions_data = pd.read_csv('/datasets/subscriptions_go.csv')"
   ]
  },
  {
   "cell_type": "markdown",
   "metadata": {},
   "source": [
    "**Выведем первые 10 строчек каждого датафрейма и изучим общую информацию о каждом датафрейме**"
   ]
  },
  {
   "cell_type": "code",
   "execution_count": 3,
   "metadata": {},
   "outputs": [
    {
     "data": {
      "text/html": [
       "<div>\n",
       "<style scoped>\n",
       "    .dataframe tbody tr th:only-of-type {\n",
       "        vertical-align: middle;\n",
       "    }\n",
       "\n",
       "    .dataframe tbody tr th {\n",
       "        vertical-align: top;\n",
       "    }\n",
       "\n",
       "    .dataframe thead th {\n",
       "        text-align: right;\n",
       "    }\n",
       "</style>\n",
       "<table border=\"1\" class=\"dataframe\">\n",
       "  <thead>\n",
       "    <tr style=\"text-align: right;\">\n",
       "      <th></th>\n",
       "      <th>user_id</th>\n",
       "      <th>name</th>\n",
       "      <th>age</th>\n",
       "      <th>city</th>\n",
       "      <th>subscription_type</th>\n",
       "    </tr>\n",
       "  </thead>\n",
       "  <tbody>\n",
       "    <tr>\n",
       "      <th>0</th>\n",
       "      <td>1</td>\n",
       "      <td>Кира</td>\n",
       "      <td>22</td>\n",
       "      <td>Тюмень</td>\n",
       "      <td>ultra</td>\n",
       "    </tr>\n",
       "    <tr>\n",
       "      <th>1</th>\n",
       "      <td>2</td>\n",
       "      <td>Станислав</td>\n",
       "      <td>31</td>\n",
       "      <td>Омск</td>\n",
       "      <td>ultra</td>\n",
       "    </tr>\n",
       "    <tr>\n",
       "      <th>2</th>\n",
       "      <td>3</td>\n",
       "      <td>Алексей</td>\n",
       "      <td>20</td>\n",
       "      <td>Москва</td>\n",
       "      <td>ultra</td>\n",
       "    </tr>\n",
       "    <tr>\n",
       "      <th>3</th>\n",
       "      <td>4</td>\n",
       "      <td>Константин</td>\n",
       "      <td>26</td>\n",
       "      <td>Ростов-на-Дону</td>\n",
       "      <td>ultra</td>\n",
       "    </tr>\n",
       "    <tr>\n",
       "      <th>4</th>\n",
       "      <td>5</td>\n",
       "      <td>Адель</td>\n",
       "      <td>28</td>\n",
       "      <td>Омск</td>\n",
       "      <td>ultra</td>\n",
       "    </tr>\n",
       "    <tr>\n",
       "      <th>5</th>\n",
       "      <td>6</td>\n",
       "      <td>Регина</td>\n",
       "      <td>25</td>\n",
       "      <td>Краснодар</td>\n",
       "      <td>ultra</td>\n",
       "    </tr>\n",
       "    <tr>\n",
       "      <th>6</th>\n",
       "      <td>7</td>\n",
       "      <td>Игорь</td>\n",
       "      <td>23</td>\n",
       "      <td>Омск</td>\n",
       "      <td>ultra</td>\n",
       "    </tr>\n",
       "    <tr>\n",
       "      <th>7</th>\n",
       "      <td>8</td>\n",
       "      <td>Юрий</td>\n",
       "      <td>23</td>\n",
       "      <td>Краснодар</td>\n",
       "      <td>ultra</td>\n",
       "    </tr>\n",
       "    <tr>\n",
       "      <th>8</th>\n",
       "      <td>9</td>\n",
       "      <td>Ян</td>\n",
       "      <td>21</td>\n",
       "      <td>Пятигорск</td>\n",
       "      <td>ultra</td>\n",
       "    </tr>\n",
       "    <tr>\n",
       "      <th>9</th>\n",
       "      <td>10</td>\n",
       "      <td>Валерий</td>\n",
       "      <td>18</td>\n",
       "      <td>Екатеринбург</td>\n",
       "      <td>ultra</td>\n",
       "    </tr>\n",
       "  </tbody>\n",
       "</table>\n",
       "</div>"
      ],
      "text/plain": [
       "   user_id        name  age            city subscription_type\n",
       "0        1        Кира   22          Тюмень             ultra\n",
       "1        2   Станислав   31            Омск             ultra\n",
       "2        3     Алексей   20          Москва             ultra\n",
       "3        4  Константин   26  Ростов-на-Дону             ultra\n",
       "4        5       Адель   28            Омск             ultra\n",
       "5        6      Регина   25       Краснодар             ultra\n",
       "6        7       Игорь   23            Омск             ultra\n",
       "7        8        Юрий   23       Краснодар             ultra\n",
       "8        9          Ян   21       Пятигорск             ultra\n",
       "9       10     Валерий   18    Екатеринбург             ultra"
      ]
     },
     "execution_count": 3,
     "metadata": {},
     "output_type": "execute_result"
    }
   ],
   "source": [
    "users_data.head(10)"
   ]
  },
  {
   "cell_type": "code",
   "execution_count": 4,
   "metadata": {},
   "outputs": [
    {
     "name": "stdout",
     "output_type": "stream",
     "text": [
      "<class 'pandas.core.frame.DataFrame'>\n",
      "RangeIndex: 1565 entries, 0 to 1564\n",
      "Data columns (total 5 columns):\n",
      " #   Column             Non-Null Count  Dtype \n",
      "---  ------             --------------  ----- \n",
      " 0   user_id            1565 non-null   int64 \n",
      " 1   name               1565 non-null   object\n",
      " 2   age                1565 non-null   int64 \n",
      " 3   city               1565 non-null   object\n",
      " 4   subscription_type  1565 non-null   object\n",
      "dtypes: int64(2), object(3)\n",
      "memory usage: 61.3+ KB\n"
     ]
    }
   ],
   "source": [
    "users_data.info()"
   ]
  },
  {
   "cell_type": "code",
   "execution_count": 5,
   "metadata": {},
   "outputs": [
    {
     "data": {
      "text/html": [
       "<div>\n",
       "<style scoped>\n",
       "    .dataframe tbody tr th:only-of-type {\n",
       "        vertical-align: middle;\n",
       "    }\n",
       "\n",
       "    .dataframe tbody tr th {\n",
       "        vertical-align: top;\n",
       "    }\n",
       "\n",
       "    .dataframe thead th {\n",
       "        text-align: right;\n",
       "    }\n",
       "</style>\n",
       "<table border=\"1\" class=\"dataframe\">\n",
       "  <thead>\n",
       "    <tr style=\"text-align: right;\">\n",
       "      <th></th>\n",
       "      <th>user_id</th>\n",
       "      <th>distance</th>\n",
       "      <th>duration</th>\n",
       "      <th>date</th>\n",
       "    </tr>\n",
       "  </thead>\n",
       "  <tbody>\n",
       "    <tr>\n",
       "      <th>0</th>\n",
       "      <td>1</td>\n",
       "      <td>4409.919140</td>\n",
       "      <td>25.599769</td>\n",
       "      <td>2021-01-01</td>\n",
       "    </tr>\n",
       "    <tr>\n",
       "      <th>1</th>\n",
       "      <td>1</td>\n",
       "      <td>2617.592153</td>\n",
       "      <td>15.816871</td>\n",
       "      <td>2021-01-18</td>\n",
       "    </tr>\n",
       "    <tr>\n",
       "      <th>2</th>\n",
       "      <td>1</td>\n",
       "      <td>754.159807</td>\n",
       "      <td>6.232113</td>\n",
       "      <td>2021-04-20</td>\n",
       "    </tr>\n",
       "    <tr>\n",
       "      <th>3</th>\n",
       "      <td>1</td>\n",
       "      <td>2694.783254</td>\n",
       "      <td>18.511000</td>\n",
       "      <td>2021-08-11</td>\n",
       "    </tr>\n",
       "    <tr>\n",
       "      <th>4</th>\n",
       "      <td>1</td>\n",
       "      <td>4028.687306</td>\n",
       "      <td>26.265803</td>\n",
       "      <td>2021-08-28</td>\n",
       "    </tr>\n",
       "    <tr>\n",
       "      <th>5</th>\n",
       "      <td>1</td>\n",
       "      <td>2770.890808</td>\n",
       "      <td>16.650138</td>\n",
       "      <td>2021-10-09</td>\n",
       "    </tr>\n",
       "    <tr>\n",
       "      <th>6</th>\n",
       "      <td>1</td>\n",
       "      <td>3039.020292</td>\n",
       "      <td>14.927879</td>\n",
       "      <td>2021-10-19</td>\n",
       "    </tr>\n",
       "    <tr>\n",
       "      <th>7</th>\n",
       "      <td>1</td>\n",
       "      <td>2842.118050</td>\n",
       "      <td>23.117468</td>\n",
       "      <td>2021-11-06</td>\n",
       "    </tr>\n",
       "    <tr>\n",
       "      <th>8</th>\n",
       "      <td>1</td>\n",
       "      <td>3412.690668</td>\n",
       "      <td>15.238072</td>\n",
       "      <td>2021-11-14</td>\n",
       "    </tr>\n",
       "    <tr>\n",
       "      <th>9</th>\n",
       "      <td>1</td>\n",
       "      <td>748.690645</td>\n",
       "      <td>15.041884</td>\n",
       "      <td>2021-11-22</td>\n",
       "    </tr>\n",
       "  </tbody>\n",
       "</table>\n",
       "</div>"
      ],
      "text/plain": [
       "   user_id     distance   duration        date\n",
       "0        1  4409.919140  25.599769  2021-01-01\n",
       "1        1  2617.592153  15.816871  2021-01-18\n",
       "2        1   754.159807   6.232113  2021-04-20\n",
       "3        1  2694.783254  18.511000  2021-08-11\n",
       "4        1  4028.687306  26.265803  2021-08-28\n",
       "5        1  2770.890808  16.650138  2021-10-09\n",
       "6        1  3039.020292  14.927879  2021-10-19\n",
       "7        1  2842.118050  23.117468  2021-11-06\n",
       "8        1  3412.690668  15.238072  2021-11-14\n",
       "9        1   748.690645  15.041884  2021-11-22"
      ]
     },
     "execution_count": 5,
     "metadata": {},
     "output_type": "execute_result"
    }
   ],
   "source": [
    "rides_data.head(10)"
   ]
  },
  {
   "cell_type": "code",
   "execution_count": 6,
   "metadata": {},
   "outputs": [
    {
     "name": "stdout",
     "output_type": "stream",
     "text": [
      "<class 'pandas.core.frame.DataFrame'>\n",
      "RangeIndex: 18068 entries, 0 to 18067\n",
      "Data columns (total 4 columns):\n",
      " #   Column    Non-Null Count  Dtype  \n",
      "---  ------    --------------  -----  \n",
      " 0   user_id   18068 non-null  int64  \n",
      " 1   distance  18068 non-null  float64\n",
      " 2   duration  18068 non-null  float64\n",
      " 3   date      18068 non-null  object \n",
      "dtypes: float64(2), int64(1), object(1)\n",
      "memory usage: 564.8+ KB\n"
     ]
    }
   ],
   "source": [
    "rides_data.info()"
   ]
  },
  {
   "cell_type": "code",
   "execution_count": 7,
   "metadata": {},
   "outputs": [
    {
     "data": {
      "text/html": [
       "<div>\n",
       "<style scoped>\n",
       "    .dataframe tbody tr th:only-of-type {\n",
       "        vertical-align: middle;\n",
       "    }\n",
       "\n",
       "    .dataframe tbody tr th {\n",
       "        vertical-align: top;\n",
       "    }\n",
       "\n",
       "    .dataframe thead th {\n",
       "        text-align: right;\n",
       "    }\n",
       "</style>\n",
       "<table border=\"1\" class=\"dataframe\">\n",
       "  <thead>\n",
       "    <tr style=\"text-align: right;\">\n",
       "      <th></th>\n",
       "      <th>subscription_type</th>\n",
       "      <th>minute_price</th>\n",
       "      <th>start_ride_price</th>\n",
       "      <th>subscription_fee</th>\n",
       "    </tr>\n",
       "  </thead>\n",
       "  <tbody>\n",
       "    <tr>\n",
       "      <th>0</th>\n",
       "      <td>free</td>\n",
       "      <td>8</td>\n",
       "      <td>50</td>\n",
       "      <td>0</td>\n",
       "    </tr>\n",
       "    <tr>\n",
       "      <th>1</th>\n",
       "      <td>ultra</td>\n",
       "      <td>6</td>\n",
       "      <td>0</td>\n",
       "      <td>199</td>\n",
       "    </tr>\n",
       "  </tbody>\n",
       "</table>\n",
       "</div>"
      ],
      "text/plain": [
       "  subscription_type  minute_price  start_ride_price  subscription_fee\n",
       "0              free             8                50                 0\n",
       "1             ultra             6                 0               199"
      ]
     },
     "execution_count": 7,
     "metadata": {},
     "output_type": "execute_result"
    }
   ],
   "source": [
    "subsriotions_data.head(10)"
   ]
  },
  {
   "cell_type": "code",
   "execution_count": 8,
   "metadata": {},
   "outputs": [
    {
     "name": "stdout",
     "output_type": "stream",
     "text": [
      "<class 'pandas.core.frame.DataFrame'>\n",
      "RangeIndex: 2 entries, 0 to 1\n",
      "Data columns (total 4 columns):\n",
      " #   Column             Non-Null Count  Dtype \n",
      "---  ------             --------------  ----- \n",
      " 0   subscription_type  2 non-null      object\n",
      " 1   minute_price       2 non-null      int64 \n",
      " 2   start_ride_price   2 non-null      int64 \n",
      " 3   subscription_fee   2 non-null      int64 \n",
      "dtypes: int64(3), object(1)\n",
      "memory usage: 192.0+ bytes\n"
     ]
    }
   ],
   "source": [
    "subsriotions_data.info()"
   ]
  },
  {
   "cell_type": "markdown",
   "metadata": {},
   "source": [
    "**Вывод:**\n",
    "\n",
    "Мы сохранили каждый файл в переменные и прочитали данные. Затем получили общую информацию о каждой таблице:\n",
    "\n",
    "1. В датафрейме с информацией о пользователях всего 1565 строк. Пропущенные строки отсутствуют. \n",
    "2. В датафрейме с информацией о поездах пользователей всего 18068 строк. Пропущенных значений нет. \n",
    "3. В датафпейме с информацией о подписах пользователей всего 2 строчки, так как у нас два вида подписок. Пропущенных значений нет. \n",
    "\n",
    "В столбце `date` таблицы `rides_data` записана дата поездки, но в формате object, поэтому необходимо поменять на datetime. Еще проверим на наличие дубликатов во всех таблицах. "
   ]
  },
  {
   "cell_type": "markdown",
   "metadata": {},
   "source": [
    "## Шаг 2. Предобработка данных\n",
    "\n",
    "1. Приведите столбец date к типу даты pandas.\n",
    "2. Создайте новый столбец с номером месяца на основе столбца date.\n",
    "3. Проверьте наличие пропущенных значений и дубликатов в датафреймах. Обработайте их, если такие значения присутствуют."
   ]
  },
  {
   "cell_type": "code",
   "execution_count": 9,
   "metadata": {},
   "outputs": [
    {
     "name": "stdout",
     "output_type": "stream",
     "text": [
      "<class 'pandas.core.frame.DataFrame'>\n",
      "RangeIndex: 18068 entries, 0 to 18067\n",
      "Data columns (total 4 columns):\n",
      " #   Column    Non-Null Count  Dtype         \n",
      "---  ------    --------------  -----         \n",
      " 0   user_id   18068 non-null  int64         \n",
      " 1   distance  18068 non-null  float64       \n",
      " 2   duration  18068 non-null  float64       \n",
      " 3   date      18068 non-null  datetime64[ns]\n",
      "dtypes: datetime64[ns](1), float64(2), int64(1)\n",
      "memory usage: 564.8 KB\n"
     ]
    }
   ],
   "source": [
    "rides_data['date'] = pd.to_datetime(rides_data['date'], format='%Y-%m-%d')\n",
    "# проверим типы данных еще раз \n",
    "rides_data.info()"
   ]
  },
  {
   "cell_type": "code",
   "execution_count": 10,
   "metadata": {},
   "outputs": [],
   "source": [
    "# создадим столбец с номером месяца\n",
    "rides_data['date_month'] = rides_data['date'].dt.month"
   ]
  },
  {
   "cell_type": "code",
   "execution_count": 11,
   "metadata": {},
   "outputs": [
    {
     "data": {
      "text/html": [
       "<div>\n",
       "<style scoped>\n",
       "    .dataframe tbody tr th:only-of-type {\n",
       "        vertical-align: middle;\n",
       "    }\n",
       "\n",
       "    .dataframe tbody tr th {\n",
       "        vertical-align: top;\n",
       "    }\n",
       "\n",
       "    .dataframe thead th {\n",
       "        text-align: right;\n",
       "    }\n",
       "</style>\n",
       "<table border=\"1\" class=\"dataframe\">\n",
       "  <thead>\n",
       "    <tr style=\"text-align: right;\">\n",
       "      <th></th>\n",
       "      <th>index</th>\n",
       "      <th>date_month</th>\n",
       "    </tr>\n",
       "  </thead>\n",
       "  <tbody>\n",
       "    <tr>\n",
       "      <th>0</th>\n",
       "      <td>1</td>\n",
       "      <td>1585</td>\n",
       "    </tr>\n",
       "    <tr>\n",
       "      <th>11</th>\n",
       "      <td>2</td>\n",
       "      <td>1336</td>\n",
       "    </tr>\n",
       "    <tr>\n",
       "      <th>3</th>\n",
       "      <td>3</td>\n",
       "      <td>1544</td>\n",
       "    </tr>\n",
       "    <tr>\n",
       "      <th>8</th>\n",
       "      <td>4</td>\n",
       "      <td>1506</td>\n",
       "    </tr>\n",
       "    <tr>\n",
       "      <th>1</th>\n",
       "      <td>5</td>\n",
       "      <td>1560</td>\n",
       "    </tr>\n",
       "    <tr>\n",
       "      <th>2</th>\n",
       "      <td>6</td>\n",
       "      <td>1553</td>\n",
       "    </tr>\n",
       "    <tr>\n",
       "      <th>4</th>\n",
       "      <td>7</td>\n",
       "      <td>1529</td>\n",
       "    </tr>\n",
       "    <tr>\n",
       "      <th>6</th>\n",
       "      <td>8</td>\n",
       "      <td>1518</td>\n",
       "    </tr>\n",
       "    <tr>\n",
       "      <th>7</th>\n",
       "      <td>9</td>\n",
       "      <td>1517</td>\n",
       "    </tr>\n",
       "    <tr>\n",
       "      <th>9</th>\n",
       "      <td>10</td>\n",
       "      <td>1475</td>\n",
       "    </tr>\n",
       "    <tr>\n",
       "      <th>10</th>\n",
       "      <td>11</td>\n",
       "      <td>1418</td>\n",
       "    </tr>\n",
       "    <tr>\n",
       "      <th>5</th>\n",
       "      <td>12</td>\n",
       "      <td>1527</td>\n",
       "    </tr>\n",
       "  </tbody>\n",
       "</table>\n",
       "</div>"
      ],
      "text/plain": [
       "    index  date_month\n",
       "0       1        1585\n",
       "11      2        1336\n",
       "3       3        1544\n",
       "8       4        1506\n",
       "1       5        1560\n",
       "2       6        1553\n",
       "4       7        1529\n",
       "6       8        1518\n",
       "7       9        1517\n",
       "9      10        1475\n",
       "10     11        1418\n",
       "5      12        1527"
      ]
     },
     "execution_count": 11,
     "metadata": {},
     "output_type": "execute_result"
    }
   ],
   "source": [
    "rides_data['date_month'].value_counts().reset_index().sort_values(by='index')"
   ]
  },
  {
   "cell_type": "markdown",
   "metadata": {},
   "source": [
    "Создали стоблец с месяцами и выяснили, что у нас все 12 месяцев есть в датасете. "
   ]
  },
  {
   "cell_type": "code",
   "execution_count": 12,
   "metadata": {},
   "outputs": [
    {
     "name": "stdout",
     "output_type": "stream",
     "text": [
      "Пропущенные значения в users_data:\n",
      "user_id              0\n",
      "name                 0\n",
      "age                  0\n",
      "city                 0\n",
      "subscription_type    0\n",
      "dtype: int64\n",
      "\n",
      "Пропущенные значения в rides_data:\n",
      "user_id       0\n",
      "distance      0\n",
      "duration      0\n",
      "date          0\n",
      "date_month    0\n",
      "dtype: int64\n",
      "\n",
      "Пропущенные значения в subsriotions_data:\n",
      "subscription_type    0\n",
      "minute_price         0\n",
      "start_ride_price     0\n",
      "subscription_fee     0\n",
      "dtype: int64\n"
     ]
    }
   ],
   "source": [
    "# проверим, есть ли пропущенные значения в таблицах\n",
    "print('Пропущенные значения в users_data:')\n",
    "print(users_data.isna().sum())\n",
    "print()\n",
    "print('Пропущенные значения в rides_data:')\n",
    "print(rides_data.isna().sum())\n",
    "print()\n",
    "print('Пропущенные значения в subsriotions_data:')\n",
    "print(subsriotions_data.isna().sum())"
   ]
  },
  {
   "cell_type": "code",
   "execution_count": 13,
   "metadata": {},
   "outputs": [
    {
     "name": "stdout",
     "output_type": "stream",
     "text": [
      "Количество дубликатов в users_data: 31\n",
      "Количество дубликатов в rides_data: 0\n",
      "Количество дубликатов в subsriotions_data: 0\n"
     ]
    }
   ],
   "source": [
    "# проверим, есть ли дубликаты в таблицах \n",
    "print('Количество дубликатов в users_data:', users_data.duplicated().sum())\n",
    "print('Количество дубликатов в rides_data:', rides_data.duplicated().sum())\n",
    "print('Количество дубликатов в subsriotions_data:', subsriotions_data.duplicated().sum())"
   ]
  },
  {
   "cell_type": "code",
   "execution_count": 14,
   "metadata": {},
   "outputs": [
    {
     "name": "stdout",
     "output_type": "stream",
     "text": [
      "Количество дубликатов в users_data: 0\n"
     ]
    }
   ],
   "source": [
    "# удалим дубликаты в таблице `users_data`\n",
    "users_data = users_data.drop_duplicates()\n",
    "print('Количество дубликатов в users_data:', users_data.duplicated().sum())"
   ]
  },
  {
   "cell_type": "markdown",
   "metadata": {},
   "source": [
    "**Вывод:**\n",
    "\n",
    "Мы изменили тип данных для столбца с датой поездки, создали столбец с номером месяца. Пропущенных значений во всех трех таблицах мы не нашли. Дубликаты были только в датафрейме `users_data`, мы их удалили. "
   ]
  },
  {
   "cell_type": "markdown",
   "metadata": {},
   "source": [
    "## Шаг 3. Исследовательский анализ данных\n",
    "\n",
    "Опишите и визуализируйте общую информацию о пользователях и поездках:\n",
    "1. частота встречаемости городов;\n",
    "2. соотношение пользователей с подпиской и без подписки;\n",
    "3. возраст пользователей;\n",
    "4. расстояние, которое пользователь преодолел за одну поездку;\n",
    "5. продолжительность поездок."
   ]
  },
  {
   "cell_type": "markdown",
   "metadata": {},
   "source": [
    "**Частота встречаемости городов**"
   ]
  },
  {
   "cell_type": "code",
   "execution_count": 15,
   "metadata": {},
   "outputs": [
    {
     "data": {
      "image/png": "[encoded data removed]",
      "text/plain": [
       "<Figure size 720x360 with 1 Axes>"
      ]
     },
     "metadata": {
      "needs_background": "light"
     },
     "output_type": "display_data"
    }
   ],
   "source": [
    "# построим гистограмму для частоты встречаемости городов \n",
    "users_data['city'].value_counts().sort_values(ascending=True).plot(\n",
    "    y='city', kind='barh', grid=True, figsize=(10,5)\n",
    ")\n",
    "\n",
    "plt.title('Частота встречаемости городов')\n",
    "plt.ylabel('Названия городов')\n",
    "plt.show()"
   ]
  },
  {
   "cell_type": "code",
   "execution_count": 16,
   "metadata": {},
   "outputs": [
    {
     "data": {
      "text/plain": [
       "Москва            168\n",
       "Тюмень            180\n",
       "Омск              183\n",
       "Сочи              189\n",
       "Краснодар         193\n",
       "Ростов-на-Дону    198\n",
       "Екатеринбург      204\n",
       "Пятигорск         219\n",
       "Name: city, dtype: int64"
      ]
     },
     "execution_count": 16,
     "metadata": {},
     "output_type": "execute_result"
    }
   ],
   "source": [
    "# частота встречаемости городов\n",
    "users_data['city'].value_counts().sort_values(ascending=True)"
   ]
  },
  {
   "cell_type": "code",
   "execution_count": 17,
   "metadata": {},
   "outputs": [
    {
     "data": {
      "text/plain": [
       "count          1534\n",
       "unique            8\n",
       "top       Пятигорск\n",
       "freq            219\n",
       "Name: city, dtype: object"
      ]
     },
     "execution_count": 17,
     "metadata": {},
     "output_type": "execute_result"
    }
   ],
   "source": [
    "users_data['city'].describe()"
   ]
  },
  {
   "cell_type": "markdown",
   "metadata": {},
   "source": [
    "Всего 8 городов встречается в таблице. Три самых наиболее частотных городов - Пятигорск, Екатеринбург, Ростов-на-Дону. "
   ]
  },
  {
   "cell_type": "markdown",
   "metadata": {},
   "source": [
    "**Соотношение пользователей с подпиской и без подписки**"
   ]
  },
  {
   "cell_type": "code",
   "execution_count": 18,
   "metadata": {},
   "outputs": [
    {
     "data": {
      "image/png": "[encoded data removed]",
      "text/plain": [
       "<Figure size 648x432 with 1 Axes>"
      ]
     },
     "metadata": {},
     "output_type": "display_data"
    }
   ],
   "source": [
    "#построим гистограмму для соотношения пользователей с подпиской и без подписки \n",
    "users_data['subscription_type'].value_counts().plot(\n",
    "    kind='pie',\n",
    "    y='subscription_type',\n",
    "    grid=True,\n",
    "    autopct='%.1f%%',\n",
    "    figsize=(9,6)\n",
    ")\n",
    "plt.title('Соотношение пользователей с подпиской и без подписки')\n",
    "plt.show()"
   ]
  },
  {
   "cell_type": "markdown",
   "metadata": {},
   "source": [
    "В таблице больше всего пользователей без подписки (54.4%), а пользователей с подпиской меньше (45.6%). Это может быть связано с тем, что пользователи не так часто пользуются самокатами, поэтому им нет надобности оформлять подписку. "
   ]
  },
  {
   "cell_type": "markdown",
   "metadata": {},
   "source": [
    "**Возраст пользователей**"
   ]
  },
  {
   "cell_type": "code",
   "execution_count": 19,
   "metadata": {},
   "outputs": [
    {
     "data": {
      "image/png": "[encoded data removed]",
      "text/plain": [
       "<Figure size 720x360 with 1 Axes>"
      ]
     },
     "metadata": {
      "needs_background": "light"
     },
     "output_type": "display_data"
    }
   ],
   "source": [
    "# построим гистограмму для возраста пользователей \n",
    "users_data.plot(\n",
    "    kind='hist',\n",
    "    y='age',\n",
    "    grid=True,\n",
    "    figsize=(10,5) \n",
    ")\n",
    "\n",
    "plt.title('Возраст пользователей')\n",
    "plt.ylabel('Количество пользователей')\n",
    "plt.xlabel('Возраст')\n",
    "plt.show()"
   ]
  },
  {
   "cell_type": "code",
   "execution_count": 20,
   "metadata": {},
   "outputs": [
    {
     "data": {
      "text/plain": [
       "count    1534.000000\n",
       "mean       24.903520\n",
       "std         4.572367\n",
       "min        12.000000\n",
       "25%        22.000000\n",
       "50%        25.000000\n",
       "75%        28.000000\n",
       "max        43.000000\n",
       "Name: age, dtype: float64"
      ]
     },
     "execution_count": 20,
     "metadata": {},
     "output_type": "execute_result"
    }
   ],
   "source": [
    "users_data['age'].describe()"
   ]
  },
  {
   "cell_type": "markdown",
   "metadata": {},
   "source": [
    "Возраст пользователей в среднем распределен от 15 лет до 35. Медиана - 25 лет, максимальный возраст - 43 года. Самые молодые пользователи в возрасте 12 лет. "
   ]
  },
  {
   "cell_type": "markdown",
   "metadata": {},
   "source": [
    "**Расстояние, которое пользователь преодолел за одну поездку**"
   ]
  },
  {
   "cell_type": "code",
   "execution_count": 21,
   "metadata": {},
   "outputs": [
    {
     "data": {
      "image/png": "[encoded data removed]",
      "text/plain": [
       "<Figure size 720x360 with 1 Axes>"
      ]
     },
     "metadata": {
      "needs_background": "light"
     },
     "output_type": "display_data"
    }
   ],
   "source": [
    "# построим гистограмму для расстояний поездок\n",
    "rides_data.plot(\n",
    "    kind='hist',\n",
    "    y='distance',\n",
    "    grid=True,\n",
    "    figsize=(10,5),\n",
    "    bins=100\n",
    ")\n",
    "plt.title('Распределение расстояний поездок')\n",
    "plt.ylabel('Количество поездок')\n",
    "plt.xlabel('Дистанция')\n",
    "plt.show()"
   ]
  },
  {
   "cell_type": "code",
   "execution_count": 22,
   "metadata": {},
   "outputs": [
    {
     "data": {
      "text/plain": [
       "count    18068.000000\n",
       "mean      3070.659976\n",
       "std       1116.831209\n",
       "min          0.855683\n",
       "25%       2543.226360\n",
       "50%       3133.609994\n",
       "75%       3776.222735\n",
       "max       7211.007745\n",
       "Name: distance, dtype: float64"
      ]
     },
     "execution_count": 22,
     "metadata": {},
     "output_type": "execute_result"
    }
   ],
   "source": [
    "rides_data['distance'].describe()"
   ]
  },
  {
   "cell_type": "markdown",
   "metadata": {},
   "source": [
    "В среднем пользователи от 2 километров до 5. Чаще всего это 3 километра. "
   ]
  },
  {
   "cell_type": "markdown",
   "metadata": {},
   "source": [
    "**Продолжительность поездок**"
   ]
  },
  {
   "cell_type": "code",
   "execution_count": 23,
   "metadata": {},
   "outputs": [
    {
     "data": {
      "image/png": "[encoded data removed]",
      "text/plain": [
       "<Figure size 432x288 with 1 Axes>"
      ]
     },
     "metadata": {
      "needs_background": "light"
     },
     "output_type": "display_data"
    }
   ],
   "source": [
    "rides_data.boxplot(column=\"duration\")\n",
    "plt.title('Продолжительность поездок')\n",
    "plt.show()"
   ]
  },
  {
   "cell_type": "code",
   "execution_count": 24,
   "metadata": {},
   "outputs": [
    {
     "name": "stdout",
     "output_type": "stream",
     "text": [
      "1.4067070934272756\n",
      "33.91565577561293\n"
     ]
    }
   ],
   "source": [
    "#найдем нижнию и верхнюю границы \n",
    "Q1 = rides_data['duration'].describe()['25%'] # первый квартиль Q1\n",
    "Q3 = rides_data['duration'].describe()['75%'] # третий квартиль Q3\n",
    "IQR = Q3 - Q1 # межквартильный размах IQR\n",
    "lower_edge = Q1 - 1.5 * IQR\n",
    "upper_edge = Q3 + 1.5 * IQR\n",
    "\n",
    "print(lower_edge)\n",
    "print(upper_edge)"
   ]
  },
  {
   "cell_type": "code",
   "execution_count": 25,
   "metadata": {},
   "outputs": [
    {
     "data": {
      "image/png": "[encoded data removed]",
      "text/plain": [
       "<Figure size 432x288 with 1 Axes>"
      ]
     },
     "metadata": {
      "needs_background": "light"
     },
     "output_type": "display_data"
    }
   ],
   "source": [
    "# посмотрим на выбросы ниже нижней границы поближе\n",
    "rides_data[(rides_data['duration'] < lower_edge)]['duration'].hist(bins=100, range=(0, lower_edge))\n",
    "plt.show()"
   ]
  },
  {
   "cell_type": "markdown",
   "metadata": {},
   "source": [
    "У нас есть пик между 0,4 и 0,6 минутами, и попадают больше 80 поездок в этот промежуток. Не думаю, что поездка может длиться 0.5 секунд, поэтому давайте посмотрим на такие поездки и их параметры более подробно."
   ]
  },
  {
   "cell_type": "code",
   "execution_count": 26,
   "metadata": {},
   "outputs": [
    {
     "data": {
      "text/html": [
       "<div>\n",
       "<style scoped>\n",
       "    .dataframe tbody tr th:only-of-type {\n",
       "        vertical-align: middle;\n",
       "    }\n",
       "\n",
       "    .dataframe tbody tr th {\n",
       "        vertical-align: top;\n",
       "    }\n",
       "\n",
       "    .dataframe thead th {\n",
       "        text-align: right;\n",
       "    }\n",
       "</style>\n",
       "<table border=\"1\" class=\"dataframe\">\n",
       "  <thead>\n",
       "    <tr style=\"text-align: right;\">\n",
       "      <th></th>\n",
       "      <th>user_id</th>\n",
       "      <th>distance</th>\n",
       "      <th>duration</th>\n",
       "      <th>date</th>\n",
       "      <th>date_month</th>\n",
       "    </tr>\n",
       "  </thead>\n",
       "  <tbody>\n",
       "    <tr>\n",
       "      <th>6531</th>\n",
       "      <td>701</td>\n",
       "      <td>4196.445201</td>\n",
       "      <td>0.5</td>\n",
       "      <td>2021-08-31</td>\n",
       "      <td>8</td>\n",
       "    </tr>\n",
       "    <tr>\n",
       "      <th>6570</th>\n",
       "      <td>704</td>\n",
       "      <td>4830.824371</td>\n",
       "      <td>0.5</td>\n",
       "      <td>2021-10-14</td>\n",
       "      <td>10</td>\n",
       "    </tr>\n",
       "    <tr>\n",
       "      <th>6680</th>\n",
       "      <td>712</td>\n",
       "      <td>4684.004397</td>\n",
       "      <td>0.5</td>\n",
       "      <td>2021-03-04</td>\n",
       "      <td>3</td>\n",
       "    </tr>\n",
       "    <tr>\n",
       "      <th>6695</th>\n",
       "      <td>713</td>\n",
       "      <td>5215.642710</td>\n",
       "      <td>0.5</td>\n",
       "      <td>2021-02-25</td>\n",
       "      <td>2</td>\n",
       "    </tr>\n",
       "    <tr>\n",
       "      <th>6768</th>\n",
       "      <td>718</td>\n",
       "      <td>5197.436649</td>\n",
       "      <td>0.5</td>\n",
       "      <td>2021-02-11</td>\n",
       "      <td>2</td>\n",
       "    </tr>\n",
       "    <tr>\n",
       "      <th>...</th>\n",
       "      <td>...</td>\n",
       "      <td>...</td>\n",
       "      <td>...</td>\n",
       "      <td>...</td>\n",
       "      <td>...</td>\n",
       "    </tr>\n",
       "    <tr>\n",
       "      <th>17004</th>\n",
       "      <td>1460</td>\n",
       "      <td>5531.335845</td>\n",
       "      <td>0.5</td>\n",
       "      <td>2021-01-19</td>\n",
       "      <td>1</td>\n",
       "    </tr>\n",
       "    <tr>\n",
       "      <th>17242</th>\n",
       "      <td>1477</td>\n",
       "      <td>6724.932981</td>\n",
       "      <td>0.5</td>\n",
       "      <td>2021-01-12</td>\n",
       "      <td>1</td>\n",
       "    </tr>\n",
       "    <tr>\n",
       "      <th>17314</th>\n",
       "      <td>1483</td>\n",
       "      <td>4445.481070</td>\n",
       "      <td>0.5</td>\n",
       "      <td>2021-03-06</td>\n",
       "      <td>3</td>\n",
       "    </tr>\n",
       "    <tr>\n",
       "      <th>17505</th>\n",
       "      <td>1496</td>\n",
       "      <td>5722.551787</td>\n",
       "      <td>0.5</td>\n",
       "      <td>2021-02-14</td>\n",
       "      <td>2</td>\n",
       "    </tr>\n",
       "    <tr>\n",
       "      <th>17909</th>\n",
       "      <td>1524</td>\n",
       "      <td>4103.998874</td>\n",
       "      <td>0.5</td>\n",
       "      <td>2021-06-18</td>\n",
       "      <td>6</td>\n",
       "    </tr>\n",
       "  </tbody>\n",
       "</table>\n",
       "<p>95 rows × 5 columns</p>\n",
       "</div>"
      ],
      "text/plain": [
       "       user_id     distance  duration       date  date_month\n",
       "6531       701  4196.445201       0.5 2021-08-31           8\n",
       "6570       704  4830.824371       0.5 2021-10-14          10\n",
       "6680       712  4684.004397       0.5 2021-03-04           3\n",
       "6695       713  5215.642710       0.5 2021-02-25           2\n",
       "6768       718  5197.436649       0.5 2021-02-11           2\n",
       "...        ...          ...       ...        ...         ...\n",
       "17004     1460  5531.335845       0.5 2021-01-19           1\n",
       "17242     1477  6724.932981       0.5 2021-01-12           1\n",
       "17314     1483  4445.481070       0.5 2021-03-06           3\n",
       "17505     1496  5722.551787       0.5 2021-02-14           2\n",
       "17909     1524  4103.998874       0.5 2021-06-18           6\n",
       "\n",
       "[95 rows x 5 columns]"
      ]
     },
     "execution_count": 26,
     "metadata": {},
     "output_type": "execute_result"
    }
   ],
   "source": [
    "rides_data.query('duration < 1')"
   ]
  },
  {
   "cell_type": "markdown",
   "metadata": {},
   "source": [
    "Видим, что 95 поездок имеют продолжительность в 0.5 секунд, но их дистанция 4-6 километров. Наверное, произошла какая-то техническая ошибка, и время поездки не засчиталось полностью. "
   ]
  },
  {
   "cell_type": "code",
   "execution_count": 27,
   "metadata": {},
   "outputs": [
    {
     "data": {
      "image/png": "[encoded data removed]",
      "text/plain": [
       "<Figure size 432x288 with 1 Axes>"
      ]
     },
     "metadata": {
      "needs_background": "light"
     },
     "output_type": "display_data"
    }
   ],
   "source": [
    "# давайте посмотрим на распеределение расстояний таких поездок\n",
    "rides_data.query('duration < 1')['distance'].hist(bins=100)\n",
    "plt.show()"
   ]
  },
  {
   "cell_type": "code",
   "execution_count": 28,
   "metadata": {},
   "outputs": [
    {
     "data": {
      "image/png": "[encoded data removed]",
      "text/plain": [
       "<Figure size 432x288 with 1 Axes>"
      ]
     },
     "metadata": {
      "needs_background": "light"
     },
     "output_type": "display_data"
    }
   ],
   "source": [
    "rides_data.query('duration < 1').boxplot(column='distance')\n",
    "plt.show()"
   ]
  },
  {
   "cell_type": "code",
   "execution_count": 29,
   "metadata": {},
   "outputs": [
    {
     "name": "stdout",
     "output_type": "stream",
     "text": [
      "3296.088401293647\n",
      "6803.881517980524\n"
     ]
    }
   ],
   "source": [
    "#найдем нижнию и верхнюю границы \n",
    "Q1 = rides_data.query('duration < 1')['distance'].describe()['25%'] # первый квартиль Q1\n",
    "Q3 = rides_data.query('duration < 1')['distance'].describe()['75%'] # третий квартиль Q3\n",
    "IQR = Q3 - Q1 # межквартильный размах IQR\n",
    "lower_edge = Q1 - 1.5 * IQR\n",
    "upper_edge = Q3 + 1.5 * IQR\n",
    "\n",
    "print(lower_edge)\n",
    "print(upper_edge)"
   ]
  },
  {
   "cell_type": "markdown",
   "metadata": {},
   "source": [
    "Предлагаю найти среднее значение продолжительности времени поездок из датасета `rides_data`, где дистанция находится в промежутке от нижней границы (3296) до верхней границы (6803). Затем заполнить этим значением наши значения, где время равно 0.5. "
   ]
  },
  {
   "cell_type": "code",
   "execution_count": 30,
   "metadata": {},
   "outputs": [
    {
     "data": {
      "text/plain": [
       "20.606783666588296"
      ]
     },
     "execution_count": 30,
     "metadata": {},
     "output_type": "execute_result"
    }
   ],
   "source": [
    "rides_data.query('3296 <= distance <= 6803')['duration'].mean()"
   ]
  },
  {
   "cell_type": "code",
   "execution_count": 31,
   "metadata": {},
   "outputs": [],
   "source": [
    "rides_data.loc[rides_data['duration'] < 1, 'duration'] = rides_data.query('3296 <= distance <= 6803')['duration'].mean()"
   ]
  },
  {
   "cell_type": "code",
   "execution_count": 32,
   "metadata": {},
   "outputs": [
    {
     "data": {
      "image/png": "[encoded data removed]",
      "text/plain": [
       "<Figure size 432x288 with 1 Axes>"
      ]
     },
     "metadata": {
      "needs_background": "light"
     },
     "output_type": "display_data"
    }
   ],
   "source": [
    "# проверим изменения \n",
    "rides_data.boxplot(column='duration')\n",
    "plt.show()"
   ]
  },
  {
   "cell_type": "code",
   "execution_count": 33,
   "metadata": {},
   "outputs": [
    {
     "data": {
      "image/png": "[encoded data removed]",
      "text/plain": [
       "<Figure size 720x360 with 1 Axes>"
      ]
     },
     "metadata": {
      "needs_background": "light"
     },
     "output_type": "display_data"
    }
   ],
   "source": [
    "# теперь уже нарисуем график для времени поездок\n",
    "rides_data.plot(\n",
    "    kind='hist',\n",
    "    y='duration',\n",
    "    grid=True,\n",
    "    figsize=(10,5),\n",
    "    bins=100\n",
    ")\n",
    "plt.title('Распределение продолжительности поездок')\n",
    "plt.ylabel('Количество поездок')\n",
    "plt.xlabel('Продолжительность')\n",
    "plt.show()"
   ]
  },
  {
   "cell_type": "code",
   "execution_count": 34,
   "metadata": {},
   "outputs": [
    {
     "data": {
      "text/plain": [
       "count    18068.000000\n",
       "mean        17.910731\n",
       "std          5.962916\n",
       "min          2.035632\n",
       "25%         13.697117\n",
       "50%         17.750643\n",
       "75%         21.724800\n",
       "max         40.823963\n",
       "Name: duration, dtype: float64"
      ]
     },
     "execution_count": 34,
     "metadata": {},
     "output_type": "execute_result"
    }
   ],
   "source": [
    "rides_data['duration'].describe()"
   ]
  },
  {
   "cell_type": "markdown",
   "metadata": {},
   "source": [
    "В среднем пользователи тратят от 13 до 22 минут на поездку. Чаще всего поездка занимает около 17 минут. "
   ]
  },
  {
   "cell_type": "markdown",
   "metadata": {},
   "source": [
    "**Вывод:**\n",
    "\n",
    "Мы описали и визуализировали общую информацию о пользователях и поездках. Нарисовали распределения для заданных параметров. "
   ]
  },
  {
   "cell_type": "markdown",
   "metadata": {},
   "source": [
    "## Шаг 4. Объединение данных \n",
    "\n",
    "1. Объедините данные о пользователях, поездках и подписках в один датафрейм. Для этого воспользуйтесь методом merge().\n",
    "\n",
    "2. Создайте ещё два датафрейма из датафрейма, созданного на этапе 4.1:\n",
    "- c данными о пользователях без подписки;\n",
    "- с данными о пользователях с подпиской.\n",
    "3. Визуализируйте информацию о расстоянии и времени поездок для пользователей обеих категорий."
   ]
  },
  {
   "cell_type": "code",
   "execution_count": 35,
   "metadata": {},
   "outputs": [
    {
     "data": {
      "text/html": [
       "<div>\n",
       "<style scoped>\n",
       "    .dataframe tbody tr th:only-of-type {\n",
       "        vertical-align: middle;\n",
       "    }\n",
       "\n",
       "    .dataframe tbody tr th {\n",
       "        vertical-align: top;\n",
       "    }\n",
       "\n",
       "    .dataframe thead th {\n",
       "        text-align: right;\n",
       "    }\n",
       "</style>\n",
       "<table border=\"1\" class=\"dataframe\">\n",
       "  <thead>\n",
       "    <tr style=\"text-align: right;\">\n",
       "      <th></th>\n",
       "      <th>user_id</th>\n",
       "      <th>name</th>\n",
       "      <th>age</th>\n",
       "      <th>city</th>\n",
       "      <th>subscription_type</th>\n",
       "      <th>distance</th>\n",
       "      <th>duration</th>\n",
       "      <th>date</th>\n",
       "      <th>date_month</th>\n",
       "      <th>minute_price</th>\n",
       "      <th>start_ride_price</th>\n",
       "      <th>subscription_fee</th>\n",
       "    </tr>\n",
       "  </thead>\n",
       "  <tbody>\n",
       "    <tr>\n",
       "      <th>0</th>\n",
       "      <td>1</td>\n",
       "      <td>Кира</td>\n",
       "      <td>22</td>\n",
       "      <td>Тюмень</td>\n",
       "      <td>ultra</td>\n",
       "      <td>4409.919140</td>\n",
       "      <td>25.599769</td>\n",
       "      <td>2021-01-01</td>\n",
       "      <td>1</td>\n",
       "      <td>6</td>\n",
       "      <td>0</td>\n",
       "      <td>199</td>\n",
       "    </tr>\n",
       "    <tr>\n",
       "      <th>1</th>\n",
       "      <td>1</td>\n",
       "      <td>Кира</td>\n",
       "      <td>22</td>\n",
       "      <td>Тюмень</td>\n",
       "      <td>ultra</td>\n",
       "      <td>2617.592153</td>\n",
       "      <td>15.816871</td>\n",
       "      <td>2021-01-18</td>\n",
       "      <td>1</td>\n",
       "      <td>6</td>\n",
       "      <td>0</td>\n",
       "      <td>199</td>\n",
       "    </tr>\n",
       "    <tr>\n",
       "      <th>2</th>\n",
       "      <td>1</td>\n",
       "      <td>Кира</td>\n",
       "      <td>22</td>\n",
       "      <td>Тюмень</td>\n",
       "      <td>ultra</td>\n",
       "      <td>754.159807</td>\n",
       "      <td>6.232113</td>\n",
       "      <td>2021-04-20</td>\n",
       "      <td>4</td>\n",
       "      <td>6</td>\n",
       "      <td>0</td>\n",
       "      <td>199</td>\n",
       "    </tr>\n",
       "    <tr>\n",
       "      <th>3</th>\n",
       "      <td>1</td>\n",
       "      <td>Кира</td>\n",
       "      <td>22</td>\n",
       "      <td>Тюмень</td>\n",
       "      <td>ultra</td>\n",
       "      <td>2694.783254</td>\n",
       "      <td>18.511000</td>\n",
       "      <td>2021-08-11</td>\n",
       "      <td>8</td>\n",
       "      <td>6</td>\n",
       "      <td>0</td>\n",
       "      <td>199</td>\n",
       "    </tr>\n",
       "    <tr>\n",
       "      <th>4</th>\n",
       "      <td>1</td>\n",
       "      <td>Кира</td>\n",
       "      <td>22</td>\n",
       "      <td>Тюмень</td>\n",
       "      <td>ultra</td>\n",
       "      <td>4028.687306</td>\n",
       "      <td>26.265803</td>\n",
       "      <td>2021-08-28</td>\n",
       "      <td>8</td>\n",
       "      <td>6</td>\n",
       "      <td>0</td>\n",
       "      <td>199</td>\n",
       "    </tr>\n",
       "    <tr>\n",
       "      <th>5</th>\n",
       "      <td>1</td>\n",
       "      <td>Кира</td>\n",
       "      <td>22</td>\n",
       "      <td>Тюмень</td>\n",
       "      <td>ultra</td>\n",
       "      <td>2770.890808</td>\n",
       "      <td>16.650138</td>\n",
       "      <td>2021-10-09</td>\n",
       "      <td>10</td>\n",
       "      <td>6</td>\n",
       "      <td>0</td>\n",
       "      <td>199</td>\n",
       "    </tr>\n",
       "    <tr>\n",
       "      <th>6</th>\n",
       "      <td>1</td>\n",
       "      <td>Кира</td>\n",
       "      <td>22</td>\n",
       "      <td>Тюмень</td>\n",
       "      <td>ultra</td>\n",
       "      <td>3039.020292</td>\n",
       "      <td>14.927879</td>\n",
       "      <td>2021-10-19</td>\n",
       "      <td>10</td>\n",
       "      <td>6</td>\n",
       "      <td>0</td>\n",
       "      <td>199</td>\n",
       "    </tr>\n",
       "    <tr>\n",
       "      <th>7</th>\n",
       "      <td>1</td>\n",
       "      <td>Кира</td>\n",
       "      <td>22</td>\n",
       "      <td>Тюмень</td>\n",
       "      <td>ultra</td>\n",
       "      <td>2842.118050</td>\n",
       "      <td>23.117468</td>\n",
       "      <td>2021-11-06</td>\n",
       "      <td>11</td>\n",
       "      <td>6</td>\n",
       "      <td>0</td>\n",
       "      <td>199</td>\n",
       "    </tr>\n",
       "    <tr>\n",
       "      <th>8</th>\n",
       "      <td>1</td>\n",
       "      <td>Кира</td>\n",
       "      <td>22</td>\n",
       "      <td>Тюмень</td>\n",
       "      <td>ultra</td>\n",
       "      <td>3412.690668</td>\n",
       "      <td>15.238072</td>\n",
       "      <td>2021-11-14</td>\n",
       "      <td>11</td>\n",
       "      <td>6</td>\n",
       "      <td>0</td>\n",
       "      <td>199</td>\n",
       "    </tr>\n",
       "    <tr>\n",
       "      <th>9</th>\n",
       "      <td>1</td>\n",
       "      <td>Кира</td>\n",
       "      <td>22</td>\n",
       "      <td>Тюмень</td>\n",
       "      <td>ultra</td>\n",
       "      <td>748.690645</td>\n",
       "      <td>15.041884</td>\n",
       "      <td>2021-11-22</td>\n",
       "      <td>11</td>\n",
       "      <td>6</td>\n",
       "      <td>0</td>\n",
       "      <td>199</td>\n",
       "    </tr>\n",
       "  </tbody>\n",
       "</table>\n",
       "</div>"
      ],
      "text/plain": [
       "   user_id  name  age    city subscription_type     distance   duration  \\\n",
       "0        1  Кира   22  Тюмень             ultra  4409.919140  25.599769   \n",
       "1        1  Кира   22  Тюмень             ultra  2617.592153  15.816871   \n",
       "2        1  Кира   22  Тюмень             ultra   754.159807   6.232113   \n",
       "3        1  Кира   22  Тюмень             ultra  2694.783254  18.511000   \n",
       "4        1  Кира   22  Тюмень             ultra  4028.687306  26.265803   \n",
       "5        1  Кира   22  Тюмень             ultra  2770.890808  16.650138   \n",
       "6        1  Кира   22  Тюмень             ultra  3039.020292  14.927879   \n",
       "7        1  Кира   22  Тюмень             ultra  2842.118050  23.117468   \n",
       "8        1  Кира   22  Тюмень             ultra  3412.690668  15.238072   \n",
       "9        1  Кира   22  Тюмень             ultra   748.690645  15.041884   \n",
       "\n",
       "        date  date_month  minute_price  start_ride_price  subscription_fee  \n",
       "0 2021-01-01           1             6                 0               199  \n",
       "1 2021-01-18           1             6                 0               199  \n",
       "2 2021-04-20           4             6                 0               199  \n",
       "3 2021-08-11           8             6                 0               199  \n",
       "4 2021-08-28           8             6                 0               199  \n",
       "5 2021-10-09          10             6                 0               199  \n",
       "6 2021-10-19          10             6                 0               199  \n",
       "7 2021-11-06          11             6                 0               199  \n",
       "8 2021-11-14          11             6                 0               199  \n",
       "9 2021-11-22          11             6                 0               199  "
      ]
     },
     "execution_count": 35,
     "metadata": {},
     "output_type": "execute_result"
    }
   ],
   "source": [
    "data = users_data.merge(rides_data, on='user_id')\n",
    "data = data.merge(subsriotions_data, on='subscription_type')\n",
    "# выведем первые 10 строчек\n",
    "data.head(10)"
   ]
  },
  {
   "cell_type": "code",
   "execution_count": 36,
   "metadata": {},
   "outputs": [
    {
     "name": "stdout",
     "output_type": "stream",
     "text": [
      "Количество строчек в датасате с поездками: 18068\n",
      "Количество строчек в общем датасете: 18068\n"
     ]
    }
   ],
   "source": [
    "print('Количество строчек в датасате с поездками:', rides_data.shape[0])\n",
    "\n",
    "print('Количество строчек в общем датасете:', data.shape[0])"
   ]
  },
  {
   "cell_type": "code",
   "execution_count": 37,
   "metadata": {},
   "outputs": [
    {
     "data": {
      "text/plain": [
       "user_id              0\n",
       "name                 0\n",
       "age                  0\n",
       "city                 0\n",
       "subscription_type    0\n",
       "distance             0\n",
       "duration             0\n",
       "date                 0\n",
       "date_month           0\n",
       "minute_price         0\n",
       "start_ride_price     0\n",
       "subscription_fee     0\n",
       "dtype: int64"
      ]
     },
     "execution_count": 37,
     "metadata": {},
     "output_type": "execute_result"
    }
   ],
   "source": [
    "data.isna().sum()"
   ]
  },
  {
   "cell_type": "markdown",
   "metadata": {},
   "source": [
    "Количество строк в новом датасета, где мы объединили данные, такое же, как и в датасете `rides_data`. Пропущенных значений в датасете нет. "
   ]
  },
  {
   "cell_type": "code",
   "execution_count": 38,
   "metadata": {},
   "outputs": [],
   "source": [
    "# создадим два датафрейма с подпиской и без подпиской \n",
    "data_free_subscription = data.query('subscription_type == \"free\"')\n",
    "data_ultra_subscription = data.query('subscription_type == \"ultra\"')"
   ]
  },
  {
   "cell_type": "code",
   "execution_count": 39,
   "metadata": {},
   "outputs": [
    {
     "data": {
      "image/png": "[encoded data removed]",
      "text/plain": [
       "<Figure size 720x720 with 2 Axes>"
      ]
     },
     "metadata": {
      "needs_background": "light"
     },
     "output_type": "display_data"
    }
   ],
   "source": [
    "fig, axs = plt.subplots(2, 1, figsize=(10, 10))  \n",
    "\n",
    "# построим гистограмму для времени поездок для пользователей без подписки \n",
    "data_free_subscription.plot(\n",
    "    kind='hist',\n",
    "    y='duration',\n",
    "    grid=True,\n",
    "    ax=axs[0],\n",
    "    bins=100,\n",
    "    color='blue'\n",
    ")\n",
    "axs[0].set_title('Продолжительность поездок для пользователей без подписки')\n",
    "axs[0].set_ylabel('Количество поездок')\n",
    "axs[0].set_xlabel('Продолжительность')\n",
    "\n",
    "# построим гистограмму для времени поездок для пользователей с подпиской\n",
    "data_ultra_subscription.plot(\n",
    "    kind='hist',\n",
    "    y='duration',\n",
    "    grid=True,\n",
    "    ax=axs[1],\n",
    "    bins=100,\n",
    "    color='blue'\n",
    ")\n",
    "axs[1].set_title('Продолжительность поездок для пользователей с подпиской')\n",
    "axs[1].set_ylabel('Количество поездок')\n",
    "axs[1].set_xlabel('Продолжительность')\n",
    "\n",
    "plt.tight_layout()\n",
    "plt.show()"
   ]
  },
  {
   "cell_type": "code",
   "execution_count": 40,
   "metadata": {},
   "outputs": [
    {
     "data": {
      "image/png": "[encoded data removed]",
      "text/plain": [
       "<Figure size 720x720 with 2 Axes>"
      ]
     },
     "metadata": {
      "needs_background": "light"
     },
     "output_type": "display_data"
    }
   ],
   "source": [
    "fig, axs = plt.subplots(2, 1, figsize=(10, 10))  \n",
    "\n",
    "# построим гистограмму для времени поездок для пользователей без подписки \n",
    "data_free_subscription.plot(\n",
    "    kind='hist',\n",
    "    y='distance',\n",
    "    grid=True,\n",
    "    ax=axs[0],\n",
    "    bins=100,\n",
    "    color='blue'\n",
    ")\n",
    "axs[0].set_title('Дистанция поездок для пользователей без подписки')\n",
    "axs[0].set_ylabel('Количество поездок')\n",
    "axs[0].set_xlabel('Расстояние')\n",
    "\n",
    "# построим гистограмму для времени поездок для пользователей с подпиской\n",
    "data_ultra_subscription.plot(\n",
    "    kind='hist',\n",
    "    y='distance',\n",
    "    grid=True,\n",
    "    ax=axs[1],\n",
    "    bins=100,\n",
    "    color='blue'\n",
    ")\n",
    "axs[1].set_title('Дистанция поездок для пользователей с подпиской')\n",
    "axs[1].set_ylabel('Количество поездок')\n",
    "axs[1].set_xlabel('Расстояние')\n",
    "\n",
    "plt.tight_layout()\n",
    "plt.show()"
   ]
  },
  {
   "cell_type": "markdown",
   "metadata": {},
   "source": [
    "1. Для пользователей без подписки в среднем продолжительность поездки составляет от 12 до 21 минуты, а расстояние - от 2,3 километров до 4. \n",
    "2. Для пользователей с подпиской в среднем продолжительность поездки составляет от 14 до 21 минут, а расстояние - 2.7 километров до 3,5. "
   ]
  },
  {
   "cell_type": "markdown",
   "metadata": {},
   "source": [
    "**Вывод:**\n",
    "\n",
    "Создали общий датафрейм `data`, где объединили данные о пользователях, поездках и подписках. Создали два отдельных датасета `data_free_subscription` c данными о пользователях без подписки и `data_ultra_subscription` с данными о пользователях с подпиской. Визуализировали информацию о расстоянии и времени поездок для пользователей обеих категорий.\n",
    "\n",
    "Мне кажется, что сильных различий между двух групп нет, продолжительность и расстояние поездок почти одинаковы. "
   ]
  },
  {
   "cell_type": "markdown",
   "metadata": {},
   "source": [
    "## Шаг 5. Подсчёт выручки\n",
    "\n",
    "5.1 Создайте датафрейм с агрегированными данными о поездках на основе датафрейма с объединёнными данными из шага 4: найдите суммарное расстояние, количество поездок и суммарное время для каждого пользователя за каждый месяц.\n",
    "\n",
    "5.2 В этот же датафрейм добавьте столбец с помесячной выручкой, которую принёс каждый пользователь. Для этого обратитесь к информации об условиях оплаты для подписчиков и тех, у кого нет подписки. Продолжительность каждой поездки в каждой строке исходного датафрейма для подсчёта стоимости округляется до следующего целого числа: например, значения 25.3, 25.5 и 26.0 должны быть преобразованы к 26."
   ]
  },
  {
   "cell_type": "code",
   "execution_count": 41,
   "metadata": {},
   "outputs": [],
   "source": [
    "# округлим продолжительность поездок до целого числа \n",
    "data['duration'] = np.ceil(data['duration'])"
   ]
  },
  {
   "cell_type": "code",
   "execution_count": 42,
   "metadata": {},
   "outputs": [
    {
     "data": {
      "text/html": [
       "<div>\n",
       "<style scoped>\n",
       "    .dataframe tbody tr th:only-of-type {\n",
       "        vertical-align: middle;\n",
       "    }\n",
       "\n",
       "    .dataframe tbody tr th {\n",
       "        vertical-align: top;\n",
       "    }\n",
       "\n",
       "    .dataframe thead th {\n",
       "        text-align: right;\n",
       "    }\n",
       "</style>\n",
       "<table border=\"1\" class=\"dataframe\">\n",
       "  <thead>\n",
       "    <tr style=\"text-align: right;\">\n",
       "      <th></th>\n",
       "      <th></th>\n",
       "      <th>total_distance</th>\n",
       "      <th>total_duration</th>\n",
       "      <th>total_rides</th>\n",
       "      <th>subscription_type</th>\n",
       "    </tr>\n",
       "    <tr>\n",
       "      <th>date_month</th>\n",
       "      <th>user_id</th>\n",
       "      <th></th>\n",
       "      <th></th>\n",
       "      <th></th>\n",
       "      <th></th>\n",
       "    </tr>\n",
       "  </thead>\n",
       "  <tbody>\n",
       "    <tr>\n",
       "      <th rowspan=\"10\" valign=\"top\">1</th>\n",
       "      <th>1</th>\n",
       "      <td>7027.511294</td>\n",
       "      <td>42.0</td>\n",
       "      <td>2</td>\n",
       "      <td>ultra</td>\n",
       "    </tr>\n",
       "    <tr>\n",
       "      <th>3</th>\n",
       "      <td>3061.777147</td>\n",
       "      <td>13.0</td>\n",
       "      <td>1</td>\n",
       "      <td>ultra</td>\n",
       "    </tr>\n",
       "    <tr>\n",
       "      <th>5</th>\n",
       "      <td>3914.646990</td>\n",
       "      <td>13.0</td>\n",
       "      <td>1</td>\n",
       "      <td>ultra</td>\n",
       "    </tr>\n",
       "    <tr>\n",
       "      <th>7</th>\n",
       "      <td>6478.080979</td>\n",
       "      <td>28.0</td>\n",
       "      <td>2</td>\n",
       "      <td>ultra</td>\n",
       "    </tr>\n",
       "    <tr>\n",
       "      <th>12</th>\n",
       "      <td>3577.151148</td>\n",
       "      <td>33.0</td>\n",
       "      <td>1</td>\n",
       "      <td>ultra</td>\n",
       "    </tr>\n",
       "    <tr>\n",
       "      <th>13</th>\n",
       "      <td>6687.987446</td>\n",
       "      <td>42.0</td>\n",
       "      <td>2</td>\n",
       "      <td>ultra</td>\n",
       "    </tr>\n",
       "    <tr>\n",
       "      <th>14</th>\n",
       "      <td>7699.643820</td>\n",
       "      <td>35.0</td>\n",
       "      <td>2</td>\n",
       "      <td>ultra</td>\n",
       "    </tr>\n",
       "    <tr>\n",
       "      <th>15</th>\n",
       "      <td>4187.621459</td>\n",
       "      <td>39.0</td>\n",
       "      <td>1</td>\n",
       "      <td>ultra</td>\n",
       "    </tr>\n",
       "    <tr>\n",
       "      <th>20</th>\n",
       "      <td>3516.719208</td>\n",
       "      <td>29.0</td>\n",
       "      <td>1</td>\n",
       "      <td>ultra</td>\n",
       "    </tr>\n",
       "    <tr>\n",
       "      <th>22</th>\n",
       "      <td>3058.692225</td>\n",
       "      <td>13.0</td>\n",
       "      <td>1</td>\n",
       "      <td>ultra</td>\n",
       "    </tr>\n",
       "  </tbody>\n",
       "</table>\n",
       "</div>"
      ],
      "text/plain": [
       "                    total_distance  total_duration  total_rides  \\\n",
       "date_month user_id                                                \n",
       "1          1           7027.511294            42.0            2   \n",
       "           3           3061.777147            13.0            1   \n",
       "           5           3914.646990            13.0            1   \n",
       "           7           6478.080979            28.0            2   \n",
       "           12          3577.151148            33.0            1   \n",
       "           13          6687.987446            42.0            2   \n",
       "           14          7699.643820            35.0            2   \n",
       "           15          4187.621459            39.0            1   \n",
       "           20          3516.719208            29.0            1   \n",
       "           22          3058.692225            13.0            1   \n",
       "\n",
       "                   subscription_type  \n",
       "date_month user_id                    \n",
       "1          1                   ultra  \n",
       "           3                   ultra  \n",
       "           5                   ultra  \n",
       "           7                   ultra  \n",
       "           12                  ultra  \n",
       "           13                  ultra  \n",
       "           14                  ultra  \n",
       "           15                  ultra  \n",
       "           20                  ultra  \n",
       "           22                  ultra  "
      ]
     },
     "execution_count": 42,
     "metadata": {},
     "output_type": "execute_result"
    }
   ],
   "source": [
    "data_pivot_table = pd.pivot_table(data,\n",
    "                           index=['date_month', 'user_id'],\n",
    "                           values = ['distance', 'duration', 'name', 'subscription_type'],\n",
    "                           aggfunc = {'distance': sum, \n",
    "                                      'duration' : sum, \n",
    "                                      'name' : len, \n",
    "                                      'subscription_type' : min})\n",
    "\n",
    "data_pivot_table.rename(columns = {\n",
    "    'name' : 'total_rides', 'distance' : 'total_distance', 'duration' : 'total_duration'}, inplace = True)\n",
    "data_pivot_table.head(10)"
   ]
  },
  {
   "cell_type": "markdown",
   "metadata": {},
   "source": [
    "Перед тем, как посчитать месячную выручку каждого пользователя, давайте вспомним, какой тариф у пользователей с подпиской или без: \n",
    "\n",
    "1. без подписки\n",
    "- абонентская плата отсутствует;\n",
    "- стоимость одной минуты поездки — 8 рублей;\n",
    "- стоимость старта (начала поездки) — 50 рублей;\n",
    "\n",
    "2. с подпиской Ultra\n",
    "- абонентская плата — 199 рублей в месяц;\n",
    "- стоимость одной минуты поездки — 6 рублей;\n",
    "- стоимость старта — бесплатно.\n"
   ]
  },
  {
   "cell_type": "code",
   "execution_count": 43,
   "metadata": {},
   "outputs": [],
   "source": [
    "def month_revenue(row):\n",
    "    if row['subscription_type'] == 'free':\n",
    "        return 8 * row['total_duration'] + 50 * row['total_rides']\n",
    "    elif row['subscription_type'] == 'ultra':\n",
    "        return 6 * row['total_duration'] + 199\n",
    "    else:\n",
    "        return ''"
   ]
  },
  {
   "cell_type": "code",
   "execution_count": 44,
   "metadata": {},
   "outputs": [
    {
     "data": {
      "text/html": [
       "<div>\n",
       "<style scoped>\n",
       "    .dataframe tbody tr th:only-of-type {\n",
       "        vertical-align: middle;\n",
       "    }\n",
       "\n",
       "    .dataframe tbody tr th {\n",
       "        vertical-align: top;\n",
       "    }\n",
       "\n",
       "    .dataframe thead th {\n",
       "        text-align: right;\n",
       "    }\n",
       "</style>\n",
       "<table border=\"1\" class=\"dataframe\">\n",
       "  <thead>\n",
       "    <tr style=\"text-align: right;\">\n",
       "      <th></th>\n",
       "      <th></th>\n",
       "      <th>total_distance</th>\n",
       "      <th>total_duration</th>\n",
       "      <th>total_rides</th>\n",
       "      <th>subscription_type</th>\n",
       "      <th>month_revenue</th>\n",
       "    </tr>\n",
       "    <tr>\n",
       "      <th>date_month</th>\n",
       "      <th>user_id</th>\n",
       "      <th></th>\n",
       "      <th></th>\n",
       "      <th></th>\n",
       "      <th></th>\n",
       "      <th></th>\n",
       "    </tr>\n",
       "  </thead>\n",
       "  <tbody>\n",
       "    <tr>\n",
       "      <th rowspan=\"5\" valign=\"top\">1</th>\n",
       "      <th>1</th>\n",
       "      <td>7027.511294</td>\n",
       "      <td>42.0</td>\n",
       "      <td>2</td>\n",
       "      <td>ultra</td>\n",
       "      <td>451.0</td>\n",
       "    </tr>\n",
       "    <tr>\n",
       "      <th>3</th>\n",
       "      <td>3061.777147</td>\n",
       "      <td>13.0</td>\n",
       "      <td>1</td>\n",
       "      <td>ultra</td>\n",
       "      <td>277.0</td>\n",
       "    </tr>\n",
       "    <tr>\n",
       "      <th>5</th>\n",
       "      <td>3914.646990</td>\n",
       "      <td>13.0</td>\n",
       "      <td>1</td>\n",
       "      <td>ultra</td>\n",
       "      <td>277.0</td>\n",
       "    </tr>\n",
       "    <tr>\n",
       "      <th>7</th>\n",
       "      <td>6478.080979</td>\n",
       "      <td>28.0</td>\n",
       "      <td>2</td>\n",
       "      <td>ultra</td>\n",
       "      <td>367.0</td>\n",
       "    </tr>\n",
       "    <tr>\n",
       "      <th>12</th>\n",
       "      <td>3577.151148</td>\n",
       "      <td>33.0</td>\n",
       "      <td>1</td>\n",
       "      <td>ultra</td>\n",
       "      <td>397.0</td>\n",
       "    </tr>\n",
       "    <tr>\n",
       "      <th>...</th>\n",
       "      <th>...</th>\n",
       "      <td>...</td>\n",
       "      <td>...</td>\n",
       "      <td>...</td>\n",
       "      <td>...</td>\n",
       "      <td>...</td>\n",
       "    </tr>\n",
       "    <tr>\n",
       "      <th rowspan=\"5\" valign=\"top\">12</th>\n",
       "      <th>1525</th>\n",
       "      <td>4597.854350</td>\n",
       "      <td>34.0</td>\n",
       "      <td>1</td>\n",
       "      <td>free</td>\n",
       "      <td>322.0</td>\n",
       "    </tr>\n",
       "    <tr>\n",
       "      <th>1526</th>\n",
       "      <td>3644.121544</td>\n",
       "      <td>23.0</td>\n",
       "      <td>1</td>\n",
       "      <td>free</td>\n",
       "      <td>234.0</td>\n",
       "    </tr>\n",
       "    <tr>\n",
       "      <th>1528</th>\n",
       "      <td>3998.569324</td>\n",
       "      <td>11.0</td>\n",
       "      <td>1</td>\n",
       "      <td>free</td>\n",
       "      <td>138.0</td>\n",
       "    </tr>\n",
       "    <tr>\n",
       "      <th>1532</th>\n",
       "      <td>6111.889853</td>\n",
       "      <td>42.0</td>\n",
       "      <td>2</td>\n",
       "      <td>free</td>\n",
       "      <td>436.0</td>\n",
       "    </tr>\n",
       "    <tr>\n",
       "      <th>1534</th>\n",
       "      <td>2371.711192</td>\n",
       "      <td>16.0</td>\n",
       "      <td>1</td>\n",
       "      <td>free</td>\n",
       "      <td>178.0</td>\n",
       "    </tr>\n",
       "  </tbody>\n",
       "</table>\n",
       "<p>11331 rows × 5 columns</p>\n",
       "</div>"
      ],
      "text/plain": [
       "                    total_distance  total_duration  total_rides  \\\n",
       "date_month user_id                                                \n",
       "1          1           7027.511294            42.0            2   \n",
       "           3           3061.777147            13.0            1   \n",
       "           5           3914.646990            13.0            1   \n",
       "           7           6478.080979            28.0            2   \n",
       "           12          3577.151148            33.0            1   \n",
       "...                            ...             ...          ...   \n",
       "12         1525        4597.854350            34.0            1   \n",
       "           1526        3644.121544            23.0            1   \n",
       "           1528        3998.569324            11.0            1   \n",
       "           1532        6111.889853            42.0            2   \n",
       "           1534        2371.711192            16.0            1   \n",
       "\n",
       "                   subscription_type  month_revenue  \n",
       "date_month user_id                                   \n",
       "1          1                   ultra          451.0  \n",
       "           3                   ultra          277.0  \n",
       "           5                   ultra          277.0  \n",
       "           7                   ultra          367.0  \n",
       "           12                  ultra          397.0  \n",
       "...                              ...            ...  \n",
       "12         1525                 free          322.0  \n",
       "           1526                 free          234.0  \n",
       "           1528                 free          138.0  \n",
       "           1532                 free          436.0  \n",
       "           1534                 free          178.0  \n",
       "\n",
       "[11331 rows x 5 columns]"
      ]
     },
     "execution_count": 44,
     "metadata": {},
     "output_type": "execute_result"
    }
   ],
   "source": [
    "data_pivot_table['month_revenue'] = data_pivot_table.apply(month_revenue, axis=1)\n",
    "data_pivot_table"
   ]
  },
  {
   "cell_type": "markdown",
   "metadata": {},
   "source": [
    "**Вывод:**\n",
    "\n",
    "Мы создали датафрейм с агрегированными данными о поездках `data_pivot_table`, куда записали суммарное расстояние, количество поездок и суммарное время для каждого пользователя за каждый месяц. Также в этот же датафрейм добавили столбец с помесячной выручкой, которую принёс каждый пользователь, при этом округлили продолжительность поездок. "
   ]
  },
  {
   "cell_type": "markdown",
   "metadata": {},
   "source": [
    "## Шаг 6. Проверка гипотез\n",
    "\n",
    "Продакт-менеджеры сервиса хотят увеличить количество пользователей с подпиской. Для этого они будут проводить различные акции, но сначала нужно выяснить несколько важных моментов.\n",
    "\n",
    "1. Важно понять, тратят ли пользователи с подпиской больше времени на поездки? Если да, то пользователи с подпиской могут быть «выгоднее» для компании. Проверьте гипотезу. Используйте исходные данные о продолжительности каждой сессии — отдельно для подписчиков и тех, у кого нет подписки.\n",
    "\n",
    "2. Расстояние одной поездки в 3130 метров — оптимальное с точки зрения износа самоката. Можно ли сказать, что среднее расстояние, которое проезжают пользователи с подпиской за одну поездку, не превышает 3130 метров? Проверьте гипотезу и сделайте выводы.\n",
    "\n",
    "3. Проверьте гипотезу о том, будет ли помесячная выручка от пользователей с подпиской по месяцам выше, чем выручка от пользователей без подписки. Сделайте вывод.\n",
    "\n",
    "4. Представьте такую ситуацию: техническая команда сервиса обновила сервера, с которыми взаимодействует мобильное приложение. Она надеется, что из-за этого количество обращений в техподдержку значимо снизилось. Некоторый файл содержит для каждого пользователя данные о количестве обращений до обновления и после него. Какой тест вам понадобился бы для проверки этой гипотезы?"
   ]
  },
  {
   "cell_type": "markdown",
   "metadata": {},
   "source": [
    "**Первый пункт:**\n",
    "\n",
    "Важно понять, тратят ли пользователи с подпиской больше времени на поездки? Если да, то пользователи с подпиской могут быть «выгоднее» для компании. Проверьте гипотезу. Используйте исходные данные о продолжительности каждой сессии — отдельно для подписчиков и тех, у кого нет подписки.\n",
    "\n",
    "H_0: время, которое тратят пользователи с подпиской, равно времени, которое тратят пользователи без подписки \n",
    "\n",
    "H_1: время, которое тратят пользователи с подпиской, больше, чем время, которое тратят пользователи без подпиской \n",
    "\n",
    "Гипотеза правостороняя, воспользуемся методом `ttest_ind()` с параметром `alternative`, равным `greater`"
   ]
  },
  {
   "cell_type": "code",
   "execution_count": 45,
   "metadata": {},
   "outputs": [
    {
     "name": "stdout",
     "output_type": "stream",
     "text": [
      "p-value: 6.108771653732858e-27\n",
      "Отвергаем нулевую гипотезу\n"
     ]
    }
   ],
   "source": [
    "# задаём уровень значимости\n",
    "alpha = 0.05\n",
    "\n",
    "results = st.ttest_ind(data_ultra_subscription['duration'], data_free_subscription['duration'],\n",
    "                        alternative='greater')\n",
    "\n",
    "print(f'p-value: {results.pvalue}')\n",
    "\n",
    "# проверяем p-value\n",
    "if results.pvalue < alpha:\n",
    "    print('Отвергаем нулевую гипотезу')\n",
    "else:\n",
    "    print('Нет оснований отвергнуть нулевую гипотезу')"
   ]
  },
  {
   "cell_type": "markdown",
   "metadata": {},
   "source": [
    "p-value оказалось меньше, чем уровень стат.значимости, поэтому отвергаем нулевую гипотезу в пользу альтернативной. Есть основания говорить, что пользователи с подпиской тратят больше времени, чем пользователи без подписки. "
   ]
  },
  {
   "cell_type": "markdown",
   "metadata": {},
   "source": [
    "**Второй пункт:**\n",
    "\n",
    "Расстояние одной поездки в 3130 метров — оптимальное с точки зрения износа самоката. Можно ли сказать, что среднее расстояние, которое проезжают пользователи с подпиской за одну поездку, не превышает 3130 метров? Проверьте гипотезу и сделайте выводы.\n",
    "\n",
    "H_0: расстояние одной поездки пользователей с подпиской РАВНО 3130 метров\n",
    "\n",
    "H_1: расстояние одной поездки пользователей с подпиской БОЛЬШЕ, ЧЕМ 3130 метров\n",
    "\n",
    "Гипотеза правосторонняя, воспользуемся методом `ttest_1samp()` с параметром `alternative`, равным `greater`"
   ]
  },
  {
   "cell_type": "code",
   "execution_count": 46,
   "metadata": {},
   "outputs": [
    {
     "name": "stdout",
     "output_type": "stream",
     "text": [
      "p-значение: 0.9195368847849785\n",
      "Не получилось отвергнуть нулевую гипотезу\n"
     ]
    }
   ],
   "source": [
    "optimal_value = 3130 # оптимальное расстояние одной поездки \n",
    "alpha = 0.05 # уровень статистической значимости\n",
    "            # можно указать .05 или 0.05\n",
    "\n",
    "results = st.ttest_1samp(\n",
    "    data_ultra_subscription['distance'], \n",
    "    optimal_value,\n",
    "    alternative='greater')\n",
    "\n",
    "print('p-значение:', results.pvalue)\n",
    "\n",
    "if results.pvalue < alpha:\n",
    "    print('Отвергаем нулевую гипотезу')\n",
    "else:\n",
    "    print('Не получилось отвергнуть нулевую гипотезу')"
   ]
  },
  {
   "cell_type": "markdown",
   "metadata": {},
   "source": [
    "p-value оказалось больше, чем уровень статистической значимости, поэтому нулевая гипотеза не отвергается. Можно сказать, что среднее расстояние, которое проезжают пользователи с подпиской, может быть равно 3130 метров. "
   ]
  },
  {
   "cell_type": "markdown",
   "metadata": {},
   "source": [
    "**Третий пункт:**\n",
    "\n",
    "Проверьте гипотезу о том, будет ли помесячная выручка от пользователей с подпиской по месяцам выше, чем выручка от пользователей без подписки. Сделайте вывод.\n",
    "\n",
    "H_0: помесячная выручка от пользователей с подпиской РАВНА помесячной выручке от пользователей без подписки\n",
    "\n",
    "H_1: помесячная выручка от пользователей с подпиской БОЛЬШЕ, ЧЕМ помесячной выручке от пользователей без подписки\n",
    "\n",
    "Гипотеза правостороняя, воспользуемся методом `ttest_ind()` с параметром `alternative`, равным `greater`"
   ]
  },
  {
   "cell_type": "code",
   "execution_count": 47,
   "metadata": {},
   "outputs": [
    {
     "name": "stdout",
     "output_type": "stream",
     "text": [
      "p-value: 1.2510504411828254e-27\n",
      "Отвергаем нулевую гипотезу\n"
     ]
    }
   ],
   "source": [
    "free_sub_revenue = data_pivot_table.query('subscription_type == \"free\"')\n",
    "ultra_sub_revenue = data_pivot_table.query('subscription_type == \"ultra\"')\n",
    "\n",
    "# задаём уровень значимости\n",
    "alpha = 0.05\n",
    "\n",
    "results = st.ttest_ind(ultra_sub_revenue['month_revenue'], free_sub_revenue['month_revenue'],\n",
    "                        alternative='greater')\n",
    "\n",
    "print(f'p-value: {results.pvalue}')\n",
    "\n",
    "# проверяем p-value\n",
    "if results.pvalue < alpha:\n",
    "    print('Отвергаем нулевую гипотезу')\n",
    "else:\n",
    "    print('Нет оснований отвергнуть нулевую гипотезу')"
   ]
  },
  {
   "cell_type": "markdown",
   "metadata": {},
   "source": [
    "p-value оказалось меньше, чем уровень статистической значимости, поэтому отвергаем нулевую гипотезу в пользу альтернативной. У нас есть основания сказать, что помесячная выручка от пользователей с подпиской по месяцам выше, чем выручка от пользователей без подписки. "
   ]
  },
  {
   "cell_type": "markdown",
   "metadata": {},
   "source": [
    "**Пункт четвертый:**\n",
    "\n",
    "Представьте такую ситуацию: техническая команда сервиса обновила сервера, с которыми взаимодействует мобильное приложение. Она надеется, что из-за этого количество обращений в техподдержку значимо снизилось. Некоторый файл содержит для каждого пользователя данные о количестве обращений до обновления и после него. Какой тест вам понадобился бы для проверки этой гипотезы?\n",
    "\n",
    "\n",
    "Думаю, что здесь гипотеза о равенстве средних для зависимых (парных) выборок. Выборки будут парными, потому что некоторая переменная измеряется дважды для одних и тех же объектов. \n",
    "\n",
    "Гипотеза будет сформулирована так:\n",
    "\n",
    "H0: μ1=μ2 (количество обращений осталось таким же, как и было до изменений)\n",
    "\n",
    "H1: μ2<μ1 (количество обращений после изменений стало меньше, чем прежде)\n",
    "\n",
    "где μ1​ и μ2​ — средние значения до и после изменений.\n",
    "\n",
    "Применим метод `scipy.stats.ttest_rel()`, которому передадим два параметра: набор данных до и после изменений. Гипотеза односторонняя."
   ]
  },
  {
   "cell_type": "markdown",
   "metadata": {},
   "source": [
    "**Вывод:**\n",
    "\n",
    "В ходе шестого шага мы проверили гипотезы и получили:\n",
    "\n",
    "1. пользователи с подпиской тратят больше времени, чем пользователи без подписки;\n",
    "2. среднее расстояние, которое проезжают пользователи с подпиской, может быть равно 3130 метрам;\n",
    "3. помесячная выручка от пользователей с подпиской по месяцам выше, чем выручка от пользователей без подписки. "
   ]
  },
  {
   "cell_type": "markdown",
   "metadata": {},
   "source": [
    "## Шаг 7. Общий вывод\n",
    "\n",
    "Мы загрузили три датафрейма и изучили общую информацию о них. \n",
    "\n",
    "**Предобработка данных:**\n",
    "- привели столбец date к корректному типу даты;\n",
    "- создали новый столбец с номером месяца на основе столбца date;\n",
    "- пропущенных значений в датафреймах не нашли\n",
    "- удалили дубликаты в таблице с информацией о пользователях\n",
    "\n",
    "**Исследовательский анализ данных:**\n",
    "- описали и визуализировали общую информацию о пользователях и поездках;\n",
    "- три самых наиболее частотных городов по количеству пользователей - Пятигорск, Екатеринбург, Ростов-на-Дону;\n",
    "- больше всего пользователей без подписки\n",
    "- возраст пользователей в среднем распределен от 20 до 30 лет;\n",
    "- в основном пользователи проезжают от 2 до 5 километров;\n",
    "- пользователи чаще всего тратят от 13 минут до 22 на поездку;\n",
    "\n",
    "**Объединение данных:**\n",
    "- объединили все три датасета в один большой `data`\n",
    "- создали два отдельных датасета с данными о пользователях без подписки  и с подпиской и : `data_free_subcribtion`и `data_ultra_subcribtion`;\n",
    "- визуализировали информацию о расстоянии и времени поездок для пользователей обеих категорий;\n",
    "- для пользователей без подписки в среднем продолжительность поездки составляет от 12 до 21 минуты, а расстояние - от 2,3 километров до 4; \n",
    "- для пользователей с подпиской в среднем продолжительность поездки составляет от 14 до 21 минут, а расстояние - 2.7 километров до 3,5. \n",
    "\n",
    "**Подсчёт выручки:**\n",
    "- создали датафрейм `data_pivot_table` с агрегированными данными о поездках на основе датафрейма с объединёнными данными: нашли суммарное расстояние, количество поездок и суммарное время для каждого пользователя за каждый месяц;\n",
    "- добавили столбец с помесячной выручкой, которую принёс каждый пользователь\n",
    "\n",
    "**Проверка гипотез:**\n",
    "- сформулировали гипотезы и проверили их на тестах;\n",
    "- пользователи с подпиской тратят больше времени, чем пользователи без подписки;\n",
    "- среднее расстояние, которое проезжают пользователи с подпиской, может быть равно 3130 метрам;\n",
    "- помесячная выручка от пользователей с подпиской по месяцам выше, чем выручка от пользователей без подписки. \n",
    "\n",
    "Пользователи с подпиской являются более \"выгодными\" для компании: они тратят больше времени на поездку, чем пользователи без подписки, и их месячная выручка выше, чем от пользователей без подписки. "
   ]
  }
 ],
 "metadata": {
  "ExecuteTimeLog": [
   {
    "duration": 1211,
    "start_time": "2024-09-29T17:36:25.086Z"
   },
   {
    "duration": 114,
    "start_time": "2024-09-29T17:36:26.298Z"
   },
   {
    "duration": 0,
    "start_time": "2024-09-29T17:36:26.415Z"
   },
   {
    "duration": 0,
    "start_time": "2024-09-29T17:36:26.416Z"
   },
   {
    "duration": 0,
    "start_time": "2024-09-29T17:36:26.417Z"
   },
   {
    "duration": 0,
    "start_time": "2024-09-29T17:36:26.418Z"
   },
   {
    "duration": 0,
    "start_time": "2024-09-29T17:36:26.419Z"
   },
   {
    "duration": 0,
    "start_time": "2024-09-29T17:36:26.420Z"
   },
   {
    "duration": 0,
    "start_time": "2024-09-29T17:36:26.421Z"
   },
   {
    "duration": 0,
    "start_time": "2024-09-29T17:36:26.422Z"
   },
   {
    "duration": 0,
    "start_time": "2024-09-29T17:36:26.423Z"
   },
   {
    "duration": 0,
    "start_time": "2024-09-29T17:36:26.424Z"
   },
   {
    "duration": 0,
    "start_time": "2024-09-29T17:36:26.424Z"
   },
   {
    "duration": 0,
    "start_time": "2024-09-29T17:36:26.425Z"
   },
   {
    "duration": 0,
    "start_time": "2024-09-29T17:36:26.426Z"
   },
   {
    "duration": 0,
    "start_time": "2024-09-29T17:36:26.427Z"
   },
   {
    "duration": 0,
    "start_time": "2024-09-29T17:36:26.428Z"
   },
   {
    "duration": 0,
    "start_time": "2024-09-29T17:36:26.429Z"
   },
   {
    "duration": 0,
    "start_time": "2024-09-29T17:36:26.452Z"
   },
   {
    "duration": 0,
    "start_time": "2024-09-29T17:36:26.453Z"
   },
   {
    "duration": 0,
    "start_time": "2024-09-29T17:36:26.453Z"
   },
   {
    "duration": 0,
    "start_time": "2024-09-29T17:36:26.454Z"
   },
   {
    "duration": 0,
    "start_time": "2024-09-29T17:36:26.455Z"
   },
   {
    "duration": 0,
    "start_time": "2024-09-29T17:36:26.456Z"
   },
   {
    "duration": 0,
    "start_time": "2024-09-29T17:36:26.457Z"
   },
   {
    "duration": 0,
    "start_time": "2024-09-29T17:36:26.458Z"
   },
   {
    "duration": 0,
    "start_time": "2024-09-29T17:36:26.459Z"
   },
   {
    "duration": 0,
    "start_time": "2024-09-29T17:36:26.460Z"
   },
   {
    "duration": 0,
    "start_time": "2024-09-29T17:36:26.461Z"
   },
   {
    "duration": 0,
    "start_time": "2024-09-29T17:36:26.462Z"
   },
   {
    "duration": 0,
    "start_time": "2024-09-29T17:36:26.463Z"
   },
   {
    "duration": 0,
    "start_time": "2024-09-29T17:36:26.463Z"
   },
   {
    "duration": 1,
    "start_time": "2024-09-29T17:36:26.464Z"
   },
   {
    "duration": 0,
    "start_time": "2024-09-29T17:36:26.465Z"
   },
   {
    "duration": 0,
    "start_time": "2024-09-29T17:36:26.466Z"
   },
   {
    "duration": 1052,
    "start_time": "2024-09-29T17:37:48.637Z"
   },
   {
    "duration": 111,
    "start_time": "2024-09-29T17:37:49.691Z"
   },
   {
    "duration": 0,
    "start_time": "2024-09-29T17:37:49.805Z"
   },
   {
    "duration": 0,
    "start_time": "2024-09-29T17:37:49.806Z"
   },
   {
    "duration": 0,
    "start_time": "2024-09-29T17:37:49.807Z"
   },
   {
    "duration": 0,
    "start_time": "2024-09-29T17:37:49.808Z"
   },
   {
    "duration": 0,
    "start_time": "2024-09-29T17:37:49.809Z"
   },
   {
    "duration": 0,
    "start_time": "2024-09-29T17:37:49.810Z"
   },
   {
    "duration": 0,
    "start_time": "2024-09-29T17:37:49.810Z"
   },
   {
    "duration": 0,
    "start_time": "2024-09-29T17:37:49.811Z"
   },
   {
    "duration": 0,
    "start_time": "2024-09-29T17:37:49.812Z"
   },
   {
    "duration": 0,
    "start_time": "2024-09-29T17:37:49.813Z"
   },
   {
    "duration": 0,
    "start_time": "2024-09-29T17:37:49.814Z"
   },
   {
    "duration": 0,
    "start_time": "2024-09-29T17:37:49.814Z"
   },
   {
    "duration": 0,
    "start_time": "2024-09-29T17:37:49.815Z"
   },
   {
    "duration": 0,
    "start_time": "2024-09-29T17:37:49.816Z"
   },
   {
    "duration": 0,
    "start_time": "2024-09-29T17:37:49.817Z"
   },
   {
    "duration": 0,
    "start_time": "2024-09-29T17:37:49.818Z"
   },
   {
    "duration": 0,
    "start_time": "2024-09-29T17:37:49.818Z"
   },
   {
    "duration": 0,
    "start_time": "2024-09-29T17:37:49.819Z"
   },
   {
    "duration": 0,
    "start_time": "2024-09-29T17:37:49.820Z"
   },
   {
    "duration": 0,
    "start_time": "2024-09-29T17:37:49.821Z"
   },
   {
    "duration": 0,
    "start_time": "2024-09-29T17:37:49.852Z"
   },
   {
    "duration": 0,
    "start_time": "2024-09-29T17:37:49.853Z"
   },
   {
    "duration": 0,
    "start_time": "2024-09-29T17:37:49.854Z"
   },
   {
    "duration": 0,
    "start_time": "2024-09-29T17:37:49.855Z"
   },
   {
    "duration": 0,
    "start_time": "2024-09-29T17:37:49.856Z"
   },
   {
    "duration": 0,
    "start_time": "2024-09-29T17:37:49.857Z"
   },
   {
    "duration": 0,
    "start_time": "2024-09-29T17:37:49.858Z"
   },
   {
    "duration": 0,
    "start_time": "2024-09-29T17:37:49.858Z"
   },
   {
    "duration": 0,
    "start_time": "2024-09-29T17:37:49.859Z"
   },
   {
    "duration": 0,
    "start_time": "2024-09-29T17:37:49.860Z"
   },
   {
    "duration": 0,
    "start_time": "2024-09-29T17:37:49.861Z"
   },
   {
    "duration": 0,
    "start_time": "2024-09-29T17:37:49.862Z"
   },
   {
    "duration": 0,
    "start_time": "2024-09-29T17:37:49.863Z"
   },
   {
    "duration": 1261,
    "start_time": "2024-09-29T17:57:14.422Z"
   },
   {
    "duration": 58,
    "start_time": "2024-09-29T17:57:34.360Z"
   },
   {
    "duration": 357,
    "start_time": "2024-09-29T17:58:01.562Z"
   },
   {
    "duration": 102,
    "start_time": "2024-09-29T17:59:35.033Z"
   },
   {
    "duration": 13,
    "start_time": "2024-09-29T17:59:42.584Z"
   },
   {
    "duration": 12,
    "start_time": "2024-09-29T17:59:43.583Z"
   },
   {
    "duration": 10,
    "start_time": "2024-09-29T17:59:46.403Z"
   },
   {
    "duration": 10,
    "start_time": "2024-09-29T17:59:48.556Z"
   },
   {
    "duration": 7,
    "start_time": "2024-09-29T17:59:50.732Z"
   },
   {
    "duration": 11,
    "start_time": "2024-09-29T17:59:51.661Z"
   },
   {
    "duration": 15,
    "start_time": "2024-09-29T18:00:03.076Z"
   },
   {
    "duration": 6,
    "start_time": "2024-09-29T18:00:03.978Z"
   },
   {
    "duration": 10,
    "start_time": "2024-09-29T18:00:05.942Z"
   },
   {
    "duration": 12,
    "start_time": "2024-09-29T18:00:07.974Z"
   },
   {
    "duration": 8,
    "start_time": "2024-09-29T18:00:08.686Z"
   },
   {
    "duration": 171,
    "start_time": "2024-09-29T18:00:11.370Z"
   },
   {
    "duration": 8,
    "start_time": "2024-09-29T18:00:14.122Z"
   },
   {
    "duration": 100,
    "start_time": "2024-09-29T18:00:16.164Z"
   },
   {
    "duration": 195,
    "start_time": "2024-09-29T18:00:18.480Z"
   },
   {
    "duration": 8,
    "start_time": "2024-09-29T18:00:22.300Z"
   },
   {
    "duration": 188,
    "start_time": "2024-09-29T18:00:24.528Z"
   },
   {
    "duration": 9,
    "start_time": "2024-09-29T18:00:27.614Z"
   },
   {
    "duration": 181,
    "start_time": "2024-09-29T18:00:29.664Z"
   },
   {
    "duration": 9,
    "start_time": "2024-09-29T18:00:32.174Z"
   },
   {
    "duration": 27,
    "start_time": "2024-09-29T18:00:35.423Z"
   },
   {
    "duration": 17,
    "start_time": "2024-09-29T18:00:38.368Z"
   },
   {
    "duration": 175,
    "start_time": "2024-09-29T18:00:39.279Z"
   },
   {
    "duration": 180,
    "start_time": "2024-09-29T18:00:41.452Z"
   },
   {
    "duration": 197,
    "start_time": "2024-09-29T18:00:43.771Z"
   },
   {
    "duration": 168,
    "start_time": "2024-09-29T18:00:44.632Z"
   },
   {
    "duration": 990,
    "start_time": "2024-09-29T18:00:47.971Z"
   },
   {
    "duration": 3,
    "start_time": "2024-09-29T18:00:48.963Z"
   },
   {
    "duration": 3,
    "start_time": "2024-09-29T18:00:56.320Z"
   },
   {
    "duration": 155,
    "start_time": "2024-09-29T18:00:56.701Z"
   },
   {
    "duration": 6,
    "start_time": "2024-09-29T18:01:00.489Z"
   },
   {
    "duration": 6,
    "start_time": "2024-09-29T18:01:03.199Z"
   },
   {
    "duration": 11,
    "start_time": "2024-09-29T18:01:09.032Z"
   },
   {
    "duration": 1136,
    "start_time": "2024-09-30T14:05:08.815Z"
   },
   {
    "duration": 102,
    "start_time": "2024-09-30T14:05:09.953Z"
   },
   {
    "duration": 14,
    "start_time": "2024-09-30T14:05:10.056Z"
   },
   {
    "duration": 57,
    "start_time": "2024-09-30T14:05:10.071Z"
   },
   {
    "duration": 16,
    "start_time": "2024-09-30T14:05:10.131Z"
   },
   {
    "duration": 13,
    "start_time": "2024-09-30T14:05:10.149Z"
   },
   {
    "duration": 7,
    "start_time": "2024-09-30T14:05:10.164Z"
   },
   {
    "duration": 44,
    "start_time": "2024-09-30T14:05:10.173Z"
   },
   {
    "duration": 18,
    "start_time": "2024-09-30T14:05:10.219Z"
   },
   {
    "duration": 11,
    "start_time": "2024-09-30T14:05:10.239Z"
   },
   {
    "duration": 13,
    "start_time": "2024-09-30T14:05:10.251Z"
   },
   {
    "duration": 35,
    "start_time": "2024-09-30T14:05:10.266Z"
   },
   {
    "duration": 12,
    "start_time": "2024-09-30T14:05:10.303Z"
   },
   {
    "duration": 214,
    "start_time": "2024-09-30T14:05:10.320Z"
   },
   {
    "duration": 9,
    "start_time": "2024-09-30T14:05:10.536Z"
   },
   {
    "duration": 122,
    "start_time": "2024-09-30T14:05:10.547Z"
   },
   {
    "duration": 193,
    "start_time": "2024-09-30T14:05:10.670Z"
   },
   {
    "duration": 9,
    "start_time": "2024-09-30T14:05:10.864Z"
   },
   {
    "duration": 196,
    "start_time": "2024-09-30T14:05:10.874Z"
   },
   {
    "duration": 10,
    "start_time": "2024-09-30T14:05:11.071Z"
   },
   {
    "duration": 190,
    "start_time": "2024-09-30T14:05:11.082Z"
   },
   {
    "duration": 9,
    "start_time": "2024-09-30T14:05:11.273Z"
   },
   {
    "duration": 43,
    "start_time": "2024-09-30T14:05:11.284Z"
   },
   {
    "duration": 13,
    "start_time": "2024-09-30T14:05:11.328Z"
   },
   {
    "duration": 186,
    "start_time": "2024-09-30T14:05:11.343Z"
   },
   {
    "duration": 187,
    "start_time": "2024-09-30T14:05:11.530Z"
   },
   {
    "duration": 200,
    "start_time": "2024-09-30T14:05:11.718Z"
   },
   {
    "duration": 181,
    "start_time": "2024-09-30T14:05:11.919Z"
   },
   {
    "duration": 977,
    "start_time": "2024-09-30T14:05:12.102Z"
   },
   {
    "duration": 4,
    "start_time": "2024-09-30T14:05:13.081Z"
   },
   {
    "duration": 8,
    "start_time": "2024-09-30T14:05:13.087Z"
   },
   {
    "duration": 162,
    "start_time": "2024-09-30T14:05:13.096Z"
   },
   {
    "duration": 5,
    "start_time": "2024-09-30T14:05:13.260Z"
   },
   {
    "duration": 21,
    "start_time": "2024-09-30T14:05:13.267Z"
   },
   {
    "duration": 14,
    "start_time": "2024-09-30T14:05:13.290Z"
   },
   {
    "duration": 6,
    "start_time": "2024-09-30T14:08:50.228Z"
   },
   {
    "duration": 1131,
    "start_time": "2024-09-30T14:10:22.356Z"
   },
   {
    "duration": 109,
    "start_time": "2024-09-30T14:10:23.489Z"
   },
   {
    "duration": 12,
    "start_time": "2024-09-30T14:10:23.600Z"
   },
   {
    "duration": 30,
    "start_time": "2024-09-30T14:10:23.614Z"
   },
   {
    "duration": 18,
    "start_time": "2024-09-30T14:10:23.646Z"
   },
   {
    "duration": 13,
    "start_time": "2024-09-30T14:10:23.666Z"
   },
   {
    "duration": 11,
    "start_time": "2024-09-30T14:10:23.681Z"
   },
   {
    "duration": 53,
    "start_time": "2024-09-30T14:10:23.694Z"
   },
   {
    "duration": 69,
    "start_time": "2024-09-30T14:10:23.749Z"
   },
   {
    "duration": 4,
    "start_time": "2024-09-30T14:10:23.821Z"
   },
   {
    "duration": 25,
    "start_time": "2024-09-30T14:10:23.827Z"
   },
   {
    "duration": 21,
    "start_time": "2024-09-30T14:10:23.853Z"
   },
   {
    "duration": 6,
    "start_time": "2024-09-30T14:10:23.876Z"
   },
   {
    "duration": 176,
    "start_time": "2024-09-30T14:10:23.884Z"
   },
   {
    "duration": 8,
    "start_time": "2024-09-30T14:10:24.062Z"
   },
   {
    "duration": 115,
    "start_time": "2024-09-30T14:10:24.071Z"
   },
   {
    "duration": 187,
    "start_time": "2024-09-30T14:10:24.187Z"
   },
   {
    "duration": 8,
    "start_time": "2024-09-30T14:10:24.375Z"
   },
   {
    "duration": 266,
    "start_time": "2024-09-30T14:10:24.385Z"
   },
   {
    "duration": 9,
    "start_time": "2024-09-30T14:10:24.652Z"
   },
   {
    "duration": 188,
    "start_time": "2024-09-30T14:10:24.663Z"
   },
   {
    "duration": 9,
    "start_time": "2024-09-30T14:10:24.852Z"
   },
   {
    "duration": 46,
    "start_time": "2024-09-30T14:10:24.862Z"
   },
   {
    "duration": 12,
    "start_time": "2024-09-30T14:10:24.910Z"
   },
   {
    "duration": 186,
    "start_time": "2024-09-30T14:10:24.924Z"
   },
   {
    "duration": 185,
    "start_time": "2024-09-30T14:10:25.112Z"
   },
   {
    "duration": 198,
    "start_time": "2024-09-30T14:10:25.298Z"
   },
   {
    "duration": 173,
    "start_time": "2024-09-30T14:10:25.499Z"
   },
   {
    "duration": 968,
    "start_time": "2024-09-30T14:10:25.673Z"
   },
   {
    "duration": 3,
    "start_time": "2024-09-30T14:10:26.643Z"
   },
   {
    "duration": 9,
    "start_time": "2024-09-30T14:10:26.647Z"
   },
   {
    "duration": 152,
    "start_time": "2024-09-30T14:10:26.658Z"
   },
   {
    "duration": 6,
    "start_time": "2024-09-30T14:10:26.814Z"
   },
   {
    "duration": 5,
    "start_time": "2024-09-30T14:10:26.821Z"
   },
   {
    "duration": 20,
    "start_time": "2024-09-30T14:10:26.828Z"
   },
   {
    "duration": 1334,
    "start_time": "2024-09-30T15:12:04.297Z"
   },
   {
    "duration": 401,
    "start_time": "2024-09-30T15:12:07.488Z"
   },
   {
    "duration": 12,
    "start_time": "2024-09-30T15:12:11.338Z"
   },
   {
    "duration": 12,
    "start_time": "2024-09-30T15:12:13.590Z"
   },
   {
    "duration": 9,
    "start_time": "2024-09-30T15:12:15.388Z"
   },
   {
    "duration": 13,
    "start_time": "2024-09-30T15:12:17.218Z"
   },
   {
    "duration": 11,
    "start_time": "2024-09-30T15:12:19.261Z"
   },
   {
    "duration": 10,
    "start_time": "2024-09-30T15:12:20.818Z"
   },
   {
    "duration": 14,
    "start_time": "2024-09-30T15:12:23.664Z"
   },
   {
    "duration": 6,
    "start_time": "2024-09-30T15:12:25.309Z"
   },
   {
    "duration": 10,
    "start_time": "2024-09-30T15:12:29.316Z"
   },
   {
    "duration": 12,
    "start_time": "2024-09-30T15:12:31.477Z"
   },
   {
    "duration": 7,
    "start_time": "2024-09-30T15:12:31.973Z"
   },
   {
    "duration": 181,
    "start_time": "2024-09-30T15:12:35.098Z"
   },
   {
    "duration": 9,
    "start_time": "2024-09-30T15:12:57.673Z"
   },
   {
    "duration": 8,
    "start_time": "2024-09-30T15:13:34.560Z"
   },
   {
    "duration": 8,
    "start_time": "2024-09-30T15:13:37.498Z"
   },
   {
    "duration": 96,
    "start_time": "2024-09-30T15:13:49.820Z"
   },
   {
    "duration": 178,
    "start_time": "2024-09-30T15:13:58.108Z"
   },
   {
    "duration": 8,
    "start_time": "2024-09-30T15:14:01.589Z"
   },
   {
    "duration": 257,
    "start_time": "2024-09-30T15:14:17.958Z"
   },
   {
    "duration": 349,
    "start_time": "2024-09-30T15:14:24.111Z"
   },
   {
    "duration": 9,
    "start_time": "2024-09-30T15:14:35.931Z"
   },
   {
    "duration": 336,
    "start_time": "2024-09-30T15:14:45.090Z"
   },
   {
    "duration": 391,
    "start_time": "2024-09-30T15:15:05.357Z"
   },
   {
    "duration": 186,
    "start_time": "2024-09-30T15:15:24.302Z"
   },
   {
    "duration": 363,
    "start_time": "2024-09-30T15:15:53.698Z"
   },
   {
    "duration": 4,
    "start_time": "2024-09-30T15:16:46.221Z"
   },
   {
    "duration": 55,
    "start_time": "2024-09-30T15:17:08.798Z"
   },
   {
    "duration": 104,
    "start_time": "2024-09-30T15:17:13.498Z"
   },
   {
    "duration": 24,
    "start_time": "2024-09-30T15:17:20.499Z"
   },
   {
    "duration": 3,
    "start_time": "2024-09-30T15:17:28.905Z"
   },
   {
    "duration": 4,
    "start_time": "2024-09-30T15:18:34.048Z"
   },
   {
    "duration": 23,
    "start_time": "2024-09-30T15:19:33.445Z"
   },
   {
    "duration": 8,
    "start_time": "2024-09-30T15:20:15.382Z"
   },
   {
    "duration": 12,
    "start_time": "2024-09-30T15:20:20.686Z"
   },
   {
    "duration": 324,
    "start_time": "2024-09-30T15:20:29.396Z"
   },
   {
    "duration": 328,
    "start_time": "2024-09-30T15:20:42.850Z"
   },
   {
    "duration": 340,
    "start_time": "2024-09-30T15:20:52.901Z"
   },
   {
    "duration": 408,
    "start_time": "2024-09-30T15:21:07.391Z"
   },
   {
    "duration": 20,
    "start_time": "2024-09-30T15:22:21.513Z"
   },
   {
    "duration": 22,
    "start_time": "2024-09-30T15:22:41.364Z"
   },
   {
    "duration": 976,
    "start_time": "2024-09-30T15:22:46.664Z"
   },
   {
    "duration": 3,
    "start_time": "2024-09-30T15:22:51.289Z"
   },
   {
    "duration": 156,
    "start_time": "2024-09-30T15:22:51.864Z"
   },
   {
    "duration": 10,
    "start_time": "2024-09-30T15:24:20.847Z"
   },
   {
    "duration": 5,
    "start_time": "2024-09-30T15:24:50.636Z"
   },
   {
    "duration": 3,
    "start_time": "2024-09-30T18:11:11.390Z"
   },
   {
    "duration": 105,
    "start_time": "2024-09-30T18:11:14.782Z"
   },
   {
    "duration": 10,
    "start_time": "2024-09-30T18:11:17.787Z"
   },
   {
    "duration": 11,
    "start_time": "2024-09-30T18:11:19.304Z"
   },
   {
    "duration": 9,
    "start_time": "2024-09-30T18:11:20.976Z"
   },
   {
    "duration": 13,
    "start_time": "2024-09-30T18:11:21.710Z"
   },
   {
    "duration": 8,
    "start_time": "2024-09-30T18:11:23.466Z"
   },
   {
    "duration": 14,
    "start_time": "2024-09-30T18:11:23.909Z"
   },
   {
    "duration": 13,
    "start_time": "2024-09-30T18:11:27.164Z"
   },
   {
    "duration": 872,
    "start_time": "2024-09-30T18:11:50.075Z"
   },
   {
    "duration": 5,
    "start_time": "2024-09-30T18:11:54.531Z"
   },
   {
    "duration": 20,
    "start_time": "2024-09-30T18:11:58.919Z"
   },
   {
    "duration": 4,
    "start_time": "2024-09-30T18:12:02.345Z"
   },
   {
    "duration": 5,
    "start_time": "2024-09-30T18:12:07.693Z"
   },
   {
    "duration": 5,
    "start_time": "2024-09-30T18:12:22.928Z"
   },
   {
    "duration": 9,
    "start_time": "2024-09-30T18:12:52.543Z"
   },
   {
    "duration": 5,
    "start_time": "2024-09-30T18:12:58.454Z"
   },
   {
    "duration": 9,
    "start_time": "2024-09-30T18:13:52.379Z"
   },
   {
    "duration": 8,
    "start_time": "2024-09-30T18:14:04.104Z"
   },
   {
    "duration": 5,
    "start_time": "2024-09-30T18:14:09.457Z"
   },
   {
    "duration": 9,
    "start_time": "2024-09-30T18:14:23.621Z"
   },
   {
    "duration": 5,
    "start_time": "2024-09-30T18:14:43.745Z"
   },
   {
    "duration": 11,
    "start_time": "2024-09-30T18:16:47.573Z"
   },
   {
    "duration": 11,
    "start_time": "2024-09-30T18:16:50.050Z"
   },
   {
    "duration": 7,
    "start_time": "2024-09-30T18:16:50.546Z"
   },
   {
    "duration": 157,
    "start_time": "2024-09-30T18:17:02.958Z"
   },
   {
    "duration": 6,
    "start_time": "2024-09-30T18:17:04.890Z"
   },
   {
    "duration": 7,
    "start_time": "2024-09-30T18:17:09.326Z"
   },
   {
    "duration": 114,
    "start_time": "2024-09-30T18:17:13.940Z"
   },
   {
    "duration": 179,
    "start_time": "2024-09-30T18:17:21.716Z"
   },
   {
    "duration": 8,
    "start_time": "2024-09-30T18:17:22.510Z"
   },
   {
    "duration": 327,
    "start_time": "2024-09-30T18:17:28.954Z"
   },
   {
    "duration": 9,
    "start_time": "2024-09-30T18:17:35.658Z"
   },
   {
    "duration": 190,
    "start_time": "2024-09-30T18:17:42.469Z"
   },
   {
    "duration": 261,
    "start_time": "2024-09-30T18:26:21.924Z"
   },
   {
    "duration": 125,
    "start_time": "2024-09-30T18:27:19.888Z"
   },
   {
    "duration": 195,
    "start_time": "2024-09-30T18:27:45.111Z"
   },
   {
    "duration": 11,
    "start_time": "2024-09-30T18:30:09.660Z"
   },
   {
    "duration": 240,
    "start_time": "2024-09-30T18:31:07.598Z"
   },
   {
    "duration": 239,
    "start_time": "2024-09-30T18:31:17.462Z"
   },
   {
    "duration": 243,
    "start_time": "2024-09-30T18:31:38.542Z"
   },
   {
    "duration": 237,
    "start_time": "2024-09-30T18:32:25.883Z"
   },
   {
    "duration": 273,
    "start_time": "2024-09-30T18:32:32.792Z"
   },
   {
    "duration": 352,
    "start_time": "2024-09-30T18:32:43.884Z"
   },
   {
    "duration": 120,
    "start_time": "2024-09-30T18:34:04.137Z"
   },
   {
    "duration": 11,
    "start_time": "2024-09-30T18:34:12.399Z"
   },
   {
    "duration": 246,
    "start_time": "2024-09-30T18:34:14.028Z"
   },
   {
    "duration": 302,
    "start_time": "2024-09-30T18:34:19.752Z"
   },
   {
    "duration": 8,
    "start_time": "2024-09-30T18:34:39.219Z"
   },
   {
    "duration": 8,
    "start_time": "2024-09-30T18:34:48.326Z"
   },
   {
    "duration": 26,
    "start_time": "2024-09-30T18:38:13.550Z"
   },
   {
    "duration": 3,
    "start_time": "2024-09-30T18:38:16.707Z"
   },
   {
    "duration": 9,
    "start_time": "2024-09-30T18:38:19.999Z"
   },
   {
    "duration": 12,
    "start_time": "2024-09-30T18:38:28.805Z"
   },
   {
    "duration": 312,
    "start_time": "2024-09-30T18:38:32.903Z"
   },
   {
    "duration": 11,
    "start_time": "2024-09-30T18:41:16.011Z"
   },
   {
    "duration": 949,
    "start_time": "2024-09-30T18:41:30.485Z"
   },
   {
    "duration": 810,
    "start_time": "2024-09-30T18:42:09.598Z"
   },
   {
    "duration": 803,
    "start_time": "2024-09-30T18:43:21.486Z"
   },
   {
    "duration": 868,
    "start_time": "2024-09-30T18:44:24.621Z"
   },
   {
    "duration": 803,
    "start_time": "2024-09-30T18:44:48.169Z"
   },
   {
    "duration": 816,
    "start_time": "2024-09-30T18:45:04.340Z"
   },
   {
    "duration": 895,
    "start_time": "2024-09-30T18:46:09.387Z"
   },
   {
    "duration": 890,
    "start_time": "2024-09-30T18:47:23.221Z"
   },
   {
    "duration": 10,
    "start_time": "2024-09-30T18:48:31.353Z"
   },
   {
    "duration": 9,
    "start_time": "2024-09-30T18:48:53.798Z"
   },
   {
    "duration": 8,
    "start_time": "2024-09-30T18:49:20.971Z"
   },
   {
    "duration": 8,
    "start_time": "2024-09-30T18:51:02.719Z"
   },
   {
    "duration": 20,
    "start_time": "2024-09-30T18:52:15.356Z"
   },
   {
    "duration": 923,
    "start_time": "2024-09-30T18:52:18.005Z"
   },
   {
    "duration": 4,
    "start_time": "2024-09-30T18:52:28.000Z"
   },
   {
    "duration": 901,
    "start_time": "2024-09-30T18:52:29.861Z"
   },
   {
    "duration": 4,
    "start_time": "2024-09-30T18:52:47.621Z"
   },
   {
    "duration": 156,
    "start_time": "2024-09-30T18:52:48.573Z"
   },
   {
    "duration": 5,
    "start_time": "2024-09-30T18:58:07.082Z"
   },
   {
    "duration": 5,
    "start_time": "2024-09-30T18:58:28.384Z"
   },
   {
    "duration": 6,
    "start_time": "2024-09-30T18:59:28.755Z"
   },
   {
    "duration": 5,
    "start_time": "2024-09-30T19:02:43.376Z"
   },
   {
    "duration": 2,
    "start_time": "2024-09-30T19:04:48.567Z"
   },
   {
    "duration": 7,
    "start_time": "2024-09-30T19:12:54.735Z"
   },
   {
    "duration": 9,
    "start_time": "2024-09-30T19:16:36.425Z"
   },
   {
    "duration": 1082,
    "start_time": "2024-10-01T07:52:53.846Z"
   },
   {
    "duration": 327,
    "start_time": "2024-10-01T07:52:54.929Z"
   },
   {
    "duration": 12,
    "start_time": "2024-10-01T07:52:55.257Z"
   },
   {
    "duration": 10,
    "start_time": "2024-10-01T07:52:55.271Z"
   },
   {
    "duration": 11,
    "start_time": "2024-10-01T07:52:55.283Z"
   },
   {
    "duration": 11,
    "start_time": "2024-10-01T07:52:55.296Z"
   },
   {
    "duration": 6,
    "start_time": "2024-10-01T07:52:55.309Z"
   },
   {
    "duration": 8,
    "start_time": "2024-10-01T07:52:55.317Z"
   },
   {
    "duration": 14,
    "start_time": "2024-10-01T07:52:55.352Z"
   },
   {
    "duration": 4,
    "start_time": "2024-10-01T07:52:55.368Z"
   },
   {
    "duration": 17,
    "start_time": "2024-10-01T07:52:55.373Z"
   },
   {
    "duration": 8,
    "start_time": "2024-10-01T07:52:55.392Z"
   },
   {
    "duration": 10,
    "start_time": "2024-10-01T07:52:55.401Z"
   },
   {
    "duration": 6,
    "start_time": "2024-10-01T07:52:55.412Z"
   },
   {
    "duration": 188,
    "start_time": "2024-10-01T07:52:55.419Z"
   },
   {
    "duration": 6,
    "start_time": "2024-10-01T07:52:55.608Z"
   },
   {
    "duration": 46,
    "start_time": "2024-10-01T07:52:55.615Z"
   },
   {
    "duration": 96,
    "start_time": "2024-10-01T07:52:55.663Z"
   },
   {
    "duration": 188,
    "start_time": "2024-10-01T07:52:55.761Z"
   },
   {
    "duration": 9,
    "start_time": "2024-10-01T07:52:55.950Z"
   },
   {
    "duration": 339,
    "start_time": "2024-10-01T07:52:55.960Z"
   },
   {
    "duration": 9,
    "start_time": "2024-10-01T07:52:56.301Z"
   },
   {
    "duration": 130,
    "start_time": "2024-10-01T07:52:56.312Z"
   },
   {
    "duration": 12,
    "start_time": "2024-10-01T07:52:56.444Z"
   },
   {
    "duration": 234,
    "start_time": "2024-10-01T07:52:56.457Z"
   },
   {
    "duration": 369,
    "start_time": "2024-10-01T07:52:56.693Z"
   },
   {
    "duration": 9,
    "start_time": "2024-10-01T07:52:57.063Z"
   },
   {
    "duration": 22,
    "start_time": "2024-10-01T07:52:57.075Z"
   },
   {
    "duration": 6,
    "start_time": "2024-10-01T07:52:57.099Z"
   },
   {
    "duration": 37,
    "start_time": "2024-10-01T07:52:57.106Z"
   },
   {
    "duration": 22,
    "start_time": "2024-10-01T07:52:57.144Z"
   },
   {
    "duration": 807,
    "start_time": "2024-10-01T07:52:57.168Z"
   },
   {
    "duration": 791,
    "start_time": "2024-10-01T07:52:57.976Z"
   },
   {
    "duration": 3,
    "start_time": "2024-10-01T07:52:58.769Z"
   },
   {
    "duration": 862,
    "start_time": "2024-10-01T07:52:58.773Z"
   },
   {
    "duration": 3,
    "start_time": "2024-10-01T07:52:59.636Z"
   },
   {
    "duration": 199,
    "start_time": "2024-10-01T07:52:59.640Z"
   },
   {
    "duration": 5,
    "start_time": "2024-10-01T07:52:59.840Z"
   },
   {
    "duration": 4,
    "start_time": "2024-10-01T07:52:59.853Z"
   },
   {
    "duration": 10,
    "start_time": "2024-10-01T07:52:59.859Z"
   },
   {
    "duration": 1276,
    "start_time": "2024-10-01T10:26:01.876Z"
   },
   {
    "duration": 433,
    "start_time": "2024-10-01T10:26:03.892Z"
   },
   {
    "duration": 11,
    "start_time": "2024-10-01T10:26:07.607Z"
   },
   {
    "duration": 10,
    "start_time": "2024-10-01T10:26:08.257Z"
   },
   {
    "duration": 8,
    "start_time": "2024-10-01T10:26:10.262Z"
   },
   {
    "duration": 11,
    "start_time": "2024-10-01T10:26:11.829Z"
   },
   {
    "duration": 7,
    "start_time": "2024-10-01T10:26:13.467Z"
   },
   {
    "duration": 9,
    "start_time": "2024-10-01T10:26:13.885Z"
   },
   {
    "duration": 15,
    "start_time": "2024-10-01T10:26:17.500Z"
   },
   {
    "duration": 5,
    "start_time": "2024-10-01T10:26:19.066Z"
   },
   {
    "duration": 9,
    "start_time": "2024-10-01T10:26:19.816Z"
   },
   {
    "duration": 11,
    "start_time": "2024-10-01T10:26:23.573Z"
   },
   {
    "duration": 11,
    "start_time": "2024-10-01T10:26:25.839Z"
   },
   {
    "duration": 7,
    "start_time": "2024-10-01T10:26:26.221Z"
   },
   {
    "duration": 151,
    "start_time": "2024-10-01T10:26:28.293Z"
   },
   {
    "duration": 6,
    "start_time": "2024-10-01T10:26:30.262Z"
   },
   {
    "duration": 7,
    "start_time": "2024-10-01T10:26:32.906Z"
   },
   {
    "duration": 86,
    "start_time": "2024-10-01T10:26:34.905Z"
   },
   {
    "duration": 160,
    "start_time": "2024-10-01T10:26:38.438Z"
   },
   {
    "duration": 8,
    "start_time": "2024-10-01T10:26:41.161Z"
   },
   {
    "duration": 302,
    "start_time": "2024-10-01T10:26:44.921Z"
   },
   {
    "duration": 8,
    "start_time": "2024-10-01T10:26:47.781Z"
   },
   {
    "duration": 110,
    "start_time": "2024-10-01T10:26:50.895Z"
   },
   {
    "duration": 11,
    "start_time": "2024-10-01T10:26:53.573Z"
   },
   {
    "duration": 219,
    "start_time": "2024-10-01T10:26:55.471Z"
   },
   {
    "duration": 345,
    "start_time": "2024-10-01T10:28:54.250Z"
   },
   {
    "duration": 215,
    "start_time": "2024-10-01T10:28:58.404Z"
   },
   {
    "duration": 224,
    "start_time": "2024-10-01T10:32:02.398Z"
   },
   {
    "duration": 205,
    "start_time": "2024-10-01T10:32:27.494Z"
   },
   {
    "duration": 16,
    "start_time": "2024-10-01T10:46:23.877Z"
   },
   {
    "duration": 92,
    "start_time": "2024-10-01T10:47:06.151Z"
   },
   {
    "duration": 13,
    "start_time": "2024-10-01T10:47:11.747Z"
   },
   {
    "duration": 15,
    "start_time": "2024-10-01T10:53:25.743Z"
   },
   {
    "duration": 20,
    "start_time": "2024-10-01T10:53:32.431Z"
   },
   {
    "duration": 14,
    "start_time": "2024-10-01T10:53:54.534Z"
   },
   {
    "duration": 212,
    "start_time": "2024-10-01T10:59:42.678Z"
   },
   {
    "duration": 220,
    "start_time": "2024-10-01T10:59:55.697Z"
   },
   {
    "duration": 301,
    "start_time": "2024-10-01T11:00:53.494Z"
   },
   {
    "duration": 98,
    "start_time": "2024-10-01T11:03:28.756Z"
   },
   {
    "duration": 13,
    "start_time": "2024-10-01T11:04:25.355Z"
   },
   {
    "duration": 33,
    "start_time": "2024-10-01T11:08:10.601Z"
   },
   {
    "duration": 9,
    "start_time": "2024-10-01T11:21:05.584Z"
   },
   {
    "duration": 16,
    "start_time": "2024-10-01T11:21:18.151Z"
   },
   {
    "duration": 15,
    "start_time": "2024-10-01T11:21:23.982Z"
   },
   {
    "duration": 13,
    "start_time": "2024-10-01T11:21:27.554Z"
   },
   {
    "duration": 10,
    "start_time": "2024-10-01T11:21:45.724Z"
   },
   {
    "duration": 14,
    "start_time": "2024-10-01T11:21:55.557Z"
   },
   {
    "duration": 10,
    "start_time": "2024-10-01T11:22:05.876Z"
   },
   {
    "duration": 8,
    "start_time": "2024-10-01T11:22:32.727Z"
   },
   {
    "duration": 7,
    "start_time": "2024-10-01T11:32:39.118Z"
   },
   {
    "duration": 8,
    "start_time": "2024-10-01T11:32:47.488Z"
   },
   {
    "duration": 112,
    "start_time": "2024-10-01T11:33:38.181Z"
   },
   {
    "duration": 113,
    "start_time": "2024-10-01T11:33:50.983Z"
   },
   {
    "duration": 287,
    "start_time": "2024-10-01T11:35:28.093Z"
   },
   {
    "duration": 104,
    "start_time": "2024-10-01T11:36:29.794Z"
   },
   {
    "duration": 8,
    "start_time": "2024-10-01T11:36:34.730Z"
   },
   {
    "duration": 24,
    "start_time": "2024-10-01T11:36:46.961Z"
   },
   {
    "duration": 3,
    "start_time": "2024-10-01T11:36:47.737Z"
   },
   {
    "duration": 10,
    "start_time": "2024-10-01T11:36:49.881Z"
   },
   {
    "duration": 12,
    "start_time": "2024-10-01T11:36:51.943Z"
   },
   {
    "duration": 868,
    "start_time": "2024-10-01T11:36:53.646Z"
   },
   {
    "duration": 726,
    "start_time": "2024-10-01T11:36:57.922Z"
   },
   {
    "duration": 3,
    "start_time": "2024-10-01T11:37:05.617Z"
   },
   {
    "duration": 820,
    "start_time": "2024-10-01T11:37:06.277Z"
   },
   {
    "duration": 3,
    "start_time": "2024-10-01T11:37:12.067Z"
   },
   {
    "duration": 136,
    "start_time": "2024-10-01T11:37:12.559Z"
   },
   {
    "duration": 6,
    "start_time": "2024-10-01T11:37:17.459Z"
   },
   {
    "duration": 5,
    "start_time": "2024-10-01T11:37:21.302Z"
   },
   {
    "duration": 10,
    "start_time": "2024-10-01T11:37:24.778Z"
   },
   {
    "duration": 8,
    "start_time": "2024-10-01T11:38:52.567Z"
   },
   {
    "duration": 6,
    "start_time": "2024-10-01T11:39:03.508Z"
   },
   {
    "duration": 99,
    "start_time": "2024-10-01T11:39:12.682Z"
   },
   {
    "duration": 281,
    "start_time": "2024-10-01T11:39:18.826Z"
   },
   {
    "duration": 8,
    "start_time": "2024-10-01T11:39:23.977Z"
   },
   {
    "duration": 1376,
    "start_time": "2024-10-01T16:29:09.639Z"
   },
   {
    "duration": 410,
    "start_time": "2024-10-01T16:29:11.017Z"
   },
   {
    "duration": 13,
    "start_time": "2024-10-01T16:29:11.429Z"
   },
   {
    "duration": 12,
    "start_time": "2024-10-01T16:29:11.444Z"
   },
   {
    "duration": 11,
    "start_time": "2024-10-01T16:29:11.457Z"
   },
   {
    "duration": 12,
    "start_time": "2024-10-01T16:29:11.469Z"
   },
   {
    "duration": 6,
    "start_time": "2024-10-01T16:29:11.483Z"
   },
   {
    "duration": 37,
    "start_time": "2024-10-01T16:29:11.491Z"
   },
   {
    "duration": 17,
    "start_time": "2024-10-01T16:29:11.530Z"
   },
   {
    "duration": 4,
    "start_time": "2024-10-01T16:29:11.550Z"
   },
   {
    "duration": 10,
    "start_time": "2024-10-01T16:29:11.555Z"
   },
   {
    "duration": 10,
    "start_time": "2024-10-01T16:29:11.566Z"
   },
   {
    "duration": 11,
    "start_time": "2024-10-01T16:29:11.577Z"
   },
   {
    "duration": 42,
    "start_time": "2024-10-01T16:29:11.589Z"
   },
   {
    "duration": 189,
    "start_time": "2024-10-01T16:29:11.632Z"
   },
   {
    "duration": 5,
    "start_time": "2024-10-01T16:29:11.823Z"
   },
   {
    "duration": 9,
    "start_time": "2024-10-01T16:29:11.830Z"
   },
   {
    "duration": 116,
    "start_time": "2024-10-01T16:29:11.841Z"
   },
   {
    "duration": 196,
    "start_time": "2024-10-01T16:29:11.959Z"
   },
   {
    "duration": 9,
    "start_time": "2024-10-01T16:29:12.157Z"
   },
   {
    "duration": 345,
    "start_time": "2024-10-01T16:29:12.168Z"
   },
   {
    "duration": 12,
    "start_time": "2024-10-01T16:29:12.515Z"
   },
   {
    "duration": 179,
    "start_time": "2024-10-01T16:29:12.529Z"
   },
   {
    "duration": 20,
    "start_time": "2024-10-01T16:29:12.710Z"
   },
   {
    "duration": 255,
    "start_time": "2024-10-01T16:29:12.732Z"
   },
   {
    "duration": 18,
    "start_time": "2024-10-01T16:29:12.988Z"
   },
   {
    "duration": 337,
    "start_time": "2024-10-01T16:29:13.007Z"
   },
   {
    "duration": 104,
    "start_time": "2024-10-01T16:29:13.348Z"
   },
   {
    "duration": 13,
    "start_time": "2024-10-01T16:29:13.454Z"
   },
   {
    "duration": 7,
    "start_time": "2024-10-01T16:29:13.469Z"
   },
   {
    "duration": 7,
    "start_time": "2024-10-01T16:29:13.477Z"
   },
   {
    "duration": 139,
    "start_time": "2024-10-01T16:29:13.486Z"
   },
   {
    "duration": 322,
    "start_time": "2024-10-01T16:29:13.626Z"
   },
   {
    "duration": 9,
    "start_time": "2024-10-01T16:29:13.950Z"
   },
   {
    "duration": 26,
    "start_time": "2024-10-01T16:29:13.960Z"
   },
   {
    "duration": 3,
    "start_time": "2024-10-01T16:29:13.988Z"
   },
   {
    "duration": 36,
    "start_time": "2024-10-01T16:29:13.992Z"
   },
   {
    "duration": 13,
    "start_time": "2024-10-01T16:29:14.030Z"
   },
   {
    "duration": 859,
    "start_time": "2024-10-01T16:29:14.044Z"
   },
   {
    "duration": 891,
    "start_time": "2024-10-01T16:29:14.905Z"
   },
   {
    "duration": 3,
    "start_time": "2024-10-01T16:29:15.797Z"
   },
   {
    "duration": 925,
    "start_time": "2024-10-01T16:29:15.802Z"
   },
   {
    "duration": 3,
    "start_time": "2024-10-01T16:29:16.728Z"
   },
   {
    "duration": 160,
    "start_time": "2024-10-01T16:29:16.733Z"
   },
   {
    "duration": 4,
    "start_time": "2024-10-01T16:29:16.895Z"
   },
   {
    "duration": 6,
    "start_time": "2024-10-01T16:29:16.901Z"
   },
   {
    "duration": 27,
    "start_time": "2024-10-01T16:29:16.908Z"
   }
  ],
  "kernelspec": {
   "display_name": "Python 3 (ipykernel)",
   "language": "python",
   "name": "python3"
  },
  "language_info": {
   "codemirror_mode": {
    "name": "ipython",
    "version": 3
   },
   "file_extension": ".py",
   "mimetype": "text/x-python",
   "name": "python",
   "nbconvert_exporter": "python",
   "pygments_lexer": "ipython3",
   "version": "3.9.5"
  },
  "toc": {
   "base_numbering": 1,
   "nav_menu": {},
   "number_sections": true,
   "sideBar": true,
   "skip_h1_title": true,
   "title_cell": "Table of Contents",
   "title_sidebar": "Contents",
   "toc_cell": false,
   "toc_position": {},
   "toc_section_display": true,
   "toc_window_display": false
  }
 },
 "nbformat": 4,
 "nbformat_minor": 2
}
